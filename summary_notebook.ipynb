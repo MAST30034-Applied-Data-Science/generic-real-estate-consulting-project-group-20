{
 "cells": [
  {
   "cell_type": "code",
   "execution_count": 1,
   "id": "b76f4981",
   "metadata": {},
   "outputs": [],
   "source": [
    "# import image module\n",
    "from IPython.display import Image"
   ]
  },
  {
   "cell_type": "markdown",
   "id": "9f9c18aa",
   "metadata": {},
   "source": [
    "# TABLE OF CONTENTS <a name='TOC' />\n",
    "\n",
    "\n",
    "\n",
    "## **I. Research Area 1 - Graphical Analysis**\n",
    "\n",
    "1. <a href=#bookmarkGA1>2022 Rental Prices Grouped by Number of Bedrooms, Bathrooms, and Parking Spaces</a>\n",
    "2. <a href=#bookmarkGA2>Median Weekly Rents against Population from 2016-2021</a>\n",
    "3. <a href=#bookmarkGA3>Median Weekly Rents against Population Density from 2016-2021</a>\n",
    "4. <a href=#bookmarkGA4>Unemployment Rate against Median Weekly Rent per Year</a>\n",
    "5. <a href=#bookmarkGA5>Geospatial Analysis of Rental Prices and Distance to Nearest School per Suburb</a>\n",
    "6. <a href=#bookmarkGA6>Average Weekly Income From 2011 to 2021 Across Suburban Rings</a>\n",
    "7. <a href=#bookmarkGA7>Top 10 Suburbs with the Lowest Average Increase in Immigration Since 2016</a>\n",
    "8. <a href=#bookmarkGA8>Top 10 Suburbs with the Lowest Average Increase in Weekly Income Since 2011</a>\n",
    "9. <a href=#bookmarkGA9>Top 10 Suburbs with the Lowest Average Increase in Weekly Rent/Income Proportion Since 2011</a>\n",
    "10. <a href=#bookmarkGA10>Median Weekly Rent vs Immigration Count From 2016 to 2021 Across Suburban Rings</a>\n",
    "11. <a href=#bookmarkGA11>Distance to CBD vs Rental Cost</a>\n",
    "12. <a href=#bookmarkGA12>Distance to Nearest Hospital vs Rental Cost</a>\n",
    "13. <a href=#bookmarkGA13>Distance to Nearest School vs Rental Cost</a>\n",
    "14. <a href=#bookmarkGA14>Distance to Nearest Train Station vs Rental Cost</a>\n",
    "15. <a href=#bookmarkGA15>Correlation Heatmap of Rental Cost and Attributes of Interest</a>\n",
    "16. <a href=#bookmarkGA16>Top 10 Suburbs with the Highest Average Increase in Immigration Since 2016</a>\n",
    "17. <a href=#bookmarkGA17>Top 10 Suburbs with the Highest Average Increase in Weekly Income Since 2011</a>\n",
    "18. <a href=#bookmarkGA18>Top 10 Suburbs with the Highest Average Increase in Weekly Rent/Income Proportion Since 2011</a>\n",
    "19. <a href=#bookmarkGA19>Weekly Rent/Income Proportion From 2011 to 2021 Across Suburban Rings</a>\n",
    "20. <a href=#bookmarkGA20>Top 10 Suburbs with the Highest Population Increase Since 2001</a>\n",
    "21. <a href=#bookmarkGA21>Top 10 Suburbs with the Lowest Population Increase Since 2001</a>\n",
    "22. <a href=#bookmarkGA22>Top 10 Suburbs with the Lowest Increase in Population Desntiy Since 2001</a>\n",
    "23. <a href=#bookmarkGA23>Top 10 Schools by Their Percentage of Study Scores Over 40 and Their Respective Suburbs</a>\n",
    "24. <a href=#bookmarkGA24>Top 10 Suburbs with the Highest Increase in Rent Since 2000</a>\n",
    "25. <a href=#bookmarkGA25>Top 10 Suburbs with the Lowest Increase in Rent Since 2000</a>\n",
    "26. <a href=#bookmarkGA26>Change in Rent by Regions of Victoria Since 2000</a>\n",
    "\n",
    "\n",
    "\n",
    "## **II. Research Area 1 - Modelling for Explaining 2022 Rental Prices**\n",
    "- <a href=#modellingMethod>Methodology Used and Justifications</a>\n",
    "\n",
    "\n",
    "- <a href=#firstModelResults>First Model Inputs + Graphical Results</a>\n",
    "- <a href=#firstModelExplanation>First Model Explanation</a>\n",
    "\n",
    "\n",
    "- <a href=#secondModelResults>Second Model Inputs + Graphical Results</a>\n",
    "- <a href=#secondModelExplanation>Second Model Explanation</a>\n",
    "\n",
    "\n",
    "- <a href=#thirdModelResults>Third Model Inputs + Graphical Results</a>\n",
    "- <a href=#thirdModelExplanation>Third Model Explanation</a>\n",
    "\n",
    "\n",
    "- <a href=#fourthModelResults>Fourth Model Inputs + Graphical Results</a>\n",
    "- <a href=#fourthModelExplanation>Fourth Model Explanation</a>\n",
    "\n",
    "\n",
    "- <a href=#reasoningFinalModel>Reasoning for Opting Final Model</a>\n",
    "\n",
    "\n",
    "- <a href=#featureImportances>Results of Final Model (i.e. Important Variables in Explaining 2022 Rental Prices)</a>\n",
    "\n",
    "## **III. Research Area 2 -  Forecasting Top 10 Suburbs with Highest Rental Growth**\n",
    "- <a href=#RA2_details>Timeframe Used + Methodology Used + Steps for Verifying Methodology</a>\n",
    "- <a href=#RA2_results>Results: Forecasting Top 10 Suburbs with Highest Rental Growth</a>\n",
    "\n",
    "## **IV. Research Area 3 - Determining top 5 most livable and affordable suburbs in Victoria**\n",
    "- <a href=#RA3_attributes>Attributes Used</a>\n",
    "- <a href=#RA3_methods>Methodology Used</a>\n",
    "- <a href=#RA3_results>Results</a>\n",
    "    - <a href=#RA3_top_5_liveable>Top 5 Most Liveable Suburbs</a>\n",
    "    - <a href=#RA3_top_5_afforable>Top 5 Most Affordable Suburbs</a>\n",
    "\n",
    "\n",
    "## **V. Business Recommendations:**\n",
    "\n",
    "* <a href=#business_recs_future_rent_price>For modelling</a> \n",
    "* <a href=#business_recs_rankings>For affordability and livability rankings</a> "
   ]
  },
  {
   "cell_type": "markdown",
   "id": "99125d0d",
   "metadata": {},
   "source": [
    "# Graphical Analysis\n",
    "\n",
    "## Aim\n",
    "Do a preliminary visualisation of several internal and external attributes to obtain an insight of what attributes are important in explaining the 2022 rental prices."
   ]
  },
  {
   "cell_type": "markdown",
   "id": "4fb4f8d1",
   "metadata": {},
   "source": [
    "# 1. 2022 Rental Prices Grouped by Number of Bedrooms, Bathrooms, and Parking Spaces  <a name='bookmarkGA1' />\n",
    "\n",
    "<a href=#TOC>Back to ToC</a>"
   ]
  },
  {
   "cell_type": "code",
   "execution_count": 2,
   "id": "81d1a6d2",
   "metadata": {},
   "outputs": [
    {
     "data": {
      "text/html": [
       "<img src=\"plots/grouped_bar_plot_rooms_rental_cost.png\" width=\"1000\" height=\"300\"/>"
      ],
      "text/plain": [
       "<IPython.core.display.Image object>"
      ]
     },
     "execution_count": 2,
     "metadata": {},
     "output_type": "execute_result"
    }
   ],
   "source": [
    "Image(url=\"plots/grouped_bar_plot_rooms_rental_cost.png\", width=1000, height=300)"
   ]
  },
  {
   "cell_type": "markdown",
   "id": "b2dba10c",
   "metadata": {},
   "source": [
    "- From the properties that we scraped, it seems that both the number of bedrooms and bathrooms are associated with a positive relationship with rental cost. \n",
    "\n",
    "- The number of parking spaces also shares a similar relationship, but the rental cost remains relatively stable beyond 3 parking spaces for rental properties."
   ]
  },
  {
   "cell_type": "markdown",
   "id": "6326fb5d",
   "metadata": {},
   "source": [
    "# 2. Median Weekly Rents against Population from 2016-2021 <a name='bookmarkGA2' />\n",
    "\n",
    "<a href=#TOC>Back to ToC</a>"
   ]
  },
  {
   "cell_type": "code",
   "execution_count": 3,
   "id": "086fe803",
   "metadata": {},
   "outputs": [
    {
     "data": {
      "text/html": [
       "<img src=\"plots/Weekly_Rent_Population_Ring.png\" width=\"1000\" height=\"300\"/>"
      ],
      "text/plain": [
       "<IPython.core.display.Image object>"
      ]
     },
     "execution_count": 3,
     "metadata": {},
     "output_type": "execute_result"
    }
   ],
   "source": [
    "Image(url=\"plots/Weekly_Rent_Population_Ring.png\", width=1000, height=300)"
   ]
  },
  {
   "cell_type": "markdown",
   "id": "a251baa6",
   "metadata": {},
   "source": [
    "Some observable trends from suburb population and distance to CBD include:\n",
    "- Suburbs that are closer to the CBD are associated with higher rental prices, with those within 15 km of the CBD having the highest rental prices, and\n",
    "- Suburbs that have more population are also associated with high rental prices. \n",
    "    - Visually, this could be deduced due to the upward trend of each dashed line in the graph above. \n",
    "    \n"
   ]
  },
  {
   "cell_type": "markdown",
   "id": "8178cdbd",
   "metadata": {},
   "source": [
    "# 3. Median Weekly Rents against Population Density from 2016-2021 <a name='bookmarkGA3' />\n",
    "\n",
    "<a href=#TOC>Back to ToC</a>"
   ]
  },
  {
   "cell_type": "code",
   "execution_count": 4,
   "id": "76c4cc3c",
   "metadata": {},
   "outputs": [
    {
     "data": {
      "text/html": [
       "<img src=\"plots/Weekly_Rent_Population_Density_Ring.png\" width=\"1000\" height=\"300\"/>"
      ],
      "text/plain": [
       "<IPython.core.display.Image object>"
      ]
     },
     "execution_count": 4,
     "metadata": {},
     "output_type": "execute_result"
    }
   ],
   "source": [
    "Image(url=\"plots/Weekly_Rent_Population_Density_Ring.png\", width=1000, height=300)"
   ]
  },
  {
   "cell_type": "markdown",
   "id": "7bc929bd",
   "metadata": {},
   "source": [
    "In general, visually, there is little information about the relationship between population density and rental prices. "
   ]
  },
  {
   "cell_type": "markdown",
   "id": "670c3619",
   "metadata": {},
   "source": [
    "# 4. Unemployment Rate against Median Weekly Rent per Year <a name='bookmarkGA4' />\n",
    "\n",
    "<a href=#TOC>Back to ToC</a>"
   ]
  },
  {
   "cell_type": "code",
   "execution_count": 5,
   "id": "ceeb6f90",
   "metadata": {},
   "outputs": [
    {
     "data": {
      "text/html": [
       "<img src=\"plots/Unemp_Rate_and_Median_Rent_per_year_no_2021.png\" width=\"1000\" height=\"300\"/>"
      ],
      "text/plain": [
       "<IPython.core.display.Image object>"
      ]
     },
     "execution_count": 5,
     "metadata": {},
     "output_type": "execute_result"
    }
   ],
   "source": [
    "Image(url=\"plots/Unemp_Rate_and_Median_Rent_per_year_no_2021.png\", width=1000, height=300)"
   ]
  },
  {
   "cell_type": "markdown",
   "id": "c17a6308",
   "metadata": {},
   "source": [
    "Hence, these graphical analyses involving some of the internal and external attributes that may show a potential relationship towards rental prices, whether it be the current 2022 rental prices, or those prior to 2022, in hope that we would expect the same trend of such relationships in 2022.  "
   ]
  },
  {
   "cell_type": "markdown",
   "id": "827a65b4",
   "metadata": {},
   "source": [
    "# 5. Geospatial Analysis of Rental Prices and Distance to Nearest School per Suburb <a name='bookmarkGA5' />\n",
    "\n",
    "The degree of \"thickness\" of the circle represents the average distance to nearest school per suburb. \n",
    "\n",
    "\n",
    "Note: To view the map, run the code below, and a new webpage containing the interactive map will be generated. Clicking on one of the suburbs will display a popup signifying the name of the suburb and the average rental prices for that suburb.\n",
    "\n",
    "<a href=#TOC>Back to ToC</a>"
   ]
  },
  {
   "cell_type": "code",
   "execution_count": 6,
   "id": "53067049",
   "metadata": {},
   "outputs": [
    {
     "data": {
      "text/plain": [
       "True"
      ]
     },
     "execution_count": 6,
     "metadata": {},
     "output_type": "execute_result"
    }
   ],
   "source": [
    "import webbrowser\n",
    "webbrowser.open('plots/log_mean_rental_no_outlier_w_log_nearest_school.html', new=0)"
   ]
  },
  {
   "cell_type": "markdown",
   "id": "232ee364",
   "metadata": {},
   "source": [
    "Intuitively we would expect that people would seek properties that are closer to schools. \n",
    "\n",
    "However, based on the map, it seems that most of the properties around the CBD are near to schools, yet the rental prices around them vary such that there is no clear relationship or cluster between rental prices and distance to nearest school.\n",
    "- In areas that are further away from the CBD, it seems that suburbs with high distance to nearest schools also have high average rental prices.\n",
    "\n",
    "Hence by looking at this geospatial plot it's not really clear on how proximity to nearest schools affect rental prices. However, the upcoming modelling section might shed a light on this matter."
   ]
  },
  {
   "cell_type": "markdown",
   "id": "290d0de6",
   "metadata": {},
   "source": [
    "# 6. Average Weekly Income From 2011 to 2021 Across Suburban Rings <a name='bookmarkGA6' />\n",
    "\n",
    "<a href=#TOC>Back to ToC</a>"
   ]
  },
  {
   "cell_type": "code",
   "execution_count": 7,
   "id": "9d57d9ed",
   "metadata": {},
   "outputs": [
    {
     "data": {
      "text/html": [
       "<img src=\"plots/average_weekly_income_time_series_line_plot.png\" width=\"1000\" height=\"300\"/>"
      ],
      "text/plain": [
       "<IPython.core.display.Image object>"
      ]
     },
     "execution_count": 7,
     "metadata": {},
     "output_type": "execute_result"
    }
   ],
   "source": [
    "Image(url=\"plots/average_weekly_income_time_series_line_plot.png\", width=1000, height=300)"
   ]
  },
  {
   "cell_type": "markdown",
   "id": "0ab200e0",
   "metadata": {},
   "source": [
    "Affluent suburbs within a 15 kilometre suburban ring have consistently higher average weekly incomes compared to both outer metropolitan and regional suburbs. \n",
    "\n",
    "From 2011 to 2018, there is a steady increase in average weekly income across all suburban rings. However, the growth of average weekly income peaked from 2018 and remained relatively stable until 2021. "
   ]
  },
  {
   "cell_type": "markdown",
   "id": "cda7df34",
   "metadata": {},
   "source": [
    "# 7. Top 10 Suburbs with the Lowest Average Increase in Immigration Since 2016 <a name='bookmarkGA7' />\n",
    "\n",
    "<a href=#TOC>Back to ToC</a>"
   ]
  },
  {
   "cell_type": "code",
   "execution_count": 8,
   "id": "ba7edf8f",
   "metadata": {},
   "outputs": [
    {
     "data": {
      "text/html": [
       "<img src=\"plots/bottom_ten_increase_immigration.png\"/>"
      ],
      "text/plain": [
       "<IPython.core.display.Image object>"
      ]
     },
     "execution_count": 8,
     "metadata": {},
     "output_type": "execute_result"
    }
   ],
   "source": [
    "Image(url=\"plots/bottom_ten_increase_immigration.png\")"
   ]
  },
  {
   "cell_type": "markdown",
   "id": "22d393a1",
   "metadata": {},
   "source": [
    "5 out of 10 suburbs are located in metropolitan Melbourne, with Rockbank experiencing the lowest average increase in immigration. East Melbourne, Melbourne and Docklands are within close proximity to the CBD, but are ranked within the top 10 suburbs with the lowest immigration since 2016.\n",
    "\n",
    "The remaining 5 regional suburbs are well beyond the fringe of outer metropolitan Melbourne, with Korumburra experiencing the lowest average increase in immigration since 2016."
   ]
  },
  {
   "cell_type": "markdown",
   "id": "f6eff8b8",
   "metadata": {},
   "source": [
    "# 8. Top 10 Suburbs with the Lowest Average Increase in Weekly Income Since 2011 <a name='bookmarkGA8' />\n",
    "\n",
    "<a href=#TOC>Back to ToC</a>"
   ]
  },
  {
   "cell_type": "code",
   "execution_count": 9,
   "id": "647617ce",
   "metadata": {},
   "outputs": [
    {
     "data": {
      "text/html": [
       "<img src=\"plots/bottom_ten_increase_weekly_income.png\"/>"
      ],
      "text/plain": [
       "<IPython.core.display.Image object>"
      ]
     },
     "execution_count": 9,
     "metadata": {},
     "output_type": "execute_result"
    }
   ],
   "source": [
    "Image(url=\"plots/bottom_ten_increase_weekly_income.png\")"
   ]
  },
  {
   "cell_type": "markdown",
   "id": "13e2035f",
   "metadata": {},
   "source": [
    "All suburbs are within the 27 kilometre suburban ring relative to Melbourne CBD, with the exception of Orbost, which is located in the Eastern region of rural Victoria.\n",
    "\n",
    "It was surprising that Vermont South, Box Hill and Rowville were within the top 10 suburbs with the lowest average increase in weekly income since 2011, considering that middle-ring Eastern suburbs are sought-after and considered to be relatively affluent. \n",
    "\n",
    "Furthermore, it was also surprising that Docklands, Port Melbourne Industrial and Melbourne were among the top 3 suburbs with the  lowest increase in weekly income, as these suburbs are recognised as the heart of industry, commerce and economy in Victoria. "
   ]
  },
  {
   "cell_type": "markdown",
   "id": "957546f0",
   "metadata": {},
   "source": [
    "# 9. Top 10 Suburbs with the Lowest Average Increase in Weekly Rent/Income Proportion Since 2011 <a name='bookmarkGA9' />\n",
    "\n",
    "<a href=#TOC>Back to ToC</a>"
   ]
  },
  {
   "cell_type": "code",
   "execution_count": 10,
   "id": "67356c37",
   "metadata": {},
   "outputs": [
    {
     "data": {
      "text/html": [
       "<img src=\"plots/bottom_ten_increase_weekly_rent_income.png\"/>"
      ],
      "text/plain": [
       "<IPython.core.display.Image object>"
      ]
     },
     "execution_count": 10,
     "metadata": {},
     "output_type": "execute_result"
    }
   ],
   "source": [
    "Image(url=\"plots/bottom_ten_increase_weekly_rent_income.png\")"
   ]
  },
  {
   "cell_type": "markdown",
   "id": "317bc169",
   "metadata": {},
   "source": [
    "The top 10 suburbs with the lowest average increase in weekly rent/income proportion are metropolitan suburbs within the 15 kilometre ring relative to the CBD.\n",
    "\n",
    "Interestingly, 6 out of 10 suburbs are located North of Melbourne."
   ]
  },
  {
   "cell_type": "markdown",
   "id": "1782f711",
   "metadata": {},
   "source": [
    "# 10. Median Weekly Rent vs Immigration Count From 2016 to 2021 Across Suburban Rings <a name='bookmarkGA10' />\n",
    "\n",
    "<a href=#TOC>Back to ToC</a>"
   ]
  },
  {
   "cell_type": "code",
   "execution_count": 11,
   "id": "1be3a908",
   "metadata": {},
   "outputs": [
    {
     "data": {
      "text/html": [
       "<img src=\"plots/median_weekly_rent_immigration_count_double_line_plot.png\" width=\"1000\" height=\"300\"/>"
      ],
      "text/plain": [
       "<IPython.core.display.Image object>"
      ]
     },
     "execution_count": 11,
     "metadata": {},
     "output_type": "execute_result"
    }
   ],
   "source": [
    "Image(url=\"plots/median_weekly_rent_immigration_count_double_line_plot.png\", width=1000, height=300)"
   ]
  },
  {
   "cell_type": "markdown",
   "id": "006fbf3c",
   "metadata": {},
   "source": [
    "From 2016 to 2019, the immigration count remained relatively stable across all suburban rings as the median weekly rent increased steadily. \n",
    "\n",
    "However, as immigration decreased significantly after 2019, rental prices either decreased slightly or remained relatively constant until 2021 for suburbs within the 30 kilometre radius. \n",
    "\n",
    "On the other hand, suburbs beyond the 30 kilometre radius continued to experience growth in rental prices after 2019.\n"
   ]
  },
  {
   "cell_type": "markdown",
   "id": "3e88b389",
   "metadata": {},
   "source": [
    "# 11. Distance to CBD vs Rental Cost <a name='bookmarkGA11' />\n",
    "\n",
    "<a href=#TOC>Back to ToC</a>"
   ]
  },
  {
   "cell_type": "code",
   "execution_count": 12,
   "id": "1e055283",
   "metadata": {},
   "outputs": [
    {
     "data": {
      "text/html": [
       "<img src=\"plots/scatter_plot_distance_to_cbd_rental_cost.png\" width=\"1000\" height=\"300\"/>"
      ],
      "text/plain": [
       "<IPython.core.display.Image object>"
      ]
     },
     "execution_count": 12,
     "metadata": {},
     "output_type": "execute_result"
    }
   ],
   "source": [
    "Image(url=\"plots/scatter_plot_distance_to_cbd_rental_cost.png\", width=1000, height=300)"
   ]
  },
  {
   "cell_type": "markdown",
   "id": "56c04c6c",
   "metadata": {},
   "source": [
    "There is a large variation in rental costs for properties within the 40 kilometre suburban ring relative to Melbourne CBD. As there is less variability in rental costs for properties beyond the 100 kilometre radius, the rental prices also appear to stabilise below $800 per week."
   ]
  },
  {
   "cell_type": "markdown",
   "id": "0bd78752",
   "metadata": {},
   "source": [
    "# 12. Distance to Nearest Hospital vs Rental Cost <a name='bookmarkGA12' />\n",
    "\n",
    "<a href=#TOC>Back to ToC</a>"
   ]
  },
  {
   "cell_type": "code",
   "execution_count": 13,
   "id": "e31eb7c0",
   "metadata": {},
   "outputs": [
    {
     "data": {
      "text/html": [
       "<img src=\"plots/scatter_plot_distance_to_nearest_hospital_rental_cost.png\" width=\"1000\" height=\"300\"/>"
      ],
      "text/plain": [
       "<IPython.core.display.Image object>"
      ]
     },
     "execution_count": 13,
     "metadata": {},
     "output_type": "execute_result"
    }
   ],
   "source": [
    "Image(url=\"plots/scatter_plot_distance_to_nearest_hospital_rental_cost.png\", width=1000, height=300)"
   ]
  },
  {
   "cell_type": "markdown",
   "id": "eab71cd9",
   "metadata": {},
   "source": [
    "There is no distinct relationship between distance to nearest hospital and rental cost. Properties that can access a hospital within 10 kilometres have high variability in rental prices. The same trend follows for properties that are 30 to 50 kilometres away from the nearest hospital."
   ]
  },
  {
   "cell_type": "markdown",
   "id": "3335292c",
   "metadata": {},
   "source": [
    "# 13. Distance to Nearest School vs Rental Cost <a name='bookmarkGA13' />\n",
    "\n",
    "<a href=#TOC>Back to ToC</a>"
   ]
  },
  {
   "cell_type": "code",
   "execution_count": 14,
   "id": "0b695074",
   "metadata": {},
   "outputs": [
    {
     "data": {
      "text/html": [
       "<img src=\"plots/scatter_plot_distance_to_nearest_school_rental_cost.png\" width=\"1000\" height=\"300\"/>"
      ],
      "text/plain": [
       "<IPython.core.display.Image object>"
      ]
     },
     "execution_count": 14,
     "metadata": {},
     "output_type": "execute_result"
    }
   ],
   "source": [
    "Image(url=\"plots/scatter_plot_distance_to_nearest_school_rental_cost.png\", width=1000, height=300)"
   ]
  },
  {
   "cell_type": "markdown",
   "id": "d067812b",
   "metadata": {},
   "source": [
    "Properties that are less than 5 kilometres away from the nearest school have high variability in rental prices. However, properties that are located 5 or more kilometres away from the nearest school tend to have stabilised rental costs below $800."
   ]
  },
  {
   "cell_type": "markdown",
   "id": "d1af8811",
   "metadata": {},
   "source": [
    "# 14. Distance to Nearest Train Station vs Rental Cost <a name='bookmarkGA14' />\n",
    "\n",
    "<a href=#TOC>Back to ToC</a>"
   ]
  },
  {
   "cell_type": "code",
   "execution_count": 15,
   "id": "1b58687b",
   "metadata": {},
   "outputs": [
    {
     "data": {
      "text/html": [
       "<img src=\"plots/scatter_plot_distance_to_nearest_train_station_rental_cost.png\" width=\"1000\" height=\"300\"/>"
      ],
      "text/plain": [
       "<IPython.core.display.Image object>"
      ]
     },
     "execution_count": 15,
     "metadata": {},
     "output_type": "execute_result"
    }
   ],
   "source": [
    "Image(url=\"plots/scatter_plot_distance_to_nearest_train_station_rental_cost.png\", width=1000, height=300)"
   ]
  },
  {
   "cell_type": "markdown",
   "id": "e76f0e0b",
   "metadata": {},
   "source": [
    "Properties that can access a train station within 40 kilometres have high variability in rental costs. However, properties that have only have access to train stations beyong 40 kilometres have stabilised rental prices below $800."
   ]
  },
  {
   "cell_type": "markdown",
   "id": "13b49b05",
   "metadata": {},
   "source": [
    "# 15. Correlation Heatmap of Rental Cost and Attributes of Interest <a name='bookmarkGA15' />\n",
    "\n",
    "<a href=#TOC>Back to ToC</a>"
   ]
  },
  {
   "cell_type": "code",
   "execution_count": 16,
   "id": "d0575cf7",
   "metadata": {},
   "outputs": [
    {
     "data": {
      "text/html": [
       "<img src=\"plots/correlation_heatmap.png\" width=\"1000\" height=\"300\"/>"
      ],
      "text/plain": [
       "<IPython.core.display.Image object>"
      ]
     },
     "execution_count": 16,
     "metadata": {},
     "output_type": "execute_result"
    }
   ],
   "source": [
    "Image(url=\"plots/correlation_heatmap.png\", width=1000, height=300)"
   ]
  },
  {
   "cell_type": "markdown",
   "id": "408bfc54",
   "metadata": {},
   "source": [
    "From the correlation heatmap, it can be observed that distance to the nearest hospital and train station have the strongest correlation with rental cost. However, distance to CBD has a negative correlation with rental cost, which suggests that a transformation such as (1/distance to CBD) must be applied during modelling negate the inverse relationship and provide a metric that is reflective of proximity to CBD. Finally, distance to nearest school also has negtative correaltion with rental cost. "
   ]
  },
  {
   "cell_type": "markdown",
   "id": "e8dd5227",
   "metadata": {},
   "source": [
    "# 16. Top 10 Suburbs with the Highest Average Increase in Immigration Since 2016 <a name='bookmarkGA16' />\n",
    "\n",
    "<a href=#TOC>Back to ToC</a>"
   ]
  },
  {
   "cell_type": "code",
   "execution_count": 17,
   "id": "82242c27",
   "metadata": {},
   "outputs": [
    {
     "data": {
      "text/html": [
       "<img src=\"plots/top_ten_increase_immigration.png\"/>"
      ],
      "text/plain": [
       "<IPython.core.display.Image object>"
      ]
     },
     "execution_count": 17,
     "metadata": {},
     "output_type": "execute_result"
    }
   ],
   "source": [
    "Image(url=\"plots/top_ten_increase_immigration.png\")"
   ]
  },
  {
   "cell_type": "markdown",
   "id": "6deb4776",
   "metadata": {},
   "source": [
    "9 out of 10 suburbs are located in regional Victoria, with Horsham experiencing the highest average increase in immigration since 2016.\n",
    "\n",
    "South Yarra is the only suburb in metropolitan Melbourne, located just 4 kilometres South-East of the CBD. "
   ]
  },
  {
   "cell_type": "markdown",
   "id": "94bdb6c3",
   "metadata": {},
   "source": [
    "# 17. Top 10 Suburbs with the Highest Average Increase in Weekly Income Since 2011 <a name='bookmarkGA17' />\n",
    "\n",
    "<a href=#TOC>Back to ToC</a>"
   ]
  },
  {
   "cell_type": "code",
   "execution_count": 18,
   "id": "975c3e93",
   "metadata": {},
   "outputs": [
    {
     "data": {
      "text/html": [
       "<img src=\"plots/top_ten_increase_weekly_income.png\"/>"
      ],
      "text/plain": [
       "<IPython.core.display.Image object>"
      ]
     },
     "execution_count": 18,
     "metadata": {},
     "output_type": "execute_result"
    }
   ],
   "source": [
    "Image(url=\"plots/top_ten_increase_weekly_income.png\")"
   ]
  },
  {
   "cell_type": "markdown",
   "id": "6abcede3",
   "metadata": {},
   "source": [
    "4 out of 10 suburbs are located in regional Victoria, with Alps experiencing the highest average increase in weekly income since 2011. \n",
    "\n",
    "The remaining 6 suburbs are located within metropolitan Melbourne, with Rockbank being the furthest suburb from the CBD with a proximity of 28 kilometres, whilst achieving the second highest average increase in weekly income."
   ]
  },
  {
   "cell_type": "markdown",
   "id": "e7baa7ed",
   "metadata": {},
   "source": [
    "# 18. Top 10 Suburbs with the Highest Average Increase in Weekly Rent/Income Proportion Since 2011 <a name='bookmarkGA18' />\n",
    "\n",
    "<a href=#TOC>Back to ToC</a>"
   ]
  },
  {
   "cell_type": "code",
   "execution_count": 19,
   "id": "57e5264d",
   "metadata": {},
   "outputs": [
    {
     "data": {
      "text/html": [
       "<img src=\"plots/top_ten_increase_weekly_rent_income.png\"/>"
      ],
      "text/plain": [
       "<IPython.core.display.Image object>"
      ]
     },
     "execution_count": 19,
     "metadata": {},
     "output_type": "execute_result"
    }
   ],
   "source": [
    "Image(url=\"plots/top_ten_increase_weekly_rent_income.png\")"
   ]
  },
  {
   "cell_type": "markdown",
   "id": "b4ecdd8d",
   "metadata": {},
   "source": [
    "The top 10 suburbs with the highest average increase in weekly rent/income proportion are regional suburbs.\n",
    "\n",
    "The suburbs with the highest increase in weekly rent/income proportion have a very small range, between 1.015% and 1.035%."
   ]
  },
  {
   "cell_type": "markdown",
   "id": "9cae6341",
   "metadata": {},
   "source": [
    "# 19. Weekly Rent/Income Proportion From 2011 to 2021 Across Suburban Rings <a name='bookmarkGA19' />\n",
    "\n",
    "<a href=#TOC>Back to ToC</a>"
   ]
  },
  {
   "cell_type": "code",
   "execution_count": 20,
   "id": "c9996ff9",
   "metadata": {},
   "outputs": [
    {
     "data": {
      "text/html": [
       "<img src=\"plots/weekly_rent_income_proportion_time_series_line_plot.png\" width=\"1000\" height=\"300\"/>"
      ],
      "text/plain": [
       "<IPython.core.display.Image object>"
      ]
     },
     "execution_count": 20,
     "metadata": {},
     "output_type": "execute_result"
    }
   ],
   "source": [
    "Image(url=\"plots/weekly_rent_income_proportion_time_series_line_plot.png\", width=1000, height=300)"
   ]
  },
  {
   "cell_type": "markdown",
   "id": "60d8ca67",
   "metadata": {},
   "source": [
    "Relative to the CBD, metropolitan suburbs within the 15 kilometre ring have a consistently lower weekly rent/income proportion compared to metropolitan suburbs in the outer rings. Following the same trend, regional suburbs outside the 50 kilometre radius also share a consistently lower weekly rent/income proportion. \n",
    "\n",
    "From 2011-2018, the weekly rent/income proportion has remained relatively stable, with a slight increasing trend. However, as rental prices continued to increase from 2019, the inner suburbs experienced a sharp decrease. "
   ]
  },
  {
   "cell_type": "markdown",
   "id": "d132e660",
   "metadata": {},
   "source": [
    "# 20. Top 10 Suburbs with the Highest Population Increase Since 2001 <a name='bookmarkGA20' />\n",
    "\n",
    "<a href=#TOC>Back to ToC</a>"
   ]
  },
  {
   "cell_type": "code",
   "execution_count": 21,
   "id": "029d51da",
   "metadata": {},
   "outputs": [
    {
     "data": {
      "text/html": [
       "<img src=\"plots/Top_10_Highest_Population.png\"/>"
      ],
      "text/plain": [
       "<IPython.core.display.Image object>"
      ]
     },
     "execution_count": 21,
     "metadata": {},
     "output_type": "execute_result"
    }
   ],
   "source": [
    "Image(url=\"plots/Top_10_Highest_Population.png\")"
   ]
  },
  {
   "cell_type": "markdown",
   "id": "5a1231a7",
   "metadata": {},
   "source": [
    "The suburb with the greatest increase in population is Craigieburn, with an increase of more than 10%. And interestingly, the top 5 suburbs are all near the Northern region of Victoria relative to the CBD"
   ]
  },
  {
   "cell_type": "markdown",
   "id": "c78e9373",
   "metadata": {},
   "source": [
    "# 21. Top 10 Suburbs with the Lowest Population Increase Since 2001 <a name='bookmarkGA21' />\n",
    "\n",
    "<a href=#TOC>Back to ToC</a>"
   ]
  },
  {
   "cell_type": "code",
   "execution_count": 22,
   "id": "74e94a92",
   "metadata": {},
   "outputs": [
    {
     "data": {
      "text/html": [
       "<img src=\"plots/Top_10_Lowest_Population.png\"/>"
      ],
      "text/plain": [
       "<IPython.core.display.Image object>"
      ]
     },
     "execution_count": 22,
     "metadata": {},
     "output_type": "execute_result"
    }
   ],
   "source": [
    "Image(url=\"plots/Top_10_Lowest_Population.png\")"
   ]
  },
  {
   "cell_type": "markdown",
   "id": "3cd977a0",
   "metadata": {},
   "source": [
    "Firstly just to note, suburbs with the lowest increase population have a very small range, between a **0.98%** to **0.99%** change. In contrast with the highest changes, there are no discernible pattern in the locations of suburbs, they seem to be randomly scattered throughout the state"
   ]
  },
  {
   "cell_type": "markdown",
   "id": "37f0bbcf",
   "metadata": {},
   "source": [
    "# 22. Top 10 Suburbs with the Lowest Increase in Population Desntiy Since 2001 <a name='bookmarkGA22' />\n",
    "\n",
    "<a href=#TOC>Back to ToC</a>"
   ]
  },
  {
   "cell_type": "code",
   "execution_count": 23,
   "id": "dabd7e43",
   "metadata": {},
   "outputs": [
    {
     "data": {
      "text/html": [
       "<img src=\"plots/Top_10_Lowest_Population_Density.png\"/>"
      ],
      "text/plain": [
       "<IPython.core.display.Image object>"
      ]
     },
     "execution_count": 23,
     "metadata": {},
     "output_type": "execute_result"
    }
   ],
   "source": [
    "Image(url=\"plots/Top_10_Lowest_Population_Density.png\")"
   ]
  },
  {
   "cell_type": "markdown",
   "id": "797d2623",
   "metadata": {},
   "source": [
    "Similar to population, suburbs with the lowest increase in population density also have a very small range of difference and are erratically distributed throughout Victoria."
   ]
  },
  {
   "cell_type": "markdown",
   "id": "d7ae1f68",
   "metadata": {},
   "source": [
    "# 23. Top 10 Schools by Their Percentage of Study Scores Over 40 and Their Respective Suburbs <a name='bookmarkGA23' />\n",
    "\n",
    "<a href=#TOC>Back to ToC</a>\n"
   ]
  },
  {
   "cell_type": "code",
   "execution_count": 24,
   "id": "bf2a4047",
   "metadata": {},
   "outputs": [
    {
     "data": {
      "text/html": [
       "<img src=\"plots/Top_10_Schools_Suburb.png\"/>"
      ],
      "text/plain": [
       "<IPython.core.display.Image object>"
      ]
     },
     "execution_count": 24,
     "metadata": {},
     "output_type": "execute_result"
    }
   ],
   "source": [
    "Image(url=\"plots/Top_10_Schools_Suburb.png\")"
   ]
  },
  {
   "cell_type": "markdown",
   "id": "7c6d7f32",
   "metadata": {},
   "source": [
    "Nine of the top 10 schools are situated on the Eastern side of Melbourne, where the rank of schools increase as its proximity approaches the CBD."
   ]
  },
  {
   "cell_type": "markdown",
   "id": "b955f57f",
   "metadata": {},
   "source": [
    "# 24. Top 10 Suburbs with the Highest Increase in Rent Since 2000 <a name='bookmarkGA24' />\n",
    "\n",
    "<a href=#TOC>Back to ToC</a>"
   ]
  },
  {
   "cell_type": "code",
   "execution_count": 25,
   "id": "190e4841",
   "metadata": {},
   "outputs": [
    {
     "data": {
      "text/html": [
       "<img src=\"plots/Top_10_Highest_Rent_Increase.jpg\"/>"
      ],
      "text/plain": [
       "<IPython.core.display.Image object>"
      ]
     },
     "execution_count": 25,
     "metadata": {},
     "output_type": "execute_result"
    }
   ],
   "source": [
    "Image(url=\"plots/Top_10_Highest_Rent_Increase.jpg\")"
   ]
  },
  {
   "cell_type": "markdown",
   "id": "9a8694b3",
   "metadata": {},
   "source": [
    "* All 10 suburbs are either located at the fringes of metropolitan Melbourne or regional Victoria.\n",
    "* Suburbs from the City of Greater Geelong have a consistently higher average increase in median rent since 2000 compared to suburbs from the Shire of Mornington Peninsula.\n"
   ]
  },
  {
   "cell_type": "markdown",
   "id": "9ac2760f",
   "metadata": {},
   "source": [
    "# 25. Top 10 Suburbs with the Lowest Increase in Rent Since 2000 <a name='bookmarkGA25' />\n",
    "\n",
    "<a href=#TOC>Back to ToC</a>"
   ]
  },
  {
   "cell_type": "code",
   "execution_count": 26,
   "id": "24778c57",
   "metadata": {},
   "outputs": [
    {
     "data": {
      "text/html": [
       "<img src=\"plots/Top_10_Highest_Rent_Decrease.jpg\"/>"
      ],
      "text/plain": [
       "<IPython.core.display.Image object>"
      ]
     },
     "execution_count": 26,
     "metadata": {},
     "output_type": "execute_result"
    }
   ],
   "source": [
    "Image(url=\"plots/Top_10_Highest_Rent_Decrease.jpg\")"
   ]
  },
  {
   "cell_type": "markdown",
   "id": "c9dea7a9",
   "metadata": {},
   "source": [
    "* 9 out of 10 suburbs are located within metropolitan Melbourne.\n",
    "* With the exception of Brunswick and Bendigo, the remaining suburbs are located within 7 kilometres to the CBD, with Southbank recording the lowest average increase in rent since 2000. \n",
    "* It was surprising to observe Bendigo, a suburb located in North-Western regional Victoria to be one of the top 10 suburbs with lowest increase in rental price, considering that most regional centres have experienced immense rental growth over the past two decades. \n"
   ]
  },
  {
   "cell_type": "markdown",
   "id": "291dd55e",
   "metadata": {},
   "source": [
    "# 26. Change in Rent by Regions of Victoria Since 2000 <a name='bookmarkGA26' />\n",
    "\n",
    "<a href=#TOC>Back to ToC</a>"
   ]
  },
  {
   "cell_type": "code",
   "execution_count": 27,
   "id": "abcd07dc",
   "metadata": {},
   "outputs": [
    {
     "data": {
      "text/html": [
       "<img src=\"plots/Time_Series_Median_Rent.jpg\"/>"
      ],
      "text/plain": [
       "<IPython.core.display.Image object>"
      ]
     },
     "execution_count": 27,
     "metadata": {},
     "output_type": "execute_result"
    }
   ],
   "source": [
    "Image(url=\"plots/Time_Series_Median_Rent.jpg\")"
   ]
  },
  {
   "cell_type": "markdown",
   "id": "e274ad1b",
   "metadata": {},
   "source": [
    "* It appears that regions within close proximity to the CBD including Inner Melbourne, Inner Eastern Melbourne, Southern Melbourne have consistently higher median rental prices from 2000 to 2021. Geelong, Ballarat, Bendigo and Other Regional Centres are located furthest from the CBD, whilst having consistently lower rental prices. Remaining regions within the boundaries of Metropolitan Melbourne have average rental prices.\n",
    "* All Victorian regions experience a consistent increasing trend of rental prices from 2000 to 2021. \n"
   ]
  },
  {
   "cell_type": "markdown",
   "id": "fdbc2001",
   "metadata": {},
   "source": [
    "# Modelling Analysis: Explaining the 2022 Rental Prices <a name='modellingMethod' />\n",
    "\n",
    "<a href=#TOC>Back to ToC</a>\n",
    "\n",
    "## Aim of This Modelling\n",
    "- Determine the overall relationship of important internal and external features in explaning 2022 rental prices. \n",
    "- In particular, we wish to explore the relationship/trends exhibited from each feature towards the 2022 rental prices, but we don't expect this model to be *very* accurate in predicting 2022 rental prices. \n",
    "\n",
    "\n",
    "## Model of Choice \n",
    "\n",
    "- The model of choice is <code>ElasticNet()</code>, a penalized regression model. \n",
    "    - Although this model introduces additional constraints (or hyperparameters in technical terms) that need to be manually specified by the user, it is still worth to be done since we would expect highly variable rental prices across sububs, and accounting for the differing characterictics of properties across each suburb with respect to the features that we've obtained. \n",
    "        - Ultimately, not introducing such additional constraints would lead to the model overestimating the importance of a variable too greatly simply based on a few data points. \n",
    "\n",
    "\n",
    "- Morevoer, deterministic feature engineering techniques is not really recommended because the \"least important\" features are not really important because we want to represent all suburbs in Victoria. This uncertainty can be conveyed through the coefficients from this penalized regression model.\n",
    "\n",
    "## Naive Way to Construct Model\n",
    "\n",
    "Now a naive way to do it would be to simply fit the full model on the entire data we have and report the coefficients as the feature importances *without evaluating the model*. But from a technical modelling standpoint, there are some problems:\n",
    "1. Although <code>ElasticNet()</code> implicitly performs variable selection, we still don't want our model predictions to be *too biased* in the sense that the predictions are off by large amounts, or in worst case scenario, violates the assumptions from our model, for which I will describe below in technical terms:\n",
    "    - The residuals/prediction errors will increase with respect to the model predictions because then our model then wouldn't be reliable (high model variance). \n",
    "\n",
    "## Proposed Methodology to Select \n",
    "\n",
    "Below is the overall approach to select a best model:\n",
    "\n",
    "1. Stratify sampling (by suburb) a training data, and let the rest be testing data\n",
    "    - Here, stratify means that a certain proportion of instances corresponding to *each suburb* will be sampled to ensure that the training data is representative enough (containing rental properties in Victoria)\n",
    "\n",
    "Next, Repeat: \n",
    "\n",
    "2. Choose best model with best hyperparameters in training data by using 10 fold CV\n",
    "\n",
    "3. Plot Learning Curve on entire dataset using the model specification and hyperparameters obtained in 2.\n",
    "\n",
    "4. Residual Plot on Training Data \n",
    "\n",
    "5. Do further EDA/Exploratory Data Analysis and/or feature engineering on training data \n",
    "\n",
    "6. Analyse learning curve and any patterns in residuals to guide for next feature engineering\n",
    "\n",
    "7. If satisfied with the model, then stop. Otherwise, go back to step 2. provided any feature engineering methods specified\n",
    "\n",
    "\n",
    "## What are learning curves?\n",
    "\n",
    "- Given a proposed model obtained from fitting it with a training data (a subset of the full data that we have) how well does it perform when we fit that model on *other* training data and evaluate it on the corresponding test data?\n",
    "    - In particular, as we increase the size of the training data, what we want to check is that:\n",
    "        - Does the model perform *equally* well on the training data and the testing data as a way to examine the generalizablility of the model, and\n",
    "        - Is the performance itself \"reasonably high\"?\n",
    "        \n",
    "- A very important note is that \"performance\" itself is a constraint that has to be quantitatively defined by us. In this case, we will use <code>-1 * Mean Absolute Error</code>, which can be interpreted as <code>-1 * (actual rental price - predicted rental price)</code>\n",
    "\n",
    "\n",
    "## Justification for the Proposed Methodology\n",
    "\n",
    "\n",
    "Instead of using a statistical/inferential approach to evaluate the model fit and complexity, a Machine Learning-based approach (particularly using learning curves) will be used here to, at least, provide some justification to why the model coefficients are reliable as a means of feature importances towards the 2022 rental prices, which will be listed below:\n",
    "\n",
    "1. We have already standardized the data into the same scale before fitting the model, which makes the model coefficients corresponding to each features comparable to each other.\n",
    "\n",
    "2. Given the model coefficients as a result of fitting the model with the training data, are they *consistent enough* when we fit that exact same model on different training data and evaluate it on different testing data? This can be answered by plotting learning curves.\n",
    "\n",
    "3. This methdology will inform us whether we're performing excessive feature transformations or not (in step 6 in the \"Proposed Methodology to Select\" section) in a way that causes overfitting; that is, the model *only* increases the performance in the training data but the model does a poor job in explaining other data. \n",
    "\n",
    "\n",
    "\n",
    "\n",
    "Based on the proposed methodology, a total of 4 models were generated to utilize the internal and external features to explain 2022 rental prices, with only one chosen to be the final model.\n"
   ]
  },
  {
   "cell_type": "markdown",
   "id": "2aed3752",
   "metadata": {},
   "source": [
    "# First Model <a name='firstModelResults' />\n",
    "\n",
    "<a href=#TOC>Back to ToC</a>\n",
    "\n",
    "## Input Features to the model \n",
    "\n",
    "Internal Features (features that are directly related to rental properties)\n",
    "- Suburbs\n",
    "- Distance to Nearest Hospital\n",
    "- Distance to Nearest Train Station\n",
    "- Distance to CBD\n",
    "- Distance to Nearest School\n",
    "- Number of Bedrooms\n",
    "- Number of Parking Spaces\n",
    "- Number of Bathrooms\n",
    "\n",
    "External Features (these are recorded by suburb)\n",
    "- Annual Median Rent (each from 2000 to 2021) \n",
    "- Annual Income (each from 2011 to 2021)\n",
    "- Annual Population (each from 2001 to 2021)\n",
    "- Annual Population Density (each from 2001 to 2021)\n",
    "- Annual Immigration (each from 2016 to 2021)\n",
    "- Annual Unemployment Rate (each from 2010 to 2021)\n",
    "\n",
    "I will not include the nitty-gritty code used to fit the model, but I will present the results."
   ]
  },
  {
   "cell_type": "markdown",
   "id": "ff6b8f7b",
   "metadata": {},
   "source": [
    "Graphical Results for Model 1"
   ]
  },
  {
   "cell_type": "code",
   "execution_count": 28,
   "id": "cf489e55",
   "metadata": {},
   "outputs": [
    {
     "data": {
      "text/html": [
       "<img src=\"plots/model_1_learning_curve.png\" width=\"800\" height=\"200\"/>"
      ],
      "text/plain": [
       "<IPython.core.display.Image object>"
      ]
     },
     "execution_count": 28,
     "metadata": {},
     "output_type": "execute_result"
    }
   ],
   "source": [
    "Image(url=\"plots/model_1_learning_curve.png\", width=800, height=200)"
   ]
  },
  {
   "cell_type": "code",
   "execution_count": 29,
   "id": "362ce7d9",
   "metadata": {},
   "outputs": [
    {
     "data": {
      "text/html": [
       "<img src=\"plots/model_1_residual_plots.png\" width=\"900\" height=\"300\"/>"
      ],
      "text/plain": [
       "<IPython.core.display.Image object>"
      ]
     },
     "execution_count": 29,
     "metadata": {},
     "output_type": "execute_result"
    }
   ],
   "source": [
    "Image(url=\"plots/model_1_residual_plots.png\", width=900, height=300)"
   ]
  },
  {
   "cell_type": "markdown",
   "id": "7e8d6039",
   "metadata": {},
   "source": [
    "## What can we say about the first model <a name='firstModelExplanation' />\n",
    "## 1. From the Learning Curve\n",
    "In the learning curve, as the training samples get larger, their \"accuracy\"/score, defined by -1 * MAE (the deviation of the predictions), begin to converge. \n",
    "- This means that we can almost see that on average the model's predictions has an error of roughly 85-90 dollars. \n",
    "- Hence we don't have to face with the problem of high model variance; that is, we can say that our model's complexity is just the right one, otherwise we would see the model consistently able to explain the training data but does a very bad job at doing so in the testing data regardless of the size of the training data used to fit the model. \n",
    "\n",
    "- But we can always try to improve the model by feature engineering to see if we can reduce model bias (the overall prediction error), provided that we've selected the right model to reduce model variance.\n",
    "\n",
    "\n",
    "## 2. From the residual plots\n",
    "- There is still a small trend in that as the fitted values/predictions increase the predictions tend to be overestimated. \n",
    "    - Upon further inspection, such predictions apparently come from suburbs located in Albert Park, for which properties have high average rental prices. \n",
    "    \n",
    "     \n",
    "## What's Next? \n",
    "- We further peform EDA, mainly by pairwise plots or correlation plots, to look for which features to be combined to avoid multicollinearity, which is a hindrance in regression models."
   ]
  },
  {
   "cell_type": "markdown",
   "id": "653070fc",
   "metadata": {},
   "source": [
    "# Second Model <a name='secondModelResults' />\n",
    "\n",
    "<a href=#TOC>Back to ToC</a>\n",
    "\n",
    "Note that the response variable, in this case the 2022 rental price, is taken on a logarithmic scale.\n",
    "\n",
    "## Input Features to the model \n",
    "\n",
    "<font color='red'>Note: these are the features/variables that have been mathematically transformed</font>\n",
    "\n",
    "Internal Features (features that are directly related to rental properties)\n",
    "- Suburbs\n",
    "- Distance to Nearest Hospital\n",
    "- Distance to Nearest Train Station\n",
    "- <code><font color='red'>log(1 / Distance to CBD)</font></code>. \n",
    "    - This can be interpreted more as the \"proximity\" to CBD.\n",
    "- Distance to Nearest School\n",
    "- Number of Bedrooms\n",
    "- Number of Parking Spaces\n",
    "- Number of Bathrooms\n",
    "\n",
    "External Features (these are recorded by suburb):\n",
    "\n",
    "- <font color='red'>Annual Increase of Median Rent (each from 2000 to 2020)</font> \n",
    "- <font color='red'>Annual Increase of Income (each from 2011 to 2020)</font>\n",
    "- <font color='red'>Annual Increase of Population (each from 2001 to 2020)</font>\n",
    "- <font color='red'>Annual Increase of Population Density (each from 2001 to 2020)</font>\n",
    "- <font color='red'>Annual Increase of Immigration (each from 2016 to 2020)</font>\n",
    "- <font color='red'>Annual Increase of Unemployment Rate (each from 2010 to 2020)</font>\n",
    "\n",
    "\n",
    "From a modelling perspective, the reason I included the annual increase of each external variable instead of the annual values is to handle correlation between each external variable over the years. \n",
    "- I am aware that including those variables won't semantically make sense but I'll try to include them first.\n",
    "\n",
    "I will not include the nitty-gritty code used to fit the model, but I will present the results."
   ]
  },
  {
   "cell_type": "markdown",
   "id": "bfef7d71",
   "metadata": {},
   "source": [
    "Graphical Analysis for Second Model"
   ]
  },
  {
   "cell_type": "code",
   "execution_count": 30,
   "id": "9df5b594",
   "metadata": {},
   "outputs": [
    {
     "data": {
      "text/html": [
       "<img src=\"plots/model_2_learning_curve.png\" width=\"800\" height=\"200\"/>"
      ],
      "text/plain": [
       "<IPython.core.display.Image object>"
      ]
     },
     "execution_count": 30,
     "metadata": {},
     "output_type": "execute_result"
    }
   ],
   "source": [
    "Image(url=\"plots/model_2_learning_curve.png\", width=800, height=200)"
   ]
  },
  {
   "cell_type": "code",
   "execution_count": 31,
   "id": "c4b69b62",
   "metadata": {},
   "outputs": [
    {
     "data": {
      "text/html": [
       "<img src=\"plots/model_2_residual_plots.png\" width=\"900\" height=\"300\"/>"
      ],
      "text/plain": [
       "<IPython.core.display.Image object>"
      ]
     },
     "execution_count": 31,
     "metadata": {},
     "output_type": "execute_result"
    }
   ],
   "source": [
    "Image(url=\"plots/model_2_residual_plots.png\", width=900, height=300)"
   ]
  },
  {
   "cell_type": "markdown",
   "id": "93ade4b0",
   "metadata": {},
   "source": [
    "# What can we say about this model (second model)<a name='secondModelExplanation' />\n",
    "\n",
    "<a href=#TOC>Back to ToC</a>\n",
    "\n",
    "## 1. From the Learning Curve\n",
    "- It seems that mathematically transforming the features work in decreasing model bias; meaning that the error in the predictions, in general, have decreased compared to the ones generated by the first model\n",
    "    - In particular, in the learning curves, the training and testing curves lie on top of those in model 1, signifying higher scores achieved on average as the size of the training data gets larger)\n",
    "\n",
    "## 2. From the residual plots\n",
    "- It seems that putting the rental price on a logarithmic scale, and turn the log-scaled rental price as a response variable works in reducing heteroscedacisity; that is, the error of the predictions do not depend on the predictions itself and that the errors are evenly spread throughout the predictions. \n",
    "    - Though, there's still some predictions that have quite high errors (error being defined as <code>actual rental price - predicted rental price</code>). If that error is high it means that the corresponding predictions are underestimated. \n",
    "        - But since there's only few such predictions, we can let them be because one reason is that we want our model to be conservative in our predictions and not excessively overestimate them.\n",
    "\n",
    "\n",
    "## What's Next? \n",
    "- However, despite the increase in model performance by converting the external variables into annual increases of them, do they actually have a proper semantic meaning in explaining the 2022 rental price? \n",
    "- How about we try to remove them and only using the internal features (with <code>distance_to_cbd</code> transformed to <code>log(1/distance_to_cbd)</code>) instead? Will the performance downgrade much, or other outcomes will happen instead?\n"
   ]
  },
  {
   "cell_type": "markdown",
   "id": "88f6f288",
   "metadata": {},
   "source": [
    "# Third Model <a name='thirdModelResults' />\n",
    "\n",
    "<a href=#TOC>Back to ToC</a>\n",
    "\n",
    "Note that the response variable, in this case the 2022 rental price, is taken on a logarithmic scale due to its high variability. \n",
    "\n",
    "## Input Features to the model \n",
    "\n",
    "<font color='red'>Note: these are the features/variables that have been mathematically transformed</font>\n",
    "\n",
    "Internal Features (features that are directly related to rental properties)\n",
    "- Suburbs\n",
    "- Distance to Nearest Hospital\n",
    "- Distance to Nearest Train Station\n",
    "- <code><font color='red'>log(1 / Distance to CBD)</font></code>. \n",
    "    - This can be interpreted more as the \"proximity\" to CBD.\n",
    "- Distance to Nearest School\n",
    "- Number of Bedrooms\n",
    "- Number of Parking Spaces\n",
    "- Number of Bathrooms\n",
    "\n",
    "\n",
    "Note that I do not include any external features because I want to assess whether the model performance differs significantly without the external features.\n",
    "\n",
    "I will not include the nitty-gritty code used to fit the model, but I will present the results."
   ]
  },
  {
   "cell_type": "markdown",
   "id": "f9c7575a",
   "metadata": {},
   "source": [
    "Graphical Results for Third Model"
   ]
  },
  {
   "cell_type": "code",
   "execution_count": 32,
   "id": "c2077ece",
   "metadata": {},
   "outputs": [
    {
     "data": {
      "text/html": [
       "<img src=\"plots/model_3_learning_curve.png\" width=\"800\" height=\"200\"/>"
      ],
      "text/plain": [
       "<IPython.core.display.Image object>"
      ]
     },
     "execution_count": 32,
     "metadata": {},
     "output_type": "execute_result"
    }
   ],
   "source": [
    "Image(url=\"plots/model_3_learning_curve.png\", width=800, height=200)"
   ]
  },
  {
   "cell_type": "code",
   "execution_count": 33,
   "id": "e27206dc",
   "metadata": {},
   "outputs": [
    {
     "data": {
      "text/html": [
       "<img src=\"plots/model_3_residual_plots.png\" width=\"900\" height=\"300\"/>"
      ],
      "text/plain": [
       "<IPython.core.display.Image object>"
      ]
     },
     "execution_count": 33,
     "metadata": {},
     "output_type": "execute_result"
    }
   ],
   "source": [
    "Image(url=\"plots/model_3_residual_plots.png\", width=900, height=300)"
   ]
  },
  {
   "cell_type": "markdown",
   "id": "02539e95",
   "metadata": {},
   "source": [
    "# What can we say about this model (third model)<a name='thirdModelExplanation' />\n",
    "\n",
    "<a href=#TOC>Back to ToC</a>\n",
    "\n",
    "## 1. From the Learning Curve\n",
    "\n",
    "The performance of the testing data greatly decreases compared to the second model (where it involves annual increases for each external variable). \n",
    "\n",
    "- In fact we have evidence of underfitting (that is, the error in the model's predictions is higher in general) because in this case the performance of the model on the testing data don't even exceed -90, while the testing curve of the learning curve from the 2nd model shows that it even only takes less than half of the entire dataset to be used to train the model in order to achieve a score of -90.\n",
    "\n",
    "This might be because of the fact that ElasticNet also performs variable selection through the coefficient penalization. \n",
    "- This might mean that at least one of the external variables have some role in explaining the response, and we probably shouldn't remove all of them. \n",
    "\n",
    "## 2. From the residual plots\n",
    "- There is no striking evidence of heteroscedasicity (that is, the errors of the predictions has no mathematical relationship between the predictions itself and that the errors are evenly spaced around 0 throughout the predictions), except a few points that have quite high residuals (i.e. our predictions underestimate the actual y values)\n",
    "\n",
    "## What's Next? \n",
    "Perhaps, another approach is to use all the external variables, *but only the most recent ones* (e.g. <code>2021_median_rent, 2021_annual_income, population_2021, population_density_2021, etc</code>), and consider plausible transformations to those features. \n",
    "\n",
    "\n",
    "\n",
    "<a href=#TOC>Back to ToC</a>\n"
   ]
  },
  {
   "cell_type": "markdown",
   "id": "a4f745ef",
   "metadata": {},
   "source": [
    "# Fourth Model (Final Model) <a name='fourthModelResults' />\n",
    "\n",
    "Note that the response variable, in this case the 2022 rental price, is taken on a logarithmic scale.\n",
    "\n",
    "<a href=#TOC>Back to ToC</a>\n",
    "\n",
    "## Input Features to the model \n",
    "\n",
    "<font color='red'>Note: these are the features/variables that have been mathematically transformed</font>\n",
    "\n",
    "Internal Features (features that are directly related to rental properties)\n",
    "- Suburbs\n",
    "- Distance to Nearest Hospital\n",
    "- Distance to Nearest Train Station\n",
    "- <code><font color='red'>log(1 / Distance to CBD)</font></code>. \n",
    "    - In particular, this can be interpreted more as the \"proximity\" to CBD.\n",
    "- Distance to Nearest School\n",
    "- Number of Bedrooms\n",
    "- Number of Parking Spaces\n",
    "- Number of Bathrooms\n",
    "\n",
    "External Features (these are recorded by suburb):\n",
    "- <font color='red'>Median Rent per Income/rent-to-income ratio</font> (2021) \n",
    "    - From a modelling perspective, this is done because the 2021 median rent and 2021 income is correlated\n",
    "- Population (2021)\n",
    "- Population Density (2021)\n",
    "- Immigration (2021)\n",
    "- <code><font color='red'>1 / Unemployment Rate</code></font>(2021)\n",
    "    - We are not sure about a phrase that can describe <code>1 / Unemployment Rate</code>, but for now we'll call it the \"inverse unemployment rate\".\n",
    "\n",
    "\n",
    "I will not include the nitty-gritty code used to fit the model, but I will present the results."
   ]
  },
  {
   "cell_type": "code",
   "execution_count": 34,
   "id": "b38d4399",
   "metadata": {},
   "outputs": [
    {
     "data": {
      "text/html": [
       "<img src=\"plots/model_4_learning_curve.png\" width=\"800\" height=\"200\"/>"
      ],
      "text/plain": [
       "<IPython.core.display.Image object>"
      ]
     },
     "execution_count": 34,
     "metadata": {},
     "output_type": "execute_result"
    }
   ],
   "source": [
    "Image(url=\"plots/model_4_learning_curve.png\", width=800, height=200)"
   ]
  },
  {
   "cell_type": "code",
   "execution_count": 35,
   "id": "c2944a69",
   "metadata": {},
   "outputs": [
    {
     "data": {
      "text/html": [
       "<img src=\"plots/model_4_residual_plots.png\" width=\"800\" height=\"300\"/>"
      ],
      "text/plain": [
       "<IPython.core.display.Image object>"
      ]
     },
     "execution_count": 35,
     "metadata": {},
     "output_type": "execute_result"
    }
   ],
   "source": [
    "Image(url=\"plots/model_4_residual_plots.png\", width=800, height=300)"
   ]
  },
  {
   "cell_type": "markdown",
   "id": "9130336a",
   "metadata": {},
   "source": [
    "# What can we say about this model (fourth model)<a name='fourthModelExplanation' />\n",
    "\n",
    "<a href=#TOC>Back to ToC</a>\n",
    "\n",
    "\n",
    "## 1. From the Learning Curve\n",
    "\n",
    "Based on the overall performance shown by the performances from the training data and the testing data, we'd say that this model performs better than the third model (since the performance of the fourth model in the training and testing data lie \"on top\" of those in the third model regardless of the size of the training data used to fit the model). \n",
    "\n",
    "However, this model's performance is still inferior compared to those in the second model.\n",
    "\n",
    "## 2. Residual Plots\n",
    "The residual plot for this model is roughly similar to those in the second and third model; the errors of the predictions still do not depend on the predictions itself and that the errors are still roughly scattered around 0, which is good from a modelling standpoint.\n",
    "\n",
    "\n",
    "<a href=#TOC>Back to ToC</a>\n"
   ]
  },
  {
   "cell_type": "markdown",
   "id": "bb2b0209",
   "metadata": {},
   "source": [
    "# Which Model did we finally select, among the four models we created? <a name='reasoningFinalModel' />\n",
    "\n",
    "<a href=#TOC>Back to ToC</a>\n",
    "\n",
    "Although the second model has the best performance, we decided to opt for the fourth model instead. \n",
    "\n",
    "That's because we don't have a way to properly justify to use the annual increases of each external variable (e.g. <code>annual increase of immigration from 2000 to 2001, annual increase of population from 2000 to 2001</code>).\n",
    "\n",
    "However, as mentioned in the aim of this modelling section, we don't really seek really accurate predictions from our model; our main goal is to explain what sort of relationship and the degree of the relationship that each feature has in explaining rental prices and we believe we have achieved that.\n",
    "- As mentioned in the dicsussion for the fourth model, the errors of the predictions do not have a mathematical relationship with the predictions and they are roughly scattered around 0. This means that while one can argue that the predictions, on average are still off by a huge amount, the model still can describe the trend adequately.\n",
    "\n"
   ]
  },
  {
   "cell_type": "markdown",
   "id": "0a3ef62e",
   "metadata": {},
   "source": [
    "# Feature Importances for each Variable in the Final Model and their interpretations <a name='featureImportances' />\n",
    "\n",
    "<a href=#TOC>Back to ToC</a>"
   ]
  },
  {
   "cell_type": "markdown",
   "id": "c6e37b49",
   "metadata": {},
   "source": [
    "## 1. Feature Impotance: Number of Bathrooms and Bedrooms"
   ]
  },
  {
   "cell_type": "code",
   "execution_count": 36,
   "id": "2de0249c",
   "metadata": {},
   "outputs": [
    {
     "data": {
      "text/html": [
       "<img src=\"plots/Feature_Importance_Bathrooms.png\" width=\"500\" height=\"300\"/>"
      ],
      "text/plain": [
       "<IPython.core.display.Image object>"
      ]
     },
     "metadata": {},
     "output_type": "display_data"
    },
    {
     "data": {
      "text/html": [
       "<img src=\"plots/Feature_Importance_Bedrooms.png\" width=\"500\" height=\"300\"/>"
      ],
      "text/plain": [
       "<IPython.core.display.Image object>"
      ]
     },
     "metadata": {},
     "output_type": "display_data"
    }
   ],
   "source": [
    "display(Image(url=\"plots/Feature_Importance_Bathrooms.png\", width=500, height=300))\n",
    "display(Image(url=\"plots/Feature_Importance_Bedrooms.png\", width=500, height=300))"
   ]
  },
  {
   "cell_type": "markdown",
   "id": "eaf311cc",
   "metadata": {},
   "source": [
    "- As the number of bedrooms and bathrooms increase, the rental prices also increase. \n",
    "- Moreover, the negative effect of properties with no bedrooms on rental prices are relatively large."
   ]
  },
  {
   "cell_type": "markdown",
   "id": "4530411b",
   "metadata": {},
   "source": [
    "## 2. Feature Impotance: Number of Parking Spaces"
   ]
  },
  {
   "cell_type": "code",
   "execution_count": 37,
   "id": "a82f181c",
   "metadata": {},
   "outputs": [
    {
     "data": {
      "text/html": [
       "<img src=\"plots/Feature_Importance_Parking_Spaces.png\" width=\"500\" height=\"300\"/>"
      ],
      "text/plain": [
       "<IPython.core.display.Image object>"
      ]
     },
     "execution_count": 37,
     "metadata": {},
     "output_type": "execute_result"
    }
   ],
   "source": [
    "Image(url=\"plots/Feature_Importance_Parking_Spaces.png\", width=500, height=300)"
   ]
  },
  {
   "cell_type": "markdown",
   "id": "c44dae24",
   "metadata": {},
   "source": [
    "- As with the number of parking spaces, too many (in this case, 5 or 6) or too little (in this case, just 1) of such quantity is associated with a negative effect on rental prices.\n"
   ]
  },
  {
   "cell_type": "markdown",
   "id": "11359259",
   "metadata": {},
   "source": [
    "## 3. Feature Impotance: 2021 External Variables"
   ]
  },
  {
   "cell_type": "code",
   "execution_count": 38,
   "id": "df5ed24e",
   "metadata": {},
   "outputs": [
    {
     "data": {
      "text/html": [
       "<img src=\"plots/Feature_Importance_External_Variables.png\" width=\"500\" height=\"300\"/>"
      ],
      "text/plain": [
       "<IPython.core.display.Image object>"
      ]
     },
     "execution_count": 38,
     "metadata": {},
     "output_type": "execute_result"
    }
   ],
   "source": [
    "Image(url=\"plots/Feature_Importance_External_Variables.png\", width=500, height=300)"
   ]
  },
  {
   "cell_type": "markdown",
   "id": "6ea4ad99",
   "metadata": {},
   "source": [
    "As for variables that are not directly related to rental properties, a larger rent-to-income ratio shares a negative relationship with rental price. Furthermore, among all external variables, population density is the variable that shares the strongest positive relationship with rental price. Finally, it seems that suburbs with smaller unemployment rates impose a positive effect towards rental prices."
   ]
  },
  {
   "cell_type": "markdown",
   "id": "92a32c93",
   "metadata": {},
   "source": [
    "## 4. Feature Impotance: Variables related to proximity"
   ]
  },
  {
   "cell_type": "code",
   "execution_count": 39,
   "id": "f1325147",
   "metadata": {},
   "outputs": [
    {
     "data": {
      "text/html": [
       "<img src=\"plots/Feature_Importance_Proximity_Variables.png\" width=\"500\" height=\"300\"/>"
      ],
      "text/plain": [
       "<IPython.core.display.Image object>"
      ]
     },
     "execution_count": 39,
     "metadata": {},
     "output_type": "execute_result"
    }
   ],
   "source": [
    "Image(url=\"plots/Feature_Importance_Proximity_Variables.png\", width=500, height=300)"
   ]
  },
  {
   "cell_type": "markdown",
   "id": "d3eae98e",
   "metadata": {},
   "source": [
    "Suburbs that are closer to the CBD have a relatively strong, positive effect towards rental prices, compared to suburbs that are closer to hospitals and train stations. Surprisingly, suburbs that are closer to schools have a relatively weak, but negative effect towards rental prices.\n"
   ]
  },
  {
   "cell_type": "markdown",
   "id": "f509bb8b",
   "metadata": {},
   "source": [
    "# Research Area 2 -  Forecasting Top 10 Suburbs with Highest Rental Growth <a name='RA2' />\n",
    "\n",
    "<a href=#TOC>Back to ToC</a>"
   ]
  },
  {
   "cell_type": "markdown",
   "id": "c0680438",
   "metadata": {},
   "source": [
    "## We forecasted rent for all suburbs in Victoria until 2027 <a name='RA2_details' />\n",
    "\n",
    "<a href=#TOC>Back to ToC</a>\n",
    "\n",
    "BUT - There are two glaring and *tricky* obstacles right of the bat \n",
    "\n",
    "* We do not have the future predictor values\n",
    "* After making our predcitions we do not have a basis of comparsion for future predictons\n",
    "\n",
    "#### Proposed methadology to tackle the modelling problem : \n",
    "\n",
    "1) Extrapolate 3 years *future* predictors such as income, unemployement and population using a SARImax model \n",
    "\n",
    "2) Train model on 2012-2021 data with rent prices as the target variable\n",
    "\n",
    "3) Predict the future rents using the test set generated by the SARIMAX models and the already existing static information about suburbs\n",
    "\n",
    "BUT number **2** :( \n",
    "\n",
    "The modelling methadology might sound good in forethought, but we need to show that the proposed methoadology is actually valid and our models do not just spit out random numbers. \n",
    "\n",
    "#### Steps taken to prove validity of the proposed modelling methadology \n",
    "\n",
    "1) We have all the TRUE data points for 2012-2019\n",
    "\n",
    "2) Split the 2012-2019 data into the 2 sets:\n",
    "\n",
    "* The train set : 2012-2016\n",
    "* The validation (*test*)  set : 2017-2019\n",
    "\n",
    "3) Use SARIMAX to extrapolate predictor features for 2017 - 2019 using the 2012-2016 data\n",
    "\n",
    "4) Predict 2017-2019 rents using multiple models and compare the results with already known and true 2017-2019 results. \n",
    "\n",
    "\n",
    "\n",
    "We were able to sucessfully predict the 'future' rental prices within (MAE) of $25 dollar. \n",
    "\n",
    "So this mehtadology was used to predict the suburb rents upto 2027\n",
    "\n"
   ]
  },
  {
   "cell_type": "markdown",
   "id": "24a0a375",
   "metadata": {},
   "source": [
    "### The results are as follows:  <a name='RA2_results' />\n",
    "\n",
    "<a href=#TOC>Back to ToC</a>"
   ]
  },
  {
   "cell_type": "code",
   "execution_count": 40,
   "id": "b51f3c8a",
   "metadata": {},
   "outputs": [
    {
     "data": {
      "text/plain": [
       "True"
      ]
     },
     "execution_count": 40,
     "metadata": {},
     "output_type": "execute_result"
    }
   ],
   "source": [
    "webbrowser.open('plots/Highest_Predicted_Growth_Suburbs .html', new=0)"
   ]
  },
  {
   "cell_type": "markdown",
   "id": "7157db5f",
   "metadata": {},
   "source": [
    "* A Random Forest model was used to forecast rental prices for the next 5 years in order to determine the top 10 suburbs with the highest growth.\n",
    "* 7 out of the 10 suburbs with the greatest predicted growth are located in regional Victoria, and there are two apparent clusters.\n",
    "* Geelong, Geelong West, Lara and Newcomb are regional suburbs located in the City of Greater Geelong. Jewel Topsfield from The Age claims that the appeal from the Geelong waterfront and high employability within the regional city centre has caused suburbs within this municipality to experience high rental growth rates, as predicted by our model. \n",
    "* Moe, Traralgon and Sale are located South-East of the Melbourne CBD, which shows that this regional cluster has strong potential for rental growth. Redman from The Sydney Morning Herald highlights that an increasing number of residents with high disposable income in metropolitan Melbourne have begun to relocate to the aforementioned regional suburbs, causing spikes in rental prices due to surging demand.\n",
    "* Hampton Park has also earned its 3rd place due to its abundance of schools and easy access to both Lynbrook and Hallam railway stations Furthermore, Parkville has also experienced strong growth in rental prices due to its close proximity to the CBD. It is also home to the highly sought after University of Melbourne, Royal Melbourne and Royal Children’s hospitals.  \n"
   ]
  },
  {
   "cell_type": "markdown",
   "id": "5049f151",
   "metadata": {},
   "source": [
    "# Research Area 3 - Determining top 5 most livable and affordable suburbs in Victoria <a name='RA3' />\n",
    "\n",
    "<a href=#TOC>Back to ToC</a>"
   ]
  },
  {
   "cell_type": "markdown",
   "id": "759d4145",
   "metadata": {},
   "source": [
    "### We set out to detetmine the top 10 livable and affordable suburbs in Victoria. The attributes we used were: <a name='RA3_attributes' /> \n",
    "\n",
    "<a href=#TOC>Back to ToC</a>\n",
    "\n",
    "Chosen attributes and how they affect livability:\n",
    "\n",
    "* (Rent / Income (R/I)  The percentage of income are residents spending on rent. Lower R/I is better as residents have more disposable income -> For Livability ranking \n",
    "\n",
    "* Rent price at face value - Lower is better as it is more affordable -> For affordability ranking \n",
    "\n",
    "* Distance to CBD - Suburbs closer to CBD is preferred as office commute times as shorter, more entertainment venues, better roads, safety, infrastructure etc. \n",
    "\n",
    "* Distance to hospital - Better access to healthcare \n",
    "\n",
    "* Population / Number of Schools  - Higher population / school ratio is preferred, this shows easier and more available access to education. \n",
    "\n",
    "* Unemployment - Heavily correlated with quality of life. Closely tied to crime, violence, drug use etc.\n",
    "\n",
    "* Population Density - Ideally population density not should be so high as to affect quality of life and not be too low "
   ]
  },
  {
   "cell_type": "markdown",
   "id": "6f1d8ce6",
   "metadata": {},
   "source": [
    "##  Methadology Used <a name='RA3_methods' /> \n",
    "\n",
    "<a href=#TOC>Back to ToC</a>\n",
    "\n",
    "Instead of applying the metrics right away, K means clustering was performed to see if there are natural groupings (clusters) in suburbs based on the attributes mentioned above.\n",
    "\n",
    "The ‘elbow’ showed that the ideal number of clusters was 5. \n",
    "\n",
    "After K means clustering. There was one standout cluster where most of the suburbs in this particular cluster had these following properties:\n",
    "\n",
    "* Most suburbs in cluster 1 are close to CBD\n",
    "* Closer to train stations\n",
    "* Pop density - Not too high or too low (Both extremes are bad for liveability) \n",
    "* Low unemployment rate - Usually tied to low crime \n",
    "* Closest to hospitals\n",
    "\n",
    "This cluster has around 60 suburbs.\n",
    "\n",
    "To determine the top 10 suburbs two scoring metrics were used on the identified subset of suburbs:\n",
    "* First metric considered rent using the R/I metric - Considers purely livability \n",
    "* Second metric considered rent at face value (all other attribute same) - More emphasis on affordability\n",
    "\n",
    "#### Our results are as follows: <a name='RA3_results' /> \n",
    "\n",
    "<a href=#TOC>Back to ToC</a>"
   ]
  },
  {
   "cell_type": "markdown",
   "id": "cf3fd036",
   "metadata": {},
   "source": [
    "# Top 5 Most Liveable Suburbs <a name='RA3_top_5_liveable' />\n",
    "\n",
    "<a href=#TOC>Back to ToC</a>"
   ]
  },
  {
   "cell_type": "code",
   "execution_count": 41,
   "id": "4e9e96ca",
   "metadata": {},
   "outputs": [
    {
     "data": {
      "text/plain": [
       "True"
      ]
     },
     "execution_count": 41,
     "metadata": {},
     "output_type": "execute_result"
    }
   ],
   "source": [
    "webbrowser.open('plots/most_liveable_suburbs.html', new=0)"
   ]
  },
  {
   "cell_type": "markdown",
   "id": "9eaf7d19",
   "metadata": {},
   "source": [
    "* From the top 5 most liveable suburbs, 4 of them are located within the 7 kilometre radius relative to the CBD in Melbourne’s inner East. These suburbs are Toorak, Hawthorn East, Hawthorn and Armadale. A previous Domain study from Amelia Barnes further solidifies our findings as she concludes that suburbs in Melbourne’s inner East are ranked highly for liveability due to the abundance of retail and tree cover. The liveability of these suburbs also extend to walkability, access to public transport and high employment rates. \n",
    "* Furthermore, Southbank is the only suburb to be located 1 kilometre South of the CBD. Barnes argues that it shares similar traits to inner Eastern suburbs, including attributes such as walkability, high employment rate and close proximity to the heart of Melbourne, which consolidates itself as the 3rd most liveable suburb in Victoria.\n"
   ]
  },
  {
   "cell_type": "markdown",
   "id": "b47bb2d9",
   "metadata": {},
   "source": [
    "# Top 5 Most Affordable Suburbs <a name='RA3_top_5_afforable' />\n",
    "\n",
    "<a href=#TOC>Back to ToC</a>"
   ]
  },
  {
   "cell_type": "code",
   "execution_count": 42,
   "id": "ac4cd501",
   "metadata": {},
   "outputs": [
    {
     "data": {
      "text/plain": [
       "True"
      ]
     },
     "execution_count": 42,
     "metadata": {},
     "output_type": "execute_result"
    }
   ],
   "source": [
    "webbrowser.open('plots/most_liveable_affordable_suburbs.html', new=0)"
   ]
  },
  {
   "cell_type": "markdown",
   "id": "e5a1dc6e",
   "metadata": {},
   "source": [
    "* From the top 5 most affordable suburbs, 4 of them are located West of Melbourne’s CBD. Danielle Cahill from Real Estate suggests that the industrial past of Footscray, Sunshine and Deer Park is significantly correlated with affordable rental prices. Moreover, Corio is a regional suburb located 67 kilometres South-West from the CBD, and its distant location from the heart of Melbourne makes it an undesirable suburb for rent, therefore, contributing to its affordability.\n",
    "* It was expected that Southbank would have high rental prices due to its close proximity to the CBD. However, Rachel Wells from Domain underscores that Southbank experienced a 24.5% decrease in rental prices during the past 5 years, which suggests that Southbank has become one of the most affordable suburbs within the 5 kilometre suburban ring.\n"
   ]
  },
  {
   "cell_type": "markdown",
   "id": "f26684f8",
   "metadata": {},
   "source": [
    "# Business Recommendations <a name='business_recs' />\n",
    "\n",
    "<a href=#TOC>Back to ToC</a>"
   ]
  },
  {
   "cell_type": "markdown",
   "id": "d71569a8",
   "metadata": {},
   "source": [
    "### Based on future rent prices model <a name='business_recs_future_rent_price' />\n",
    "\n",
    "<a href=#TOC>Back to ToC</a>\n",
    "\n",
    "* Help with pricing decisions and price indices.\n",
    "\n",
    "    * From a business perspective, our model can accurately predict future rental prices by suburb, which pinpoints hyperlocal and regional patterns of increases or decreases in rental prices. This can enhance the consultant’s advisory capacity as they can offer future insight into rental prices, which can allow clients to acknowledge the most appropriate price ranges and make calculated financial decisions.\n",
    " \n",
    "\n",
    "\n",
    "* Anticipate demand for potential real estate projects in the future. Models such as ours can be useful for investors to determine if a project will be viable.\n",
    "\n",
    "    * Agents can recommend properties in these suburbs for buyers looking to purchase rental properties. \n",
    "    * Buyers looking to purchase rental properties can consider the suburbs with highest predicted increase in future rent to maximize return on investment and reduce investment risks \n",
    "\n",
    "\n",
    "\n",
    "\n",
    "\n",
    "* Explore regions to expand into, ie allocate more agents, market houses in these suburbs/regions heavily. \n",
    "\n",
    "    * Company can allocate more resources into regions which are bound to be highly profitable in the future \n",
    "\n",
    "\n",
    "* Such models can be incorporated into daily workflow of real estate estate companies as they can help:\n",
    "\n",
    "    * Create future business plans \n",
    "    * Can back up claims made in investor pitches \n",
    "    * Stay ahead of competitors. \n",
    "\n",
    "Explore regions to expand into, ie allocate more agents, market houses in these suburbs/regions heavily. \n",
    "Company can allocate more resources into regions which are bound to be highly profitable in the future \n",
    "\n"
   ]
  },
  {
   "cell_type": "markdown",
   "id": "b0eb75e3",
   "metadata": {},
   "source": [
    "### Based on livability and affordability rankings <a name='business_recs_rankings' />\n",
    "\n",
    "<a href=#TOC>Back to ToC</a>\n",
    "\n",
    "* Identified suburbs should be displayed higher in the ‘recommended’ list in website listings. \n",
    "    - Websites such as domain realestate.com can display rental properties from these suburbs higher up in the listings page. This will help improve click through rate and improve overall user experience. \n",
    "\n",
    "\n",
    "* Market rental properties in these suburbs heavily\n",
    "    - Real estate websites such as domain post articles recommending suburbs, specific properties. This analysis can help content writers. \n",
    "\n",
    "\n",
    "* Adjust weightage of attributes in the metric, based on customers requirements to make personalized recommendations. (Can potentially be a USP ?)\n",
    "    * Realtors can adjust the weightage of each attribute in scoring metrics according to needs of the individual client. Eg - Distance to school will be an important factor for families, distance to CBD will be more important to someone who works in the city, access to healthcare will be more important to older people etc. \n",
    "    * This can potentially be a USP for the real estate company "
   ]
  }
 ],
 "metadata": {
  "kernelspec": {
   "display_name": "Python 3 (ipykernel)",
   "language": "python",
   "name": "python3"
  },
  "language_info": {
   "codemirror_mode": {
    "name": "ipython",
    "version": 3
   },
   "file_extension": ".py",
   "mimetype": "text/x-python",
   "name": "python",
   "nbconvert_exporter": "python",
   "pygments_lexer": "ipython3",
   "version": "3.7.11"
  },
  "vscode": {
   "interpreter": {
    "hash": "916dbcbb3f70747c44a77c7bcd40155683ae19c65e1c03b4aa3499c5328201f1"
   }
  }
 },
 "nbformat": 4,
 "nbformat_minor": 5
}
