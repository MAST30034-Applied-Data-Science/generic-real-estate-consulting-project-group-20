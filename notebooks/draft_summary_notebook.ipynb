{
 "cells": [
  {
   "cell_type": "markdown",
   "id": "295266bb",
   "metadata": {},
   "source": [
    "# TABLE OF CONTENTS <a name='TOC' />\n",
    "\n",
    "1. <a href=#bookmark0>Mean_MedianRental_overlaid_with_Mean_Unemployment_per_year_per_region.png</a>\n",
    "2. <a href=#bookmark1>Mean_Unemployment_and_Mean_MedianRental_per_year_per_region_subplots.png</a>\n",
    "3. <a href=#bookmark2>Top_10_Highest_Population.png</a>\n",
    "4. <a href=#bookmark3>Top_10_Highest_Population_Density.png</a>\n",
    "5. <a href=#bookmark4>Top_10_Lowest_Population.png</a>\n",
    "6. <a href=#bookmark5>Top_10_Lowest_Population_Density.png</a>\n",
    "7. <a href=#bookmark6>Top_10_Schools_Suburb.png</a>\n",
    "8. <a href=#bookmark7>Top_10_Suburbs_highest_avg_increase_unemp_rate.png</a>\n",
    "9. <a href=#bookmark8>Top_10_suburbs_lowest_avg_increase_unemp_rate.png</a>\n",
    "10. <a href=#bookmark9>Weekly_Rent_Population_Density_Ring.png</a>\n",
    "11. <a href=#bookmark10>Weekly_Rent_Population_Ring.png</a>\n",
    "12. Some Geospatials"
   ]
  },
  {
   "cell_type": "markdown",
   "id": "43358209",
   "metadata": {},
   "source": [
    "# For Each Year and Region, Plot Mean of Median Rental Prices Overlaid with Mean of Unemployment Rates <a name='bookmark0' />\n",
    "\n",
    "<a href=#TOC>Back to ToC</a>"
   ]
  },
  {
   "cell_type": "code",
   "execution_count": 11,
   "id": "8ef085c6",
   "metadata": {},
   "outputs": [
    {
     "data": {
      "text/html": [
       "<img src=\"../plots/Mean_MedianRental_overlaid_with_Mean_Unemployment_per_year_per_region.png\" width=\"1000\" height=\"300\"/>"
      ],
      "text/plain": [
       "<IPython.core.display.Image object>"
      ]
     },
     "execution_count": 11,
     "metadata": {},
     "output_type": "execute_result"
    }
   ],
   "source": [
    "# import image module\n",
    "from IPython.display import Image\n",
    "  \n",
    "# get the image\n",
    "Image(url=\"../plots/Mean_MedianRental_overlaid_with_Mean_Unemployment_per_year_per_region.png\", width=1000, height=300)"
   ]
  },
  {
   "cell_type": "markdown",
   "id": "e6839c56",
   "metadata": {},
   "source": [
    "# For Each Year and Region, Plot 2 subplots of Mean of Median Rental Prices and Mean of Unemployment Rates <a name='bookmark1' />"
   ]
  },
  {
   "cell_type": "code",
   "execution_count": 12,
   "id": "2f7c6a98",
   "metadata": {},
   "outputs": [
    {
     "data": {
      "text/html": [
       "<img src=\"../plots/Mean_Unemployment_and_Mean_MedianRental_per_year_per_region_subplots.png\" width=\"1000\" height=\"300\"/>"
      ],
      "text/plain": [
       "<IPython.core.display.Image object>"
      ]
     },
     "execution_count": 12,
     "metadata": {},
     "output_type": "execute_result"
    }
   ],
   "source": [
    "Image(url=\"../plots/Mean_Unemployment_and_Mean_MedianRental_per_year_per_region_subplots.png\", width=1000, height=300)"
   ]
  },
  {
   "cell_type": "markdown",
   "id": "0f0b4b90",
   "metadata": {},
   "source": [
    "# Top 10 Highest Population <a name='bookmark2' />"
   ]
  },
  {
   "cell_type": "code",
   "execution_count": 14,
   "id": "e607d360",
   "metadata": {},
   "outputs": [
    {
     "data": {
      "text/html": [
       "<img src=\"../plots/Top_10_Highest_Population.png\" width=\"1000\" height=\"300\"/>"
      ],
      "text/plain": [
       "<IPython.core.display.Image object>"
      ]
     },
     "execution_count": 14,
     "metadata": {},
     "output_type": "execute_result"
    }
   ],
   "source": [
    "Image(url=\"../plots/Top_10_Highest_Population.png\", width=1000, height=300)"
   ]
  },
  {
   "cell_type": "markdown",
   "id": "300d9a5e",
   "metadata": {},
   "source": [
    "# Top_10_Highest_Population_Density.png <a name='bookmark3' />"
   ]
  },
  {
   "cell_type": "code",
   "execution_count": 15,
   "id": "3301d20d",
   "metadata": {},
   "outputs": [
    {
     "data": {
      "text/html": [
       "<img src=\"../plots/Top_10_Highest_Population_Density.png\" width=\"1000\" height=\"300\"/>"
      ],
      "text/plain": [
       "<IPython.core.display.Image object>"
      ]
     },
     "execution_count": 15,
     "metadata": {},
     "output_type": "execute_result"
    }
   ],
   "source": [
    "Image(url=\"../plots/Top_10_Highest_Population_Density.png\", width=1000, height=300)"
   ]
  },
  {
   "cell_type": "markdown",
   "id": "587b801d",
   "metadata": {},
   "source": [
    "# Top_10_Lowest_Population.png <a name='bookmark4' />"
   ]
  },
  {
   "cell_type": "code",
   "execution_count": 16,
   "id": "245245eb",
   "metadata": {},
   "outputs": [
    {
     "data": {
      "text/html": [
       "<img src=\"../plots/Top_10_Lowest_Population.png\" width=\"1000\" height=\"300\"/>"
      ],
      "text/plain": [
       "<IPython.core.display.Image object>"
      ]
     },
     "execution_count": 16,
     "metadata": {},
     "output_type": "execute_result"
    }
   ],
   "source": [
    "Image(url=\"../plots/Top_10_Lowest_Population.png\", width=1000, height=300)"
   ]
  },
  {
   "cell_type": "markdown",
   "id": "855c105b",
   "metadata": {},
   "source": [
    "# Top_10_Lowest_Population_Density.png <a name='bookmark5' />"
   ]
  },
  {
   "cell_type": "code",
   "execution_count": 18,
   "id": "3b52ea91",
   "metadata": {},
   "outputs": [
    {
     "data": {
      "text/html": [
       "<img src=\"../plots/Top_10_Lowest_Population_Density.png\" width=\"1000\" height=\"300\"/>"
      ],
      "text/plain": [
       "<IPython.core.display.Image object>"
      ]
     },
     "execution_count": 18,
     "metadata": {},
     "output_type": "execute_result"
    }
   ],
   "source": [
    "Image(url=\"../plots/Top_10_Lowest_Population_Density.png\", width=1000, height=300)"
   ]
  },
  {
   "cell_type": "markdown",
   "id": "046c86e5",
   "metadata": {},
   "source": [
    "# Top_10_Schools_Suburb.png <a name='bookmark6' />"
   ]
  },
  {
   "cell_type": "code",
   "execution_count": 20,
   "id": "c7fa2996",
   "metadata": {},
   "outputs": [
    {
     "data": {
      "text/html": [
       "<img src=\"../plots/Top_10_Schools_Suburb.png\" width=\"1000\" height=\"300\"/>"
      ],
      "text/plain": [
       "<IPython.core.display.Image object>"
      ]
     },
     "execution_count": 20,
     "metadata": {},
     "output_type": "execute_result"
    }
   ],
   "source": [
    "Image(url=\"../plots/Top_10_Schools_Suburb.png\", width=1000, height=300)"
   ]
  },
  {
   "cell_type": "markdown",
   "id": "491c6a29",
   "metadata": {},
   "source": [
    "# Top_10_Suburbs_highest_avg_increase_unemp_rate.png <a name='bookmark7' />"
   ]
  },
  {
   "cell_type": "code",
   "execution_count": 21,
   "id": "c20af447",
   "metadata": {},
   "outputs": [
    {
     "data": {
      "text/html": [
       "<img src=\"../plots/Top_10_Suburbs_highest_avg_increase_unemp_rate.png\" width=\"1000\" height=\"300\"/>"
      ],
      "text/plain": [
       "<IPython.core.display.Image object>"
      ]
     },
     "execution_count": 21,
     "metadata": {},
     "output_type": "execute_result"
    }
   ],
   "source": [
    "Image(url=\"../plots/Top_10_Suburbs_highest_avg_increase_unemp_rate.png\", width=1000, height=300)"
   ]
  },
  {
   "cell_type": "markdown",
   "id": "168d7324",
   "metadata": {},
   "source": [
    "# Top_10_suburbs_lowest_avg_increase_unemp_rate.png <a name='bookmark8' />"
   ]
  },
  {
   "cell_type": "code",
   "execution_count": 23,
   "id": "638b0be5",
   "metadata": {},
   "outputs": [
    {
     "data": {
      "text/html": [
       "<img src=\"../plots/Top_10_suburbs_lowest_avg_increase_unemp_rate.png\" width=\"1000\" height=\"300\"/>"
      ],
      "text/plain": [
       "<IPython.core.display.Image object>"
      ]
     },
     "execution_count": 23,
     "metadata": {},
     "output_type": "execute_result"
    }
   ],
   "source": [
    "Image(url=\"../plots/Top_10_suburbs_lowest_avg_increase_unemp_rate.png\", width=1000, height=300)"
   ]
  },
  {
   "cell_type": "markdown",
   "id": "9968a541",
   "metadata": {},
   "source": [
    "# Weekly_Rent_Population_Density_Ring.png <a name='bookmark9' />"
   ]
  },
  {
   "cell_type": "code",
   "execution_count": 24,
   "id": "6a35eb24",
   "metadata": {},
   "outputs": [
    {
     "data": {
      "text/html": [
       "<img src=\"../plots/Weekly_Rent_Population_Density_Ring.png\" width=\"1000\" height=\"300\"/>"
      ],
      "text/plain": [
       "<IPython.core.display.Image object>"
      ]
     },
     "execution_count": 24,
     "metadata": {},
     "output_type": "execute_result"
    }
   ],
   "source": [
    "Image(url=\"../plots/Weekly_Rent_Population_Density_Ring.png\", width=1000, height=300)"
   ]
  },
  {
   "cell_type": "markdown",
   "id": "b7b616e0",
   "metadata": {},
   "source": [
    "# Weekly_Rent_Population_Ring.png <a name='bookmark10' />"
   ]
  },
  {
   "cell_type": "code",
   "execution_count": 25,
   "id": "9050efc0",
   "metadata": {},
   "outputs": [
    {
     "data": {
      "text/html": [
       "<img src=\"../plots/Weekly_Rent_Population_Ring.png\" width=\"1000\" height=\"300\"/>"
      ],
      "text/plain": [
       "<IPython.core.display.Image object>"
      ]
     },
     "execution_count": 25,
     "metadata": {},
     "output_type": "execute_result"
    }
   ],
   "source": [
    "Image(url=\"../plots/Weekly_Rent_Population_Ring.png\", width=1000, height=300)"
   ]
  },
  {
   "cell_type": "markdown",
   "id": "f388738c",
   "metadata": {},
   "source": [
    "# Geospatials"
   ]
  },
  {
   "cell_type": "markdown",
   "id": "14539f6d",
   "metadata": {},
   "source": [
    "Ordinal hospital dist on log rental price"
   ]
  },
  {
   "cell_type": "code",
   "execution_count": 28,
   "id": "0f986110",
   "metadata": {},
   "outputs": [
    {
     "data": {
      "text/plain": [
       "True"
      ]
     },
     "execution_count": 28,
     "metadata": {},
     "output_type": "execute_result"
    }
   ],
   "source": [
    "folium_html = 'log_mean_rental_no_outlier_w_categ_hospital_dist.html'\n",
    "import webbrowser\n",
    "webbrowser.open(f'../plots/{folium_html}', new=2)"
   ]
  },
  {
   "cell_type": "markdown",
   "id": "a9a5fa6a",
   "metadata": {},
   "source": []
  },
  {
   "cell_type": "code",
   "execution_count": null,
   "id": "61f4894f",
   "metadata": {},
   "outputs": [],
   "source": [
    "folium_html = 'log_mean_rental_no_outlier_w_log_nearest_school.html'\n",
    "import webbrowser\n",
    "webbrowser.open(f'../plots/{folium_html}', new=2)"
   ]
  },
  {
   "cell_type": "code",
   "execution_count": null,
   "id": "e89d784b",
   "metadata": {},
   "outputs": [],
   "source": []
  },
  {
   "cell_type": "code",
   "execution_count": null,
   "id": "138c9d9b",
   "metadata": {},
   "outputs": [],
   "source": [
    "folium_html = 'log_mean_rental_no_outlier_w_categ_train_dist.html'\n",
    "import webbrowser\n",
    "webbrowser.open(f'../plots/{folium_html}', new=2)"
   ]
  }
 ],
 "metadata": {
  "kernelspec": {
   "display_name": "Python 3 (ipykernel)",
   "language": "python",
   "name": "python3"
  },
  "language_info": {
   "codemirror_mode": {
    "name": "ipython",
    "version": 3
   },
   "file_extension": ".py",
   "mimetype": "text/x-python",
   "name": "python",
   "nbconvert_exporter": "python",
   "pygments_lexer": "ipython3",
   "version": "3.8.10"
  }
 },
 "nbformat": 4,
 "nbformat_minor": 5
}
