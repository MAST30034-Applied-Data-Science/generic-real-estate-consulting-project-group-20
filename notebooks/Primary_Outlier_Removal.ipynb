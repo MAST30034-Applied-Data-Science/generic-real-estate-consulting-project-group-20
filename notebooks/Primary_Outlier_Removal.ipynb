{
 "cells": [
  {
   "cell_type": "code",
   "execution_count": 1,
   "metadata": {},
   "outputs": [],
   "source": [
    "import pandas as pd\n",
    "import re\n",
    "import numpy as np\n",
    "from ast import literal_eval\n",
    "import seaborn as sns\n",
    "from matplotlib import pyplot as plt\n",
    "import os"
   ]
  },
  {
   "cell_type": "code",
   "execution_count": 2,
   "metadata": {},
   "outputs": [
    {
     "data": {
      "text/html": [
       "<div>\n",
       "<style scoped>\n",
       "    .dataframe tbody tr th:only-of-type {\n",
       "        vertical-align: middle;\n",
       "    }\n",
       "\n",
       "    .dataframe tbody tr th {\n",
       "        vertical-align: top;\n",
       "    }\n",
       "\n",
       "    .dataframe thead th {\n",
       "        text-align: right;\n",
       "    }\n",
       "</style>\n",
       "<table border=\"1\" class=\"dataframe\">\n",
       "  <thead>\n",
       "    <tr style=\"text-align: right;\">\n",
       "      <th></th>\n",
       "      <th>coordinates</th>\n",
       "      <th>cost_text</th>\n",
       "      <th>postcode</th>\n",
       "      <th>suburb</th>\n",
       "      <th>bedrooms</th>\n",
       "      <th>bathrooms</th>\n",
       "      <th>parking_spaces</th>\n",
       "      <th>house_postcode</th>\n",
       "      <th>nearest_hospital</th>\n",
       "      <th>nearest_train_station</th>\n",
       "      <th>distance_to_cbd</th>\n",
       "      <th>nearest_school</th>\n",
       "    </tr>\n",
       "  </thead>\n",
       "  <tbody>\n",
       "    <tr>\n",
       "      <th>0</th>\n",
       "      <td>[-37.9032708, 145.0770553]</td>\n",
       "      <td>680.0</td>\n",
       "      <td>3166</td>\n",
       "      <td>hughesdale</td>\n",
       "      <td>3</td>\n",
       "      <td>2</td>\n",
       "      <td>2.0</td>\n",
       "      <td>3166</td>\n",
       "      <td>3.6709</td>\n",
       "      <td>1.3443</td>\n",
       "      <td>18.9780</td>\n",
       "      <td>0.3622</td>\n",
       "    </tr>\n",
       "    <tr>\n",
       "      <th>1</th>\n",
       "      <td>[-37.9077745, 145.092738]</td>\n",
       "      <td>650.0</td>\n",
       "      <td>3166</td>\n",
       "      <td>oakleigh</td>\n",
       "      <td>3</td>\n",
       "      <td>2</td>\n",
       "      <td>2.0</td>\n",
       "      <td>3166</td>\n",
       "      <td>4.4447</td>\n",
       "      <td>1.1150</td>\n",
       "      <td>19.0444</td>\n",
       "      <td>1.2317</td>\n",
       "    </tr>\n",
       "    <tr>\n",
       "      <th>2</th>\n",
       "      <td>[-37.8922004, 145.0899378]</td>\n",
       "      <td>500.0</td>\n",
       "      <td>3166</td>\n",
       "      <td>oakleigh</td>\n",
       "      <td>1</td>\n",
       "      <td>1</td>\n",
       "      <td>1.0</td>\n",
       "      <td>3166</td>\n",
       "      <td>5.7190</td>\n",
       "      <td>1.3874</td>\n",
       "      <td>17.1238</td>\n",
       "      <td>0.4685</td>\n",
       "    </tr>\n",
       "    <tr>\n",
       "      <th>3</th>\n",
       "      <td>[-37.8972564, 145.0871089]</td>\n",
       "      <td>570.0</td>\n",
       "      <td>3166</td>\n",
       "      <td>oakleigh</td>\n",
       "      <td>3</td>\n",
       "      <td>2</td>\n",
       "      <td>2.0</td>\n",
       "      <td>3166</td>\n",
       "      <td>5.0104</td>\n",
       "      <td>0.6788</td>\n",
       "      <td>17.3138</td>\n",
       "      <td>0.4079</td>\n",
       "    </tr>\n",
       "    <tr>\n",
       "      <th>4</th>\n",
       "      <td>[-37.894307, 145.082706]</td>\n",
       "      <td>475.0</td>\n",
       "      <td>3166</td>\n",
       "      <td>hughesdale</td>\n",
       "      <td>2</td>\n",
       "      <td>1</td>\n",
       "      <td>1.0</td>\n",
       "      <td>3166</td>\n",
       "      <td>5.1099</td>\n",
       "      <td>0.6205</td>\n",
       "      <td>17.5619</td>\n",
       "      <td>1.2980</td>\n",
       "    </tr>\n",
       "  </tbody>\n",
       "</table>\n",
       "</div>"
      ],
      "text/plain": [
       "                  coordinates  cost_text  postcode      suburb  bedrooms  \\\n",
       "0  [-37.9032708, 145.0770553]      680.0      3166  hughesdale         3   \n",
       "1   [-37.9077745, 145.092738]      650.0      3166    oakleigh         3   \n",
       "2  [-37.8922004, 145.0899378]      500.0      3166    oakleigh         1   \n",
       "3  [-37.8972564, 145.0871089]      570.0      3166    oakleigh         3   \n",
       "4    [-37.894307, 145.082706]      475.0      3166  hughesdale         2   \n",
       "\n",
       "   bathrooms  parking_spaces  house_postcode  nearest_hospital  \\\n",
       "0          2             2.0            3166            3.6709   \n",
       "1          2             2.0            3166            4.4447   \n",
       "2          1             1.0            3166            5.7190   \n",
       "3          2             2.0            3166            5.0104   \n",
       "4          1             1.0            3166            5.1099   \n",
       "\n",
       "   nearest_train_station  distance_to_cbd  nearest_school  \n",
       "0                 1.3443          18.9780          0.3622  \n",
       "1                 1.1150          19.0444          1.2317  \n",
       "2                 1.3874          17.1238          0.4685  \n",
       "3                 0.6788          17.3138          0.4079  \n",
       "4                 0.6205          17.5619          1.2980  "
      ]
     },
     "execution_count": 2,
     "metadata": {},
     "output_type": "execute_result"
    }
   ],
   "source": [
    "# set working dir\n",
    "os.chdir('/home/reihsuanc/generic-real-estate-consulting-project-group-20/data/raw')\n",
    "\n",
    "# read in data\n",
    "rental_df = pd.read_csv(\"Scraped_Primary_All_Features.csv\")\n",
    "\n",
    "# number of instances before outlier removal - 11853\n",
    "len(rental_df)\n",
    "\n",
    "# drop first two cols (redundant cols confirmed by kalyan)\n",
    "rental_df = rental_df.drop(['Unnamed: 0.1', 'Unnamed: 0'], axis=1)\n",
    "\n",
    "# check out data\n",
    "rental_df.head()"
   ]
  },
  {
   "cell_type": "code",
   "execution_count": 3,
   "metadata": {},
   "outputs": [],
   "source": [
    "# Ben's Graphing Functions\n",
    "\n",
    "# Create density plot \n",
    "def kde_plot(df, attribute, title, x_label, file_name):\n",
    "    sns.kdeplot(data=df, x=attribute)\n",
    "    plt.title(title)\n",
    "    plt.xlabel(x_label)\n",
    "    #plt.savefig(file_name + \".png\", transparent=True, facecolor=\"white\", bbox_inches=\"tight\")\n",
    "    plt.show()\n",
    "    plt.close()"
   ]
  },
  {
   "cell_type": "markdown",
   "metadata": {},
   "source": [
    "# Continuous Attributes"
   ]
  },
  {
   "cell_type": "markdown",
   "metadata": {},
   "source": [
    "### Weekly Rent"
   ]
  },
  {
   "cell_type": "markdown",
   "metadata": {},
   "source": [
    "* Very skewed data, massive outliers exist in the $80k+ range.\n",
    "* According to Domain.com and Realestate.com, the most expensive suburbs like Toorak and Brighton cap out at weekly rent of about $1100. (Oct. 2021)\n",
    "* However, one property in Toorak listed on Domain in 2018 for $3750 p/w in 2018. So to account for the most high-end properties and raising housing prices, the upper limit for weekly rent prices will be capped at $5k p/w\n",
    "\n",
    "Sources:\n",
    "* https://www.domain.com.au/news/rents-in-some-of-melbournes-most-expensive-suburbs-are-on-the-rise-1096795/\n",
    "* https://www.realestate.com.au/news/victorias-most-expensive-rental-suburbs/"
   ]
  },
  {
   "cell_type": "code",
   "execution_count": 4,
   "metadata": {},
   "outputs": [
    {
     "data": {
      "image/png": "[encoded data removed]",
      "text/plain": [
       "<Figure size 432x288 with 1 Axes>"
      ]
     },
     "metadata": {
      "needs_background": "light"
     },
     "output_type": "display_data"
    }
   ],
   "source": [
    "# check initial distribution\n",
    "kde_plot(rental_df, \"cost_text\", \"title\", \"weekly rental\", \"KDE\")"
   ]
  },
  {
   "cell_type": "code",
   "execution_count": 5,
   "metadata": {},
   "outputs": [
    {
     "name": "stdout",
     "output_type": "stream",
     "text": [
      "125\n"
     ]
    },
    {
     "data": {
      "text/plain": [
       "11728"
      ]
     },
     "execution_count": 5,
     "metadata": {},
     "output_type": "execute_result"
    }
   ],
   "source": [
    "# check number of instances that are above 1500\n",
    "print(rental_df[rental_df['cost_text'] > 1500].shape[0])\n",
    "\n",
    "# remove all rent cost below 0 and greater than 1500\n",
    "rental_df = rental_df[rental_df['cost_text'].between(0, 1500)]\n",
    "\n",
    "# num instances remaining - 11847\n",
    "len(rental_df)"
   ]
  },
  {
   "cell_type": "code",
   "execution_count": 6,
   "metadata": {},
   "outputs": [
    {
     "data": {
      "image/png": "[encoded data removed]",
      "text/plain": [
       "<Figure size 432x288 with 1 Axes>"
      ]
     },
     "metadata": {
      "needs_background": "light"
     },
     "output_type": "display_data"
    }
   ],
   "source": [
    "# check distribution again\n",
    "kde_plot(rental_df, \"cost_text\", \"title\", \"weekly rental\", \"KDE\")"
   ]
  },
  {
   "cell_type": "markdown",
   "metadata": {},
   "source": [
    "### Distance to CBD"
   ]
  },
  {
   "cell_type": "markdown",
   "metadata": {},
   "source": [
    "* Drive routes calculated by Google Maps was used to estimate the maximum distances\n",
    "* The longest trip feasible begins at the very North-Western edge of Victoria, **Meringur**, and stretches all the way back to the coordinates of the cbd used for distance api calculation (which is interpreted by Google Maps as Elizabeth Street).\n",
    "* The length of this trip comes out to **647kms**\n",
    "* Maximum distance in dataset was about **695kms**\n",
    "* Since the OSM api assumes the most optimal routes, the discrepency of 48kms between those figures are too great. 10kms is added to account for extreme cases, and therefore, the upper limit for the distance to CBD is deemed to be **657kms**"
   ]
  },
  {
   "cell_type": "code",
   "execution_count": 7,
   "metadata": {},
   "outputs": [
    {
     "data": {
      "image/png": "[encoded data removed]",
      "text/plain": [
       "<Figure size 432x288 with 1 Axes>"
      ]
     },
     "metadata": {
      "needs_background": "light"
     },
     "output_type": "display_data"
    },
    {
     "data": {
      "text/plain": [
       "694.5116999999999"
      ]
     },
     "execution_count": 7,
     "metadata": {},
     "output_type": "execute_result"
    }
   ],
   "source": [
    "# check initial distribution\n",
    "kde_plot(rental_df, \"distance_to_cbd\", \"title\", \"dist to cbd\", \"KDE\")\n",
    "\n",
    "# max value - 694.5kms\n",
    "rental_df[\"distance_to_cbd\"].max()"
   ]
  },
  {
   "cell_type": "code",
   "execution_count": 8,
   "metadata": {},
   "outputs": [
    {
     "data": {
      "text/plain": [
       "11727"
      ]
     },
     "execution_count": 8,
     "metadata": {},
     "output_type": "execute_result"
    }
   ],
   "source": [
    "# remove all distance below 0 and greater than 657\n",
    "rental_df = rental_df[rental_df['distance_to_cbd'].between(0, 657)]\n",
    "\n",
    "# num instances remaining 11727\n",
    "len(rental_df)"
   ]
  },
  {
   "cell_type": "markdown",
   "metadata": {},
   "source": [
    "### Nearest Schools, Hospitals and Train Stations"
   ]
  },
  {
   "cell_type": "markdown",
   "metadata": {},
   "source": [
    "* **NOTE** without the assistance of some geospatial analysis, it is hard to justify the upper limits of what is considered an outlier. So for now they will be temporarirly chosen by \"common sense\". E.g. Distances greater than 200kms"
   ]
  },
  {
   "cell_type": "code",
   "execution_count": 9,
   "metadata": {},
   "outputs": [
    {
     "data": {
      "image/png": "[encoded data removed]",
      "text/plain": [
       "<Figure size 432x288 with 1 Axes>"
      ]
     },
     "metadata": {
      "needs_background": "light"
     },
     "output_type": "display_data"
    },
    {
     "data": {
      "text/plain": [
       "34.234300000000005"
      ]
     },
     "execution_count": 9,
     "metadata": {},
     "output_type": "execute_result"
    }
   ],
   "source": [
    "# initial distribution\n",
    "kde_plot(rental_df, \"nearest_train_station\", \"title\", \"dist to nearest sch\", \"KDE\")\n",
    "\n",
    "# max dist - 34.2kms\n",
    "rental_df[\"nearest_school\"].max()"
   ]
  },
  {
   "cell_type": "code",
   "execution_count": 10,
   "metadata": {},
   "outputs": [
    {
     "name": "stdout",
     "output_type": "stream",
     "text": [
      "3.78965\n",
      "-1.8205\n"
     ]
    },
    {
     "data": {
      "image/png": "[encoded data removed]",
      "text/plain": [
       "<Figure size 432x288 with 1 Axes>"
      ]
     },
     "metadata": {
      "needs_background": "light"
     },
     "output_type": "display_data"
    }
   ],
   "source": [
    "rental_df.boxplot(column =['nearest_school'], grid = False)\n",
    "rental_df.boxplot(column =['nearest_hospital'], grid = False)\n",
    "# rental_df.boxplot(column =['nearest_train_station'], grid = False)\n",
    "\n",
    "Q1,Q3 = np.percentile(rental_df[\"nearest_school\"] , [25,75])\n",
    "IQR = Q3 - Q1\n",
    "ul = Q3+3*IQR\n",
    "ll = Q1-3*IQR\n",
    "print(ul)\n",
    "print(ll)"
   ]
  },
  {
   "cell_type": "code",
   "execution_count": 11,
   "metadata": {},
   "outputs": [
    {
     "data": {
      "text/plain": [
       "11409"
      ]
     },
     "execution_count": 11,
     "metadata": {},
     "output_type": "execute_result"
    }
   ],
   "source": [
    "# temp range: any distances less than 0 and more than 200kms are considered an outlier\n",
    "rental_df = rental_df[rental_df['nearest_school'].between(0, 20)]\n",
    "rental_df = rental_df[rental_df['nearest_hospital'].between(0, 70)]\n",
    "rental_df = rental_df[rental_df['nearest_train_station'].between(0, 110)]\n",
    "\n",
    "# num instances - 11409\n",
    "len(rental_df)"
   ]
  },
  {
   "cell_type": "markdown",
   "metadata": {},
   "source": [
    "# Categorial Attributes"
   ]
  },
  {
   "cell_type": "markdown",
   "metadata": {},
   "source": [
    "### Bedrooms, Bathrooms and Parking Spaces"
   ]
  },
  {
   "cell_type": "markdown",
   "metadata": {},
   "source": [
    "* Bedrooms, bathrooms and parking spaces range from 0 and to 9, 8, 9 respectively\n",
    "* Although rare, it is not inplausible to have that many rooms in mansions\n",
    "* So no changes will be made"
   ]
  },
  {
   "cell_type": "code",
   "execution_count": 12,
   "metadata": {},
   "outputs": [
    {
     "name": "stdout",
     "output_type": "stream",
     "text": [
      "[0, 1, 2, 3, 4, 5, 6, 7, 8, 9]\n",
      "[0, 1, 2, 3, 4, 5, 8]\n",
      "[0.0, 1.0, 2.0, 3.0, 4.0, 5.0, 6.0, 7.0, 8.0, 9.0]\n",
      "1    6133\n",
      "2    4762\n",
      "3     453\n",
      "4      30\n",
      "0      22\n",
      "5       7\n",
      "8       2\n",
      "Name: bathrooms, dtype: int64\n",
      "3    4075\n",
      "2    3903\n",
      "4    2084\n",
      "1    1055\n",
      "5     189\n",
      "0      54\n",
      "6      31\n",
      "8       3\n",
      "9       3\n",
      "7       3\n",
      "Name: bedrooms, dtype: int64\n",
      "1.0    6214\n",
      "2.0    4370\n",
      "3.0     425\n",
      "4.0     285\n",
      "6.0      42\n",
      "5.0      35\n",
      "8.0       7\n",
      "0.0       5\n",
      "9.0       4\n",
      "7.0       4\n",
      "Name: parking_spaces, dtype: int64\n"
     ]
    }
   ],
   "source": [
    "# Examine initial categories (snippet of Ben's code)\n",
    "print(sorted(rental_df[\"bedrooms\"].unique()))\n",
    "print(sorted(rental_df[\"bathrooms\"].unique()))\n",
    "print(sorted(rental_df[\"parking_spaces\"].unique()))\n",
    "\n",
    "# REMOVE ALL CATEGORIES WITH LESS THAN 10 INSTANCES\n",
    "# there are less than 10 instances each for houses with 5 and 8 bathrooms\n",
    "print(rental_df[\"bathrooms\"].value_counts())\n",
    "val_bath = [5, 8]\n",
    "rental_df = rental_df[rental_df.bathrooms.isin(val_bath) == False]\n",
    "\n",
    "# there are less than 10 instances each for houses with 7, 8 and 9 bedrooms\n",
    "print(rental_df[\"bedrooms\"].value_counts())\n",
    "val_bed = [7, 8, 9]\n",
    "rental_df = rental_df[rental_df.bedrooms.isin(val_bed) == False]\n",
    "\n",
    "# there are less than 10 instances each for houses with 0, 7, 8 and 9 parking spaces\n",
    "print(rental_df[\"parking_spaces\"].value_counts())\n",
    "val_park = [0, 7, 8, 9]\n",
    "rental_df = rental_df[rental_df.parking_spaces.isin(val_park) == False]\n"
   ]
  },
  {
   "cell_type": "markdown",
   "metadata": {},
   "source": [
    "### Postcodes"
   ]
  },
  {
   "cell_type": "markdown",
   "metadata": {},
   "source": [
    "* Postcodes in Victoria range from **3000** to **3996**\n",
    "\n",
    "Source:\n",
    "https://www.worldpostalcodes.org/l1/en/au/australia/list/r1/list-of-postcodes-in-victoria\n"
   ]
  },
  {
   "cell_type": "code",
   "execution_count": 13,
   "metadata": {},
   "outputs": [
    {
     "name": "stdout",
     "output_type": "stream",
     "text": [
      "3000\n",
      "3996\n"
     ]
    },
    {
     "data": {
      "image/png": "[encoded data removed]",
      "text/plain": [
       "<Figure size 432x288 with 1 Axes>"
      ]
     },
     "metadata": {
      "needs_background": "light"
     },
     "output_type": "display_data"
    }
   ],
   "source": [
    "print(rental_df[\"postcode\"].min())\n",
    "print(rental_df[\"postcode\"].max())\n",
    "kde_plot(rental_df, \"postcode\", \"title\", \"postcodes\", \"KDE\")"
   ]
  },
  {
   "cell_type": "code",
   "execution_count": 14,
   "metadata": {},
   "outputs": [],
   "source": [
    "# check final num instance - 11560\n",
    "len(rental_df)\n",
    "\n",
    "# check final dataframe\n",
    "rental_df.head()\n",
    "\n",
    "# write into csv\n",
    "rental_df.to_csv('Final_Preprocessed_Scraped_Rental.csv')"
   ]
  }
 ],
 "metadata": {
  "kernelspec": {
   "display_name": "Python 3.8.10 64-bit",
   "language": "python",
   "name": "python3"
  },
  "language_info": {
   "codemirror_mode": {
    "name": "ipython",
    "version": 3
   },
   "file_extension": ".py",
   "mimetype": "text/x-python",
   "name": "python",
   "nbconvert_exporter": "python",
   "pygments_lexer": "ipython3",
   "version": "3.8.10"
  },
  "orig_nbformat": 4,
  "vscode": {
   "interpreter": {
    "hash": "916dbcbb3f70747c44a77c7bcd40155683ae19c65e1c03b4aa3499c5328201f1"
   }
  }
 },
 "nbformat": 4,
 "nbformat_minor": 2
}
