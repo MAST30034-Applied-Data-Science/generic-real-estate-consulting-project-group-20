{
 "cells": [
  {
   "cell_type": "markdown",
   "metadata": {},
   "source": [
    "Preprocessing Data: School Locations"
   ]
  },
  {
   "cell_type": "code",
   "execution_count": 27,
   "metadata": {},
   "outputs": [
    {
     "name": "stdout",
     "output_type": "stream",
     "text": [
      "2291\n"
     ]
    }
   ],
   "source": [
    "import pandas as pd\n",
    "import matplotlib as plt\n",
    "import os\n",
    "\n",
    "# set active working directory and read in data\n",
    "os.chdir('/home/reihsuanc/generic-real-estate-consulting-project-group-20/data/raw')\n",
    "\n",
    "school_data = pd.read_csv('dv309_schoollocations2021.csv', encoding = \"ISO-8859-1\")\n",
    "\n",
    "# remove redundant columns\n",
    "school_data = school_data.drop(['Education_Sector', 'Entity_Type', 'School_Status', 'Address_Line_2', 'Postal_Address_Line_2',\n",
    "                                'Postal_Address_Line_1', 'Full_Phone_No', 'Postal_Town', 'Address_State', 'Postal_State', \n",
    "                                'Postal_Postcode'], axis=1)\n",
    "\n",
    "# obtain total number of schools in Victoria\n",
    "tot_school_num = len(school_data)\n",
    "# print(tot_school_num)\n",
    "\n",
    "\n",
    "school_data.head()\n",
    "\n"
   ]
  },
  {
   "cell_type": "code",
   "execution_count": null,
   "metadata": {},
   "outputs": [],
   "source": []
  }
 ],
 "metadata": {
  "kernelspec": {
   "display_name": "Python 3.8.10 64-bit",
   "language": "python",
   "name": "python3"
  },
  "language_info": {
   "codemirror_mode": {
    "name": "ipython",
    "version": 3
   },
   "file_extension": ".py",
   "mimetype": "text/x-python",
   "name": "python",
   "nbconvert_exporter": "python",
   "pygments_lexer": "ipython3",
   "version": "3.8.10"
  },
  "orig_nbformat": 4,
  "vscode": {
   "interpreter": {
    "hash": "916dbcbb3f70747c44a77c7bcd40155683ae19c65e1c03b4aa3499c5328201f1"
   }
  }
 },
 "nbformat": 4,
 "nbformat_minor": 2
}
