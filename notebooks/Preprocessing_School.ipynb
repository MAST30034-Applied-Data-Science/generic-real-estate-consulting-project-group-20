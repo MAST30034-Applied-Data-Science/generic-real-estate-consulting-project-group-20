{
 "cells": [
  {
   "cell_type": "markdown",
   "metadata": {},
   "source": [
    "Preprocessing Data: School Locations"
   ]
  },
  {
   "cell_type": "code",
   "execution_count": 1,
   "metadata": {},
   "outputs": [
    {
     "data": {
      "text/html": [
       "<div>\n",
       "<style scoped>\n",
       "    .dataframe tbody tr th:only-of-type {\n",
       "        vertical-align: middle;\n",
       "    }\n",
       "\n",
       "    .dataframe tbody tr th {\n",
       "        vertical-align: top;\n",
       "    }\n",
       "\n",
       "    .dataframe thead th {\n",
       "        text-align: right;\n",
       "    }\n",
       "</style>\n",
       "<table border=\"1\" class=\"dataframe\">\n",
       "  <thead>\n",
       "    <tr style=\"text-align: right;\">\n",
       "      <th></th>\n",
       "      <th>School_Name</th>\n",
       "      <th>Address_Line_1</th>\n",
       "      <th>Address_Town</th>\n",
       "      <th>Address_Postcode</th>\n",
       "      <th>LGA_ID</th>\n",
       "      <th>LGA_Name</th>\n",
       "      <th>X</th>\n",
       "      <th>Y</th>\n",
       "    </tr>\n",
       "  </thead>\n",
       "  <tbody>\n",
       "    <tr>\n",
       "      <th>2286</th>\n",
       "      <td>Youth2Industry College</td>\n",
       "      <td>Level 2, 220 Albert Road</td>\n",
       "      <td>SOUTH MELBOURNE</td>\n",
       "      <td>3205</td>\n",
       "      <td>590</td>\n",
       "      <td>Port Phillip (C)</td>\n",
       "      <td>144.966417</td>\n",
       "      <td>-37.837469</td>\n",
       "    </tr>\n",
       "    <tr>\n",
       "      <th>2287</th>\n",
       "      <td>St Angela of the Cross Primary School</td>\n",
       "      <td>181 Mills Road</td>\n",
       "      <td>WARRAGUL</td>\n",
       "      <td>3820</td>\n",
       "      <td>83</td>\n",
       "      <td>Baw Baw (S)</td>\n",
       "      <td>145.961611</td>\n",
       "      <td>-38.141528</td>\n",
       "    </tr>\n",
       "    <tr>\n",
       "      <th>2288</th>\n",
       "      <td>My College</td>\n",
       "      <td>92  96 Railway Crescent</td>\n",
       "      <td>DALLAS</td>\n",
       "      <td>3047</td>\n",
       "      <td>327</td>\n",
       "      <td>Hume (C)</td>\n",
       "      <td>144.923692</td>\n",
       "      <td>-37.675751</td>\n",
       "    </tr>\n",
       "    <tr>\n",
       "      <th>2289</th>\n",
       "      <td>Woodline Primary</td>\n",
       "      <td>405 Barrabool Road</td>\n",
       "      <td>CERES</td>\n",
       "      <td>3221</td>\n",
       "      <td>275</td>\n",
       "      <td>Greater Geelong (C)</td>\n",
       "      <td>144.285354</td>\n",
       "      <td>-38.171776</td>\n",
       "    </tr>\n",
       "    <tr>\n",
       "      <th>2290</th>\n",
       "      <td>Brosnan Learning Centre</td>\n",
       "      <td>326 Church Street</td>\n",
       "      <td>RICHMOND</td>\n",
       "      <td>3121</td>\n",
       "      <td>735</td>\n",
       "      <td>Yarra (C)</td>\n",
       "      <td>144.998477</td>\n",
       "      <td>-37.821915</td>\n",
       "    </tr>\n",
       "  </tbody>\n",
       "</table>\n",
       "</div>"
      ],
      "text/plain": [
       "                                School_Name            Address_Line_1  \\\n",
       "2286                 Youth2Industry College  Level 2, 220 Albert Road   \n",
       "2287  St Angela of the Cross Primary School            181 Mills Road   \n",
       "2288                             My College  92  96 Railway Crescent   \n",
       "2289                       Woodline Primary        405 Barrabool Road   \n",
       "2290                Brosnan Learning Centre         326 Church Street   \n",
       "\n",
       "         Address_Town  Address_Postcode  LGA_ID             LGA_Name  \\\n",
       "2286  SOUTH MELBOURNE              3205     590     Port Phillip (C)   \n",
       "2287         WARRAGUL              3820      83          Baw Baw (S)   \n",
       "2288           DALLAS              3047     327             Hume (C)   \n",
       "2289            CERES              3221     275  Greater Geelong (C)   \n",
       "2290         RICHMOND              3121     735            Yarra (C)   \n",
       "\n",
       "               X          Y  \n",
       "2286  144.966417 -37.837469  \n",
       "2287  145.961611 -38.141528  \n",
       "2288  144.923692 -37.675751  \n",
       "2289  144.285354 -38.171776  \n",
       "2290  144.998477 -37.821915  "
      ]
     },
     "execution_count": 1,
     "metadata": {},
     "output_type": "execute_result"
    }
   ],
   "source": [
    "import pandas as pd\n",
    "import matplotlib as plt\n",
    "import os\n",
    "\n",
    "# set active working directory and read in data\n",
    "os.chdir('/home/reihsuanc/generic-real-estate-consulting-project-group-20/data/raw')\n",
    "\n",
    "school_df = pd.read_csv('dv309_schoollocations2021.csv', encoding = \"ISO-8859-1\")\n",
    "\n",
    "# remove redundant columns\n",
    "school_df = school_df.drop(['Education_Sector', 'Entity_Type', 'School_Status', 'Address_Line_2', 'Postal_Address_Line_2',\n",
    "                                'Postal_Address_Line_1', 'Full_Phone_No', 'Postal_Town', 'Address_State', 'Postal_State', \n",
    "                                'Postal_Postcode', 'School_Type', 'SCHOOL_NO'], axis=1)\n",
    "\n",
    "# obtain total number of schools in Victoria\n",
    "tot_school_num = len(school_df)\n",
    "\n",
    "school_df.to_csv('cleaned_school')\n",
    "\n",
    "# check format\n",
    "school_df.head()\n"
   ]
  },
  {
   "cell_type": "code",
   "execution_count": 2,
   "metadata": {},
   "outputs": [
    {
     "data": {
      "text/plain": [
       "Address_Town\n",
       "ABBOTSFORD      1\n",
       "ABERFELDIE      2\n",
       "AIRPORT WEST    1\n",
       "ALBION          1\n",
       "ALEXANDRA       1\n",
       "               ..\n",
       "Yea             2\n",
       "Yering          1\n",
       "Yinnar          1\n",
       "Yinnar South    1\n",
       "Zeerust         1\n",
       "Name: School_Name, Length: 1320, dtype: int64"
      ]
     },
     "execution_count": 2,
     "metadata": {},
     "output_type": "execute_result"
    }
   ],
   "source": [
    "# number of schools by suburb\n",
    "school_df.groupby('Address_Town')['School_Name'].count()"
   ]
  }
 ],
 "metadata": {
  "kernelspec": {
   "display_name": "Python 3.8.10 64-bit",
   "language": "python",
   "name": "python3"
  },
  "language_info": {
   "codemirror_mode": {
    "name": "ipython",
    "version": 3
   },
   "file_extension": ".py",
   "mimetype": "text/x-python",
   "name": "python",
   "nbconvert_exporter": "python",
   "pygments_lexer": "ipython3",
   "version": "3.8.10"
  },
  "orig_nbformat": 4,
  "vscode": {
   "interpreter": {
    "hash": "916dbcbb3f70747c44a77c7bcd40155683ae19c65e1c03b4aa3499c5328201f1"
   }
  }
 },
 "nbformat": 4,
 "nbformat_minor": 2
}
