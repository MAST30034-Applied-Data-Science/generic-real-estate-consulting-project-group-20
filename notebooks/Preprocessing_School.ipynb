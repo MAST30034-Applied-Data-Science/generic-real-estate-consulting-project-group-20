{
 "cells": [
  {
   "cell_type": "markdown",
   "metadata": {},
   "source": [
    "Preprocessing Data: School Locations"
   ]
  },
  {
   "cell_type": "code",
   "execution_count": 1,
   "metadata": {},
   "outputs": [],
   "source": [
    "import pandas as pd\n",
    "import matplotlib as plt\n",
    "import os\n",
    "\n",
    "# set active working directory and read in data\n",
    "os.chdir('/home/reihsuanc/generic-real-estate-consulting-project-group-20/data/raw')\n",
    "\n",
    "school_df = pd.read_csv('dv309_schoollocations2021.csv', encoding = \"ISO-8859-1\")\n",
    "\n",
    "# remove redundant columns\n",
    "school_df = school_df.drop(['Education_Sector', 'Entity_Type', 'School_Status', 'Address_Line_2', 'Postal_Address_Line_2',\n",
    "                                'Postal_Address_Line_1', 'Full_Phone_No', 'Postal_Town', 'Address_State', 'Postal_State', \n",
    "                                'Postal_Postcode', 'School_Type', 'SCHOOL_NO'], axis=1)\n",
    "\n",
    "# obtain total number of schools in Victoria\n",
    "tot_school_num = len(school_df)\n",
    "\n",
    "school_df.to_csv('cleaned_school')\n",
    "\n",
    "# check format\n",
    "school_df.tail()\n"
   ]
  },
  {
   "cell_type": "code",
   "execution_count": 3,
   "metadata": {},
   "outputs": [
    {
     "data": {
      "text/plain": [
       "Address_Town\n",
       "ABBOTSFORD      1\n",
       "ABERFELDIE      2\n",
       "AIRPORT WEST    1\n",
       "ALBION          1\n",
       "ALEXANDRA       1\n",
       "               ..\n",
       "Yea             2\n",
       "Yering          1\n",
       "Yinnar          1\n",
       "Yinnar South    1\n",
       "Zeerust         1\n",
       "Name: School_Name, Length: 1320, dtype: int64"
      ]
     },
     "execution_count": 3,
     "metadata": {},
     "output_type": "execute_result"
    }
   ],
   "source": [
    "# number of schools by suburb\n",
    "school_df.groupby('Address_Town')['School_Name'].count()"
   ]
  }
 ],
 "metadata": {
  "kernelspec": {
   "display_name": "Python 3.8.10 64-bit",
   "language": "python",
   "name": "python3"
  },
  "language_info": {
   "codemirror_mode": {
    "name": "ipython",
    "version": 3
   },
   "file_extension": ".py",
   "mimetype": "text/x-python",
   "name": "python",
   "nbconvert_exporter": "python",
   "pygments_lexer": "ipython3",
   "version": "3.8.10"
  },
  "orig_nbformat": 4,
  "vscode": {
   "interpreter": {
    "hash": "916dbcbb3f70747c44a77c7bcd40155683ae19c65e1c03b4aa3499c5328201f1"
   }
  }
 },
 "nbformat": 4,
 "nbformat_minor": 2
}
