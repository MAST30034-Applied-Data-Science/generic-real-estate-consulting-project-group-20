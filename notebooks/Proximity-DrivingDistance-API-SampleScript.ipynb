{
 "cells": [
  {
   "cell_type": "code",
   "execution_count": 1,
   "id": "b7fa4fdc",
   "metadata": {},
   "outputs": [],
   "source": [
    "import requests\n",
    "import json"
   ]
  },
  {
   "cell_type": "code",
   "execution_count": 2,
   "id": "d19b44a4",
   "metadata": {},
   "outputs": [],
   "source": [
    "# OSRM API \n",
    "\n",
    "#caluclatign distance and duration between car trips between two points \n",
    "# we can use this to calulate proximity to schools, train stations CBD etc. \n",
    "\n",
    "kalyan_location = [-37.79349869433087, 144.89659224391596] \n",
    "peter_hall = [-37.79805470426386, 144.9638680880933]\n",
    "\n",
    "def calculate_proximity(point1, point2): \n",
    "    journey = requests.get(f\"http://router.project-osrm.org/route/v1/car/{point1[1]},{point1[0]};{point2[1]},{point2[0]}?overview=false\"\"\")\n",
    "    \n",
    "    distance_meters = json.loads(journey.content)['routes'][0]['legs'][0]['distance']\n",
    "    duration_seconds = json.loads(journey.content)['routes'][0]['legs'][0]['duration']\n",
    "    \n",
    "    return distance_meters, duration_seconds "
   ]
  },
  {
   "cell_type": "code",
   "execution_count": 3,
   "id": "a6362c93",
   "metadata": {},
   "outputs": [
    {
     "name": "stdout",
     "output_type": "stream",
     "text": [
      "The proximity between Vic Uni and Peter Hall is 7715.2 meters and lasts 644.8 seconds\n"
     ]
    }
   ],
   "source": [
    "footscray_peterhall = calculate_proximity(kalyan_location, peter_hall)\n",
    "\n",
    "print(f\"The proximity between Vic Uni and Peter Hall is {footscray_peterhall[0]} meters and lasts {footscray_peterhall[1]} seconds\")"
   ]
  }
 ],
 "metadata": {
  "kernelspec": {
   "display_name": "Python 3 (ipykernel)",
   "language": "python",
   "name": "python3"
  },
  "language_info": {
   "codemirror_mode": {
    "name": "ipython",
    "version": 3
   },
   "file_extension": ".py",
   "mimetype": "text/x-python",
   "name": "python",
   "nbconvert_exporter": "python",
   "pygments_lexer": "ipython3",
   "version": "3.7.11"
  }
 },
 "nbformat": 4,
 "nbformat_minor": 5
}
