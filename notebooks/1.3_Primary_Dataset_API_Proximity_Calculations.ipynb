{
 "cells": [
  {
   "cell_type": "code",
   "execution_count": null,
   "id": "917a80ca",
   "metadata": {},
   "outputs": [],
   "source": [
    "import pandas as pd \n",
    "import numpy as np \n",
    "import json \n",
    "import requests \n",
    "from ast import literal_eval\n",
    "import time \n",
    "import re "
   ]
  },
  {
   "cell_type": "code",
   "execution_count": null,
   "id": "9c67aea5",
   "metadata": {},
   "outputs": [],
   "source": [
    "rental_df = pd.read_csv(\"../data/curated/Feature_Engineered_Scraped_Dataset.csv\")\n",
    "rental_df = rental_df.drop('Unnamed: 0', axis = 1)\n",
    "\n",
    "rental_df.loc[:,'house_postcode'] = rental_df['postcode']\n",
    "\n",
    "rental_df = rental_df.dropna(axis=0, how =\"any\").reset_index(drop = True)\n",
    "\n",
    "sample_rental_df = rental_df.iloc[0:12100].reset_index(drop = True)"
   ]
  },
  {
   "cell_type": "markdown",
   "id": "b8a3d45b",
   "metadata": {},
   "source": [
    "## Calculating distance from the house to CBD"
   ]
  },
  {
   "cell_type": "markdown",
   "id": "3d9ee71c",
   "metadata": {},
   "source": [
    "####  This function calculates the distance (in km) between any latitude and longitude to Melbourne CBD "
   ]
  },
  {
   "cell_type": "code",
   "execution_count": null,
   "id": "6408c3e4",
   "metadata": {},
   "outputs": [],
   "source": [
    "def cbd_distance(house_coords):\n",
    "    \n",
    "    # cbd coordinates \n",
    "    melb_cbd = [-37.815207, 144.963937]\n",
    "    \n",
    "    journey = requests.get(f\"http://router.project-osrm.org/route/v1/car/{house_coords[1]},{house_coords[0]};{melb_cbd[1]},{melb_cbd[0]}?overview=false\"\"\")\n",
    "    \n",
    "    # extract distance from trip information nested dictionary \n",
    "    distance_meters = json.loads(journey.content)['routes'][0]['legs'][0]['distance']\n",
    "    \n",
    "    return distance_meters / 1000"
   ]
  },
  {
   "cell_type": "markdown",
   "id": "2110d8b5",
   "metadata": {},
   "source": [
    "####  This function loops throught dataframe and returns a list of distances for the houses "
   ]
  },
  {
   "cell_type": "code",
   "execution_count": null,
   "id": "ea46bc57",
   "metadata": {},
   "outputs": [],
   "source": [
    "def calculate_cbd_distance(dataframe):\n",
    "\n",
    "    CBD_distances = []\n",
    "    for i in dataframe['coordinates']:\n",
    "\n",
    "        try:\n",
    "            CBD_distances.append(cbd_distance(literal_eval(i)))\n",
    "        except:\n",
    "            CBD_distances.append(np.nan)    \n",
    "            continue \n",
    "            \n",
    "    return CBD_distances "
   ]
  },
  {
   "cell_type": "markdown",
   "id": "1099ded1",
   "metadata": {},
   "source": [
    "#### Creating new feature called 'CBD_Distance' "
   ]
  },
  {
   "cell_type": "code",
   "execution_count": null,
   "id": "a03aa3b1",
   "metadata": {},
   "outputs": [],
   "source": [
    "cbd_distances = calculate_cbd_distance(sample_rental_df)"
   ]
  },
  {
   "cell_type": "code",
   "execution_count": null,
   "id": "70b973ed",
   "metadata": {},
   "outputs": [],
   "source": [
    "sample_rental_df.loc[:,'CBD_Distance'] = cbd_distances\n",
    "sample_rental_df.to_csv('../data/raw/tmp_with_cbd_dist.csv') \n",
    "sample_rental_df.head(5)"
   ]
  },
  {
   "cell_type": "markdown",
   "id": "1c0c29ed",
   "metadata": {},
   "source": [
    "## Calculating distance from the house to the nearest school from the house"
   ]
  },
  {
   "cell_type": "markdown",
   "id": "99d251d6",
   "metadata": {},
   "source": [
    "#### Cleaning up the school dataset and retaining only the necessary columns "
   ]
  },
  {
   "cell_type": "code",
   "execution_count": null,
   "id": "64cfb25c",
   "metadata": {},
   "outputs": [],
   "source": [
    "# setup school dataset coordinates and location to calculate proximity \n",
    "\n",
    "retained_cols = ['SCHOOL_NO', 'X' , 'Y', 'Postal_Postcode', 'Address_Town']\n",
    "vic_schools = pd.read_csv('../data/raw/dv309_schoollocations2021.csv', encoding='cp1252',\n",
    "                         usecols = retained_cols)\n",
    "\n",
    "vic_schools['coordinates']= vic_schools[['Y','X']].values.tolist()\n",
    "vic_schools['Address_Town'] = vic_schools['Address_Town'].str.lower()\n",
    "\n",
    "vic_schools.drop(['X', 'Y'], axis=1, inplace=True)\n",
    "vic_schools = vic_schools.dropna(subset = ['coordinates', 'Postal_Postcode'], how = 'any').reset_index(drop = True)\n",
    "\n",
    "vic_schools.head(5)"
   ]
  },
  {
   "cell_type": "markdown",
   "id": "b783db06",
   "metadata": {},
   "source": [
    "#### Function to calculate road distance between any two points "
   ]
  },
  {
   "cell_type": "code",
   "execution_count": null,
   "id": "e1cbf87a",
   "metadata": {},
   "outputs": [],
   "source": [
    "def calculate_proximity(point1, point2):\n",
    "    \n",
    "    journey = requests.get(f\"http://router.project-osrm.org/route/v1/car/{point1[1]},{point1[0]};{point2[1]},{point2[0]}?overview=false\"\"\")\n",
    "    distance_meters = json.loads(journey.content)['routes'][0]['legs'][0]['distance']\n",
    "    \n",
    "    return distance_meters / 1000"
   ]
  },
  {
   "cell_type": "markdown",
   "id": "f19a42e2",
   "metadata": {},
   "source": [
    "#### Function to calculate nearest school distance from house"
   ]
  },
  {
   "cell_type": "markdown",
   "id": "4860a8ca",
   "metadata": {},
   "source": [
    "Algorithm \n",
    "\n",
    "* Find the schools in the same suburb - Calculate distance to each of them and then choose closest one \n",
    "* If no school in same suburb - Expand search for schools in the same postcode\n",
    "* If no school in same suburb and same postcode - Expand search to nearby postcodes "
   ]
  },
  {
   "cell_type": "code",
   "execution_count": null,
   "id": "0b394ba2",
   "metadata": {},
   "outputs": [],
   "source": [
    "def nearest_school_distance(house):\n",
    "    \n",
    "    curr_house_suburb = house['suburb']\n",
    "    curr_suburb_schools = vic_schools[vic_schools['Address_Town'] == curr_house_suburb]\n",
    "    curr_house_lat_lon = literal_eval(house['coordinates'])\n",
    "    \n",
    "    if len(curr_suburb_schools) > 0:\n",
    "        \n",
    "        nearest_schools_dist = []\n",
    "        \n",
    "        for i in curr_suburb_schools['coordinates']:\n",
    "            \n",
    "            dist_to_school = calculate_proximity(curr_house_lat_lon, i)\n",
    "            nearest_schools_dist.append(dist_to_school)\n",
    "            \n",
    "        return sorted(nearest_schools_dist)[0]\n",
    "    \n",
    "    curr_house_postcode = house['house_postcode']\n",
    "    curr_house_lat_lon = literal_eval(house['coordinates'])\n",
    "    curr_postcode_schools = vic_schools[vic_schools['Postal_Postcode'] == curr_house_postcode]\n",
    "    \n",
    "    if len(curr_postcode_schools) > 0:\n",
    "        \n",
    "        nearest_schools_dist = []\n",
    "        \n",
    "        for i in curr_postcode_schools['coordinates']:\n",
    "            \n",
    "            \n",
    "            dist_to_school = calculate_proximity(curr_house_lat_lon, i)\n",
    "            nearest_schools_dist.append(dist_to_school)\n",
    "            \n",
    "        return sorted(nearest_schools_dist)[0]\n",
    "    \n",
    "    found = 0 \n",
    "    i = 1 \n",
    "    \n",
    "    while(found != 1):\n",
    "        \n",
    "        lookup_range = [curr_house_postcode - i, curr_house_postcode + i]\n",
    "        lookup_range_schools = vic_schools [(vic_schools ['Postal_Postcode'] >= lookup_range[0]) & \n",
    "                                        (vic_schools ['Postal_Postcode'] <= lookup_range[1])]\n",
    "    \n",
    "        display(lookup_range_schools)\n",
    "        \n",
    "        if len(lookup_range_schools) < 1:\n",
    "            i = i + 1   \n",
    "        else:\n",
    "            found = 1 \n",
    "    \n",
    "    if len(lookup_range_schools > 0):\n",
    "        for i in lookup_range_schools['coordinates']:\n",
    "            \n",
    "            nearest_schools_dist = []\n",
    "\n",
    "            dist_to_school = calculate_proximity(curr_house_lat_lon, i)\n",
    "            nearest_schools_dist.append(dist_to_school)\n",
    "        \n",
    "        return sorted(nearest_schools_dist)[0]\n",
    "\n",
    "    return np.nan"
   ]
  },
  {
   "cell_type": "markdown",
   "id": "f91a792c",
   "metadata": {},
   "source": [
    "#### Loop through dataframe and calculate distance to clodest school for all houses "
   ]
  },
  {
   "cell_type": "code",
   "execution_count": null,
   "id": "e0c8cdd6",
   "metadata": {},
   "outputs": [],
   "source": [
    "def calculate_school_distance(dataframe):\n",
    "    \n",
    "    school_distances = []\n",
    "    for i in dataframe.index:\n",
    "        \n",
    "        try:\n",
    "            school_distances.append(nearest_school_distance(dataframe.iloc[i]))\n",
    "        except:\n",
    "            school_distances.append(np.nan)\n",
    "            continue \n",
    "            \n",
    "    return school_distances"
   ]
  },
  {
   "cell_type": "markdown",
   "id": "3e351afc",
   "metadata": {},
   "source": [
    "#### Create new feature for nearest school and save temporary data frame"
   ]
  },
  {
   "cell_type": "code",
   "execution_count": null,
   "id": "bd620bc5",
   "metadata": {},
   "outputs": [],
   "source": [
    "school_distances = calculate_school_distance(sample_rental_df)"
   ]
  },
  {
   "cell_type": "code",
   "execution_count": null,
   "id": "017c64d2",
   "metadata": {},
   "outputs": [],
   "source": [
    "sample_rental_df.loc[:,'Nearest_School_Distance'] = school_distances\n",
    "sample_rental_df.head(5)"
   ]
  },
  {
   "cell_type": "markdown",
   "id": "436171b9",
   "metadata": {},
   "source": [
    "## Calculating distance from the house to the nearest hospital from the house"
   ]
  },
  {
   "cell_type": "markdown",
   "id": "63c2d79f",
   "metadata": {},
   "source": [
    "#### Cleaning up hospital dataset "
   ]
  },
  {
   "cell_type": "code",
   "execution_count": null,
   "id": "97a648c5",
   "metadata": {},
   "outputs": [],
   "source": [
    "retained_columns = ['Hospital name','State','Suburb', 'Latitude', 'Longitude', 'Postcode', 'Hospital_ID']\n",
    "\n",
    "hospitals = pd.read_csv('../data/raw/myhospitals-contact-details.csv', encoding='cp1252',\n",
    "                       usecols = retained_columns)\n",
    "\n",
    "hospitals = hospitals[hospitals['State'] == 'Vic'].reset_index(drop = True)\n",
    "\n",
    "hospitals['Suburb'] = hospitals['Suburb'].str.lower()\n",
    "\n",
    "hospitals['coordinates']= hospitals[['Latitude','Longitude']].values.tolist()\n",
    "hospitals = hospitals.drop(['Latitude','Longitude'], axis = 1)"
   ]
  },
  {
   "cell_type": "markdown",
   "id": "d692cda1",
   "metadata": {},
   "source": [
    "#### Calulating distance from a given house to nearest hospital  "
   ]
  },
  {
   "cell_type": "code",
   "execution_count": null,
   "id": "6d0a1de9",
   "metadata": {},
   "outputs": [],
   "source": [
    "def nearest_hospital(house):\n",
    "    \n",
    "    curr_house_lat_lon = literal_eval(house['coordinates'])\n",
    "    curr_house_suburb = house['suburb']\n",
    "    curr_suburb_hospital = hospitals[hospitals['Suburb'] == curr_house_suburb]\n",
    "    \n",
    "    if len(curr_suburb_hospital) > 0:\n",
    "        \n",
    "        nearest_hosp_dist = []\n",
    "        \n",
    "        for i in curr_suburb_hospital['coordinates']:\n",
    "            \n",
    "            dist_to_hosp = calculate_proximity(curr_house_lat_lon, i)\n",
    "            nearest_hosp_dist.append(dist_to_hosp)\n",
    "            \n",
    "        return sorted(nearest_hosp_dist)[0]\n",
    "    \n",
    "    curr_house_postcode = house['house_postcode']\n",
    "    curr_postcode_hospital = hospitals[hospitals['Postcode'] == curr_house_postcode].reset_index(drop = True)\n",
    "\n",
    "    if len(curr_postcode_hospital) == 1:\n",
    "        \n",
    "        dist_to_hosp = calculate_proximity(curr_house_lat_lon, curr_postcode_hospital.iloc[0]['coordinates'])\n",
    "        \n",
    "        return dist_to_hosp\n",
    "        \n",
    "    if len(curr_postcode_hospital) >= 2:\n",
    "        \n",
    "        nearest_hosp_dist = []\n",
    "        \n",
    "        for i in curr_postcode_hospital['coordinates']:\n",
    "            \n",
    "            dist_to_hosp = calculate_proximity(curr_house_lat_lon, i)\n",
    "            nearest_hosp_dist.append(dist_to_hosp)\n",
    "            \n",
    "        return sorted(nearest_hosp_dist)[0]\n",
    "    \n",
    "    found = 0 \n",
    "    i = 1 \n",
    "    \n",
    "    while(found != 1):\n",
    "        \n",
    "        lookup_range = [curr_house_postcode - i, curr_house_postcode + i]\n",
    "        lookup_range_hosp = hospitals [(hospitals ['Postcode'] >= lookup_range[0]) & \n",
    "                                        (hospitals ['Postcode'] <= lookup_range[1])].reset_index(drop = True)\n",
    "    \n",
    "        if len(lookup_range_hosp) == 0:\n",
    "            i = i + 1 \n",
    "        else:\n",
    "            found = 1 \n",
    "                \n",
    "    if len(lookup_range_hosp) == 1:\n",
    "        \n",
    "        dist_to_hosp = calculate_proximity(curr_house_lat_lon, lookup_range_hosp.iloc[0]['coordinates'])\n",
    "        \n",
    "        return dist_to_hosp\n",
    "    \n",
    "    if len(lookup_range_hosp) > 1:\n",
    "        \n",
    "        nearest_hosp_dist = list()\n",
    "        \n",
    "        for i in lookup_range_hosp['coordinates']:\n",
    "            \n",
    "            dist_to_hosp = calculate_proximity(curr_house_lat_lon, i)\n",
    "            nearest_hosp_dist.append(dist_to_hosp)\n",
    "            \n",
    "        return sorted(nearest_hosp_dist)[0]\n",
    "    \n",
    "    return np.nan"
   ]
  },
  {
   "cell_type": "code",
   "execution_count": null,
   "id": "40e19913",
   "metadata": {},
   "outputs": [],
   "source": [
    "def calculate_hospital_distance(dataframe):\n",
    "    \n",
    "    hospital_distances = []\n",
    "    for i in dataframe.index:\n",
    "        \n",
    "        try:\n",
    "            hospital_distances.append(nearest_hospital(dataframe.iloc[i]))\n",
    "        except:\n",
    "            hospital_distances.append(np.nan)\n",
    "            continue \n",
    "        \n",
    "    return hospital_distances"
   ]
  },
  {
   "cell_type": "code",
   "execution_count": null,
   "id": "8f80ddf2",
   "metadata": {},
   "outputs": [],
   "source": [
    "hospital_distances = calculate_hospital_distance(sample_rental_df)"
   ]
  },
  {
   "cell_type": "code",
   "execution_count": null,
   "id": "d8663c84",
   "metadata": {},
   "outputs": [],
   "source": [
    "sample_rental_df['nearest_hospital'] = hospital_distances\n",
    "sample_rental_df.head(5)"
   ]
  },
  {
   "cell_type": "markdown",
   "id": "c0e875a9",
   "metadata": {},
   "source": [
    "## Calculating distance from the house to the nearest school from the house"
   ]
  },
  {
   "cell_type": "markdown",
   "id": "587a9326",
   "metadata": {},
   "source": [
    "#### Handling metro and regional station data"
   ]
  },
  {
   "cell_type": "code",
   "execution_count": null,
   "id": "99df84f1",
   "metadata": {},
   "outputs": [],
   "source": [
    "postcodes = pd.read_csv('../data/curated/victoria_postcodes.csv')\n",
    "postcodes['locality'] = postcodes['locality'].str.lower()\n",
    "\n",
    "retained_cols = ['STOP_NAME', 'LATITUDE', 'LONGITUDE']\n",
    "\n",
    "metro = pd.read_csv('../data/raw/datasource-VIC_Govt_PTV-VIC_Govt_DELWP_datavic_PTV_METRO_TRAIN_STATION.csv',\n",
    "                   usecols = retained_cols)\n",
    "metro['Suburb'] = metro.STOP_NAME.str.extract('.*\\((.*)\\).*')\n",
    "metro['Suburb'] = metro['Suburb'].str.lower()\n",
    "metro['Type'] = 'Metro'\n",
    "\n",
    "metro = metro.merge(postcodes[['locality', 'postcode']], left_on='Suburb',right_on = 'locality', how='inner')\n",
    "metro = metro.drop('locality', axis = 1).reset_index(drop = True)\n",
    "metro = metro.dropna(how = 'any')\n",
    "\n",
    "regional = pd.read_csv('../data/raw/datasource-VIC_Govt_PTV-VIC_Govt_DELWP_datavic_PTV_REGIONAL_TRAIN_STATION.csv',\n",
    "                      usecols = retained_cols)\n",
    "regional['Suburb'] = regional.STOP_NAME.str.extract('.*\\((.*)\\).*')\n",
    "regional['Suburb'] = regional['Suburb'].str.lower()\n",
    "regional['Type'] = 'Regional'\n",
    " \n",
    "regional = regional.merge(postcodes[['locality', 'postcode']], left_on='Suburb',right_on = 'locality', how='inner')\n",
    "regional = regional.drop('locality', axis = 1)\n",
    "regional = regional.dropna(how = 'any').reset_index(drop = True)\n",
    "\n",
    "all_stations = pd.concat([metro, regional]).reset_index(drop = True)\n",
    "all_stations['coordinates']= all_stations[['LATITUDE','LONGITUDE']].values.tolist()\n",
    "all_stations = all_stations.drop(['LATITUDE','LONGITUDE'], axis = 1)\n",
    "\n",
    "all_stations.head(5)"
   ]
  },
  {
   "cell_type": "markdown",
   "id": "5610b729",
   "metadata": {},
   "source": [
    "#### Function to find nearest train station for a given house "
   ]
  },
  {
   "cell_type": "code",
   "execution_count": null,
   "id": "0b26d728",
   "metadata": {},
   "outputs": [],
   "source": [
    "def nearest_station(house):\n",
    "    \n",
    "    curr_house_lat_lon = literal_eval(house['coordinates'])\n",
    "    curr_house_suburb = house['suburb']\n",
    "    curr_suburb_station = all_stations[all_stations['Suburb'] == curr_house_suburb]\n",
    "    \n",
    "    if len(curr_suburb_station) > 0:\n",
    "        \n",
    "        nearest_train_dist = []\n",
    "        \n",
    "        for i in curr_suburb_station['coordinates']:\n",
    "            \n",
    "            dist_to_train = calculate_proximity(curr_house_lat_lon, i)\n",
    "            nearest_train_dist.append(dist_to_train)\n",
    "\n",
    "        return sorted(nearest_train_dist)[0]\n",
    "    \n",
    "    curr_house_postcode = house['house_postcode']\n",
    "    curr_postcode_station = all_stations[all_stations['postcode'] == curr_house_postcode].reset_index(drop = True)\n",
    "\n",
    "    if len(curr_postcode_station) == 1:\n",
    "        \n",
    "        dist_to_train = calculate_proximity(curr_house_lat_lon, curr_postcode_station.iloc[0]['coordinates'])\n",
    "        \n",
    "        return dist_to_train\n",
    "        \n",
    "    if len(curr_postcode_station) >= 2:\n",
    "        \n",
    "        nearest_train_dist = []\n",
    "        \n",
    "        for i in curr_postcode_station['coordinates']:\n",
    "            \n",
    "            dist_to_train = calculate_proximity(curr_house_lat_lon, i)\n",
    "            nearest_train_dist.append(dist_to_train)\n",
    "            \n",
    "        return sorted(nearest_train_dist)[0]\n",
    "\n",
    "    found = 0 \n",
    "    i = 1 \n",
    "    \n",
    "    while(found != 1):\n",
    "        \n",
    "        lookup_range = [curr_house_postcode - i, curr_house_postcode + i]\n",
    "        lookup_range_train = all_stations [(all_stations ['postcode'] >= lookup_range[0]) & \n",
    "                                        (all_stations ['postcode'] <= lookup_range[1])].reset_index(drop = True)\n",
    "    \n",
    "        if len(lookup_range_train) == 0:\n",
    "            i = i + 1    \n",
    "        else:\n",
    "            found = 1 \n",
    "            \n",
    "    if len(lookup_range_train) == 1:\n",
    "        \n",
    "        dist_to_train = calculate_proximity(curr_house_lat_lon, lookup_range_train.iloc[0]['coordinates'])\n",
    "        \n",
    "        return dist_to_train\n",
    "    \n",
    "    if len(lookup_range_train) > 1:\n",
    "        \n",
    "        nearest_train_dist = list()\n",
    "        \n",
    "        for i in lookup_range_train['coordinates']:\n",
    "            \n",
    "            dist_to_train = calculate_proximity(curr_house_lat_lon, i)\n",
    "            nearest_train_dist.append(dist_to_train)\n",
    "            \n",
    "        return sorted(nearest_train_dist)[0]\n",
    "    \n",
    "    return np.nan"
   ]
  },
  {
   "cell_type": "code",
   "execution_count": null,
   "id": "d0ba7eff",
   "metadata": {},
   "outputs": [],
   "source": [
    "def calculate_train_distance(dataframe):\n",
    "    \n",
    "    train_distances = []\n",
    "    \n",
    "    for i in dataframe.index:\n",
    "        \n",
    "        try:\n",
    "            train_distances.append(nearest_station(dataframe.iloc[i]))    \n",
    "        except:\n",
    "            train_distances.append(np.nan)\n",
    "            \n",
    "    return train_distances"
   ]
  },
  {
   "cell_type": "code",
   "execution_count": null,
   "id": "43ad21b8",
   "metadata": {},
   "outputs": [],
   "source": [
    "station_distances = calculate_train_distance(sample_rental_df)"
   ]
  },
  {
   "cell_type": "code",
   "execution_count": null,
   "id": "f461ddfe",
   "metadata": {},
   "outputs": [],
   "source": [
    "sample_rental_df['nearest_train_station'] = station_distances \n",
    "sample_rental_df.to_csv('../data/curated/Scraped_Primary_All_Features.csv') \n",
    "\n",
    "sample_rental_df.head(5)"
   ]
  }
 ],
 "metadata": {
  "kernelspec": {
   "display_name": "Python 3 (ipykernel)",
   "language": "python",
   "name": "python3"
  },
  "language_info": {
   "codemirror_mode": {
    "name": "ipython",
    "version": 3
   },
   "file_extension": ".py",
   "mimetype": "text/x-python",
   "name": "python",
   "nbconvert_exporter": "python",
   "pygments_lexer": "ipython3",
   "version": "3.7.11"
  }
 },
 "nbformat": 4,
 "nbformat_minor": 5
}
