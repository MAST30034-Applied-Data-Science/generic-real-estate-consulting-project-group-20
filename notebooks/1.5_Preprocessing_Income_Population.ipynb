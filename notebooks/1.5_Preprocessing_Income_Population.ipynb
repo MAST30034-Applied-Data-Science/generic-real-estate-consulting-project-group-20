{
 "cells": [
  {
   "cell_type": "code",
   "execution_count": 1,
   "id": "ee35fd6a",
   "metadata": {},
   "outputs": [],
   "source": [
    "import pandas as pd\n",
    "import re"
   ]
  },
  {
   "cell_type": "code",
   "execution_count": 2,
   "id": "9f4e688a",
   "metadata": {},
   "outputs": [],
   "source": [
    "def get_suburb_names(df):\n",
    "    \n",
    "    # Set up cases for extracting suburb names\n",
    "    pattern_one = r'\\(.*?\\)'\n",
    "    pattern_two = r'\\-.*$'\n",
    "\n",
    "    for i in range(len(df)):\n",
    "        df[\"suburb\"].loc[i] = re.sub(pattern_one, '', df[\"suburb\"].loc[i])\n",
    "        df[\"suburb\"].loc[i] = re.sub(pattern_two, '', df[\"suburb\"].loc[i])\n",
    "        df[\"suburb\"].loc[i] = df[\"suburb\"].loc[i].lower()\n",
    "        df[\"suburb\"].loc[i] = df[\"suburb\"].loc[i].replace(\"region\", \"\")\n",
    "        df[\"suburb\"].loc[i] = df[\"suburb\"].loc[i].strip()\n",
    "    \n",
    "    return df"
   ]
  },
  {
   "cell_type": "code",
   "execution_count": 3,
   "id": "207909e2",
   "metadata": {
    "scrolled": false
   },
   "outputs": [
    {
     "name": "stderr",
     "output_type": "stream",
     "text": [
      "C:\\Users\\benja\\anaconda3\\lib\\site-packages\\pandas\\core\\indexing.py:1732: SettingWithCopyWarning: \n",
      "A value is trying to be set on a copy of a slice from a DataFrame\n",
      "\n",
      "See the caveats in the documentation: https://pandas.pydata.org/pandas-docs/stable/user_guide/indexing.html#returning-a-view-versus-a-copy\n",
      "  self._setitem_single_block(indexer, value, name)\n"
     ]
    }
   ],
   "source": [
    "# Read in datasets\n",
    "income_one_df = pd.read_csv(\"../data/raw/datasource-AU_Govt_ABS-UoM_AURIN_DB_3_abs_personal_income_total_income_sa2_2011_2018_file_1.zip\")\n",
    "income_two_df = pd.read_csv(\"../data/raw/datasource-AU_Govt_ABS-UoM_AURIN_DB_3_abs_personal_income_total_income_sa2_2011_2018_file_2.zip\")\n",
    "income_df = pd.concat([income_one_df, income_two_df]).reset_index(drop=True)\n",
    "population_df = pd.read_csv(\"../data/raw/datasource-AU_Govt_ABS-UoM_AURIN_DB_3_abs_regional_population_sa2_2001_2021.zip\")\n",
    "\n",
    "# Drop irrelevant attributes for income dataset\n",
    "suburb_info = income_df[[\"sa2_code\", \"sa2_name\"]]\n",
    "income_df = income_df.loc[:, \"mean_aud_2011_12\":]\n",
    "income_df = income_df.join(suburb_info)\n",
    "\n",
    "# Rename attributes for income dataset\n",
    "income_df.columns = [\"mean_income_2011_12\", \"mean_income_2012_13\", \"mean_income_2013_14\", \"mean_income_2014_15\", \n",
    "                     \"mean_income_2015_16\", \"mean_income_2016_17\", \"mean_income_2017_18\", \"geometries\", \"suburb_code\", \n",
    "                     \"suburb\"]\n",
    "\n",
    "# Drop irrelevant attributes for population dataset\n",
    "estimated_population = population_df.loc[:, \"erp_2001\":\"erp_2021\"]\n",
    "population_df = population_df[[\"state_name_2016\", \"sa2_maincode_2016\", \"sa2_name_2016\", \"area_km2\", \"geom\", \n",
    "                               \"overseas_arrivals_2016_17\", \"overseas_arrivals_2017_18\", \"overseas_arrivals_2018_19\", \n",
    "                               \"overseas_arrivals_2019_20\", \"overseas_arrivals_2020_21\"]]\n",
    "population_df = population_df.join(estimated_population)\n",
    "\n",
    "# Rename attributes for population dataset\n",
    "population_df.rename(columns={\"state_name_2016\": \"state\", \"sa2_maincode_2016\": \"suburb_code\", \"sa2_name_2016\": \n",
    "                              \"suburb\", \"area_km2\": \"suburb_area_km2\", \n",
    "                              \"erp_2001\": \"population_2001\", \"erp_2002\": \"population_2002\", \"erp_2003\": \"population_2003\", \n",
    "                              \"erp_2004\": \"population_2004\", \"erp_2005\": \"population_2005\", \"erp_2006\": \"population_2006\", \n",
    "                              \"erp_2007\": \"population_2007\", \"erp_2008\": \"population_2008\", \"erp_2009\": \"population_2009\", \n",
    "                              \"erp_2010\": \"population_2010\", \"erp_2011\": \"population_2011\", \"erp_2012\": \"population_2012\", \n",
    "                              \"erp_2013\": \"population_2013\", \"erp_2014\": \"population_2014\", \"erp_2015\": \"population_2015\", \n",
    "                              \"erp_2016\": \"population_2016\", \"erp_2017\": \"population_2017\", \"erp_2018\": \"population_2018\", \n",
    "                              \"erp_2019\": \"population_2019\", \"erp_2020\": \"population_2020\", \"erp_2021\": \"population_2021\", \n",
    "                              \"overseas_arrivals_2016_17\": \"immigration_2016\", \n",
    "                              \"overseas_arrivals_2017_18\": \"immigration_2017\", \n",
    "                              \"overseas_arrivals_2018_19\": \"immigration_2018\", \n",
    "                              \"overseas_arrivals_2019_20\": \"immigration_2019\", \n",
    "                              \"overseas_arrivals_2020_21\": \"immigration_2020\"}, inplace=True)\n",
    "\n",
    "# Read in sa2 suburb codes\n",
    "suburb_info = pd.read_excel(\"../data/raw/list_of_SA2_and_their_SA3_and_state.xlsx\")\n",
    "suburb_info = suburb_info[suburb_info[\"STATE_NAME_2016\"] == \"Victoria\"].reset_index(drop=True)\n",
    "suburb_info = suburb_info[[\"SA2_MAINCODE_2016\", \"SA2_NAME_2016\"]]\n",
    "\n",
    "# Filter instances in Victoria for population dataset\n",
    "population_df = population_df[population_df[\"state\"] == \"Victoria\"].reset_index(drop=True)\n",
    "\n",
    "# Filter instances in Victoria for income dataset\n",
    "victoria_suburb_codes = suburb_info[\"SA2_MAINCODE_2016\"]\n",
    "income_df = pd.merge(income_df, victoria_suburb_codes, left_on=\"suburb_code\", right_on=\"SA2_MAINCODE_2016\")\n",
    "\n",
    "# Extract suburb names from each instance in both income and population datasets\n",
    "income_df = get_suburb_names(income_df)\n",
    "population_df = get_suburb_names(population_df)\n",
    "\n",
    "# Compute population density from 2001 to 2021 (people/km2)\n",
    "j = 2001\n",
    "for i in range(10,31):\n",
    "    curr_col_name = \"population_density_{year}\".format(year=j)\n",
    "    population_df[curr_col_name] = population_df.iloc[:, i]/population_df[\"suburb_area_km2\"] \n",
    "    j += 1\n",
    "\n",
    "# Drop rows containing NaN values for income dataset\n",
    "income_df = income_df.dropna().reset_index(drop=True)\n",
    "\n",
    "# Drop rows containing NaN values for population dataset\n",
    "population_df = population_df.dropna().reset_index(drop=True)\n",
    "# Save dataframes as csv files\n",
    "income_df.to_csv(\"../data/curated/Income.csv\", index=False)\n",
    "population_df.to_csv(\"../data/curated/Population.csv\", index=False)"
   ]
  }
 ],
 "metadata": {
  "kernelspec": {
   "display_name": "Python 3 (ipykernel)",
   "language": "python",
   "name": "python3"
  },
  "language_info": {
   "codemirror_mode": {
    "name": "ipython",
    "version": 3
   },
   "file_extension": ".py",
   "mimetype": "text/x-python",
   "name": "python",
   "nbconvert_exporter": "python",
   "pygments_lexer": "ipython3",
   "version": "3.9.7"
  }
 },
 "nbformat": 4,
 "nbformat_minor": 5
}
