{
 "cells": [
  {
   "cell_type": "markdown",
   "source": [
    "# Pre-processing external dataset for project 2: Education"
   ],
   "metadata": {}
  },
  {
   "cell_type": "markdown",
   "source": [
    "School and enrolments by LGA\n",
    "\n",
    "The summary statistics are revised in April and July each year. The 'summary statistics snapshot' provides a quick overview of key statistics such as numbers of students, teachers and schools: Split up in governmental, catholic and independent schools.\n",
    "\n",
    "The data is extracted from victoria's gvoernmental website\n",
    "summary statistics July 2021: https://www.education.vic.gov.au/Documents/about/department/summarystatssnapshot.pdf\n",
    "\n",
    "FTE: Full Time-equivalence teachers\n",
    "\n",
    "Source: https://www.vic.gov.au/statistics-victorian-schools-and-teaching#summary-statistics-on-victorian-schools\n",
    "\n",
    "\n"
   ],
   "metadata": {}
  },
  {
   "cell_type": "code",
   "execution_count": 33,
   "source": [
    "#Initialization packages\n",
    "import os\n",
    "import pandas as pd\n",
    "import matplotlib.pyplot as plt"
   ],
   "outputs": [],
   "metadata": {}
  },
  {
   "cell_type": "code",
   "execution_count": 34,
   "source": [
    "#Direction to working directory\n",
    "os.chdir('/Users/axbmac/Desktop/Applied Data Science/Project 2/External data')\n",
    "print(\"Current working directory: {0}\".format(os.getcwd())) "
   ],
   "outputs": [
    {
     "output_type": "stream",
     "name": "stdout",
     "text": [
      "Current working directory: /Users/axbmac/Desktop/Applied Data Science/Project 2/External Data\n"
     ]
    }
   ],
   "metadata": {}
  },
  {
   "cell_type": "code",
   "execution_count": 35,
   "source": [
    "edu=pd.read_excel('Schools_by_LGA.xlsx')\n",
    "\n",
    "#edu.describe()\n",
    "\n",
    "edu.head()"
   ],
   "outputs": [
    {
     "output_type": "execute_result",
     "data": {
      "text/html": [
       "<div>\n",
       "<style scoped>\n",
       "    .dataframe tbody tr th:only-of-type {\n",
       "        vertical-align: middle;\n",
       "    }\n",
       "\n",
       "    .dataframe tbody tr th {\n",
       "        vertical-align: top;\n",
       "    }\n",
       "\n",
       "    .dataframe thead th {\n",
       "        text-align: right;\n",
       "    }\n",
       "</style>\n",
       "<table border=\"1\" class=\"dataframe\">\n",
       "  <thead>\n",
       "    <tr style=\"text-align: right;\">\n",
       "      <th></th>\n",
       "      <th>Row Labels</th>\n",
       "      <th>Sum of FTE Enrolments</th>\n",
       "      <th>Sum of No Of Schools</th>\n",
       "      <th>Sum of FTE Enrolments.1</th>\n",
       "      <th>Sum of No Of Schools.1</th>\n",
       "      <th>Sum of FTE Enrolments.2</th>\n",
       "      <th>Sum of No Of Schools.2</th>\n",
       "      <th>Unnamed: 7</th>\n",
       "      <th>Unnamed: 8</th>\n",
       "    </tr>\n",
       "  </thead>\n",
       "  <tbody>\n",
       "    <tr>\n",
       "      <th>0</th>\n",
       "      <td>Alpine (S)</td>\n",
       "      <td>1498.0</td>\n",
       "      <td>9</td>\n",
       "      <td>341.0</td>\n",
       "      <td>2.0</td>\n",
       "      <td>NaN</td>\n",
       "      <td>NaN</td>\n",
       "      <td>1839.0</td>\n",
       "      <td>11</td>\n",
       "    </tr>\n",
       "    <tr>\n",
       "      <th>1</th>\n",
       "      <td>Ararat (RC)</td>\n",
       "      <td>1059.9</td>\n",
       "      <td>11</td>\n",
       "      <td>583.0</td>\n",
       "      <td>2.0</td>\n",
       "      <td>NaN</td>\n",
       "      <td>NaN</td>\n",
       "      <td>1642.9</td>\n",
       "      <td>13</td>\n",
       "    </tr>\n",
       "    <tr>\n",
       "      <th>2</th>\n",
       "      <td>Ballarat (C)</td>\n",
       "      <td>11537.9</td>\n",
       "      <td>30</td>\n",
       "      <td>6539.4</td>\n",
       "      <td>14.0</td>\n",
       "      <td>3721.4</td>\n",
       "      <td>4.0</td>\n",
       "      <td>21798.7</td>\n",
       "      <td>48</td>\n",
       "    </tr>\n",
       "    <tr>\n",
       "      <th>3</th>\n",
       "      <td>Banyule (C)</td>\n",
       "      <td>14328.0</td>\n",
       "      <td>28</td>\n",
       "      <td>6738.4</td>\n",
       "      <td>11.0</td>\n",
       "      <td>2298.0</td>\n",
       "      <td>3.0</td>\n",
       "      <td>23364.4</td>\n",
       "      <td>42</td>\n",
       "    </tr>\n",
       "    <tr>\n",
       "      <th>4</th>\n",
       "      <td>Bass Coast (S)</td>\n",
       "      <td>3725.0</td>\n",
       "      <td>10</td>\n",
       "      <td>378.8</td>\n",
       "      <td>2.0</td>\n",
       "      <td>1018.0</td>\n",
       "      <td>3.0</td>\n",
       "      <td>5121.8</td>\n",
       "      <td>15</td>\n",
       "    </tr>\n",
       "  </tbody>\n",
       "</table>\n",
       "</div>"
      ],
      "text/plain": [
       "       Row Labels  Sum of FTE Enrolments  Sum of No Of Schools  \\\n",
       "0      Alpine (S)                 1498.0                     9   \n",
       "1     Ararat (RC)                 1059.9                    11   \n",
       "2    Ballarat (C)                11537.9                    30   \n",
       "3     Banyule (C)                14328.0                    28   \n",
       "4  Bass Coast (S)                 3725.0                    10   \n",
       "\n",
       "   Sum of FTE Enrolments.1  Sum of No Of Schools.1  Sum of FTE Enrolments.2  \\\n",
       "0                    341.0                     2.0                      NaN   \n",
       "1                    583.0                     2.0                      NaN   \n",
       "2                   6539.4                    14.0                   3721.4   \n",
       "3                   6738.4                    11.0                   2298.0   \n",
       "4                    378.8                     2.0                   1018.0   \n",
       "\n",
       "   Sum of No Of Schools.2  Unnamed: 7  Unnamed: 8  \n",
       "0                     NaN      1839.0          11  \n",
       "1                     NaN      1642.9          13  \n",
       "2                     4.0     21798.7          48  \n",
       "3                     3.0     23364.4          42  \n",
       "4                     3.0      5121.8          15  "
      ]
     },
     "metadata": {},
     "execution_count": 35
    }
   ],
   "metadata": {}
  },
  {
   "cell_type": "code",
   "execution_count": 51,
   "source": [
    "#Renaming the columns across Governmental, Catholic, Independent and all Schools\n",
    "\n",
    "education=edu.rename(columns={\"Row Labels\":\"Local government areas of Victoria\",\"Sum of FTE Enrolments\":\"Sum of Governmental FTE Enrolments\",\"Sum of No Of Schools\": \"Sum of No of Governmental Schools\",\"Sum of FTE Enrolments.1\":\"Sum of Catholic FTE Enrolments\",\"Sum of No Of Schools.1\": \"Sum of No of Catholic Schools\",\"Sum of FTE Enrolments.2\":\"Sum of Independent FTE Enrolments\",\"Sum of No Of Schools.2\": \"Sum of No of Independent Schools\",\"Unnamed: 7\":\"Sum of Total FTE Enrolments\",\"Unnamed: 8\": \"Sum of No of Total Schools\"})\n",
    "print(education.head())"
   ],
   "outputs": [
    {
     "output_type": "stream",
     "name": "stdout",
     "text": [
      "  Local government areas of Victoria  Sum of Governmental FTE Enrolments  \\\n",
      "0                         Alpine (S)                              1498.0   \n",
      "1                        Ararat (RC)                              1059.9   \n",
      "2                       Ballarat (C)                             11537.9   \n",
      "3                        Banyule (C)                             14328.0   \n",
      "4                     Bass Coast (S)                              3725.0   \n",
      "\n",
      "   Sum of No of Governmental Schools  Sum of Catholic FTE Enrolments  \\\n",
      "0                                  9                           341.0   \n",
      "1                                 11                           583.0   \n",
      "2                                 30                          6539.4   \n",
      "3                                 28                          6738.4   \n",
      "4                                 10                           378.8   \n",
      "\n",
      "   Sum of No of Catholic Schools  Sum of Independent FTE Enrolments  \\\n",
      "0                            2.0                                NaN   \n",
      "1                            2.0                                NaN   \n",
      "2                           14.0                             3721.4   \n",
      "3                           11.0                             2298.0   \n",
      "4                            2.0                             1018.0   \n",
      "\n",
      "   Sum of No of Independent Schools  Sum of Total FTE Enrolments  \\\n",
      "0                               NaN                       1839.0   \n",
      "1                               NaN                       1642.9   \n",
      "2                               4.0                      21798.7   \n",
      "3                               3.0                      23364.4   \n",
      "4                               3.0                       5121.8   \n",
      "\n",
      "   Sum of No of Total Schools  \n",
      "0                          11  \n",
      "1                          13  \n",
      "2                          48  \n",
      "3                          42  \n",
      "4                          15  \n"
     ]
    }
   ],
   "metadata": {}
  },
  {
   "cell_type": "code",
   "execution_count": 52,
   "source": [
    "#Okay, so I would arguing that NaN significes that there is no schools in the LGA\n",
    "#For that reason I will handle my Non Announced Values as being 0\n",
    "#Thus, I assign NaN to 0 \n",
    "\n",
    "education.fillna(0)\n"
   ],
   "outputs": [
    {
     "output_type": "execute_result",
     "data": {
      "text/html": [
       "<div>\n",
       "<style scoped>\n",
       "    .dataframe tbody tr th:only-of-type {\n",
       "        vertical-align: middle;\n",
       "    }\n",
       "\n",
       "    .dataframe tbody tr th {\n",
       "        vertical-align: top;\n",
       "    }\n",
       "\n",
       "    .dataframe thead th {\n",
       "        text-align: right;\n",
       "    }\n",
       "</style>\n",
       "<table border=\"1\" class=\"dataframe\">\n",
       "  <thead>\n",
       "    <tr style=\"text-align: right;\">\n",
       "      <th></th>\n",
       "      <th>Local government areas of Victoria</th>\n",
       "      <th>Sum of Governmental FTE Enrolments</th>\n",
       "      <th>Sum of No of Governmental Schools</th>\n",
       "      <th>Sum of Catholic FTE Enrolments</th>\n",
       "      <th>Sum of No of Catholic Schools</th>\n",
       "      <th>Sum of Independent FTE Enrolments</th>\n",
       "      <th>Sum of No of Independent Schools</th>\n",
       "      <th>Sum of Total FTE Enrolments</th>\n",
       "      <th>Sum of No of Total Schools</th>\n",
       "    </tr>\n",
       "  </thead>\n",
       "  <tbody>\n",
       "    <tr>\n",
       "      <th>0</th>\n",
       "      <td>Alpine (S)</td>\n",
       "      <td>1498.0</td>\n",
       "      <td>9</td>\n",
       "      <td>341.0</td>\n",
       "      <td>2.0</td>\n",
       "      <td>0.0</td>\n",
       "      <td>0.0</td>\n",
       "      <td>1839.0</td>\n",
       "      <td>11</td>\n",
       "    </tr>\n",
       "    <tr>\n",
       "      <th>1</th>\n",
       "      <td>Ararat (RC)</td>\n",
       "      <td>1059.9</td>\n",
       "      <td>11</td>\n",
       "      <td>583.0</td>\n",
       "      <td>2.0</td>\n",
       "      <td>0.0</td>\n",
       "      <td>0.0</td>\n",
       "      <td>1642.9</td>\n",
       "      <td>13</td>\n",
       "    </tr>\n",
       "    <tr>\n",
       "      <th>2</th>\n",
       "      <td>Ballarat (C)</td>\n",
       "      <td>11537.9</td>\n",
       "      <td>30</td>\n",
       "      <td>6539.4</td>\n",
       "      <td>14.0</td>\n",
       "      <td>3721.4</td>\n",
       "      <td>4.0</td>\n",
       "      <td>21798.7</td>\n",
       "      <td>48</td>\n",
       "    </tr>\n",
       "    <tr>\n",
       "      <th>3</th>\n",
       "      <td>Banyule (C)</td>\n",
       "      <td>14328.0</td>\n",
       "      <td>28</td>\n",
       "      <td>6738.4</td>\n",
       "      <td>11.0</td>\n",
       "      <td>2298.0</td>\n",
       "      <td>3.0</td>\n",
       "      <td>23364.4</td>\n",
       "      <td>42</td>\n",
       "    </tr>\n",
       "    <tr>\n",
       "      <th>4</th>\n",
       "      <td>Bass Coast (S)</td>\n",
       "      <td>3725.0</td>\n",
       "      <td>10</td>\n",
       "      <td>378.8</td>\n",
       "      <td>2.0</td>\n",
       "      <td>1018.0</td>\n",
       "      <td>3.0</td>\n",
       "      <td>5121.8</td>\n",
       "      <td>15</td>\n",
       "    </tr>\n",
       "    <tr>\n",
       "      <th>...</th>\n",
       "      <td>...</td>\n",
       "      <td>...</td>\n",
       "      <td>...</td>\n",
       "      <td>...</td>\n",
       "      <td>...</td>\n",
       "      <td>...</td>\n",
       "      <td>...</td>\n",
       "      <td>...</td>\n",
       "      <td>...</td>\n",
       "    </tr>\n",
       "    <tr>\n",
       "      <th>75</th>\n",
       "      <td>Wodonga (C)</td>\n",
       "      <td>4917.2</td>\n",
       "      <td>9</td>\n",
       "      <td>2448.0</td>\n",
       "      <td>4.0</td>\n",
       "      <td>1233.8</td>\n",
       "      <td>3.0</td>\n",
       "      <td>8599.0</td>\n",
       "      <td>16</td>\n",
       "    </tr>\n",
       "    <tr>\n",
       "      <th>76</th>\n",
       "      <td>Wyndham (C)</td>\n",
       "      <td>36367.7</td>\n",
       "      <td>37</td>\n",
       "      <td>10049.8</td>\n",
       "      <td>15.0</td>\n",
       "      <td>8088.0</td>\n",
       "      <td>5.0</td>\n",
       "      <td>54505.5</td>\n",
       "      <td>57</td>\n",
       "    </tr>\n",
       "    <tr>\n",
       "      <th>77</th>\n",
       "      <td>Yarra (C)</td>\n",
       "      <td>8480.1</td>\n",
       "      <td>19</td>\n",
       "      <td>1644.6</td>\n",
       "      <td>6.0</td>\n",
       "      <td>962.7</td>\n",
       "      <td>4.0</td>\n",
       "      <td>11087.4</td>\n",
       "      <td>29</td>\n",
       "    </tr>\n",
       "    <tr>\n",
       "      <th>78</th>\n",
       "      <td>Yarra Ranges (S)</td>\n",
       "      <td>16974.7</td>\n",
       "      <td>58</td>\n",
       "      <td>4046.4</td>\n",
       "      <td>10.0</td>\n",
       "      <td>4272.0</td>\n",
       "      <td>12.0</td>\n",
       "      <td>25293.1</td>\n",
       "      <td>80</td>\n",
       "    </tr>\n",
       "    <tr>\n",
       "      <th>79</th>\n",
       "      <td>Yarriambiack (S)</td>\n",
       "      <td>828.2</td>\n",
       "      <td>10</td>\n",
       "      <td>141.0</td>\n",
       "      <td>3.0</td>\n",
       "      <td>0.0</td>\n",
       "      <td>0.0</td>\n",
       "      <td>969.2</td>\n",
       "      <td>13</td>\n",
       "    </tr>\n",
       "  </tbody>\n",
       "</table>\n",
       "<p>80 rows × 9 columns</p>\n",
       "</div>"
      ],
      "text/plain": [
       "   Local government areas of Victoria  Sum of Governmental FTE Enrolments  \\\n",
       "0                          Alpine (S)                              1498.0   \n",
       "1                         Ararat (RC)                              1059.9   \n",
       "2                        Ballarat (C)                             11537.9   \n",
       "3                         Banyule (C)                             14328.0   \n",
       "4                      Bass Coast (S)                              3725.0   \n",
       "..                                ...                                 ...   \n",
       "75                        Wodonga (C)                              4917.2   \n",
       "76                        Wyndham (C)                             36367.7   \n",
       "77                          Yarra (C)                              8480.1   \n",
       "78                   Yarra Ranges (S)                             16974.7   \n",
       "79                   Yarriambiack (S)                               828.2   \n",
       "\n",
       "    Sum of No of Governmental Schools  Sum of Catholic FTE Enrolments  \\\n",
       "0                                   9                           341.0   \n",
       "1                                  11                           583.0   \n",
       "2                                  30                          6539.4   \n",
       "3                                  28                          6738.4   \n",
       "4                                  10                           378.8   \n",
       "..                                ...                             ...   \n",
       "75                                  9                          2448.0   \n",
       "76                                 37                         10049.8   \n",
       "77                                 19                          1644.6   \n",
       "78                                 58                          4046.4   \n",
       "79                                 10                           141.0   \n",
       "\n",
       "    Sum of No of Catholic Schools  Sum of Independent FTE Enrolments  \\\n",
       "0                             2.0                                0.0   \n",
       "1                             2.0                                0.0   \n",
       "2                            14.0                             3721.4   \n",
       "3                            11.0                             2298.0   \n",
       "4                             2.0                             1018.0   \n",
       "..                            ...                                ...   \n",
       "75                            4.0                             1233.8   \n",
       "76                           15.0                             8088.0   \n",
       "77                            6.0                              962.7   \n",
       "78                           10.0                             4272.0   \n",
       "79                            3.0                                0.0   \n",
       "\n",
       "    Sum of No of Independent Schools  Sum of Total FTE Enrolments  \\\n",
       "0                                0.0                       1839.0   \n",
       "1                                0.0                       1642.9   \n",
       "2                                4.0                      21798.7   \n",
       "3                                3.0                      23364.4   \n",
       "4                                3.0                       5121.8   \n",
       "..                               ...                          ...   \n",
       "75                               3.0                       8599.0   \n",
       "76                               5.0                      54505.5   \n",
       "77                               4.0                      11087.4   \n",
       "78                              12.0                      25293.1   \n",
       "79                               0.0                        969.2   \n",
       "\n",
       "    Sum of No of Total Schools  \n",
       "0                           11  \n",
       "1                           13  \n",
       "2                           48  \n",
       "3                           42  \n",
       "4                           15  \n",
       "..                         ...  \n",
       "75                          16  \n",
       "76                          57  \n",
       "77                          29  \n",
       "78                          80  \n",
       "79                          13  \n",
       "\n",
       "[80 rows x 9 columns]"
      ]
     },
     "metadata": {},
     "execution_count": 52
    }
   ],
   "metadata": {}
  },
  {
   "cell_type": "code",
   "execution_count": 54,
   "source": [
    "value = education.isnull().values.any()\n",
    "\n",
    "print(value)\n",
    "\n",
    "#So it says that there is still Non Annoounced values\n"
   ],
   "outputs": [
    {
     "output_type": "stream",
     "name": "stdout",
     "text": [
      "True\n"
     ]
    }
   ],
   "metadata": {}
  },
  {
   "cell_type": "code",
   "execution_count": 57,
   "source": [
    "plt.hist(education[\"Sum of No of Total Schools\"],bins=20)"
   ],
   "outputs": [
    {
     "output_type": "execute_result",
     "data": {
      "text/plain": [
       "(array([ 3., 10., 11.,  9.,  6.,  5.,  6.,  4.,  5.,  3.,  4.,  5.,  2.,\n",
       "         3.,  1.,  0.,  0.,  0.,  1.,  2.]),\n",
       " array([ 2.  ,  6.15, 10.3 , 14.45, 18.6 , 22.75, 26.9 , 31.05, 35.2 ,\n",
       "        39.35, 43.5 , 47.65, 51.8 , 55.95, 60.1 , 64.25, 68.4 , 72.55,\n",
       "        76.7 , 80.85, 85.  ]),\n",
       " <BarContainer object of 20 artists>)"
      ]
     },
     "metadata": {},
     "execution_count": 57
    },
    {
     "output_type": "display_data",
     "data": {
      "image/png": "[encoded data removed]",
      "text/plain": [
       "<Figure size 432x288 with 1 Axes>"
      ]
     },
     "metadata": {
      "needs_background": "light"
     }
    }
   ],
   "metadata": {}
  },
  {
   "cell_type": "code",
   "execution_count": 71,
   "source": [
    "plt.plot(edu[\"Local government areas of Victoria\"],edu[\"Sum of No of Total Schools\"])\n"
   ],
   "outputs": [
    {
     "output_type": "execute_result",
     "data": {
      "text/plain": [
       "[<matplotlib.lines.Line2D at 0x7fbf6cc3d4c0>]"
      ]
     },
     "metadata": {},
     "execution_count": 71
    },
    {
     "output_type": "display_data",
     "data": {
      "image/png": "[encoded data removed]",
      "text/plain": [
       "<Figure size 432x288 with 1 Axes>"
      ]
     },
     "metadata": {
      "needs_background": "light"
     }
    }
   ],
   "metadata": {}
  }
 ],
 "metadata": {
  "orig_nbformat": 4,
  "language_info": {
   "name": "python",
   "version": "3.8.5",
   "mimetype": "text/x-python",
   "codemirror_mode": {
    "name": "ipython",
    "version": 3
   },
   "pygments_lexer": "ipython3",
   "nbconvert_exporter": "python",
   "file_extension": ".py"
  },
  "kernelspec": {
   "name": "python3",
   "display_name": "Python 3.8.5 64-bit ('base': conda)"
  },
  "interpreter": {
   "hash": "93b531795e0d28d71c2ab6a3c64d2ba113fe191b2a4b1c92e2d348fb253f4265"
  }
 },
 "nbformat": 4,
 "nbformat_minor": 2
}