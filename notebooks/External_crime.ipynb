{
 "cells": [
  {
   "cell_type": "markdown",
   "source": [
    "# Pre-processing external dataset for project 2: Crime Harashment"
   ],
   "metadata": {}
  },
  {
   "cell_type": "markdown",
   "source": [
    "LGA data tables harm caused Visualization: (Data_Tables_LGA_Harm_Caused_Visualisation_Year_Ending_December_2021)\n",
    "\n",
    "\n",
    "The Harm caused by crime measure reorganises the person based victim reports by principal offence type into an alternate view that is categorised by a high, medium of low harm...\n",
    "\n",
    "\n",
    "Recorded crime statistics are based on data extracted by Victoria police on the 18th day after the reference period, and are subject to movement between releases. For more information about how statistics are compiled, refer to the Explanatory notes on the CSA website.\t\n",
    "\n",
    "Source: https://discover.data.vic.gov.au/dataset/crime-statistics-agency-data-tables-harm-caused"
   ],
   "metadata": {}
  },
  {
   "cell_type": "code",
   "execution_count": 23,
   "source": [
    "#Initialization packages\n",
    "import os\n",
    "import pandas as pd\n",
    "import matplotlib.pyplot as plt\n",
    "import seaborn as sns"
   ],
   "outputs": [],
   "metadata": {}
  },
  {
   "cell_type": "markdown",
   "source": [
    "Loading the external dataset"
   ],
   "metadata": {}
  },
  {
   "cell_type": "code",
   "execution_count": 2,
   "source": [
    "#Direction to working directory\n",
    "os.chdir('/Users/axbmac/Desktop/Applied Data Science/Project 2/External data')\n",
    "print(\"Current working directory: {0}\".format(os.getcwd())) "
   ],
   "outputs": [
    {
     "output_type": "stream",
     "name": "stdout",
     "text": [
      "Current working directory: /Users/axbmac/Desktop/Applied Data Science/Project 2/External Data\n"
     ]
    }
   ],
   "metadata": {}
  },
  {
   "cell_type": "code",
   "execution_count": 3,
   "source": [
    "crime=pd.read_excel('Offence_by_LGA.xls')\n",
    "\n",
    "#crime.describe()\n",
    "crime.tail()"
   ],
   "outputs": [
    {
     "output_type": "execute_result",
     "data": {
      "text/html": [
       "<div>\n",
       "<style scoped>\n",
       "    .dataframe tbody tr th:only-of-type {\n",
       "        vertical-align: middle;\n",
       "    }\n",
       "\n",
       "    .dataframe tbody tr th {\n",
       "        vertical-align: top;\n",
       "    }\n",
       "\n",
       "    .dataframe thead th {\n",
       "        text-align: right;\n",
       "    }\n",
       "</style>\n",
       "<table border=\"1\" class=\"dataframe\">\n",
       "  <thead>\n",
       "    <tr style=\"text-align: right;\">\n",
       "      <th></th>\n",
       "      <th>Year</th>\n",
       "      <th>Year ending</th>\n",
       "      <th>Local Government Area</th>\n",
       "      <th>Offence Group</th>\n",
       "      <th>Harm Caused Flag</th>\n",
       "      <th>Victim Reports</th>\n",
       "      <th>Yr % FV of Total</th>\n",
       "    </tr>\n",
       "  </thead>\n",
       "  <tbody>\n",
       "    <tr>\n",
       "      <th>15180</th>\n",
       "      <td>2012</td>\n",
       "      <td>December</td>\n",
       "      <td>Yarriambiack</td>\n",
       "      <td>A73 Threatening behaviour</td>\n",
       "      <td>Medium Harm</td>\n",
       "      <td>6</td>\n",
       "      <td>33.3</td>\n",
       "    </tr>\n",
       "    <tr>\n",
       "      <th>15181</th>\n",
       "      <td>2012</td>\n",
       "      <td>December</td>\n",
       "      <td>Yarriambiack</td>\n",
       "      <td>B21 Criminal damage</td>\n",
       "      <td>Low Harm</td>\n",
       "      <td>24</td>\n",
       "      <td>8.3</td>\n",
       "    </tr>\n",
       "    <tr>\n",
       "      <th>15182</th>\n",
       "      <td>2012</td>\n",
       "      <td>December</td>\n",
       "      <td>Yarriambiack</td>\n",
       "      <td>B32 Non-aggravated burglary</td>\n",
       "      <td>Low Harm</td>\n",
       "      <td>13</td>\n",
       "      <td>NaN</td>\n",
       "    </tr>\n",
       "    <tr>\n",
       "      <th>15183</th>\n",
       "      <td>2012</td>\n",
       "      <td>December</td>\n",
       "      <td>Yarriambiack</td>\n",
       "      <td>B42 Steal from a motor vehicle</td>\n",
       "      <td>Low Harm</td>\n",
       "      <td>8</td>\n",
       "      <td>NaN</td>\n",
       "    </tr>\n",
       "    <tr>\n",
       "      <th>15184</th>\n",
       "      <td>2012</td>\n",
       "      <td>December</td>\n",
       "      <td>Yarriambiack</td>\n",
       "      <td>B49 Other theft</td>\n",
       "      <td>Low Harm</td>\n",
       "      <td>31</td>\n",
       "      <td>3.2</td>\n",
       "    </tr>\n",
       "  </tbody>\n",
       "</table>\n",
       "</div>"
      ],
      "text/plain": [
       "       Year Year ending Local Government Area                   Offence Group  \\\n",
       "15180  2012    December          Yarriambiack       A73 Threatening behaviour   \n",
       "15181  2012    December          Yarriambiack             B21 Criminal damage   \n",
       "15182  2012    December          Yarriambiack     B32 Non-aggravated burglary   \n",
       "15183  2012    December          Yarriambiack  B42 Steal from a motor vehicle   \n",
       "15184  2012    December          Yarriambiack                 B49 Other theft   \n",
       "\n",
       "      Harm Caused Flag  Victim Reports  Yr % FV of Total  \n",
       "15180      Medium Harm               6              33.3  \n",
       "15181         Low Harm              24               8.3  \n",
       "15182         Low Harm              13               NaN  \n",
       "15183         Low Harm               8               NaN  \n",
       "15184         Low Harm              31               3.2  "
      ]
     },
     "metadata": {},
     "execution_count": 3
    }
   ],
   "metadata": {}
  },
  {
   "cell_type": "code",
   "execution_count": 4,
   "source": [
    "#Dropping non-announced values\n",
    "crime.dropna(axis=0)"
   ],
   "outputs": [
    {
     "output_type": "execute_result",
     "data": {
      "text/html": [
       "<div>\n",
       "<style scoped>\n",
       "    .dataframe tbody tr th:only-of-type {\n",
       "        vertical-align: middle;\n",
       "    }\n",
       "\n",
       "    .dataframe tbody tr th {\n",
       "        vertical-align: top;\n",
       "    }\n",
       "\n",
       "    .dataframe thead th {\n",
       "        text-align: right;\n",
       "    }\n",
       "</style>\n",
       "<table border=\"1\" class=\"dataframe\">\n",
       "  <thead>\n",
       "    <tr style=\"text-align: right;\">\n",
       "      <th></th>\n",
       "      <th>Year</th>\n",
       "      <th>Year ending</th>\n",
       "      <th>Local Government Area</th>\n",
       "      <th>Offence Group</th>\n",
       "      <th>Harm Caused Flag</th>\n",
       "      <th>Victim Reports</th>\n",
       "      <th>Yr % FV of Total</th>\n",
       "    </tr>\n",
       "  </thead>\n",
       "  <tbody>\n",
       "    <tr>\n",
       "      <th>0</th>\n",
       "      <td>2021</td>\n",
       "      <td>December</td>\n",
       "      <td>Alpine</td>\n",
       "      <td>A21 Serious assault</td>\n",
       "      <td>High Harm</td>\n",
       "      <td>22</td>\n",
       "      <td>54.5</td>\n",
       "    </tr>\n",
       "    <tr>\n",
       "      <th>1</th>\n",
       "      <td>2021</td>\n",
       "      <td>December</td>\n",
       "      <td>Alpine</td>\n",
       "      <td>A23 Common assault</td>\n",
       "      <td>Medium Harm</td>\n",
       "      <td>31</td>\n",
       "      <td>61.3</td>\n",
       "    </tr>\n",
       "    <tr>\n",
       "      <th>2</th>\n",
       "      <td>2021</td>\n",
       "      <td>December</td>\n",
       "      <td>Alpine</td>\n",
       "      <td>A31 Rape</td>\n",
       "      <td>High Harm</td>\n",
       "      <td>9</td>\n",
       "      <td>66.7</td>\n",
       "    </tr>\n",
       "    <tr>\n",
       "      <th>3</th>\n",
       "      <td>2021</td>\n",
       "      <td>December</td>\n",
       "      <td>Alpine</td>\n",
       "      <td>A32 Indecent assault</td>\n",
       "      <td>High Harm</td>\n",
       "      <td>10</td>\n",
       "      <td>40.0</td>\n",
       "    </tr>\n",
       "    <tr>\n",
       "      <th>4</th>\n",
       "      <td>2021</td>\n",
       "      <td>December</td>\n",
       "      <td>Alpine</td>\n",
       "      <td>A89 Other dangerous or negligent acts endanger...</td>\n",
       "      <td>Low Harm</td>\n",
       "      <td>5</td>\n",
       "      <td>40.0</td>\n",
       "    </tr>\n",
       "    <tr>\n",
       "      <th>...</th>\n",
       "      <td>...</td>\n",
       "      <td>...</td>\n",
       "      <td>...</td>\n",
       "      <td>...</td>\n",
       "      <td>...</td>\n",
       "      <td>...</td>\n",
       "      <td>...</td>\n",
       "    </tr>\n",
       "    <tr>\n",
       "      <th>15178</th>\n",
       "      <td>2012</td>\n",
       "      <td>December</td>\n",
       "      <td>Yarriambiack</td>\n",
       "      <td>A23 Common assault</td>\n",
       "      <td>Medium Harm</td>\n",
       "      <td>24</td>\n",
       "      <td>62.5</td>\n",
       "    </tr>\n",
       "    <tr>\n",
       "      <th>15179</th>\n",
       "      <td>2012</td>\n",
       "      <td>December</td>\n",
       "      <td>Yarriambiack</td>\n",
       "      <td>A32 Indecent assault</td>\n",
       "      <td>High Harm</td>\n",
       "      <td>5</td>\n",
       "      <td>20.0</td>\n",
       "    </tr>\n",
       "    <tr>\n",
       "      <th>15180</th>\n",
       "      <td>2012</td>\n",
       "      <td>December</td>\n",
       "      <td>Yarriambiack</td>\n",
       "      <td>A73 Threatening behaviour</td>\n",
       "      <td>Medium Harm</td>\n",
       "      <td>6</td>\n",
       "      <td>33.3</td>\n",
       "    </tr>\n",
       "    <tr>\n",
       "      <th>15181</th>\n",
       "      <td>2012</td>\n",
       "      <td>December</td>\n",
       "      <td>Yarriambiack</td>\n",
       "      <td>B21 Criminal damage</td>\n",
       "      <td>Low Harm</td>\n",
       "      <td>24</td>\n",
       "      <td>8.3</td>\n",
       "    </tr>\n",
       "    <tr>\n",
       "      <th>15184</th>\n",
       "      <td>2012</td>\n",
       "      <td>December</td>\n",
       "      <td>Yarriambiack</td>\n",
       "      <td>B49 Other theft</td>\n",
       "      <td>Low Harm</td>\n",
       "      <td>31</td>\n",
       "      <td>3.2</td>\n",
       "    </tr>\n",
       "  </tbody>\n",
       "</table>\n",
       "<p>10552 rows × 7 columns</p>\n",
       "</div>"
      ],
      "text/plain": [
       "       Year Year ending Local Government Area  \\\n",
       "0      2021    December                Alpine   \n",
       "1      2021    December                Alpine   \n",
       "2      2021    December                Alpine   \n",
       "3      2021    December                Alpine   \n",
       "4      2021    December                Alpine   \n",
       "...     ...         ...                   ...   \n",
       "15178  2012    December          Yarriambiack   \n",
       "15179  2012    December          Yarriambiack   \n",
       "15180  2012    December          Yarriambiack   \n",
       "15181  2012    December          Yarriambiack   \n",
       "15184  2012    December          Yarriambiack   \n",
       "\n",
       "                                           Offence Group Harm Caused Flag  \\\n",
       "0                                    A21 Serious assault        High Harm   \n",
       "1                                     A23 Common assault      Medium Harm   \n",
       "2                                               A31 Rape        High Harm   \n",
       "3                                   A32 Indecent assault        High Harm   \n",
       "4      A89 Other dangerous or negligent acts endanger...         Low Harm   \n",
       "...                                                  ...              ...   \n",
       "15178                                 A23 Common assault      Medium Harm   \n",
       "15179                               A32 Indecent assault        High Harm   \n",
       "15180                          A73 Threatening behaviour      Medium Harm   \n",
       "15181                                B21 Criminal damage         Low Harm   \n",
       "15184                                    B49 Other theft         Low Harm   \n",
       "\n",
       "       Victim Reports  Yr % FV of Total  \n",
       "0                  22              54.5  \n",
       "1                  31              61.3  \n",
       "2                   9              66.7  \n",
       "3                  10              40.0  \n",
       "4                   5              40.0  \n",
       "...               ...               ...  \n",
       "15178              24              62.5  \n",
       "15179               5              20.0  \n",
       "15180               6              33.3  \n",
       "15181              24               8.3  \n",
       "15184              31               3.2  \n",
       "\n",
       "[10552 rows x 7 columns]"
      ]
     },
     "metadata": {},
     "execution_count": 4
    }
   ],
   "metadata": {}
  },
  {
   "cell_type": "code",
   "execution_count": 5,
   "source": [
    "#We have NaN values in the last column \"Yr % FV of Total\"!\n",
    "crime.isnull().any()"
   ],
   "outputs": [
    {
     "output_type": "execute_result",
     "data": {
      "text/plain": [
       "Year                     False\n",
       "Year ending              False\n",
       "Local Government Area    False\n",
       "Offence Group            False\n",
       "Harm Caused Flag         False\n",
       "Victim Reports           False\n",
       "Yr % FV of Total          True\n",
       "dtype: bool"
      ]
     },
     "metadata": {},
     "execution_count": 5
    }
   ],
   "metadata": {}
  },
  {
   "cell_type": "code",
   "execution_count": 6,
   "source": [
    "#Removing Year ending due to irrelevance\n",
    "crime.drop(\"Year ending\",axis=1,inplace=True)\n"
   ],
   "outputs": [],
   "metadata": {}
  },
  {
   "cell_type": "code",
   "execution_count": 7,
   "source": [
    "crime"
   ],
   "outputs": [
    {
     "output_type": "execute_result",
     "data": {
      "text/html": [
       "<div>\n",
       "<style scoped>\n",
       "    .dataframe tbody tr th:only-of-type {\n",
       "        vertical-align: middle;\n",
       "    }\n",
       "\n",
       "    .dataframe tbody tr th {\n",
       "        vertical-align: top;\n",
       "    }\n",
       "\n",
       "    .dataframe thead th {\n",
       "        text-align: right;\n",
       "    }\n",
       "</style>\n",
       "<table border=\"1\" class=\"dataframe\">\n",
       "  <thead>\n",
       "    <tr style=\"text-align: right;\">\n",
       "      <th></th>\n",
       "      <th>Year</th>\n",
       "      <th>Local Government Area</th>\n",
       "      <th>Offence Group</th>\n",
       "      <th>Harm Caused Flag</th>\n",
       "      <th>Victim Reports</th>\n",
       "      <th>Yr % FV of Total</th>\n",
       "    </tr>\n",
       "  </thead>\n",
       "  <tbody>\n",
       "    <tr>\n",
       "      <th>0</th>\n",
       "      <td>2021</td>\n",
       "      <td>Alpine</td>\n",
       "      <td>A21 Serious assault</td>\n",
       "      <td>High Harm</td>\n",
       "      <td>22</td>\n",
       "      <td>54.5</td>\n",
       "    </tr>\n",
       "    <tr>\n",
       "      <th>1</th>\n",
       "      <td>2021</td>\n",
       "      <td>Alpine</td>\n",
       "      <td>A23 Common assault</td>\n",
       "      <td>Medium Harm</td>\n",
       "      <td>31</td>\n",
       "      <td>61.3</td>\n",
       "    </tr>\n",
       "    <tr>\n",
       "      <th>2</th>\n",
       "      <td>2021</td>\n",
       "      <td>Alpine</td>\n",
       "      <td>A31 Rape</td>\n",
       "      <td>High Harm</td>\n",
       "      <td>9</td>\n",
       "      <td>66.7</td>\n",
       "    </tr>\n",
       "    <tr>\n",
       "      <th>3</th>\n",
       "      <td>2021</td>\n",
       "      <td>Alpine</td>\n",
       "      <td>A32 Indecent assault</td>\n",
       "      <td>High Harm</td>\n",
       "      <td>10</td>\n",
       "      <td>40.0</td>\n",
       "    </tr>\n",
       "    <tr>\n",
       "      <th>4</th>\n",
       "      <td>2021</td>\n",
       "      <td>Alpine</td>\n",
       "      <td>A89 Other dangerous or negligent acts endanger...</td>\n",
       "      <td>Low Harm</td>\n",
       "      <td>5</td>\n",
       "      <td>40.0</td>\n",
       "    </tr>\n",
       "    <tr>\n",
       "      <th>...</th>\n",
       "      <td>...</td>\n",
       "      <td>...</td>\n",
       "      <td>...</td>\n",
       "      <td>...</td>\n",
       "      <td>...</td>\n",
       "      <td>...</td>\n",
       "    </tr>\n",
       "    <tr>\n",
       "      <th>15180</th>\n",
       "      <td>2012</td>\n",
       "      <td>Yarriambiack</td>\n",
       "      <td>A73 Threatening behaviour</td>\n",
       "      <td>Medium Harm</td>\n",
       "      <td>6</td>\n",
       "      <td>33.3</td>\n",
       "    </tr>\n",
       "    <tr>\n",
       "      <th>15181</th>\n",
       "      <td>2012</td>\n",
       "      <td>Yarriambiack</td>\n",
       "      <td>B21 Criminal damage</td>\n",
       "      <td>Low Harm</td>\n",
       "      <td>24</td>\n",
       "      <td>8.3</td>\n",
       "    </tr>\n",
       "    <tr>\n",
       "      <th>15182</th>\n",
       "      <td>2012</td>\n",
       "      <td>Yarriambiack</td>\n",
       "      <td>B32 Non-aggravated burglary</td>\n",
       "      <td>Low Harm</td>\n",
       "      <td>13</td>\n",
       "      <td>NaN</td>\n",
       "    </tr>\n",
       "    <tr>\n",
       "      <th>15183</th>\n",
       "      <td>2012</td>\n",
       "      <td>Yarriambiack</td>\n",
       "      <td>B42 Steal from a motor vehicle</td>\n",
       "      <td>Low Harm</td>\n",
       "      <td>8</td>\n",
       "      <td>NaN</td>\n",
       "    </tr>\n",
       "    <tr>\n",
       "      <th>15184</th>\n",
       "      <td>2012</td>\n",
       "      <td>Yarriambiack</td>\n",
       "      <td>B49 Other theft</td>\n",
       "      <td>Low Harm</td>\n",
       "      <td>31</td>\n",
       "      <td>3.2</td>\n",
       "    </tr>\n",
       "  </tbody>\n",
       "</table>\n",
       "<p>15185 rows × 6 columns</p>\n",
       "</div>"
      ],
      "text/plain": [
       "       Year Local Government Area  \\\n",
       "0      2021                Alpine   \n",
       "1      2021                Alpine   \n",
       "2      2021                Alpine   \n",
       "3      2021                Alpine   \n",
       "4      2021                Alpine   \n",
       "...     ...                   ...   \n",
       "15180  2012          Yarriambiack   \n",
       "15181  2012          Yarriambiack   \n",
       "15182  2012          Yarriambiack   \n",
       "15183  2012          Yarriambiack   \n",
       "15184  2012          Yarriambiack   \n",
       "\n",
       "                                           Offence Group Harm Caused Flag  \\\n",
       "0                                    A21 Serious assault        High Harm   \n",
       "1                                     A23 Common assault      Medium Harm   \n",
       "2                                               A31 Rape        High Harm   \n",
       "3                                   A32 Indecent assault        High Harm   \n",
       "4      A89 Other dangerous or negligent acts endanger...         Low Harm   \n",
       "...                                                  ...              ...   \n",
       "15180                          A73 Threatening behaviour      Medium Harm   \n",
       "15181                                B21 Criminal damage         Low Harm   \n",
       "15182                        B32 Non-aggravated burglary         Low Harm   \n",
       "15183                     B42 Steal from a motor vehicle         Low Harm   \n",
       "15184                                    B49 Other theft         Low Harm   \n",
       "\n",
       "       Victim Reports  Yr % FV of Total  \n",
       "0                  22              54.5  \n",
       "1                  31              61.3  \n",
       "2                   9              66.7  \n",
       "3                  10              40.0  \n",
       "4                   5              40.0  \n",
       "...               ...               ...  \n",
       "15180               6              33.3  \n",
       "15181              24               8.3  \n",
       "15182              13               NaN  \n",
       "15183               8               NaN  \n",
       "15184              31               3.2  \n",
       "\n",
       "[15185 rows x 6 columns]"
      ]
     },
     "metadata": {},
     "execution_count": 7
    }
   ],
   "metadata": {}
  },
  {
   "cell_type": "code",
   "execution_count": 8,
   "source": [
    "# Total Victim reports pr. LGA \n",
    "crime.groupby(\"Local Government Area\").sum().agg(\"Victim Reports\")"
   ],
   "outputs": [
    {
     "output_type": "execute_result",
     "data": {
      "text/plain": [
       "Local Government Area\n",
       "Alpine           1641\n",
       "Ararat           4736\n",
       "Ballarat        50318\n",
       "Banyule         38353\n",
       "Bass Coast      11711\n",
       "                ...  \n",
       "Wodonga         13791\n",
       "Wyndham         65910\n",
       "Yarra           62128\n",
       "Yarra Ranges    31075\n",
       "Yarriambiack     1713\n",
       "Name: Victim Reports, Length: 79, dtype: int64"
      ]
     },
     "metadata": {},
     "execution_count": 8
    }
   ],
   "metadata": {}
  },
  {
   "cell_type": "code",
   "execution_count": 9,
   "source": [
    "\n",
    "# Total Victim reports pr. year \n",
    "crime.groupby(\"Year\").agg(\"Victim Reports\").sum()"
   ],
   "outputs": [
    {
     "output_type": "execute_result",
     "data": {
      "text/plain": [
       "Year\n",
       "2012    204502\n",
       "2013    199634\n",
       "2014    203107\n",
       "2015    215767\n",
       "2016    244730\n",
       "2017    216874\n",
       "2018    216468\n",
       "2019    228186\n",
       "2020    205574\n",
       "2021    198239\n",
       "Name: Victim Reports, dtype: int64"
      ]
     },
     "metadata": {},
     "execution_count": 9
    }
   ],
   "metadata": {}
  },
  {
   "cell_type": "code",
   "execution_count": 12,
   "source": [
    "#The average Victim Reports pr. Year\n",
    "crime.groupby(\"Year\").agg(\"Victim Reports\").mean()"
   ],
   "outputs": [
    {
     "output_type": "execute_result",
     "data": {
      "text/plain": [
       "Year\n",
       "2012    143.409537\n",
       "2013    137.583735\n",
       "2014    139.592440\n",
       "2015    147.886909\n",
       "2016    162.395488\n",
       "2017    140.735886\n",
       "2018    137.877707\n",
       "2019    142.616250\n",
       "2020    129.373191\n",
       "2021    124.914304\n",
       "Name: Victim Reports, dtype: float64"
      ]
     },
     "metadata": {},
     "execution_count": 12
    }
   ],
   "metadata": {}
  },
  {
   "cell_type": "code",
   "execution_count": 66,
   "source": [
    "# Sum of Victim Reports by Local Government Areas\n",
    "crime.groupby(\"Local Government Area\").agg(\"Victim Reports\").sum()\n"
   ],
   "outputs": [
    {
     "output_type": "execute_result",
     "data": {
      "text/plain": [
       "Local Government Area\n",
       "Alpine           1641\n",
       "Ararat           4736\n",
       "Ballarat        50318\n",
       "Banyule         38353\n",
       "Bass Coast      11711\n",
       "                ...  \n",
       "Wodonga         13791\n",
       "Wyndham         65910\n",
       "Yarra           62128\n",
       "Yarra Ranges    31075\n",
       "Yarriambiack     1713\n",
       "Name: Victim Reports, Length: 79, dtype: int64"
      ]
     },
     "metadata": {},
     "execution_count": 66
    }
   ],
   "metadata": {}
  },
  {
   "cell_type": "code",
   "execution_count": 71,
   "source": [
    "#Plot of Victim Reports pr. LGA\n",
    "from matplotlib.pyplot import figure\n",
    "\n",
    "plt.figure(figsize=(16, 12), dpi=80)\n",
    "crime.groupby('Local Government Area')['Victim Reports'].count().plot(kind='bar')\n",
    "\n",
    "plt.title(\"Victim Reports pr. LGA\")\n",
    "plt.xlabel(\"LGA's\")\n",
    "plt.ylabel(\"# Victim Reports\")\n",
    "plt.show()"
   ],
   "outputs": [
    {
     "output_type": "display_data",
     "data": {
      "image/png": "[encoded data removed]",
      "text/plain": [
       "<Figure size 1280x960 with 1 Axes>"
      ]
     },
     "metadata": {
      "needs_background": "light"
     }
    }
   ],
   "metadata": {}
  },
  {
   "cell_type": "code",
   "execution_count": 62,
   "source": [
    "#Plot of Victim Reports across Harm Caused Flags \n",
    "crime.groupby('Harm Caused Flag')['Victim Reports'].nunique().plot(kind='bar')\n",
    "\n",
    "plt.title(\"Victim Reports across Harm Caused Flags\")\n",
    "plt.xlabel(\"Harm Caused Flags\")\n",
    "plt.ylabel(\"# Victim Reports\")\n",
    "\n",
    "plt.show()"
   ],
   "outputs": [
    {
     "output_type": "display_data",
     "data": {
      "image/png": "[encoded data removed]",
      "text/plain": [
       "<Figure size 432x288 with 1 Axes>"
      ]
     },
     "metadata": {
      "needs_background": "light"
     }
    }
   ],
   "metadata": {}
  },
  {
   "cell_type": "code",
   "execution_count": 61,
   "source": [
    "#Plot of Harm Caused Flag pr. Year\n",
    "fig=sns.histplot(data=crime, x=\"Year\", hue=\"Harm Caused Flag\", multiple=\"stack\").set(title=\"Harm Caused Flags pr. Year\")\n",
    "plt.xlabel(\"Year\")\n",
    "plt.ylabel(\"# Victim Reports\")\n",
    "\n",
    "plt.show(fig)\n"
   ],
   "outputs": [
    {
     "output_type": "display_data",
     "data": {
      "image/png": "[encoded data removed]",
      "text/plain": [
       "<Figure size 432x288 with 1 Axes>"
      ]
     },
     "metadata": {
      "needs_background": "light"
     }
    }
   ],
   "metadata": {}
  }
 ],
 "metadata": {
  "orig_nbformat": 4,
  "language_info": {
   "name": "python",
   "version": "3.8.5",
   "mimetype": "text/x-python",
   "codemirror_mode": {
    "name": "ipython",
    "version": 3
   },
   "pygments_lexer": "ipython3",
   "nbconvert_exporter": "python",
   "file_extension": ".py"
  },
  "kernelspec": {
   "name": "python3",
   "display_name": "Python 3.8.5 64-bit ('base': conda)"
  },
  "interpreter": {
   "hash": "93b531795e0d28d71c2ab6a3c64d2ba113fe191b2a4b1c92e2d348fb253f4265"
  }
 },
 "nbformat": 4,
 "nbformat_minor": 2
}