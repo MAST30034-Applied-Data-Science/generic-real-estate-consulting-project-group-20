{
 "cells": [
  {
   "cell_type": "code",
   "execution_count": 1,
   "id": "e3fa8e3d",
   "metadata": {},
   "outputs": [],
   "source": [
    "import geopandas as gpd\n",
    "import pandas as pd\n",
    "import ast #can make use of ast.literal_eval(string_rep_of_list) to convert string repr of list to actual list object\n",
    "from shapely.geometry import Point\n",
    "import folium\n",
    "import numpy as np\n",
    "import matplotlib.pyplot as plt\n",
    "from shapely import wkt #to find centroid of a polygon"
   ]
  },
  {
   "cell_type": "code",
   "execution_count": 10,
   "id": "fe828c36",
   "metadata": {},
   "outputs": [],
   "source": [
    "final_preproc_rental = pd.read_csv('../data/curated/Final_Preprocessed_Scraped_Rental.csv').drop(columns=['Unnamed: 0'])\n",
    "vic_sf = gpd.read_file('../data/raw/vic_localities.shp')"
   ]
  },
  {
   "cell_type": "markdown",
   "id": "fed2b2d9",
   "metadata": {},
   "source": [
    "# First, preprocess the victoria shapefile"
   ]
  },
  {
   "cell_type": "code",
   "execution_count": 11,
   "id": "d6e6dd90",
   "metadata": {},
   "outputs": [],
   "source": [
    "def preproc_shapefile(vic_shapefile):\n",
    "    \n",
    "    #casefold into lower cases \n",
    "    vic_shapefile['LOC_NAME'] = vic_shapefile['LOC_NAME'].str.lower()\n",
    "    \n",
    "    #fix up some suburb names\n",
    "    final_preproc_rental.loc[final_preproc_rental['suburb'] == 'prahran east','suburb'] = 'prahran'\n",
    "    final_preproc_rental.loc[final_preproc_rental['suburb'] == 'preston west','suburb'] = 'preston'\n",
    "    final_preproc_rental.loc[final_preproc_rental['suburb'] == 'sanctuary lakes','suburb'] = 'point cook'\n",
    "    \n",
    "    #remove duplicates\n",
    "    vic_shapefile_no_duplicates = vic_shapefile.loc[vic_shapefile['LOC_NAME'].drop_duplicates().index,:]\n",
    "    \n",
    "    vic_shapefile['centroid'] = vic_shapefile['geometry'].map(\n",
    "    lambda polygon: \n",
    "        wkt.loads( #after finding centroid, need to re-parse this back into a Point object\n",
    "            wkt.loads(str(polygon)).centroid.wkt #need str object to find centroid\n",
    "        )\n",
    "    )\n",
    "    \n",
    "    return vic_shapefile\n",
    "    \n",
    "    "
   ]
  },
  {
   "cell_type": "code",
   "execution_count": 26,
   "id": "4c0ee6b2",
   "metadata": {},
   "outputs": [],
   "source": [
    "vic_shapefile_no_duplicates = preproc_shapefile(vic_sf)"
   ]
  },
  {
   "cell_type": "markdown",
   "id": "41c231af",
   "metadata": {},
   "source": [
    "# Helper function to plot geospatial heatmap (just for ONE variable!)"
   ]
  },
  {
   "cell_type": "code",
   "execution_count": 47,
   "id": "5c2acb3d",
   "metadata": {},
   "outputs": [],
   "source": [
    "def geopandas_plotting(rental_df, \n",
    "                       sf, \n",
    "                       legend_name='Distribution of prices across suburbs', \n",
    "                       col_to_be_plot='cost_text',\n",
    "                       save=False,\n",
    "                       saved_map_name='',\n",
    "                       map_format='html'):\n",
    "    \n",
    "    \"\"\"\n",
    "    Helper function to plot an aggregated metric by suburb\n",
    "    (e.g. taking the mean of rental prices per suburb)\n",
    "    \n",
    "    Arguments:\n",
    "    1. rental_df: df containing suburb columns and an aggregated\n",
    "    metric corresponding to each suburb \n",
    "    \n",
    "    E.g. columns may look like SUBURB || MEAN OF RENTAL PRICES\n",
    "    \n",
    "    2. sf: preprocessed victoria shapefile using the function above\n",
    "    \n",
    "    3. legend_name: legend text to appear on bottom right of the folium map\n",
    "    \n",
    "    4. col_to_be_plot: which numeric col to be plotted \n",
    "    \n",
    "    \n",
    "    \"\"\"\n",
    "    \n",
    "    \n",
    "    #if not specifying the legend name then the default one \n",
    "    #here will be used. \n",
    "    if not legend_name:\n",
    "        legend_name = f'Distribution of {col_to_be_plot} across suburbs'\n",
    "\n",
    "    #sf: shapefile of all victorian suburbs (vic_shapefile_no_duplicates)\n",
    "\n",
    "    #need to have shapefile and zone lookups (in this case, suburb) before plotting\n",
    "    \n",
    "    \n",
    "\n",
    "    # Convert the geometry shaape to to latitude and longitude\n",
    "    # Please attribute this if you are using it\n",
    "    sf['geometry'] = sf['geometry'].to_crs(\"+proj=longlat +ellps=WGS84 +datum=WGS84 +no_defs\")\n",
    "\n",
    "    #gdf = rental_df merged with sf to obtain the geometry for each subrub\n",
    "    gdf = rental_df.merge(sf[['LOC_NAME', 'geometry']],\n",
    "            left_on = 'suburb',\n",
    "            right_on = 'LOC_NAME',\n",
    "            how='inner').\\\n",
    "            drop(columns=['LOC_NAME'])\n",
    "\n",
    "    #convert the merged rental_df to a GeoDataFrame \n",
    "    gdf = gpd.GeoDataFrame(gdf)\n",
    "\n",
    "    # combine geopandas with folium to create visualistion,  \n",
    "    # but still need geojson and folium map object\n",
    "\n",
    "    #note: drop duplicates because initiallly there are multiple properties in a suburb\n",
    "    #but to find the geometry we don't require all duplicates. \n",
    "    geoJSON = gdf[['suburb', 'geometry']].drop_duplicates('suburb').to_json()\n",
    "\n",
    "\n",
    "    # df_toplot = rental_df.copy()\n",
    "    # df_toplot = df_toplot \\\n",
    "    # .merge(gdf[['LocationID', 'geometry']], left_on='PULocationID', right_on='LocationID') \\\n",
    "    # .drop('LocationID', axis=1) #drop duplicate LocationID column\n",
    "\n",
    "    # print(df_toplot)\n",
    "\n",
    "    m = folium.Map(location=[-37.7829335, 144.9575056])\n",
    "\n",
    "    # refer to the folium documentations on more information on how to plot aggregated data.\n",
    "    c = folium.Choropleth(\n",
    "        geo_data=geoJSON, # geoJSON \n",
    "        name='choropleth', # name of plot\n",
    "        data=gdf, # data source\n",
    "        columns=['suburb',col_to_be_plot], # the columns required\n",
    "        key_on='properties.suburb', # this is from the geoJSON's properties\n",
    "        fill_color='YlOrRd', # color scheme\n",
    "        nan_fill_color='black',\n",
    "        legend_name=legend_name\n",
    "    )\n",
    "\n",
    "    c.add_to(m)\n",
    "\n",
    "\n",
    "    display(m)\n",
    "    \n",
    "    if save == True:\n",
    "        m.save(f'../plots/{saved_map_name}.{map_format}')\n"
   ]
  },
  {
   "cell_type": "markdown",
   "id": "749da438",
   "metadata": {},
   "source": [
    "# Helper function to geospatial heatmap on a variable, PLUS the addition of 2nd variable via the markers.\n",
    "- second variable can either be ordinal or continuous."
   ]
  },
  {
   "cell_type": "code",
   "execution_count": 48,
   "id": "d8d12e1e",
   "metadata": {},
   "outputs": [],
   "source": [
    "def geopandas_plotting_try_marker_with_second_var(rental_df, \n",
    "                                  sf, \n",
    "                                  second_variable,\n",
    "                                  legend_name='Distribution of prices across suburbs', \n",
    "                                  col_to_be_plot='cost_text',\n",
    "                                  SCALE_RADIUS=1,\n",
    "                                  SCALE_WEIGHT=1,\n",
    "                                  WANT_CONSTANT_RADIUS=True,\n",
    "                                  save=False,\n",
    "                                  saved_map_name='',\n",
    "                                  saved_map_format='html'):\n",
    "    \n",
    "    \"\"\"\n",
    "    Plot mean rental price per suburb against a second variable, \n",
    "    for which magnitude is indicated via the radius and/or weights\n",
    "    of the circle markers. \n",
    "    \n",
    "    Some \"tradeoffs\" for testing the readability of the markers:\n",
    "    \n",
    "    1. Can either keep radius constant (just scale them), and \n",
    "    include the contribution of the 2nd variable via the weights. \n",
    "    Too much of weight --> indistinguishable magnitude, \n",
    "    Too little of weight --> Unreadable magnitude\n",
    "    \n",
    "    2. If values of 2nd variable not too big, then we can use\n",
    "    non-constant radius: it will be determined by the values \n",
    "    of the 2nd variable. \n",
    "    - Risk: too much overlapping markers \n",
    "    \n",
    "    feel free to experiment on this.\n",
    "    \n",
    "    \n",
    "    \"\"\"\n",
    "    \n",
    "    \n",
    "    \n",
    "    #if not specifying the legend name then the default one \n",
    "    #here will be used. \n",
    "    if not legend_name: \n",
    "        legend_name = f'Distribution of {col_to_be_plot} across suburbs'\n",
    "    \n",
    "\n",
    "    #sf: shapefile of all victorian suburbs (vic_shapefile_no_duplicates)\n",
    "\n",
    "    #need to have shapefile and zone lookups (in this case, suburb) before plotting\n",
    "    \n",
    "\n",
    "    # Convert the geometry shaape to to latitude and longitude\n",
    "    # Please attribute this if you are using it\n",
    "    sf['geometry'] = sf['geometry'].to_crs(\"+proj=longlat +ellps=WGS84 +datum=WGS84 +no_defs\")\n",
    "\n",
    "    #gdf = rental_df merged with sf to obtain the geometry for each subrub\n",
    "    gdf = rental_df.merge(sf[['LOC_NAME', 'geometry', 'centroid']],\n",
    "            left_on = 'suburb',\n",
    "            right_on = 'LOC_NAME',\n",
    "            how='inner').\\\n",
    "            drop(columns=['LOC_NAME'])\n",
    "\n",
    "    #convert the merged rental_df to a GeoDataFrame \n",
    "    gdf = gpd.GeoDataFrame(gdf)\n",
    "\n",
    "    #display(gdf)\n",
    "    \n",
    "    # combine geopandas with folium to create visualistion,  \n",
    "    # but still need geojson and folium map object\n",
    "\n",
    "    #note: drop duplicates because initiallly there are multiple properties in a suburb\n",
    "    #but to find the geometry we don't require all duplicates. \n",
    "    geoJSON = gdf[['suburb', 'geometry']].drop_duplicates('suburb').to_json()\n",
    "\n",
    "\n",
    "    m = folium.Map(location=[-37.7829335, 144.9575056])\n",
    "    \n",
    "\n",
    "    # refer to the folium documentations on more information on how to plot aggregated data.\n",
    "    c = folium.Choropleth(\n",
    "        geo_data=geoJSON, # geoJSON \n",
    "        name='choropleth', # name of plot\n",
    "        data=gdf, # data source\n",
    "        columns=['suburb',col_to_be_plot], # the columns required\n",
    "        key_on='properties.suburb', # this is from the geoJSON's properties\n",
    "        fill_color='YlOrRd', # color scheme\n",
    "        nan_fill_color='black',\n",
    "        legend_name=legend_name\n",
    "    )\n",
    "   \n",
    "    \n",
    "    c.add_to(m)\n",
    "    \n",
    "    #typecast second_variable (which is ordinal) into \n",
    "    #float. Else if numpy int --> not recognizable \n",
    "    #--> throws error (int64 is not JSON serializable or whatever)\n",
    "    gdf[second_variable] = gdf[second_variable].astype('float')\n",
    "    \n",
    "    \n",
    "    \n",
    "    #AN ATTEMPT TO ADD MARKERS: use CircleMarker\n",
    "    \n",
    "    for i in range(0, gdf.shape[0]):\n",
    "        \n",
    "        one_suburb = gdf.iloc[i,:]\n",
    "        \n",
    "        lat = one_suburb['centroid'].y\n",
    "        lon = one_suburb['centroid'].x\n",
    "        \n",
    "        #if we want to scale radius for all suburbs, or\n",
    "        #do we want it to vary based on the value of second var\n",
    "        \n",
    "        if WANT_CONSTANT_RADIUS == True:\n",
    "            RADIUS = SCALE_RADIUS\n",
    "        else:\n",
    "            RADIUS = SCALE_RADIUS * one_suburb[second_variable]\n",
    "        \n",
    "        #\n",
    "        WEIGHT = one_suburb[second_variable]*SCALE_WEIGHT\n",
    "        \n",
    "        \n",
    "        marker = folium.CircleMarker(\n",
    "                location=[lat,lon],\n",
    "                radius = RADIUS,\n",
    "                popup=\"Laurelhurst Park\",\n",
    "                color=\"#3186cc\",\n",
    "                fill=True,\n",
    "                fill_color=\"grey\",\n",
    "                #opacity? less values --> less transparent\n",
    "                #to increase border color and decrease fill color,\n",
    "                #increase radius and decrease weight\n",
    "                weight = WEIGHT\n",
    "            )\n",
    "        \n",
    "        marker.add_to(m)\n",
    "        \n",
    "    display(m)\n",
    "    \n",
    "    if save == True:\n",
    "        m.save(f'../plots/{saved_map_name}.{saved_map_format}')\n",
    "    \n"
   ]
  },
  {
   "cell_type": "markdown",
   "id": "50fd2b4d",
   "metadata": {},
   "source": [
    "# Helper functions to prepare for geospatial modelling"
   ]
  },
  {
   "cell_type": "markdown",
   "id": "0553fce6",
   "metadata": {},
   "source": [
    "Include second variable, with binning"
   ]
  },
  {
   "cell_type": "code",
   "execution_count": 49,
   "id": "86605393",
   "metadata": {},
   "outputs": [],
   "source": [
    "def modify_rental_df_for_geovisual_incl_second_var(final_preproc_rental, \n",
    "                                           PARTITIONS,\n",
    "                                           second_num_var,\n",
    "                                           need_log_for_rental=True):\n",
    "    \n",
    "    \"\"\"This function aims to prepare a dataframe for geospatial plotting, \n",
    "    consisting of: \n",
    "    1. mean rental price grouped by suburb, \n",
    "    \n",
    "    2. AND the mean of another variable grouped by suburb.  \n",
    "        - However, these means will be binned into ordinal variables, based on the cutoffs\n",
    "            signified by PARTITIONS (excl. endpoints) , which is a list of numbers indicating\n",
    "            (arbitrary..) boundaries from second_num_var assessed from the full dataset.\n",
    "            \n",
    "    The outputted df will have columns:\n",
    "    \n",
    "    index || suburb || cost_text || second_num_var || second_num_var_category\n",
    "    \n",
    "    \"\"\"\n",
    "    \n",
    "    #for each suburb, calculate:\n",
    "    #1. mean of rental price, and \n",
    "    #2. mean of the second numerical variable\n",
    "    mean_cost_text_and_mean_second_var_per_sub =\\\n",
    "            final_preproc_rental.groupby('suburb').agg({'cost_text':'mean', second_num_var:'mean'})\n",
    "    \n",
    "    \n",
    "    #define the endpoints of the partitions\n",
    "    PARTITIONS_W_ENDPOINTS = [final_preproc_rental[second_num_var].min()] +\\\n",
    "                 PARTITIONS +\\\n",
    "                 [final_preproc_rental[second_num_var].max()]\n",
    "    \n",
    "    #map each of mean second numeric variable  \n",
    "    #to its respective categories\n",
    "    \n",
    "    mean_2nd_var_per_suburb_categs = pd.cut(\n",
    "        mean_cost_text_and_mean_second_var_per_sub[second_num_var], \n",
    "        PARTITIONS_W_ENDPOINTS,\n",
    "        include_lowest=True\n",
    "      )\n",
    "    \n",
    "    #Now the categories are still of type Category. \n",
    "    #Would be nice to map them into ordinal variables instead (ints)\n",
    "    #since each category is still of Category data type, would be nice if we \n",
    "    #make it an ordinal variable\n",
    "    \n",
    "    NUM_CATEGS_TRAIN_DIST = mean_2nd_var_per_suburb_categs.nunique()\n",
    "    \n",
    "    CATEGS_OF_2ND_VAR_TO_ORDINAL_LOOOKUP =\\\n",
    "        dict(\n",
    "            zip(\n",
    "                mean_2nd_var_per_suburb_categs.unique().sort_values(),\n",
    "                 range(1,NUM_CATEGS_TRAIN_DIST+1)\n",
    "            )\n",
    "        )\n",
    "    \n",
    "    #map the categories to ordinal variables (integers)\n",
    "    \n",
    "    second_num_categorized_colname = f'{second_num_var}_category'\n",
    "    \n",
    "    mean_cost_text_and_mean_second_var_per_sub[second_num_categorized_colname] =\\\n",
    "        mean_2nd_var_per_suburb_categs.map(\n",
    "            lambda category: CATEGS_OF_2ND_VAR_TO_ORDINAL_LOOOKUP[category])\n",
    "    \n",
    "    #if need to display rental price in log scale\n",
    "    if need_log_for_rental == True:\n",
    "        mean_cost_text_and_mean_second_var_per_sub['cost_text'] = \\\n",
    "            np.log(mean_cost_text_and_mean_second_var_per_sub['cost_text'])\n",
    "    \n",
    "    #now mean_cost_text_and_mean_second_var_per_sub is ready for plotting!\n",
    "    return mean_cost_text_and_mean_second_var_per_sub.reset_index()\n",
    "    \n",
    "    \n",
    "    "
   ]
  },
  {
   "cell_type": "markdown",
   "id": "1cc60923",
   "metadata": {},
   "source": [
    "If we want to include 2nd variable, but without binning it"
   ]
  },
  {
   "cell_type": "code",
   "execution_count": 27,
   "id": "b79b8e04",
   "metadata": {},
   "outputs": [],
   "source": [
    "def modify_rental_df_for_geovisual_incl_second_var_no_binning(final_preproc_rental, \n",
    "                                           second_num_var,\n",
    "                                           normalize_second_var=False,\n",
    "                                           need_log_for_rental=True,\n",
    "                                           need_log_second_var=False):\n",
    "    \n",
    "    \"\"\"This function aims to prepare a dataframe for geospatial plotting, \n",
    "    consisting of: \n",
    "    1. mean rental price grouped by suburb, \n",
    "    \n",
    "    2. AND the mean of another variable grouped by suburb.  \n",
    "            \n",
    "    The outputted df will have columns:\n",
    "    \n",
    "    index || suburb || cost_text || second_num_var \n",
    "    \n",
    "    \"\"\"\n",
    "    \n",
    "    #for each suburb, calculate:\n",
    "    #1. mean of rental price, and \n",
    "    #2. mean of the second numerical variable\n",
    "    mean_cost_text_and_mean_second_var_per_sub =\\\n",
    "            final_preproc_rental.groupby('suburb').agg({'cost_text':'mean', second_num_var:'mean'})\n",
    "    \n",
    "    \n",
    "    if need_log_second_var == True:\n",
    "        mean_cost_text_and_mean_second_var_per_sub[second_num_var] =\\\n",
    "            np.log(mean_cost_text_and_mean_second_var_per_sub[second_num_var])\n",
    "    \n",
    "    \n",
    "    #maybe we can make the mean of second_num_var across all suburbs to be normalized\n",
    "    #to a 0-1 range so that in the geopandas plot the sizes would be 'comparable'.\n",
    "    #currently I use the min-max scaler for the normalization method. \n",
    "    \n",
    "    if normalize_second_var == True:\n",
    "        \n",
    "        #obtain metrics needed for min-max scaler\n",
    "        max_second_num_var = mean_cost_text_and_mean_second_var_per_sub[second_num_var].max()\n",
    "        min_second_num_var = mean_cost_text_and_mean_second_var_per_sub[second_num_var].min()\n",
    "        \n",
    "        diff_max_min_min_second_num_var = max_second_num_var - min_second_num_var\n",
    "        \n",
    "        #now, we do the scaling\n",
    "        mean_cost_text_and_mean_second_var_per_sub[second_num_var] =\\\n",
    "            mean_cost_text_and_mean_second_var_per_sub[second_num_var].\\\n",
    "                    map(lambda x: \n",
    "                        (x - min_second_num_var)/diff_max_min_min_second_num_var\n",
    "                       )\n",
    "        \n",
    "    \n",
    "    #if need to display rental price in log scale\n",
    "    if need_log_for_rental == True:\n",
    "        mean_cost_text_and_mean_second_var_per_sub['cost_text'] = \\\n",
    "            np.log(mean_cost_text_and_mean_second_var_per_sub['cost_text'])\n",
    "    \n",
    "    #now mean_cost_text_and_mean_second_var_per_sub is ready for plotting!\n",
    "    return mean_cost_text_and_mean_second_var_per_sub.reset_index()\n",
    "    \n",
    "    \n",
    "    "
   ]
  },
  {
   "cell_type": "markdown",
   "id": "a4e0fa62",
   "metadata": {},
   "source": [
    "# Remove 'outlier' suburbs: top 3 suburbs with highest avg rental prices only have one property and that their averages deviate quite significantly from the rest"
   ]
  },
  {
   "cell_type": "code",
   "execution_count": 55,
   "id": "34197a23",
   "metadata": {},
   "outputs": [
    {
     "data": {
      "text/html": [
       "<div>\n",
       "<style scoped>\n",
       "    .dataframe tbody tr th:only-of-type {\n",
       "        vertical-align: middle;\n",
       "    }\n",
       "\n",
       "    .dataframe tbody tr th {\n",
       "        vertical-align: top;\n",
       "    }\n",
       "\n",
       "    .dataframe thead tr th {\n",
       "        text-align: left;\n",
       "    }\n",
       "\n",
       "    .dataframe thead tr:last-of-type th {\n",
       "        text-align: right;\n",
       "    }\n",
       "</style>\n",
       "<table border=\"1\" class=\"dataframe\">\n",
       "  <thead>\n",
       "    <tr>\n",
       "      <th></th>\n",
       "      <th colspan=\"2\" halign=\"left\">cost_text</th>\n",
       "    </tr>\n",
       "    <tr>\n",
       "      <th></th>\n",
       "      <th>count</th>\n",
       "      <th>mean</th>\n",
       "    </tr>\n",
       "    <tr>\n",
       "      <th>suburb</th>\n",
       "      <th></th>\n",
       "      <th></th>\n",
       "    </tr>\n",
       "  </thead>\n",
       "  <tbody>\n",
       "    <tr>\n",
       "      <th>skenes creek</th>\n",
       "      <td>1</td>\n",
       "      <td>3850.0</td>\n",
       "    </tr>\n",
       "    <tr>\n",
       "      <th>marengo</th>\n",
       "      <td>1</td>\n",
       "      <td>2100.0</td>\n",
       "    </tr>\n",
       "    <tr>\n",
       "      <th>seaspray</th>\n",
       "      <td>1</td>\n",
       "      <td>2000.0</td>\n",
       "    </tr>\n",
       "    <tr>\n",
       "      <th>apollo bay</th>\n",
       "      <td>5</td>\n",
       "      <td>1640.0</td>\n",
       "    </tr>\n",
       "    <tr>\n",
       "      <th>queenscliff</th>\n",
       "      <td>1</td>\n",
       "      <td>1500.0</td>\n",
       "    </tr>\n",
       "    <tr>\n",
       "      <th>bellbrae</th>\n",
       "      <td>1</td>\n",
       "      <td>1350.0</td>\n",
       "    </tr>\n",
       "    <tr>\n",
       "      <th>cremorne</th>\n",
       "      <td>1</td>\n",
       "      <td>1300.0</td>\n",
       "    </tr>\n",
       "  </tbody>\n",
       "</table>\n",
       "</div>"
      ],
      "text/plain": [
       "             cost_text        \n",
       "                 count    mean\n",
       "suburb                        \n",
       "skenes creek         1  3850.0\n",
       "marengo              1  2100.0\n",
       "seaspray             1  2000.0\n",
       "apollo bay           5  1640.0\n",
       "queenscliff          1  1500.0\n",
       "bellbrae             1  1350.0\n",
       "cremorne             1  1300.0"
      ]
     },
     "execution_count": 55,
     "metadata": {},
     "output_type": "execute_result"
    }
   ],
   "source": [
    "final_preproc_rental.groupby('suburb').\\\n",
    "    agg({'cost_text':['count','mean']}).\\\n",
    "    sort_values(\n",
    "        by=('cost_text','mean'),\n",
    "        ascending=False).head(7)"
   ]
  },
  {
   "cell_type": "code",
   "execution_count": 57,
   "id": "eaa9533e",
   "metadata": {},
   "outputs": [],
   "source": [
    "final_preproc_rental_wo_outliers = final_preproc_rental[\n",
    "    ~final_preproc_rental['suburb'].isin(['skenes creek', 'marengo', 'seaspray'])\n",
    "]"
   ]
  },
  {
   "cell_type": "markdown",
   "id": "c4df11dc",
   "metadata": {},
   "source": [
    "# P1: Plot (log-scale) median rental price"
   ]
  },
  {
   "cell_type": "code",
   "execution_count": 62,
   "id": "b150b284",
   "metadata": {},
   "outputs": [],
   "source": [
    "log_mean_rental_price_per_suburb = final_preproc_rental_wo_outliers.groupby('suburb')['cost_text'].mean().reset_index()\n",
    "log_mean_rental_price_per_suburb['cost_text'] = np.log(log_mean_rental_price_per_suburb['cost_text'])"
   ]
  },
  {
   "cell_type": "code",
   "execution_count": 69,
   "id": "193decff",
   "metadata": {},
   "outputs": [
    {
     "data": {
      "text/plain": [
       "Index(['coordinates', 'cost_text', 'postcode', 'suburb', 'bedrooms',\n",
       "       'bathrooms', 'parking_spaces', 'house_postcode', 'nearest_hospital',\n",
       "       'nearest_train_station', 'distance_to_cbd', 'nearest_school'],\n",
       "      dtype='object')"
      ]
     },
     "execution_count": 69,
     "metadata": {},
     "output_type": "execute_result"
    }
   ],
   "source": [
    "final_preproc_rental.columns"
   ]
  },
  {
   "cell_type": "code",
   "execution_count": 127,
   "id": "a9f7abab",
   "metadata": {},
   "outputs": [],
   "source": [
    "# geopandas_plotting(\n",
    "#     log_mean_rental_price_per_suburb, \n",
    "#     vic_shapefile_no_duplicates, \n",
    "#     legend_name='Distribution of prices across suburbs (log-scale)', \n",
    "#     col_to_be_plot='cost_text',\n",
    "#     save=True,\n",
    "#     saved_map_name='log_mean_rental_no_outlier',\n",
    "#     map_format='html'\n",
    "# )"
   ]
  },
  {
   "cell_type": "markdown",
   "id": "00d531e2",
   "metadata": {},
   "source": [
    "# P2: Plot (log-scale) mean against (ordinal) nearest train station"
   ]
  },
  {
   "cell_type": "markdown",
   "id": "f9051ce0",
   "metadata": {},
   "source": [
    "Why have I managed to find categories for nearest train station? Here's a (albeit arbitrary) justification from the whole distribution of nearest train station:"
   ]
  },
  {
   "cell_type": "code",
   "execution_count": 75,
   "id": "935d6152",
   "metadata": {},
   "outputs": [
    {
     "data": {
      "text/plain": [
       "<matplotlib.lines.Line2D at 0x7fcc3e2db670>"
      ]
     },
     "execution_count": 75,
     "metadata": {},
     "output_type": "execute_result"
    },
    {
     "data": {
      "image/png": "[encoded data removed]",
      "text/plain": [
       "<Figure size 1080x576 with 1 Axes>"
      ]
     },
     "metadata": {
      "needs_background": "light"
     },
     "output_type": "display_data"
    }
   ],
   "source": [
    "final_preproc_rental_wo_outliers['nearest_train_station'].hist(bins=60, \n",
    "                                                   figsize=(15,8), \n",
    "                                                   density=True,\n",
    "                                                   color='b')\n",
    "\n",
    "#it seems that we can (still, arbitrarily) partition the distribution into 3 clusters\n",
    "\n",
    "LOW_V_MEDIUM_TRAIN_DISTANCE = 15\n",
    "MEDIUM_V_HIGH_TRAIN_DISTANCE = 45\n",
    "\n",
    "\n",
    "plt.axvline(x=LOW_V_MEDIUM_TRAIN_DISTANCE, color='r') #\"low\"\n",
    "plt.axvline(x=MEDIUM_V_HIGH_TRAIN_DISTANCE, color='r') #\"medium\"\n"
   ]
  },
  {
   "cell_type": "code",
   "execution_count": 76,
   "id": "65cfc16b",
   "metadata": {},
   "outputs": [],
   "source": [
    "mean_cost_text_vs_categorical_mean_train_dist = modify_rental_df_for_geovisual_incl_second_var(final_preproc_rental_wo_outliers, \n",
    "                                           [LOW_V_MEDIUM_TRAIN_DISTANCE, MEDIUM_V_HIGH_TRAIN_DISTANCE],\n",
    "                                           'nearest_train_station')"
   ]
  },
  {
   "cell_type": "code",
   "execution_count": 94,
   "id": "ed2c3c0f",
   "metadata": {},
   "outputs": [
    {
     "name": "stdout",
     "output_type": "stream",
     "text": [
      "Help on function geopandas_plotting_try_marker_with_second_var in module __main__:\n",
      "\n",
      "geopandas_plotting_try_marker_with_second_var(rental_df, sf, second_variable, legend_name='Distribution of prices across suburbs', col_to_be_plot='cost_text', SCALE_RADIUS=1, SCALE_WEIGHT=1, WANT_CONSTANT_RADIUS=True, save=False, saved_map_name='', saved_map_format='html')\n",
      "\n"
     ]
    }
   ],
   "source": [
    "help(geopandas_plotting_try_marker_with_second_var)"
   ]
  },
  {
   "cell_type": "code",
   "execution_count": 128,
   "id": "23ba2599",
   "metadata": {},
   "outputs": [],
   "source": [
    "#uncomment these chunks of code to plot\n",
    "\n",
    "# geopandas_plotting_try_marker_with_second_var(\n",
    "#     mean_cost_text_vs_categorical_mean_train_dist, \n",
    "#     vic_shapefile_no_duplicates, \n",
    "#     'nearest_train_station_category',\n",
    "#     legend_name='Distribution of prices across suburbs', \n",
    "#     col_to_be_plot='cost_text',\n",
    "#     SCALE_RADIUS=7,\n",
    "#     SCALE_WEIGHT=2.5,\n",
    "#     save=True,\n",
    "#     WANT_CONSTANT_RADIUS=False,\n",
    "#     saved_map_name='log_mean_rental_no_outlier_w_categ_train_dist',\n",
    "#     saved_map_format='html'\n",
    "# )"
   ]
  },
  {
   "cell_type": "markdown",
   "id": "0472fbf4",
   "metadata": {},
   "source": [
    "# P3: Plot (log-scale) mean against (ordinal) nearest hospital"
   ]
  },
  {
   "cell_type": "markdown",
   "id": "fc94c911",
   "metadata": {},
   "source": [
    "A bit of justification on why I can \"categorize\" nearest hospital into 5 clusters"
   ]
  },
  {
   "cell_type": "code",
   "execution_count": 99,
   "id": "101d7bc5",
   "metadata": {},
   "outputs": [
    {
     "data": {
      "text/plain": [
       "<matplotlib.lines.Line2D at 0x7fcc3eb27fd0>"
      ]
     },
     "execution_count": 99,
     "metadata": {},
     "output_type": "execute_result"
    },
    {
     "data": {
      "image/png": "[encoded data removed]",
      "text/plain": [
       "<Figure size 1080x576 with 1 Axes>"
      ]
     },
     "metadata": {
      "needs_background": "light"
     },
     "output_type": "display_data"
    }
   ],
   "source": [
    "final_preproc_rental_wo_outliers['nearest_hospital'].hist(bins=100, figsize=(15,8), \n",
    "                                              density=True,\n",
    "                                             color='b')\n",
    "\n",
    "#it seems that we can (still, arbitrarily) partition the distribution into 5 clusters\n",
    "\n",
    "PARTITION_1_HOSPITAL_DISTANCE = 20.5\n",
    "PARTITION_2_HOSPITAL_DISTANCE = 30\n",
    "PARTITION_3_HOSPITAL_DISTANCE = 39\n",
    "PARTITION_4_HOSPITAL_DISTANCE = 49.5\n",
    "\n",
    "plt.axvline(x=PARTITION_1_HOSPITAL_DISTANCE, color='r') \n",
    "plt.axvline(x=PARTITION_2_HOSPITAL_DISTANCE, color='r') \n",
    "plt.axvline(x=PARTITION_3_HOSPITAL_DISTANCE, color='r') \n",
    "plt.axvline(x=PARTITION_4_HOSPITAL_DISTANCE, color='r') \n",
    "\n"
   ]
  },
  {
   "cell_type": "code",
   "execution_count": 101,
   "id": "6308515d",
   "metadata": {},
   "outputs": [],
   "source": [
    "mean_cost_text_vs_categorical_mean_hospital_dist = modify_rental_df_for_geovisual_incl_second_var(\n",
    "    final_preproc_rental_wo_outliers, \n",
    "    [PARTITION_1_HOSPITAL_DISTANCE,\n",
    "     PARTITION_2_HOSPITAL_DISTANCE,\n",
    "     PARTITION_3_HOSPITAL_DISTANCE,\n",
    "     PARTITION_4_HOSPITAL_DISTANCE],\n",
    "    'nearest_hospital'\n",
    ")"
   ]
  },
  {
   "cell_type": "code",
   "execution_count": 94,
   "id": "81fa9335",
   "metadata": {},
   "outputs": [
    {
     "name": "stdout",
     "output_type": "stream",
     "text": [
      "Help on function geopandas_plotting_try_marker_with_second_var in module __main__:\n",
      "\n",
      "geopandas_plotting_try_marker_with_second_var(rental_df, sf, second_variable, legend_name='Distribution of prices across suburbs', col_to_be_plot='cost_text', SCALE_RADIUS=1, SCALE_WEIGHT=1, WANT_CONSTANT_RADIUS=True, save=False, saved_map_name='', saved_map_format='html')\n",
      "\n"
     ]
    }
   ],
   "source": [
    "help(geopandas_plotting_try_marker_with_second_var)"
   ]
  },
  {
   "cell_type": "code",
   "execution_count": 129,
   "id": "b5af37af",
   "metadata": {},
   "outputs": [],
   "source": [
    "#uncomment these chunks of code to plot\n",
    "\n",
    "# geopandas_plotting_try_marker_with_second_var(\n",
    "#     mean_cost_text_vs_categorical_mean_hospital_dist, \n",
    "#     vic_shapefile_no_duplicates, \n",
    "#     'nearest_hospital_category',\n",
    "#     legend_name='Distribution of prices across suburbs', \n",
    "#     col_to_be_plot='cost_text',\n",
    "#     SCALE_RADIUS=5,\n",
    "#     SCALE_WEIGHT=2.2,\n",
    "#     save=True,\n",
    "#     WANT_CONSTANT_RADIUS=False,\n",
    "#     saved_map_name='log_mean_rental_no_outlier_w_categ_hospital_dist',\n",
    "#     saved_map_format='html'\n",
    "# )"
   ]
  },
  {
   "cell_type": "markdown",
   "id": "700e6da5",
   "metadata": {},
   "source": [
    "# P4: plot (log-scale) mean against log mean nearest school"
   ]
  },
  {
   "cell_type": "code",
   "execution_count": 110,
   "id": "6c42a42b",
   "metadata": {},
   "outputs": [
    {
     "data": {
      "text/plain": [
       "Index(['coordinates', 'cost_text', 'postcode', 'suburb', 'bedrooms',\n",
       "       'bathrooms', 'parking_spaces', 'house_postcode', 'nearest_hospital',\n",
       "       'nearest_train_station', 'distance_to_cbd', 'nearest_school'],\n",
       "      dtype='object')"
      ]
     },
     "execution_count": 110,
     "metadata": {},
     "output_type": "execute_result"
    }
   ],
   "source": [
    "final_preproc_rental_wo_outliers.columns"
   ]
  },
  {
   "cell_type": "code",
   "execution_count": 130,
   "id": "106a4502",
   "metadata": {},
   "outputs": [],
   "source": [
    "#uncomment these chunks of code to plot\n",
    "\n",
    "\n",
    "# col = 'nearest_school'\n",
    "\n",
    "# geopandas_plotting_try_marker_with_second_var(\n",
    "    \n",
    "#     modify_rental_df_for_geovisual_incl_second_var_no_binning(\n",
    "#                                            final_preproc_rental_wo_outliers, \n",
    "#                                            col,\n",
    "#                                            normalize_second_var=False,\n",
    "#                                            need_log_for_rental=True,\n",
    "#                                            need_log_second_var=True\n",
    "#     ), \n",
    "#     vic_shapefile_no_duplicates, \n",
    "#       col,\n",
    "#       legend_name='Distribution of prices across suburbs', \n",
    "#       col_to_be_plot='cost_text',\n",
    "#       SCALE_RADIUS=11,\n",
    "#       SCALE_WEIGHT=3,\n",
    "#       WANT_CONSTANT_RADIUS=True,\n",
    "#       save=True,\n",
    "#       saved_map_name='log_mean_rental_no_outlier_w_log_nearest_school'\n",
    "# )"
   ]
  },
  {
   "cell_type": "markdown",
   "id": "915c4263",
   "metadata": {},
   "source": [
    "# P5: plot (log-scale) mean against log mean distance to cbd\n",
    "(probably not as informative as the others because we know roughly where the CBD is)"
   ]
  },
  {
   "cell_type": "code",
   "execution_count": 131,
   "id": "93939c8c",
   "metadata": {},
   "outputs": [],
   "source": [
    "#uncomment these chunks of code to plot\n",
    "\n",
    "# col = 'distance_to_cbd'\n",
    "\n",
    "# geopandas_plotting_try_marker_with_second_var(\n",
    "    \n",
    "#     modify_rental_df_for_geovisual_incl_second_var_no_binning(\n",
    "#                                            final_preproc_rental_wo_outliers, \n",
    "#                                            col,\n",
    "#                                            normalize_second_var=False,\n",
    "#                                            need_log_for_rental=True,\n",
    "#                                            need_log_second_var=True\n",
    "#     ), \n",
    "#     vic_shapefile_no_duplicates, \n",
    "#       col,\n",
    "#       legend_name='Distribution of prices across suburbs', \n",
    "#       col_to_be_plot='cost_text',\n",
    "#       SCALE_RADIUS=11,\n",
    "#       SCALE_WEIGHT=2,\n",
    "#       WANT_CONSTANT_RADIUS=True,\n",
    "#       save=False,\n",
    "#       saved_map_name='log_mean_rental_no_outlier_w_log_dist_to_cbd'\n",
    "# )"
   ]
  },
  {
   "cell_type": "markdown",
   "id": "3621689c",
   "metadata": {},
   "source": [
    "# Other ideas\n",
    "- mean of rental price/bedroom\n"
   ]
  }
 ],
 "metadata": {
  "kernelspec": {
   "display_name": "Python 3 (ipykernel)",
   "language": "python",
   "name": "python3"
  },
  "language_info": {
   "codemirror_mode": {
    "name": "ipython",
    "version": 3
   },
   "file_extension": ".py",
   "mimetype": "text/x-python",
   "name": "python",
   "nbconvert_exporter": "python",
   "pygments_lexer": "ipython3",
   "version": "3.8.10"
  }
 },
 "nbformat": 4,
 "nbformat_minor": 5
}
