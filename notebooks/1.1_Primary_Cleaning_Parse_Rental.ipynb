{
 "cells": [
  {
   "cell_type": "markdown",
   "metadata": {},
   "source": [
    "Outliers := smth we that has never been predicted\n",
    "- Look at distribution; why are the outliers outliers? \n",
    "\n",
    "\n",
    "backing common sense (e.g. from reputable sources)\n",
    "\n"
   ]
  },
  {
   "cell_type": "markdown",
   "metadata": {},
   "source": [
    "# Import all libraries here"
   ]
  },
  {
   "cell_type": "code",
   "execution_count": 1,
   "metadata": {},
   "outputs": [],
   "source": [
    "import pandas as pd"
   ]
  },
  {
   "cell_type": "code",
   "execution_count": 2,
   "metadata": {},
   "outputs": [
    {
     "name": "stdout",
     "output_type": "stream",
     "text": [
      "All_Houses_Scraped.csv  All_Houses_Scraped.csv:Zone.Identifier\n"
     ]
    }
   ],
   "source": [
    "ls ../data/raw/all_rental_data"
   ]
  },
  {
   "cell_type": "markdown",
   "metadata": {},
   "source": [
    "# Import all rental data"
   ]
  },
  {
   "cell_type": "code",
   "execution_count": 3,
   "metadata": {},
   "outputs": [],
   "source": [
    "rental_raw = pd.read_csv('../data/raw/All_Houses_Scraped.csv')"
   ]
  },
  {
   "cell_type": "code",
   "execution_count": 4,
   "metadata": {},
   "outputs": [
    {
     "data": {
      "text/html": [
       "<div>\n",
       "<style scoped>\n",
       "    .dataframe tbody tr th:only-of-type {\n",
       "        vertical-align: middle;\n",
       "    }\n",
       "\n",
       "    .dataframe tbody tr th {\n",
       "        vertical-align: top;\n",
       "    }\n",
       "\n",
       "    .dataframe thead th {\n",
       "        text-align: right;\n",
       "    }\n",
       "</style>\n",
       "<table border=\"1\" class=\"dataframe\">\n",
       "  <thead>\n",
       "    <tr style=\"text-align: right;\">\n",
       "      <th></th>\n",
       "      <th>Unnamed: 0</th>\n",
       "      <th>coordinates</th>\n",
       "      <th>cost_text</th>\n",
       "      <th>desc</th>\n",
       "      <th>name</th>\n",
       "      <th>rooms</th>\n",
       "    </tr>\n",
       "  </thead>\n",
       "  <tbody>\n",
       "    <tr>\n",
       "      <th>0</th>\n",
       "      <td>https://www.domain.com.au/15-fintonia-street-h...</td>\n",
       "      <td>[-37.9032708, 145.0770553]</td>\n",
       "      <td>$680</td>\n",
       "      <td>Joseph Chatziconstantis</td>\n",
       "      <td>15 Fintonia Street Hughesdale VIC 3166</td>\n",
       "      <td>['3 Beds', '2 Baths', '2 Parking']</td>\n",
       "    </tr>\n",
       "    <tr>\n",
       "      <th>1</th>\n",
       "      <td>https://www.domain.com.au/41-bishop-street-oak...</td>\n",
       "      <td>[-37.9077745, 145.092738]</td>\n",
       "      <td>$650.00</td>\n",
       "      <td>James Drakopoulos</td>\n",
       "      <td>41 Bishop Street Oakleigh VIC 3166</td>\n",
       "      <td>['3 Beds', '2 Baths', '2 Parking']</td>\n",
       "    </tr>\n",
       "    <tr>\n",
       "      <th>2</th>\n",
       "      <td>https://www.domain.com.au/109-6-dalgety-street...</td>\n",
       "      <td>[-37.8922004, 145.0899378]</td>\n",
       "      <td>$500</td>\n",
       "      <td>Nigel Chee</td>\n",
       "      <td>109/6 Dalgety Street Oakleigh VIC 3166</td>\n",
       "      <td>['1 Bed', '1 Bath', '1 Parking']</td>\n",
       "    </tr>\n",
       "    <tr>\n",
       "      <th>3</th>\n",
       "      <td>https://www.domain.com.au/16-30-swindon-road-o...</td>\n",
       "      <td>[-37.8972564, 145.0871089]</td>\n",
       "      <td>$570</td>\n",
       "      <td>Matthew Swinnerton</td>\n",
       "      <td>16/30 Swindon Road Oakleigh VIC 3166</td>\n",
       "      <td>['3 Beds', '2 Baths', '2 Parking']</td>\n",
       "    </tr>\n",
       "    <tr>\n",
       "      <th>4</th>\n",
       "      <td>https://www.domain.com.au/1-14-bletchley-road-...</td>\n",
       "      <td>[-37.894307, 145.082706]</td>\n",
       "      <td>$475</td>\n",
       "      <td>Jason Gu</td>\n",
       "      <td>1/14 Bletchley Road Hughesdale VIC 3166</td>\n",
       "      <td>['2 Beds', '1 Bath', '1 Parking']</td>\n",
       "    </tr>\n",
       "  </tbody>\n",
       "</table>\n",
       "</div>"
      ],
      "text/plain": [
       "                                          Unnamed: 0  \\\n",
       "0  https://www.domain.com.au/15-fintonia-street-h...   \n",
       "1  https://www.domain.com.au/41-bishop-street-oak...   \n",
       "2  https://www.domain.com.au/109-6-dalgety-street...   \n",
       "3  https://www.domain.com.au/16-30-swindon-road-o...   \n",
       "4  https://www.domain.com.au/1-14-bletchley-road-...   \n",
       "\n",
       "                  coordinates cost_text                     desc  \\\n",
       "0  [-37.9032708, 145.0770553]      $680  Joseph Chatziconstantis   \n",
       "1   [-37.9077745, 145.092738]   $650.00        James Drakopoulos   \n",
       "2  [-37.8922004, 145.0899378]      $500               Nigel Chee   \n",
       "3  [-37.8972564, 145.0871089]      $570       Matthew Swinnerton   \n",
       "4    [-37.894307, 145.082706]      $475                 Jason Gu   \n",
       "\n",
       "                                      name                               rooms  \n",
       "0   15 Fintonia Street Hughesdale VIC 3166  ['3 Beds', '2 Baths', '2 Parking']  \n",
       "1       41 Bishop Street Oakleigh VIC 3166  ['3 Beds', '2 Baths', '2 Parking']  \n",
       "2   109/6 Dalgety Street Oakleigh VIC 3166    ['1 Bed', '1 Bath', '1 Parking']  \n",
       "3     16/30 Swindon Road Oakleigh VIC 3166  ['3 Beds', '2 Baths', '2 Parking']  \n",
       "4  1/14 Bletchley Road Hughesdale VIC 3166   ['2 Beds', '1 Bath', '1 Parking']  "
      ]
     },
     "execution_count": 4,
     "metadata": {},
     "output_type": "execute_result"
    }
   ],
   "source": [
    "rental_raw.head()"
   ]
  },
  {
   "cell_type": "markdown",
   "metadata": {},
   "source": [
    "# Obtain all values of <code>rental_raw['cost_text']</code> that have numbers in it\n",
    "- treat non-numeric values as missing values"
   ]
  },
  {
   "cell_type": "code",
   "execution_count": 5,
   "metadata": {},
   "outputs": [],
   "source": [
    "NUMBERS_SET = set(list('0123456789'))\n",
    "are_costs_numeric = rental_raw['cost_text'].map(\n",
    "    #returns True if there's at least 1 of 0123456789 in s\n",
    "    lambda s: bool(set(list(s)) & NUMBERS_SET)\n",
    "    )"
   ]
  },
  {
   "cell_type": "markdown",
   "metadata": {},
   "source": [
    "Check if the prices contain \"worded\" numbers (1 - one, etc)"
   ]
  },
  {
   "cell_type": "code",
   "execution_count": 6,
   "metadata": {},
   "outputs": [
    {
     "name": "stdout",
     "output_type": "stream",
     "text": [
      "2\n",
      "0\n",
      "0\n",
      "0\n",
      "0\n",
      "0\n",
      "0\n",
      "0\n",
      "0\n",
      "5\n",
      "0\n"
     ]
    }
   ],
   "source": [
    "WORD_NUMS = ['one','two','three','four','five','six','seven','eight','nine','ten','zero']\n",
    "\n",
    "for num_word in WORD_NUMS:\n",
    "    print(rental_raw['cost_text'].str.lower().str.contains(num_word).sum())"
   ]
  },
  {
   "cell_type": "code",
   "execution_count": 7,
   "metadata": {},
   "outputs": [
    {
     "data": {
      "text/plain": [
       "543        $495 per week including garden maintenance\n",
       "2482     $480 per week (including garden maintenance)\n",
       "8131        $560 per week-includes garden maintenance\n",
       "13317     $1,000 per week- including pool maintenance\n",
       "14552       $1600 per week including pool maintenance\n",
       "Name: cost_text, dtype: object"
      ]
     },
     "execution_count": 7,
     "metadata": {},
     "output_type": "execute_result"
    }
   ],
   "source": [
    "rental_raw['cost_text'].str.lower()[\n",
    "    rental_raw['cost_text'].str.lower().str.contains('ten')\n",
    "]"
   ]
  },
  {
   "cell_type": "code",
   "execution_count": 8,
   "metadata": {},
   "outputs": [
    {
     "data": {
      "text/plain": [
       "0.02242637125101324"
      ]
     },
     "execution_count": 8,
     "metadata": {},
     "output_type": "execute_result"
    }
   ],
   "source": [
    "rental_raw['cost_text'][~are_costs_numeric].shape[0] / rental_raw['cost_text'].shape[0]"
   ]
  },
  {
   "cell_type": "markdown",
   "metadata": {},
   "source": [
    "Only 2% instances contain non-numerics"
   ]
  },
  {
   "cell_type": "markdown",
   "metadata": {},
   "source": [
    "# <font color='green'> Preproc 1: Remove instances with non-numeric values of <code>cost_text</code></font>"
   ]
  },
  {
   "cell_type": "markdown",
   "metadata": {},
   "source": [
    "Copy <code>rental_raw</code> to another variable"
   ]
  },
  {
   "cell_type": "code",
   "execution_count": 9,
   "metadata": {},
   "outputs": [],
   "source": [
    "rental_raw_data = rental_raw.copy()"
   ]
  },
  {
   "cell_type": "markdown",
   "metadata": {},
   "source": [
    "Do as per the subheading above"
   ]
  },
  {
   "cell_type": "code",
   "execution_count": 10,
   "metadata": {},
   "outputs": [],
   "source": [
    "rental_raw_data = rental_raw_data[are_costs_numeric]"
   ]
  },
  {
   "cell_type": "markdown",
   "metadata": {},
   "source": [
    "# <font color='green'> Preproc 2: convert all costs values to lower cases </font>"
   ]
  },
  {
   "cell_type": "code",
   "execution_count": 11,
   "metadata": {},
   "outputs": [],
   "source": [
    "rental_raw_data['cost_text'] = rental_raw_data['cost_text'].str.lower()"
   ]
  },
  {
   "cell_type": "markdown",
   "metadata": {},
   "source": [
    "# Inspect the modified data"
   ]
  },
  {
   "cell_type": "markdown",
   "metadata": {},
   "source": [
    "Obtain all instances that contain 'w'\n",
    "- idea is to look which kind of instances that have the prices written as (pw, per week, etc)"
   ]
  },
  {
   "cell_type": "code",
   "execution_count": 12,
   "metadata": {},
   "outputs": [
    {
     "data": {
      "text/html": [
       "<div>\n",
       "<style scoped>\n",
       "    .dataframe tbody tr th:only-of-type {\n",
       "        vertical-align: middle;\n",
       "    }\n",
       "\n",
       "    .dataframe tbody tr th {\n",
       "        vertical-align: top;\n",
       "    }\n",
       "\n",
       "    .dataframe thead th {\n",
       "        text-align: right;\n",
       "    }\n",
       "</style>\n",
       "<table border=\"1\" class=\"dataframe\">\n",
       "  <thead>\n",
       "    <tr style=\"text-align: right;\">\n",
       "      <th></th>\n",
       "      <th>Unnamed: 0</th>\n",
       "      <th>coordinates</th>\n",
       "      <th>cost_text</th>\n",
       "      <th>desc</th>\n",
       "      <th>name</th>\n",
       "      <th>rooms</th>\n",
       "    </tr>\n",
       "  </thead>\n",
       "  <tbody>\n",
       "    <tr>\n",
       "      <th>5</th>\n",
       "      <td>https://www.domain.com.au/26-austin-street-hug...</td>\n",
       "      <td>[-37.9068017, 145.0786493]</td>\n",
       "      <td>$550 per week</td>\n",
       "      <td>Nina Del Toro</td>\n",
       "      <td>26 Austin Street Hughesdale VIC 3166</td>\n",
       "      <td>['3 Beds', '1 Bath', '2 Parking']</td>\n",
       "    </tr>\n",
       "    <tr>\n",
       "      <th>10</th>\n",
       "      <td>https://www.domain.com.au/1-61-macrina-street-...</td>\n",
       "      <td>[-37.9029684, 145.1135954]</td>\n",
       "      <td>$430 per week</td>\n",
       "      <td>Leasing Team</td>\n",
       "      <td>1/61 Macrina Street Oakleigh East VIC 3166</td>\n",
       "      <td>['3 Beds', '1 Bath', '1 Parking']</td>\n",
       "    </tr>\n",
       "    <tr>\n",
       "      <th>27</th>\n",
       "      <td>https://www.domain.com.au/501-19-21-hanover-st...</td>\n",
       "      <td>[-37.9010428, 145.091833]</td>\n",
       "      <td>$370 per week</td>\n",
       "      <td>This stunning apartment is perfectly located t...</td>\n",
       "      <td>501/19-21 Hanover Street Oakleigh VIC 3166</td>\n",
       "      <td>['1 Bed', '1 Bath', '1 Parking']</td>\n",
       "    </tr>\n",
       "    <tr>\n",
       "      <th>29</th>\n",
       "      <td>https://www.domain.com.au/30-oxford-st-oakleig...</td>\n",
       "      <td>[-37.9012582, 145.0929966]</td>\n",
       "      <td>$1,150 weekly</td>\n",
       "      <td>Perfectly located in central Oakleigh within w...</td>\n",
       "      <td>30 Oxford St Oakleigh VIC 3166</td>\n",
       "      <td>['4 Beds', '1 Bath', '4 Parking']</td>\n",
       "    </tr>\n",
       "    <tr>\n",
       "      <th>30</th>\n",
       "      <td>https://www.domain.com.au/1-20-dover-st-oaklei...</td>\n",
       "      <td>[-37.90993, 145.121535]</td>\n",
       "      <td>$590 weekly</td>\n",
       "      <td>This beautifully double storey townhouse is in...</td>\n",
       "      <td>1/20 Dover St Oakleigh East VIC 3166</td>\n",
       "      <td>['4 Beds', '3 Baths', '2 Parking']</td>\n",
       "    </tr>\n",
       "    <tr>\n",
       "      <th>...</th>\n",
       "      <td>...</td>\n",
       "      <td>...</td>\n",
       "      <td>...</td>\n",
       "      <td>...</td>\n",
       "      <td>...</td>\n",
       "      <td>...</td>\n",
       "    </tr>\n",
       "    <tr>\n",
       "      <th>14790</th>\n",
       "      <td>https://www.domain.com.au/34a-st-albans-street...</td>\n",
       "      <td>[-37.8736601, 145.1342532]</td>\n",
       "      <td>$950 per week</td>\n",
       "      <td>PROPERTY ID: 112553 (quote when calling)</td>\n",
       "      <td>34a St Albans Street Mount Waverley VIC 3149</td>\n",
       "      <td>['4 Beds', '2 Baths', '2 Parking']</td>\n",
       "    </tr>\n",
       "    <tr>\n",
       "      <th>14791</th>\n",
       "      <td>https://www.domain.com.au/1-hilsea-court-mount...</td>\n",
       "      <td>[-37.8591721, 145.1332939]</td>\n",
       "      <td>$460 per week</td>\n",
       "      <td>class=\"css-dxogle\"&gt;* Unverified feature&lt;svg a...</td>\n",
       "      <td>1 Hilsea Court Mount Waverley VIC 3149</td>\n",
       "      <td>['4 Beds', '1 Bath', '2 Parking']</td>\n",
       "    </tr>\n",
       "    <tr>\n",
       "      <th>14794</th>\n",
       "      <td>https://www.domain.com.au/46-virginia-street-m...</td>\n",
       "      <td>[-37.878088, 145.1249743]</td>\n",
       "      <td>$640 per week</td>\n",
       "      <td>class=\"css-dxogle\"&gt;* Unverified feature&lt;svg a...</td>\n",
       "      <td>46 Virginia Street Mount Waverley VIC 3149</td>\n",
       "      <td>['3 Beds', '2 Baths', '2 Parking']</td>\n",
       "    </tr>\n",
       "    <tr>\n",
       "      <th>14796</th>\n",
       "      <td>https://www.domain.com.au/40-anthony-dr-mount-...</td>\n",
       "      <td>[-37.8900914, 145.1353848]</td>\n",
       "      <td>$525 weekly</td>\n",
       "      <td>class=\"css-dxogle\"&gt;* Unverified feature&lt;svg a...</td>\n",
       "      <td>40 Anthony Dr Mount Waverley VIC 3149</td>\n",
       "      <td>['4 Beds', '2 Baths', '2 Parking']</td>\n",
       "    </tr>\n",
       "    <tr>\n",
       "      <th>14801</th>\n",
       "      <td>https://www.domain.com.au/1-30-ailsa-street-ma...</td>\n",
       "      <td>[-37.0551267, 146.0929647]</td>\n",
       "      <td>$440p/w ($1911.90 pcm)</td>\n",
       "      <td>class=\"css-dxogle\"&gt;* Unverified feature&lt;svg a...</td>\n",
       "      <td>1/30 Ailsa Street Mansfield VIC 3722</td>\n",
       "      <td>['2 Beds', '1 Bath', '3 Parking']</td>\n",
       "    </tr>\n",
       "  </tbody>\n",
       "</table>\n",
       "<p>8873 rows × 6 columns</p>\n",
       "</div>"
      ],
      "text/plain": [
       "                                              Unnamed: 0  \\\n",
       "5      https://www.domain.com.au/26-austin-street-hug...   \n",
       "10     https://www.domain.com.au/1-61-macrina-street-...   \n",
       "27     https://www.domain.com.au/501-19-21-hanover-st...   \n",
       "29     https://www.domain.com.au/30-oxford-st-oakleig...   \n",
       "30     https://www.domain.com.au/1-20-dover-st-oaklei...   \n",
       "...                                                  ...   \n",
       "14790  https://www.domain.com.au/34a-st-albans-street...   \n",
       "14791  https://www.domain.com.au/1-hilsea-court-mount...   \n",
       "14794  https://www.domain.com.au/46-virginia-street-m...   \n",
       "14796  https://www.domain.com.au/40-anthony-dr-mount-...   \n",
       "14801  https://www.domain.com.au/1-30-ailsa-street-ma...   \n",
       "\n",
       "                      coordinates               cost_text  \\\n",
       "5      [-37.9068017, 145.0786493]           $550 per week   \n",
       "10     [-37.9029684, 145.1135954]           $430 per week   \n",
       "27      [-37.9010428, 145.091833]           $370 per week   \n",
       "29     [-37.9012582, 145.0929966]           $1,150 weekly   \n",
       "30        [-37.90993, 145.121535]             $590 weekly   \n",
       "...                           ...                     ...   \n",
       "14790  [-37.8736601, 145.1342532]           $950 per week   \n",
       "14791  [-37.8591721, 145.1332939]           $460 per week   \n",
       "14794   [-37.878088, 145.1249743]           $640 per week   \n",
       "14796  [-37.8900914, 145.1353848]             $525 weekly   \n",
       "14801  [-37.0551267, 146.0929647]  $440p/w ($1911.90 pcm)   \n",
       "\n",
       "                                                    desc  \\\n",
       "5                                          Nina Del Toro   \n",
       "10                                          Leasing Team   \n",
       "27     This stunning apartment is perfectly located t...   \n",
       "29     Perfectly located in central Oakleigh within w...   \n",
       "30     This beautifully double storey townhouse is in...   \n",
       "...                                                  ...   \n",
       "14790           PROPERTY ID: 112553 (quote when calling)   \n",
       "14791   class=\"css-dxogle\">* Unverified feature<svg a...   \n",
       "14794   class=\"css-dxogle\">* Unverified feature<svg a...   \n",
       "14796   class=\"css-dxogle\">* Unverified feature<svg a...   \n",
       "14801   class=\"css-dxogle\">* Unverified feature<svg a...   \n",
       "\n",
       "                                               name  \\\n",
       "5              26 Austin Street Hughesdale VIC 3166   \n",
       "10       1/61 Macrina Street Oakleigh East VIC 3166   \n",
       "27       501/19-21 Hanover Street Oakleigh VIC 3166   \n",
       "29                   30 Oxford St Oakleigh VIC 3166   \n",
       "30             1/20 Dover St Oakleigh East VIC 3166   \n",
       "...                                             ...   \n",
       "14790  34a St Albans Street Mount Waverley VIC 3149   \n",
       "14791        1 Hilsea Court Mount Waverley VIC 3149   \n",
       "14794    46 Virginia Street Mount Waverley VIC 3149   \n",
       "14796         40 Anthony Dr Mount Waverley VIC 3149   \n",
       "14801          1/30 Ailsa Street Mansfield VIC 3722   \n",
       "\n",
       "                                    rooms  \n",
       "5       ['3 Beds', '1 Bath', '2 Parking']  \n",
       "10      ['3 Beds', '1 Bath', '1 Parking']  \n",
       "27       ['1 Bed', '1 Bath', '1 Parking']  \n",
       "29      ['4 Beds', '1 Bath', '4 Parking']  \n",
       "30     ['4 Beds', '3 Baths', '2 Parking']  \n",
       "...                                   ...  \n",
       "14790  ['4 Beds', '2 Baths', '2 Parking']  \n",
       "14791   ['4 Beds', '1 Bath', '2 Parking']  \n",
       "14794  ['3 Beds', '2 Baths', '2 Parking']  \n",
       "14796  ['4 Beds', '2 Baths', '2 Parking']  \n",
       "14801   ['2 Beds', '1 Bath', '3 Parking']  \n",
       "\n",
       "[8873 rows x 6 columns]"
      ]
     },
     "execution_count": 12,
     "metadata": {},
     "output_type": "execute_result"
    }
   ],
   "source": [
    "rental_raw_data[rental_raw_data['cost_text'].str.contains('w')]"
   ]
  },
  {
   "cell_type": "code",
   "execution_count": 13,
   "metadata": {},
   "outputs": [
    {
     "data": {
      "text/plain": [
       "['$325 per week until april 2022. increase to $335 per week a',\n",
       " 'leased - more properties wanted call andrew 0407 060 344',\n",
       " '$550 per week until 31 jan 2023, after $600 per week',\n",
       " '$510pw for a 12 month lease or $530pw for 6 months',\n",
       " '$195 per week - then $245 per week from 10/02/2023',\n",
       " 'apply now - studio from $250/w & 2 bed from $385/w',\n",
       " '1 weeks free rent then $165 per week all inclusive',\n",
       " '$220.00 pw- (rent increase to $285 pw from 25/1/23',\n",
       " 'clean, bright, modern private studio from $290pw',\n",
       " '$580pw - great views and nbn connection paid for',\n",
       " '$240 pw until 20/01/2023 then increase to $320pw',\n",
       " 'your luxurious lifestyle awaits | $950 per week',\n",
       " '$650/w, brand new unit with stunning city views',\n",
       " '$695 per week fully furnished short term rental',\n",
       " '$750 per week incl. gardening or $730 per week',\n",
       " '$490pw / $2,129 pcm - 6 month lease available',\n",
       " '$525pw - art precinct views plus storage cage',\n",
       " '5 mins to tram & shops & school,$880/per week',\n",
       " '$450 pw - save time view our 3d tour & apply',\n",
       " '$650 pw - save time view our 3d tour & apply',\n",
       " '$480 per week (including garden maintenance)',\n",
       " '$500 pw - save time view our 3d tour & apply',\n",
       " '$600 pw - save time view our 3d tour & apply',\n",
       " '$900 pw - save time view our 3d tour & apply',\n",
       " '$390 pw - save time view our 3d tour & apply',\n",
       " '$1,000 per week- including pool maintenance',\n",
       " '$495 per week including garden maintenance',\n",
       " '- application pending - $1200.00 per week',\n",
       " '$560 per week-includes garden maintenance',\n",
       " '$430 per week - $1868 per calendar mont h',\n",
       " '$390 per week - $1,695 per calendar month',\n",
       " '$1600 per week including pool maintenance',\n",
       " '$500 per week - $2173 per calendar month',\n",
       " '$440 per week - $1912 per calendar month',\n",
       " '$410 per week - $1782 per calendar month',\n",
       " '$380 per week / $1651 per calendar month',\n",
       " '$420 per week - $1825 per calendar month',\n",
       " '$390 per week / $1695 per calendar month',\n",
       " '$950 **waterfront furnished apartment**',\n",
       " '$850 **waterfront spacious 3-bedrooms**',\n",
       " '300 p/w - cozy unit at central location',\n",
       " '$550pw -furnished! both rooms lockable!',\n",
       " '$630 per week; lease until 15 december',\n",
       " '$2,000 pw high, $1,200 pw low, $300 pn',\n",
       " 'whole floor penthouse - $1800 per week',\n",
       " '$185 per week - $195pw from 03/02/2023',\n",
       " '$520 p/w sms 0424381047 for inspection',\n",
       " '- under application - $460.00 per week',\n",
       " '$550/wunfurnished/ furnished optional',\n",
       " '$580pw, fully furnished inc utilities',\n",
       " '$200 per week per bedroom (male only)',\n",
       " '$1750 pw high, $1400 pw low, $250 pn',\n",
       " '$2500 pw high, $1600 pw low, $380 pn',\n",
       " '$1,200 pw high, $950 pw low, $190 pn',\n",
       " '$500 **stable family living wanted**',\n",
       " 'application approved - $520 per week',\n",
       " '$425pw - s/cage! white goods! views!',\n",
       " 'from $155 - $285 pw (bills included)',\n",
       " '$450 per week - 3 months fixed lease',\n",
       " '$500 per week *partially furnished*',\n",
       " '$520 per week *partially furnished*',\n",
       " '$1000 pw high, $650 pw low, $160 pn',\n",
       " '$1200 pw high, $600 pw low, $180 pn',\n",
       " '$1200 pw high, $750 pw low, $145 pn',\n",
       " '$670pw - furnished! large art deco!',\n",
       " '$850/per week - *under application*',\n",
       " '$450 per week including lawn mowing',\n",
       " '$650 per week *partially furnished*',\n",
       " '$300p/w - big house - walk to train',\n",
       " \"$250pw- 'sms' 0414523506 to inspect\",\n",
       " 'student accommodation $200 per week',\n",
       " 'fully furnished home for $750/week',\n",
       " '$380 per week - 6 month lease only',\n",
       " 'application approved $830 per week',\n",
       " '$740.00 per week - fully furnished',\n",
       " '$220 per week - early bird special',\n",
       " '$680pw/ $2955pcm 1 weeks free rent',\n",
       " '$299 per week (includes utilities)',\n",
       " '$620 **walking to uni mel & rmit**',\n",
       " '$340 pw - close to school and shop',\n",
       " '$545 per week week until jan 2023',\n",
       " '$440 per week until december 2022',\n",
       " '$300 per week including utilities',\n",
       " '$660 per week | under application',\n",
       " '$280 per week - under application',\n",
       " 'brand new & only $400.00 per week',\n",
       " '$510 per week | under application',\n",
       " '$550 per week | under application',\n",
       " '$650 per week | under application',\n",
       " 'under application - $385 per week',\n",
       " '$310 water & electricity included',\n",
       " '$480 per week | under application',\n",
       " '$530 per week including gardening',\n",
       " '$490 per week including gardening',\n",
       " '$430 per week | under application',\n",
       " '$750 **level 53 high level view**',\n",
       " 'under application - $390 per week',\n",
       " '$370.00 per week/fully furnished',\n",
       " '$420.00 per week / $1,820.00 pcm',\n",
       " '$300 per week utilities included',\n",
       " '$350 per week outgoings included',\n",
       " '$450 per week plus gst/outgoings',\n",
       " '$625 pw *multiple apts available',\n",
       " '$660 pw *multiple apts available',\n",
       " '$340 per week / $1,473 per month',\n",
       " '$330 per week!! available now !!',\n",
       " 'fully furnished $440.00 per week',\n",
       " '$480.00/per week fully furnished',\n",
       " '$750.00 reduced price ! per week',\n",
       " '$1299 per week (fully furnished)',\n",
       " '$620.00 per week / $2,687.00 pcm',\n",
       " '$540 per week - $2,346 per month',\n",
       " '$590 pw - first 6 months $390 pw',\n",
       " '$450.00 per week / $1,950.00 pcm',\n",
       " '$60 per week- car space for rent',\n",
       " 'no deposit required or rent2own',\n",
       " '$500 per week *fully furnished*',\n",
       " '$520 per week *fully furnished*',\n",
       " 'from $830 pw - 1 month min stay',\n",
       " 'large 2bedroom with river views',\n",
       " '$620 per week *fully furnished*',\n",
       " '$355 per week / $1538 per month',\n",
       " '$350 per week / $1517 per month',\n",
       " '$330 per week / $1430 per month',\n",
       " '$320 per week / $1387 per month',\n",
       " '$415 per week, $1,803 per month',\n",
       " 'leased by charles $400 per week',\n",
       " '$340 per week / $1473 per month',\n",
       " '$410 per week / $1777 per month',\n",
       " '$360 per week / $1560 per month',\n",
       " '$400 per week / $1733 per month',\n",
       " '$70 pw - storage cage included!',\n",
       " '$630 per week *fully furnished*',\n",
       " '$550 per week *fully furnished*',\n",
       " '$580 per week *fully furnished*',\n",
       " '$800pw *bills & furntiture inc*',\n",
       " '$550 pw including all utilities',\n",
       " '$600 per week *fully furnished*',\n",
       " '$680 per week - fully furnished',\n",
       " '$450 per week *fully furnished*',\n",
       " '$650 per week *fully furnished*',\n",
       " '$450 per week, $1955 per month',\n",
       " 'from $475 per week - furnished',\n",
       " '$410.00 per week/ $1777.00 pcm',\n",
       " '$1180 per week $5113 per month',\n",
       " 'no bond required with rent2own',\n",
       " '$430 per week /$1868 per month',\n",
       " '$580 per week, $2520 per month',\n",
       " '$565 per week, $2455 per month',\n",
       " 'apply now - from $160 per week',\n",
       " 'apply now - from $170 per week',\n",
       " 'apply now - from $185 per week',\n",
       " 'apply now - from $180 per week',\n",
       " '$485 pw reviewing applications',\n",
       " '$420 per week - new floorboard',\n",
       " '$500 per week, fully furnished',\n",
       " '$620pw - study! s/cage! views!',\n",
       " 'apply now - from $420 per week',\n",
       " 'apply now - from $230 per week',\n",
       " 'apply now - from $300 per week',\n",
       " 'apply now - from $200 per week',\n",
       " 'apply now - from $210 per week',\n",
       " 'apply now - from $220 per week',\n",
       " '$185pw *bills & furniture inc*',\n",
       " '$850pw for 6 months lease only',\n",
       " 'apply now - from $190 per week',\n",
       " 'apply now - from $195 per week',\n",
       " '$380.00 per week bond $1647.00',\n",
       " '$320/week (6 month lease only)',\n",
       " 'leased by jalen $480 per week',\n",
       " 'leased by jalen $800 per week',\n",
       " '$310 per week/$1343 per month',\n",
       " '$850 per week fully furnished',\n",
       " '$420 per week/$1820 per month',\n",
       " '$800pw - renovated! spacious!',\n",
       " '$390 per week $1690 per month',\n",
       " '$410 per week/$1777 per month',\n",
       " '$420 per week!! enquire now!!',\n",
       " '1800 per week fully furnished',\n",
       " 'priced from $220pw / $956 pcm',\n",
       " '$360 per week/$1564 per month',\n",
       " '$550 per week fully furnished',\n",
       " 'apply now - from $180per week',\n",
       " '$580 per weekly - unfurnished',\n",
       " 'newly renovated $675 per week',\n",
       " 'experience tullamore | $420pw',\n",
       " '$425 pw | weston real estate',\n",
       " '$550 per week inc gardening!',\n",
       " '$699 pw | weston real estate',\n",
       " '$375pw - separate study/ wfh',\n",
       " 'available now. from $380 p/w',\n",
       " '$499 pw | weston real estate',\n",
       " '$650 per week - house & shop',\n",
       " '$390 pw | weston real estate',\n",
       " '$450 per week incl utilities',\n",
       " '$670 per week incl utilities',\n",
       " '$580 per week *unfurnished*',\n",
       " '$600 per week *unfurnished*',\n",
       " '$530 per week - unfurnished',\n",
       " '$270 pw / avail. 10.10.2022',\n",
       " '$380 pw / avail. 06.10.2022',\n",
       " '$380 per week with gardener',\n",
       " '$1200 pw high, $1000 pw low',\n",
       " '$1500 pw high, $1050 pw low',\n",
       " '$1750 pw high, $1400 pw low',\n",
       " '$495 p/w inc garden package',\n",
       " '$900 per week (unfurnished)',\n",
       " 'available now from $450 p/w',\n",
       " 'available now from $500 p/w',\n",
       " '$500 per week *unfurnished*',\n",
       " '$455/w available 03/06/2021',\n",
       " 'under application - $640 pw',\n",
       " '$235pw single $285pw couple',\n",
       " '$450 per week *unfurnished*',\n",
       " '$560 per week / $2,433 pcm',\n",
       " 'enquire now: $300 per week',\n",
       " '$500 per week / $2,173 pcm',\n",
       " '$510 per week - new carpet',\n",
       " '$520.00 pw / $2,173.00 pcm',\n",
       " '$600.00 pw / $2,608.00 pcm',\n",
       " 'enquire now: $490 per week',\n",
       " 'enquire now: $400 per week',\n",
       " '$560.00 pw / $2,433.00 pcm',\n",
       " '$430.00 pw / $1,869.00 pcm',\n",
       " '$2000 per week - furnished',\n",
       " '$240pw book online 24/7 pw',\n",
       " '$290pw book online 24/7 pw',\n",
       " 'enquire now: $380 per week',\n",
       " 'enquire now: $650 per week',\n",
       " '$600pw - spacious! s/cage!',\n",
       " '$400per week - 2 bathrooms',\n",
       " 'enquire now: $430 per week',\n",
       " '$350.00 pw - good location',\n",
       " 'from $786 - $1572 per week',\n",
       " '$360.00pw (water included)',\n",
       " '$395pw register to inspect',\n",
       " '$195 per week - no balcony',\n",
       " 'under application-$695 pw',\n",
       " '$460 per week ($1999 pcm)',\n",
       " '$450 pw / avail. 30.09.22',\n",
       " '$450 pw / avail. 07.10.22',\n",
       " '$370 pw / avail. 24.10.22',\n",
       " '$500pw includes utilities',\n",
       " '$490 per week - furnished',\n",
       " '$550 per week / $2390 pcm',\n",
       " '$350 per week - furnished',\n",
       " '$595 per week - furnished',\n",
       " '$370 per week ($1608 pcm)',\n",
       " 'furnished | $650 per week',\n",
       " '$765 per week / $3324 pcm',\n",
       " '$780 per week - furnished',\n",
       " '$400 per week ($1738 pcm)',\n",
       " '$410 per week ($1782 pcm)',\n",
       " '$450 per week ($1955 pcm)',\n",
       " '$200 per week incl. bills',\n",
       " '$1956 pcm ($450 per week)',\n",
       " '$260 per week (room only)',\n",
       " '$330 per week - furnished',\n",
       " '$380/weekly $1651 monthly',\n",
       " '$480 per week ($2086 pcm)',\n",
       " '$800 per week unfurnished',\n",
       " '$620 per week - furnished',\n",
       " '$780 per week **brand new',\n",
       " '$680/w & fully furnished',\n",
       " '$550/w & fully furnished',\n",
       " '$390pw / avail. 26.09.22',\n",
       " '$550 pw / avail. 7.10.22',\n",
       " 'rent2own with no deposit',\n",
       " '$540.00pw / $2,346.00pcm',\n",
       " '$550 p/w fully furnished',\n",
       " '$750pw | fully furnished',\n",
       " '$600pw | fully furnished',\n",
       " '$290 per week/ furnished',\n",
       " '$650/w & fully furnished',\n",
       " '$580/w & fully furnished',\n",
       " '450pw - fully furnished.',\n",
       " '665 per week unfurnished',\n",
       " '$295.00 pw/ $1282.00 pcm',\n",
       " '$690 pw *fully furnished',\n",
       " '$350 pw - walk to school',\n",
       " '$545 inc. bills per week',\n",
       " '$635 inc. bills per week',\n",
       " '$720 inc. bills per week',\n",
       " '$180pw, 1 week free rent',\n",
       " '$495/w & fully furnished',\n",
       " '$650/w furnished optinal',\n",
       " '$620 pw *fully furnished',\n",
       " '$450 per week/$1847 pcm',\n",
       " '$400 per week/$1738 pcm',\n",
       " '$600 incl. utilities pw',\n",
       " '$200 including bills pw',\n",
       " '$350 per week/$1521 pcm',\n",
       " '$355 per week/$1543 pcm',\n",
       " 'the deal: $850 per week',\n",
       " 'the deal: $600 per week',\n",
       " '$385.00pw / $1673.00pcm',\n",
       " 'the deal: $890 per week',\n",
       " '$520per week/ $2260 pcm',\n",
       " '$450 pw, with furnished',\n",
       " '$315 per week/$1369 pcm',\n",
       " 'the deal: $675 per week',\n",
       " 'the deal: $750 per week',\n",
       " '$360.00pw / $1564.00pcm',\n",
       " 'the deal: $880 per week',\n",
       " '$500 per week/$2173 pcm',\n",
       " '$420 per week/$1825 pcm',\n",
       " '$775/week ($3367/month)',\n",
       " 'the deal: $500 per week',\n",
       " '$350pw book online 24/7',\n",
       " '$275 per week/$1195 pcm',\n",
       " '$550 per week/$2390 pcm',\n",
       " '$310 per week/$1347 pcm',\n",
       " '$300pw book online 24/7',\n",
       " '$380 per week/$1651 pcm',\n",
       " '$540 per week furnished',\n",
       " '$600 per week/$2607 pcm',\n",
       " '$750 inc bills per week',\n",
       " '$460 pw / $1,999 pcm pw',\n",
       " '$460 per week/ $1999pcm',\n",
       " 'furnished $430 per week',\n",
       " 'furnished $500 per week',\n",
       " 'furnished $510 per week',\n",
       " '$730 **well furnished**',\n",
       " 'leased at $500 per week',\n",
       " '$1250 per week per week',\n",
       " '$500 per week/$2173pcm',\n",
       " '$580/w & available now',\n",
       " '$460/w & available now',\n",
       " '$500.00 pw / $2,173.00',\n",
       " '$445.00 pw / $1,934.00',\n",
       " '$480.00 pw / $2,086.00',\n",
       " '$480.00pw/$2086.00 pcm',\n",
       " '$450 per week | leased',\n",
       " '$480 per week | leased',\n",
       " '$400.00pw/ $1738.00pcm',\n",
       " '$460.00 p/w $2,000 pcm',\n",
       " '$500 per week | leased',\n",
       " '$400 per week | leased',\n",
       " '$450.00 pw / $1,955.00',\n",
       " 'fully furnished $500pw',\n",
       " '$550pw great location!',\n",
       " '$980pw stay 1 mth plus',\n",
       " '$500 per week - leased',\n",
       " '$440p/w ($1911.90 pcm)',\n",
       " '$180 pw inc utilities',\n",
       " 'from $230.00 per week',\n",
       " '$1043pw - stay 1 mth+',\n",
       " '$400 pw / 1739.00 pcm',\n",
       " '$520.00pw/$2260.00pcm',\n",
       " '$550.00pw/$2390.00pcm',\n",
       " '$350pw with furnished',\n",
       " '$1015pw - stay 1 mth+',\n",
       " '$1200pw - stay 1 mth+',\n",
       " 'from $180.00 per week',\n",
       " '$1024pw - stay 1 mth+',\n",
       " '$1218pw - stay 1 mth+',\n",
       " '$1246pw - stay 1 mth+',\n",
       " '$1029pw - stay 1 mth+',\n",
       " '$540 per week + study',\n",
       " '$1036pw - stay 1 mth+',\n",
       " '$1099pw - stay 1 mth+',\n",
       " '$1085pw - stay 1 mth+',\n",
       " 'from $250.00 per week',\n",
       " '$400pw ($1,738.09pcm)',\n",
       " '$350.00pw/$1434.00pcm',\n",
       " '$380/w &available now',\n",
       " '$1155pw - stay 1 mth+',\n",
       " '$1150 pw / $6900 pcm',\n",
       " '$1250 pw / $5431 pcm',\n",
       " '$450 pw / avail. now',\n",
       " '$375 pw / avail. now',\n",
       " '$430 pw / avail. now',\n",
       " '$380 pw / $1,651 pcm',\n",
       " '$560 pw / $2,433 pcm',\n",
       " '$500 pw / $2,173 pcm',\n",
       " '$370 pw / $1,608 pcm',\n",
       " '$620 pw // $2694 pcm',\n",
       " '$480 pw / $2,086 pcm',\n",
       " '$420 per week leased',\n",
       " '$855pw - stay 1 mth+',\n",
       " '$765pw - stay 1 mth+',\n",
       " '$896pw - stay 1 mth+',\n",
       " '$350 pw / $1,521 pcm',\n",
       " '$390 pw / $1,695 pcm',\n",
       " '$460 pw / $1,999 pcm',\n",
       " '$405 pw / $1,760 pcm',\n",
       " '$875pw - stay 1 mth+',\n",
       " '$812pw - stay 1 mth+',\n",
       " '$590 pw / $2,564 pcm',\n",
       " '$433 per week (from)',\n",
       " '$430 pw / $1,868 pcm',\n",
       " '$400 pw / $1,738 pcm',\n",
       " '$310 pw / $1,347 pcm',\n",
       " '$415 pw / $1,803 pcm',\n",
       " '$400.00pw/1738.00pcm',\n",
       " '$385 pw / $1,673 pcm',\n",
       " '$445 pw / $1,934 pcm',\n",
       " '$850pw - stay 1 mth+',\n",
       " '$310pw utilities inc',\n",
       " '$1100 pw - $4780 pcm',\n",
       " '$630 pw / $ 2738 pcm',\n",
       " '$455 pw / $1,977 pcm',\n",
       " '$510 pw / $2,216 pcm',\n",
       " '$780 pw / $3,389 pcm',\n",
       " '$710 pw / $3,085 pcm',\n",
       " '$1100 pw / $4780 pcm',\n",
       " '$545 pw / $2,368 pcm',\n",
       " '$480 per week 480.00',\n",
       " '$420 pw / $1,825 pcm',\n",
       " '$360 pw / $1,564 pcm',\n",
       " '$400 pw / avail. now',\n",
       " '$926pw - stay 1 mth+',\n",
       " '$440pw ($1911.90pcm)',\n",
       " 'coming soon | $420pw',\n",
       " '$420 pw ($1,825 pcm)',\n",
       " '$340 pw ($1,477 pcm)',\n",
       " '$430 pw ($1,868 pcm)',\n",
       " '$350 pw ($1,520 pcm)',\n",
       " 'to let $360 per week',\n",
       " '$295 pw - good house',\n",
       " '$450 per week leased',\n",
       " '$845pw - stay 1 mth+',\n",
       " '$550 pw / $2,390 pcm',\n",
       " '$854pw - stay 1 mth+',\n",
       " '$450 pw / $1,955 pcm',\n",
       " '$300 pw / $1,304 pcm',\n",
       " '$400 pw ($1,738 pcm)',\n",
       " '$315 pw / $1,369 pcm',\n",
       " '$395 pw / $1,716 pcm',\n",
       " '$340 pw / $1,477 pcm',\n",
       " '$300 pw / $1304 pcm',\n",
       " '$650 pw / $2824 pcm',\n",
       " '$350.00 per week pw',\n",
       " '$630 pw / $2738 pcm',\n",
       " '$600 pw / $2607 pcm',\n",
       " '$540 pw / $2346 pcm',\n",
       " '$490.00 per week pw',\n",
       " '$640.00 per week pw',\n",
       " '$400 pw / $1738 pcm',\n",
       " '$500 pw / $2173 pcm',\n",
       " '$390.00 per week pw',\n",
       " '$410.00 per week pw',\n",
       " '$360.00 per week pw',\n",
       " '$530 pw/ $2,303 pcm',\n",
       " '$520 pw/ $2,260 pcm',\n",
       " '$750 pw / $3259 pcm',\n",
       " '$460 pw / $1999 pcm',\n",
       " '$950 pw / $4128 pcm',\n",
       " '$450 pw / $1955 pcm',\n",
       " '$385 pw / $1673 pcm',\n",
       " '$550 pw / $2390 pcm',\n",
       " '$340 pw / $1477 pcm',\n",
       " '$295 pw / $1282 pcm',\n",
       " '$425 pw / $1847 pcm',\n",
       " '$695 pw / $3020 pcm',\n",
       " '$485 pw / $2107 pcm',\n",
       " '$750 p/w bond $3250',\n",
       " '$415 pw / $1803 pcm',\n",
       " '$510 pw / $2216 pcm',\n",
       " '$395 wk / $1712 pcm',\n",
       " '$390 wk / $1690 pcm',\n",
       " '$395 pw / $1716 pcm',\n",
       " '$650 pw/ $2,824 pcm',\n",
       " '$500 p/w $2,172 pcm',\n",
       " '$520 p/w $2,260 pcm',\n",
       " 'from $2100 per week',\n",
       " '$480 p/w $2,085 pcm',\n",
       " '$480.00 per week pw',\n",
       " '$1000pw - furnished',\n",
       " '$480 pw / $2086 pcm',\n",
       " '$555 pw / $2412 pcm',\n",
       " '$300.00 per week pw',\n",
       " '$580 pw / $2520 pcm',\n",
       " '$435 p/w $1,890 pcm',\n",
       " '$420 pw / $1825 pcm',\n",
       " '$430 pw / $1868 pcm',\n",
       " '$390 pw/ $1,695 pcm',\n",
       " '$285 pw / $1238 pcm',\n",
       " '$325 pw / $1412 pcm',\n",
       " '$520 pw / $2260 pcm',\n",
       " '$795 pw / $3454 pcm',\n",
       " '$730 pw / $3172 pcm',\n",
       " '$800 pw / $3476 pcm',\n",
       " '$560 pw / $2433 pcm',\n",
       " '$360 pw / $1564 pcm',\n",
       " '$490 pw / $2129 pcm',\n",
       " '$480 pw / $2085 pcm',\n",
       " '$470 pw / $2042 pcm',\n",
       " '$310 pw / $1347 pcm',\n",
       " '$405 pw / $1760 pcm',\n",
       " '$380 pw / $1651 pcm',\n",
       " '$450 pw/ $1,955 pcm',\n",
       " '$480 pw/ $2,086 pcm',\n",
       " '$525 pw / $2281 pcm',\n",
       " '$570 pw / $2,477 pm',\n",
       " '$480 per week/$2086',\n",
       " '$550 pw/ $2,390 pcm',\n",
       " '$390 pw - big house',\n",
       " '$620 pw / $2694 pcm',\n",
       " '$575.00 per week pw',\n",
       " '$460 pw/ $1,999 pcm',\n",
       " 'from $5500 per week',\n",
       " '$420 pw/ $1,825 pcm',\n",
       " '$680pw, $2955.00pcm',\n",
       " 'furnished $500/week',\n",
       " 'furnished $600/week',\n",
       " '$530 pw *plus study',\n",
       " 'furnished $580/week',\n",
       " '$400 pw / 1,738 pcm',\n",
       " '$420pw / $1,825pcm',\n",
       " '$405pw | $1,760pcm',\n",
       " '$400pw | $1,738pcm',\n",
       " '$550pw | $2,390pcm',\n",
       " '$460pw / $1,999pcm',\n",
       " '$480pw | $2,086pcm',\n",
       " '$430pw | $1,868pcm',\n",
       " '$400pw / $1,738pcm',\n",
       " '$450.00 per weekly',\n",
       " '$430 pw / $1868pcm',\n",
       " '$520 p/w $2173 pcm',\n",
       " '$450pw / $1955 pcm',\n",
       " 'from $150 per week',\n",
       " 'from $212 per week',\n",
       " '$510pw / $2,216pcm',\n",
       " '$1,800.00 per week',\n",
       " '$1,300.00 per week',\n",
       " '$420pw | $1,825pcm',\n",
       " '$530pw | $2,303pcm',\n",
       " '$390pw | $1,695pcm',\n",
       " '$440pw | $1,912pcm',\n",
       " '$450 per week only',\n",
       " '$420 per week only',\n",
       " '$500 per week only',\n",
       " '$400pw/$1738pcm pw',\n",
       " '$400 pw $1,738 pcm',\n",
       " '$410 pw/ $1782 pcm',\n",
       " '$460 pw $2,000 pcm',\n",
       " 'furnished | $625pw',\n",
       " '$450/w unfurnished',\n",
       " '545 pw / $2368 pcm',\n",
       " '$480pw / $2,085pcm',\n",
       " 'from $140 per week',\n",
       " 'from $200 per week',\n",
       " 'from $250 per week',\n",
       " 'from $220 per week',\n",
       " 'from $165 per week',\n",
       " 'from $195 per week',\n",
       " '$430 pw/ $1868 pcm',\n",
       " '$1,700.00 per week',\n",
       " '$1,450.00 per week',\n",
       " 'from $700 per week',\n",
       " 'from $530 per week',\n",
       " '$380 pw/ $1651 pcm',\n",
       " 'from $630 per week',\n",
       " '$1,200.00 per week',\n",
       " '$2,500.00 per week',\n",
       " '$1,050.00 per week',\n",
       " 'from $230 per week',\n",
       " '$330pw | $1,434pcm',\n",
       " '$1800pw / $7821pcm',\n",
       " '$2300pw / $9994pcm',\n",
       " '$490 pw/ $2129 pcm',\n",
       " '$490pw | $2,129pcm',\n",
       " '$410pw | $1,782pcm',\n",
       " 'from $180 per week',\n",
       " 'from $190 per week',\n",
       " '$550 pw/ $2390 pcm',\n",
       " '$450 pw/ $1955 pcm',\n",
       " '$1190pw stay 1 mth',\n",
       " '$395pw / $1716 pcm',\n",
       " '$500 pw/$2,173 pcm',\n",
       " '$580pw / $2,520pcm',\n",
       " '$370pw / $1,608pcm',\n",
       " '$1,150.00 per week',\n",
       " '$740pw / $3,215pcm',\n",
       " '$520 per week only',\n",
       " '$350pw | $1,521pcm',\n",
       " '$320pw | $1,390pcm',\n",
       " '$1,580pw/$6,865pcm',\n",
       " '345 pw / $1499 pcm',\n",
       " '$570 pw / $2477 pm',\n",
       " '$660 pw / $2868 pm',\n",
       " '$750 pw / $3259 pm',\n",
       " '$580 pw / $2521 pm',\n",
       " 'from $580 per week',\n",
       " 'from $330 per week',\n",
       " 'from $259 per week',\n",
       " 'from $264 per week',\n",
       " '$595pw | $2,585pcm',\n",
       " '$540 pw/ $2346 pcm',\n",
       " '$385 pw $1,668 pcm',\n",
       " '$1,750.00 per week',\n",
       " '$520 pw/ $2260 pcm',\n",
       " '$390pw / $1,695pcm',\n",
       " '$385pw/$1673pcm pw',\n",
       " '$320pw / $1,390pcm',\n",
       " '$470pw / $2,042pcm',\n",
       " '$370pw/$1608pcm pw',\n",
       " '$340pw/$1477pcm pw',\n",
       " '$350pw / $1,521pcm',\n",
       " 'from $170 per week',\n",
       " '$465 pw/ $2021 pcm',\n",
       " '$415pw | $1,803pcm',\n",
       " '$560/w unfurnished',\n",
       " '$1,150pw/$4,997pcm',\n",
       " '$610 pw/ $2651 pcm',\n",
       " 'from $240 per week',\n",
       " '$450/w & furnished',\n",
       " '$780/w & furnished',\n",
       " '$590/w & furnished',\n",
       " '$1,000.00 per week',\n",
       " '$1200 pw furnished',\n",
       " '$700/w unfurnished',\n",
       " '$500/w unfurnished',\n",
       " '$750/w unfurnished',\n",
       " '$900/w unfurnished',\n",
       " '$600/w unfurnished',\n",
       " '$1050pw stay 1 mth',\n",
       " '$380pw - big house',\n",
       " '$360pw / $1,565pcm',\n",
       " '$990 w unfurnished',\n",
       " '$490.00/ per week',\n",
       " '$380pw / $1651pcm',\n",
       " '$560pw / $2433pcm',\n",
       " '$440pw / $1912pcm',\n",
       " '$550pw / $2390pcm',\n",
       " '$360pw / $1564pcm',\n",
       " '$570pw / $2477pcm',\n",
       " '$450pw / $1955pcm',\n",
       " '$370pw / $1608pcm',\n",
       " '$600pw / $2607pcm',\n",
       " '$650pw/ $2824 pcm',\n",
       " '$640pw / $2781pcm',\n",
       " '$480pw / $2086pcm',\n",
       " '$750 per week 750',\n",
       " '$390pw / $1695pcm',\n",
       " '$595pw / $2585pcm',\n",
       " '$520pw / $2260pcm',\n",
       " '$575pw / $2499pcm',\n",
       " '$320pw / $1390pcm',\n",
       " '$685pw / $2976pcm',\n",
       " '$455pw / $1977pcm',\n",
       " '$995pw stay 1 mth',\n",
       " '$370pw | $1608pcm',\n",
       " '$395.00 per week.',\n",
       " '$3,775 wk $545 pn',\n",
       " '$440pw | $1912pcm',\n",
       " '$ 595.00 per week',\n",
       " 'leased in 1 week!',\n",
       " '$1095.00 per week',\n",
       " '$550pw | $2390pcm',\n",
       " '$700pw/ $3042 pcm',\n",
       " '$990pw / $4301pcm',\n",
       " '$495pw / $2151pcm',\n",
       " '$420pw / $1825pcm',\n",
       " '$850pw / $3693pcm',\n",
       " '$400pw / $1738pcm',\n",
       " '$460pw / $1999pcm',\n",
       " '$350pw / $1521pcm',\n",
       " '$990 pw furnished',\n",
       " '$465pw / $2021pcm',\n",
       " '$480pw/ $2086 pcm',\n",
       " '$695pw / $3020pcm',\n",
       " '$290pw / $1260pcm',\n",
       " '$370 pw/$1608 pcm',\n",
       " '$475pw / $2064pcm',\n",
       " '$1400.00 per week',\n",
       " '$1000.00 per week',\n",
       " '$1200.00 per week',\n",
       " '$2000.00 per week',\n",
       " '$3750.00 per week',\n",
       " '$295pw / $1282pcm',\n",
       " '$2200.00 per week',\n",
       " '$1050.00 per week',\n",
       " '$340pw/ $1477 pcm',\n",
       " '$270pw / $1173pcm',\n",
       " '$440pw/ $1,912pcm',\n",
       " '$340pw / $1477pcm',\n",
       " '$545pw/ $2803 pcm',\n",
       " '$615 pw furnished',\n",
       " '$295 pw furnished',\n",
       " '$300.00 per week.',\n",
       " '$400 pw $1733 pcm',\n",
       " '$430 pw $1863 pcm',\n",
       " '$620pw | $2694pcm',\n",
       " '$1300pw/ $5649pcm',\n",
       " '$565pw / $2455pcm',\n",
       " '$470pw / $2042pcm',\n",
       " '$750pw / $3259pcm',\n",
       " '$750 pw furnished',\n",
       " '$1550.00 per week',\n",
       " '$850pw - $3693pcm',\n",
       " '$900 pw furnished',\n",
       " '$430pw / $1868pcm',\n",
       " '$590pw / $2564pcm',\n",
       " '$375pw / $1629pcm',\n",
       " '$495 pw furnished',\n",
       " '$800 pw/$3476 pcm',\n",
       " '280/w & furnished',\n",
       " '$348 pw furnished',\n",
       " '$160 pw furnished',\n",
       " '$580pw / $2520pcm',\n",
       " '$625pw / $2716pcm',\n",
       " '$950pw / $4128pcm',\n",
       " '$410pw / $1782pcm',\n",
       " '$730pw / $3172pcm',\n",
       " '$980pw / $4258pcm',\n",
       " '$240pw / $1043pcm',\n",
       " '$540pw / $2346pcm',\n",
       " '$795pw / $3454pcm',\n",
       " '$995pw / $4324pcm',\n",
       " '$530pw / $2303pcm',\n",
       " '$990pw / $4302pcm',\n",
       " '$300pw / $1304pcm',\n",
       " '$305pw / $1325pcm',\n",
       " '$345pw / $1499pcm',\n",
       " '$700pw / $3042pcm',\n",
       " '$415pw / $1803pcm',\n",
       " 'rooms from $180pw',\n",
       " '$3500.00 per week',\n",
       " '$2600.00 per week',\n",
       " '$420pw | $1825pcm',\n",
       " '$650pw / $2824pcm',\n",
       " '$925pw / $4019pcm',\n",
       " '$745pw / $3237pcm',\n",
       " '$500pw / $2173pcm',\n",
       " '$500 furnished pw',\n",
       " '$450.00 per week',\n",
       " '$595 per week pw',\n",
       " '$490.00 per week',\n",
       " '$600.00 per week',\n",
       " '$395.00 per week',\n",
       " '$700.00 per week',\n",
       " '$385.00 per week',\n",
       " '$550.00 per week',\n",
       " '$435.00 per week',\n",
       " '$400 per week pw',\n",
       " '$375.00 per week',\n",
       " '$590.00 per week',\n",
       " '$340.00 per week',\n",
       " '$540.00 per week',\n",
       " '$305.00 per week',\n",
       " '$400.00 per week',\n",
       " '$520pw/$2,260pcm',\n",
       " '$540pw/$2,346pcm',\n",
       " '$350pw/$1,521pcm',\n",
       " '$780pw/$3,390pcm',\n",
       " '$520pw/$2,259pcm',\n",
       " '$330.00 per week',\n",
       " '$230.00 per week',\n",
       " '$390.00 per week',\n",
       " '$480.00 per week',\n",
       " '$470.00 per week',\n",
       " '$515.00 per week',\n",
       " '$310.00 per week',\n",
       " '$750.00 per week',\n",
       " '$500.00 per week',\n",
       " '$510.00 per week',\n",
       " '$420.00 per week',\n",
       " '$485.00 per week',\n",
       " '$635.00 per week',\n",
       " '$350.00 per week',\n",
       " '$220.00 per week',\n",
       " '$350 pw/ $1521pm',\n",
       " '$520.00 per week',\n",
       " '$450pw /$1955pcm',\n",
       " '$410.00 per week',\n",
       " '$430.00 per week',\n",
       " '$450pw, $1955pcm',\n",
       " '$370.00 per week',\n",
       " '$360.00 per week',\n",
       " '$475.00 per week',\n",
       " '$450pw/$1,955pcm',\n",
       " '$650pw/$2,824pcm',\n",
       " '$460.00 per week',\n",
       " '$320.00 per week',\n",
       " '$380.00 per week',\n",
       " '$260.00 per week',\n",
       " '$270.00 per week',\n",
       " '$250.00 per week',\n",
       " '$300.00 per week',\n",
       " '$560.00 per week',\n",
       " '$240.00 per week',\n",
       " '$280.00 per week',\n",
       " '$290.00 per week',\n",
       " '$640.00 per week',\n",
       " '$580/w furnished',\n",
       " '$400pw/$1,738pcm',\n",
       " '$625pw/$2,716pcm',\n",
       " '$490pw/$2,129pcm',\n",
       " '$410pw/$1,782pcm',\n",
       " '$500pw/$2,172pcm',\n",
       " '$950pw/$4,128pcm',\n",
       " '$375pw/$1,629pcm',\n",
       " '$400pw/$1,739pcm',\n",
       " '$735.00 per week',\n",
       " '$580.00 per week',\n",
       " '$255.00 per week',\n",
       " '$950.00 per week',\n",
       " '$720.00 per week',\n",
       " '$595.00 per week',\n",
       " '$475pw/$2,064pcm',\n",
       " '$200.00 per week',\n",
       " '$650.00 per week',\n",
       " '$820pw/$3,563pcm',\n",
       " '$440.00 per week',\n",
       " '$195.00 per week',\n",
       " '$465.00 per week',\n",
       " 'rent2own program',\n",
       " '$430pw/$1,868pcm',\n",
       " '$495.00 per week',\n",
       " '$610.00 per week',\n",
       " '$775.00 per week',\n",
       " '$570.00 per week',\n",
       " '$395pw/$1,716pcm',\n",
       " '$405pw/$1,760pcm',\n",
       " '$795pw/$3,454pcm',\n",
       " '$360pw/$1,564pcm',\n",
       " '$150.00 per week',\n",
       " '$495pw/$2,151pcm',\n",
       " '$370pw/$1,608pcm',\n",
       " '$480 per week pw',\n",
       " '$410 per week pw',\n",
       " '$390 per week pw',\n",
       " '$730.00 per week',\n",
       " '$1400pw/$6083pcm',\n",
       " '$365.00 per week',\n",
       " '$290 per week pw',\n",
       " '$525.00 per week',\n",
       " '$995.00 per week',\n",
       " '$445pw/$1934 pcm',\n",
       " '$480pw/$2086 pcm',\n",
       " '$620.00 per week',\n",
       " '$750pw / 3259pcm',\n",
       " '$660.00 per week',\n",
       " '$670.00 per week',\n",
       " '$355.00 per week',\n",
       " '$325.00 per week',\n",
       " '$645.00 per week',\n",
       " '$345.00 per week',\n",
       " '$295.00 per week',\n",
       " '$430 per week pw',\n",
       " '$415.00 per week',\n",
       " '$800pw, $3476pcm',\n",
       " '$950pw, $4128pcm',\n",
       " '$620pw, $2694pcm',\n",
       " '$350pw/ $1521pcm',\n",
       " '$340 per week pw',\n",
       " '$450pw/ $1955pcm',\n",
       " '$750pw/ $3259pcm',\n",
       " '$600pw/ $2607pcm',\n",
       " '$560pw, $2433pcm',\n",
       " '$400pw/ $1738pcm',\n",
       " '$675pw/$2,933pcm',\n",
       " '$1200pw/$5214pcm',\n",
       " '$380pw/$1,651pcm',\n",
       " '$625.00 per week',\n",
       " '$425.00 per week',\n",
       " '$350 per week pw',\n",
       " '$370 per week pw',\n",
       " '$225.00 per week',\n",
       " '$980pw/ $4298pcm',\n",
       " '$830/w furnished',\n",
       " '$850/w furnished',\n",
       " '$700/w furnished',\n",
       " '$800/w furnished',\n",
       " '$770/w furnished',\n",
       " '$650 pw/$2824 pm',\n",
       " '$180.00 per week',\n",
       " '$165.00 per week',\n",
       " '$760.00 per week',\n",
       " '$360 per week pw',\n",
       " '$575.00 per week',\n",
       " '$185.00 per week',\n",
       " '$330pw, $1434pcm',\n",
       " '$675.00 per week',\n",
       " '$235.00 per week',\n",
       " '$695.00 per week',\n",
       " '$915.00 per week',\n",
       " '$450 per week pw',\n",
       " '$395 per week pw',\n",
       " '$245.00 per week',\n",
       " '$265.00 per week',\n",
       " '$650 per week pw',\n",
       " '$420 per week pw',\n",
       " '$460pw/ $1999pcm',\n",
       " '$420pw/$1,825pcm',\n",
       " '$850.00 per week',\n",
       " '$795.00 per week',\n",
       " '$1150pw/$4997pcm',\n",
       " '$420 ff per week',\n",
       " '$895.00 per week',\n",
       " 'from $750 per wk',\n",
       " '$300pw/$1,304pcm',\n",
       " '$650pw/ $2824pcm',\n",
       " '$850pw/ $3693pcm',\n",
       " '$550pw/ $2390pcm',\n",
       " '$530pw/ $2303pcm',\n",
       " '$320pw/$1,391pcm',\n",
       " '$580pw/ $2520pcm',\n",
       " '$450p/w/$1955pcm',\n",
       " '$365pw/$1,586pcm',\n",
       " '$ 275.00per week',\n",
       " '$800.00 per week',\n",
       " '$530.00 per week',\n",
       " '$535.00 per week',\n",
       " '$570 per week pw',\n",
       " '$390pw/$1,694pcm',\n",
       " '$600pw/$2,607pcm',\n",
       " '$300pw/ $1304pcm',\n",
       " '$415pw/$1,803pcm',\n",
       " '$585.00 per week',\n",
       " '$175.00 per week',\n",
       " '$690.00 per week',\n",
       " '$230pw / $999pcm',\n",
       " '$335 per week pw',\n",
       " '$460pw/$1,999pcm',\n",
       " '$385 per week pw',\n",
       " '$440pw, $1912pcm',\n",
       " '$320/w furnished',\n",
       " '$695pw/$3,020pcm',\n",
       " '$580 per week pw',\n",
       " '$690pw/$2,998pcm',\n",
       " '$525pw/$2,281pcm',\n",
       " '$520 per week pw',\n",
       " '$335.00 per week',\n",
       " '$630.00 per week',\n",
       " '$360pw/ $1564pcm',\n",
       " '$500pw, $2173pcm',\n",
       " '$680pw/$2,955pcm',\n",
       " '$390pw/$1,695pcm',\n",
       " '$400pw /$1738pcm',\n",
       " '$160pw / $695pcm',\n",
       " '$485 per week pw',\n",
       " '$480pw/$2,086pcm',\n",
       " '$760pw/$3,302pcm',\n",
       " '$870pw/$3,781pcm',\n",
       " '$425pw/$1,846pcm',\n",
       " '$545.00 per week',\n",
       " '$950pw/$4.128pcm',\n",
       " '$470pw/$2,042pcm',\n",
       " '$285.00 per week',\n",
       " '$900.00 per week',\n",
       " '$620 per week pw',\n",
       " '$890.00 per week',\n",
       " '$480/w furnished',\n",
       " '$600/w furnished',\n",
       " '$630/w furnished',\n",
       " '$900/w furnished',\n",
       " '$780/w furnished',\n",
       " '$650/w furnished',\n",
       " '$750/w furnished',\n",
       " '$880/w furnished',\n",
       " '$363.00 per week',\n",
       " '$750pw/$3,259pcm',\n",
       " '$465pw/$2,020pcm',\n",
       " '$460pw/$1999pcm',\n",
       " '$450pw/$1955pcm',\n",
       " '$545pw/$2368pcm',\n",
       " '$675pw/$2933pcm',\n",
       " '$310pw/$1347pcm',\n",
       " '400.00 per week',\n",
       " '$1,400 per week',\n",
       " '$580pw/$2530pcm',\n",
       " '$750pw/$3259pcm',\n",
       " '$550pw/$2390pcm',\n",
       " '$400pw/$1738pcm',\n",
       " '$580pw/$2520pcm',\n",
       " '$680pw/$2955pcm',\n",
       " '$850pw/$3693pcm',\n",
       " '$510pw/$2216pcm',\n",
       " '$440pw/$1912pcm',\n",
       " '$430pw/$1868pcm',\n",
       " '$485pw/$2107pcm',\n",
       " '$600pw/$2607pcm',\n",
       " '$875pw/$3802pcm',\n",
       " '$615pw/$2665pcm',\n",
       " '$420pw/$1825pcm',\n",
       " '$400pw $1738pcm',\n",
       " '$540pw/$2346pcm',\n",
       " '$460pw $1999pcm',\n",
       " '$1,100 per week',\n",
       " '295.00 per week',\n",
       " '$1,450 per week',\n",
       " '$390pw/$1695pcm',\n",
       " '$700pw/$3042pcm',\n",
       " '$640pw/$2781pcm',\n",
       " '$800pw/$3476pcm',\n",
       " '$480pw/$2086pcm',\n",
       " '$795pw/$3454pcm',\n",
       " '$1,150 per week',\n",
       " '$370pw/$1608pcm',\n",
       " '310.00 per week',\n",
       " '$350pw/$1521pcm',\n",
       " '$650pw/$2824pcm',\n",
       " '$330pw/$1434pcm',\n",
       " '$380pw/$1651pcm',\n",
       " '$425pw$1,847pcm',\n",
       " '$3,000 per week',\n",
       " '$1,950 per week',\n",
       " ...]"
      ]
     },
     "execution_count": 13,
     "metadata": {},
     "output_type": "execute_result"
    }
   ],
   "source": [
    "sorted(\n",
    "    list(rental_raw_data[\n",
    "    rental_raw_data['cost_text'].str.contains('w')\n",
    "].\\\n",
    "    cost_text.\\\n",
    "        unique()),\n",
    "    key= lambda s: len(s),\n",
    "    reverse=True\n",
    ")"
   ]
  },
  {
   "cell_type": "markdown",
   "metadata": {},
   "source": [
    "(Try to) Find all instances such that its cost is defined per week"
   ]
  },
  {
   "cell_type": "markdown",
   "metadata": {},
   "source": [
    "Normally, format would be something like <code>PRICE__w</code> where <code>__</code> could be any character and <code>w</code> could be either <code>week, weekly</code> etc."
   ]
  },
  {
   "cell_type": "code",
   "execution_count": 14,
   "metadata": {},
   "outputs": [
    {
     "data": {
      "text/plain": [
       "5        [550 per w]\n",
       "10       [430 per w]\n",
       "27       [370 per w]\n",
       "29         [1,150 w]\n",
       "30           [590 w]\n",
       "            ...     \n",
       "14790    [950 per w]\n",
       "14791    [460 per w]\n",
       "14794    [640 per w]\n",
       "14796        [525 w]\n",
       "14801       [440p/w]\n",
       "Name: cost_text, Length: 8872, dtype: object"
      ]
     },
     "execution_count": 14,
     "metadata": {},
     "output_type": "execute_result"
    }
   ],
   "source": [
    "rental_raw_data['cost_text'].str.findall(r'\\d+.*w')[\n",
    "    rental_raw_data['cost_text'].str.findall(r'\\d+.*w').map(lambda x: bool(x))\n",
    "]"
   ]
  },
  {
   "cell_type": "markdown",
   "metadata": {},
   "source": [
    "Maybe we can make sure that the <code>w</code> corresponds to <code>week</code>. One way to do this is to print out the rest of the values after <code>w</code>"
   ]
  },
  {
   "cell_type": "code",
   "execution_count": 15,
   "metadata": {},
   "outputs": [
    {
     "data": {
      "text/plain": [
       "5                 [550 per week]\n",
       "10                [430 per week]\n",
       "27                [370 per week]\n",
       "29                [1,150 weekly]\n",
       "30                  [590 weekly]\n",
       "                  ...           \n",
       "14790             [950 per week]\n",
       "14791             [460 per week]\n",
       "14794             [640 per week]\n",
       "14796               [525 weekly]\n",
       "14801    [440p/w ($1911.90 pcm)]\n",
       "Name: cost_text, Length: 8872, dtype: object"
      ]
     },
     "execution_count": 15,
     "metadata": {},
     "output_type": "execute_result"
    }
   ],
   "source": [
    "syntax = r'\\d+.*w.*'\n",
    "test_rental_raw_cost_per_week = rental_raw_data['cost_text'].str.findall(syntax)[\n",
    "    rental_raw_data['cost_text'].str.findall(syntax).map(lambda x: bool(x))    \n",
    "]\n",
    "test_rental_raw_cost_per_week"
   ]
  },
  {
   "cell_type": "markdown",
   "metadata": {},
   "source": [
    "# Extracting Rent Per Week or Other Rents Containing <code>'w'</code>\n",
    "One way to do this is that find all instances for which <code>cost_text</code> contains <code>numbers__w__</code>, where: \n",
    "\n",
    "- <code>__</code> after <code>numbers</code> is any character\n",
    "- <code>w__</code> is the first word starting with <code>w</code>\n",
    "also we're accounting the possibility that some may write it as <code>pw, per week, per wk</code> and etc. \n",
    "\n",
    "\n",
    "Even if the <code>w__</code> does not signify annual rent, provided that there's <code>numbers</code> that signify the rental price, we still can assume it as the weekly rent for that property (more data is better!)"
   ]
  },
  {
   "cell_type": "markdown",
   "metadata": {},
   "source": [
    "Or, maybe a capture group of the characters following <code>w</code> onwards would help.\n",
    "\n",
    "1.\n",
    "- Since we want to know whether week := <code>w, week, wk</code> (or maybe not even corresponding to week), for every occurence of any word beginning with <code>w</code>, we stop if there's any whitespace or there's any number following it to inspect the unique values\n",
    "\n",
    "\n",
    "\n",
    "\n",
    "\n",
    "\n"
   ]
  },
  {
   "cell_type": "code",
   "execution_count": 16,
   "metadata": {},
   "outputs": [
    {
     "data": {
      "text/plain": [
       "5                 [550 per week]\n",
       "10                [430 per week]\n",
       "27                [370 per week]\n",
       "29                [1,150 weekly]\n",
       "30                  [590 weekly]\n",
       "                  ...           \n",
       "14790             [950 per week]\n",
       "14791             [460 per week]\n",
       "14794             [640 per week]\n",
       "14796               [525 weekly]\n",
       "14801    [440p/w ($1911.90 pcm)]\n",
       "Name: cost_text, Length: 8872, dtype: object"
      ]
     },
     "execution_count": 16,
     "metadata": {},
     "output_type": "execute_result"
    }
   ],
   "source": [
    "test_rental_raw_cost_per_week"
   ]
  },
  {
   "cell_type": "code",
   "execution_count": 17,
   "metadata": {},
   "outputs": [
    {
     "name": "stdout",
     "output_type": "stream",
     "text": [
      "['w', 'w!!', 'w$', 'w**', 'w,', 'w-', 'w.', 'w/', 'w/$', 'walk', 'walking', 'wanted**', 'water', 'waterfront', 'week', 'week!', 'week!!', 'week)', 'week,', 'week-', 'week-includes', 'week.', 'week/', 'week/$', 'week/fully', 'week;', 'weekly', 'weeks', 'wek', 'well', 'weston', 'wfh', 'wing', 'with', 'wk', 'wn', 'ws', 'ws!', 'wunfurnished/']\n"
     ]
    }
   ],
   "source": [
    "syntax = r'\\d+.*(w[^\\s\\d]*)'\n",
    "test_rental_raw_cost_contains_w = rental_raw_data['cost_text'].str.findall(syntax)[\n",
    "    rental_raw_data['cost_text'].str.findall(syntax).map(lambda x: bool(x))    \n",
    "]\n",
    "\n",
    "#ensure that EACH of the outputs below BELONG to EXACTLY ONE instance\n",
    "#print(\"Max length for matches in each instance: \",test_rental_raw_cost_contains_w.map(lambda x: len(x)).max())\n",
    "\n",
    "#print all words that begin in 'w'\n",
    "print(sorted(test_rental_raw_cost_contains_w.map(lambda x: x[0]).unique()))"
   ]
  },
  {
   "cell_type": "markdown",
   "metadata": {},
   "source": [
    "~~Since <code>re.findall</code> is greedy (meaning if there's > 1 matches the length of list retured will > 1), and that it returns exactly one match of the pattern <code>syntax</code> from the matched instances,~~\n",
    "\n",
    "- instances containing, e.g. <code>'wunfurnished/', 'weston', 'wfh'</code> do **not** have the *weekly* rental prices explicitly listed, but that's okay because, again, we can assume that they are weekly, provided that the rental prices for such instances are matched (by the regex <code>\\d+</code> in <code>syntax</code>) "
   ]
  },
  {
   "cell_type": "markdown",
   "metadata": {},
   "source": [
    "2. \n",
    "\n",
    "A more better refinement is to include 'p' (weekly rental prices can be written as <code>numbers per week, numbers pw, numbers p week</code> and etc)\n",
    "\n",
    "Now, it seems like we need to add more filter to include any <code>p</code> (and cross match with the above with the reason below:)\n",
    "- Example: <code>wunfurnished/</code> could be preceded by, say <code>pwunfurnished</code> (perhaps signifying per week and unfurnished)"
   ]
  },
  {
   "cell_type": "code",
   "execution_count": 18,
   "metadata": {},
   "outputs": [
    {
     "name": "stdout",
     "output_type": "stream",
     "text": [
      "['per week' 'pw' 'per week week' 'p/w' 'pw/$' 'p.w.' 'per week/$'\n",
      " 'per week;' 'pw - save time view' 'per weekly' 'per week.' 'perweek'\n",
      " 'per week,' 'pw/' 'pw | weston' 'pw,' 'p/week' 'per week - new'\n",
      " 'pw / avail. now' 'per week/fully' 'per week/' 'p.w' 'per week with'\n",
      " 'per wek' 'pw low,' 'pw low' 'pw$' 'per week!!' 'per week)' 'pwk'\n",
      " 'pw with' 'pw, with' 'per week!! available now' 'parate study/ wfh'\n",
      " 'pw - s/cage! white goods! views!' 'per week!! enquire now!!'\n",
      " 'per week-includes' 'per wk' 'pcm 1 weeks' 'p/w/$'\n",
      " 'per week including lawn mowing' 'pw reviewing'\n",
      " 'pw - study! s/cage! views!' 'precinct views' 'pw - great views'\n",
      " 'p/w - big house - walk' 'pw - walk' 'pw (water' 'pw, 1 week' 'pw-'\n",
      " 'per week-' 'pre week' 'per week **brand new']\n"
     ]
    }
   ],
   "source": [
    "syntax = r'\\d+.*(p.*w[^\\s\\d]*)'\n",
    "test_rental_raw_cost_p_w = rental_raw_data['cost_text'].str.findall(syntax)[\n",
    "    rental_raw_data['cost_text'].str.findall(syntax).map(lambda x: bool(x))    \n",
    "]\n",
    "\n",
    "#ensure that EACH of the outputs below BELONG to EXACTLY ONE instance (re.findall is greedy)\n",
    "#print(\"Max length for matches in each instance: \",test_rental_raw_cost_p_w.map(lambda x: len(x)).max())\n",
    "\n",
    "#print all words that begin in 'w'\n",
    "print(test_rental_raw_cost_p_w.map(lambda x: x[0]).unique())"
   ]
  },
  {
   "cell_type": "markdown",
   "metadata": {},
   "source": [
    "Now, we check if matches in 2. is contained in matches in 1. \n",
    "- If it does then we can use the instances in <code>test_rental_raw_cost_contains_w</code> that approximately contains rental prices listed *weekly*"
   ]
  },
  {
   "cell_type": "code",
   "execution_count": 19,
   "metadata": {},
   "outputs": [
    {
     "data": {
      "text/plain": [
       "set()"
      ]
     },
     "execution_count": 19,
     "metadata": {},
     "output_type": "execute_result"
    }
   ],
   "source": [
    "set(test_rental_raw_cost_p_w.index) - set(test_rental_raw_cost_contains_w.index)"
   ]
  },
  {
   "cell_type": "code",
   "execution_count": 20,
   "metadata": {},
   "outputs": [
    {
     "data": {
      "text/plain": [
       "True"
      ]
     },
     "execution_count": 20,
     "metadata": {},
     "output_type": "execute_result"
    }
   ],
   "source": [
    "set(test_rental_raw_cost_p_w.index) & set(test_rental_raw_cost_contains_w.index) == set(test_rental_raw_cost_p_w.index)"
   ]
  },
  {
   "cell_type": "markdown",
   "metadata": {},
   "source": [
    "Now, we try handpick instances for which <code>cost_text</code> are on a weekly basis. \n",
    "- To do this, we look at the instances that contains <code>w</code> through the <code>test_rental_raw_cost_contains_w</code> dataframe, print out unique values (based on previous cells such unique values are not many)"
   ]
  },
  {
   "cell_type": "code",
   "execution_count": 21,
   "metadata": {},
   "outputs": [
    {
     "data": {
      "text/plain": [
       "5          [week]\n",
       "10         [week]\n",
       "27         [week]\n",
       "29       [weekly]\n",
       "30       [weekly]\n",
       "           ...   \n",
       "14790      [week]\n",
       "14791      [week]\n",
       "14794      [week]\n",
       "14796    [weekly]\n",
       "14801         [w]\n",
       "Name: cost_text, Length: 8872, dtype: object"
      ]
     },
     "execution_count": 21,
     "metadata": {},
     "output_type": "execute_result"
    }
   ],
   "source": [
    "test_rental_raw_cost_contains_w"
   ]
  },
  {
   "cell_type": "code",
   "execution_count": 22,
   "metadata": {},
   "outputs": [
    {
     "name": "stdout",
     "output_type": "stream",
     "text": [
      "['w', 'w!!', 'w$', 'w**', 'w,', 'w-', 'w.', 'w/', 'w/$', 'walk', 'walking', 'wanted**', 'water', 'waterfront', 'week', 'week!', 'week!!', 'week)', 'week,', 'week-', 'week-includes', 'week.', 'week/', 'week/$', 'week/fully', 'week;', 'weekly', 'weeks', 'wek', 'well', 'weston', 'wfh', 'wing', 'with', 'wk', 'wn', 'ws', 'ws!', 'wunfurnished/']\n"
     ]
    }
   ],
   "source": [
    "#note that each  instance has exactly one of these\n",
    "print(sorted(test_rental_raw_cost_contains_w.map(lambda x: x[0]).unique()))"
   ]
  },
  {
   "cell_type": "code",
   "execution_count": 23,
   "metadata": {},
   "outputs": [],
   "source": [
    "to_investigate_indicators_for_weekly_cost = sorted(test_rental_raw_cost_contains_w.map(lambda x: x[0]).unique())"
   ]
  },
  {
   "cell_type": "markdown",
   "metadata": {},
   "source": [
    "# NEED TO MAKE SURE THAT INSTANCES THAT CONTAIN <code>w</code> ARE ALL RECORDED WEEKLY\n",
    "\n",
    "Important: we assumed that any instances containing <code>w</code> either belongs to rental prices that: \n",
    "1. are recorded weekly, or\n",
    "2. miscalleneous reasons \n",
    "\n",
    "BUT only finding instances with numbers + whether it contains <code>w</code> still opens up the possibility that some of them may have <font color='red'>costs recoded annually, or other timeframes.</font>\n",
    "- e.g. maybe the word containing <code>w</code> may indicate something else other than weekly rents, and maybe followed by e.g. <code>per annum</code> or some sort\n",
    "\n",
    "To mitigate this, we gradually inspect the picked up words starting with <code>w</code> and make sure that those kinds of instances adhere to the 2 requirements above, \n",
    "- and remove the ones for which we're sure what sort of instances contaning those values (e.g. instances with its <code>cost_text</code> containing <code>week</code> signify that the cost is recorded weekly)"
   ]
  },
  {
   "cell_type": "markdown",
   "metadata": {},
   "source": [
    "Firstly, it is obvious that <code>cost_text</code>s contaning the word <code>week</code> (or <code>wek</code>, which is a typo, see below) signifies that the cost is recorded weekly."
   ]
  },
  {
   "cell_type": "code",
   "execution_count": 24,
   "metadata": {},
   "outputs": [
    {
     "data": {
      "text/plain": [
       "5                 $550 per week\n",
       "10                $430 per week\n",
       "27                $370 per week\n",
       "29                $1,150 weekly\n",
       "30                  $590 weekly\n",
       "                  ...          \n",
       "14790             $950 per week\n",
       "14791             $460 per week\n",
       "14794             $640 per week\n",
       "14796               $525 weekly\n",
       "14801    $440p/w ($1911.90 pcm)\n",
       "Name: cost_text, Length: 8872, dtype: object"
      ]
     },
     "execution_count": 24,
     "metadata": {},
     "output_type": "execute_result"
    }
   ],
   "source": [
    "rental_raw_data.cost_text.loc[test_rental_raw_cost_contains_w.index]"
   ]
  },
  {
   "cell_type": "code",
   "execution_count": 25,
   "metadata": {},
   "outputs": [
    {
     "data": {
      "text/plain": [
       "2731    $560 per wek\n",
       "Name: cost_text, dtype: object"
      ]
     },
     "execution_count": 25,
     "metadata": {},
     "output_type": "execute_result"
    }
   ],
   "source": [
    "rental_raw_data.cost_text.loc[test_rental_raw_cost_contains_w.index][\n",
    "    rental_raw_data.cost_text.loc[test_rental_raw_cost_contains_w.index].\\\n",
    "        str.contains('wek')\n",
    "]"
   ]
  },
  {
   "cell_type": "code",
   "execution_count": 26,
   "metadata": {},
   "outputs": [
    {
     "data": {
      "text/plain": [
       "array(['$580 wk', '$400 wk', '$500 wk', '$420 wk', '$430 wk', '$340 wk',\n",
       "       '$440 wk', '$600 wk', '$3,775 wk $545 pn', '$1,050 wk',\n",
       "       '$380 / wk', '$395 wk / $1712 pcm', '$390 wk / $1690 pcm',\n",
       "       '$485 pwk', '$329 / wk', '$515 / wk', '$365 / wk', '$350 / wk',\n",
       "       '$345 / wk', '$300 / wk', '$255 / wk', '$369 / wk', '$455 / wk',\n",
       "       '$349 / wk', '$145 / wk', '280 / wk', '$285 / wk', '260 / wk',\n",
       "       '$415 / wk', '$975 / wk', '$550 wk', 'from $750 per wk', '$470 wk',\n",
       "       '$240 wk', '$330 wk', '$250 wk', '$345 wk', '$380 wk', '$410 wk',\n",
       "       '$300 wk', '$285 wk', '$360 wk', '$370 wk', '$749 / wk', '$450 wk',\n",
       "       '$350 wk pw', '$375 /wk', '$385 / wk', '$490 wk', '$475 wk',\n",
       "       '$345/ wk', '$360 / wk pw', '$525 /wk', '$570 wk', '$625 / wk'],\n",
       "      dtype=object)"
      ]
     },
     "execution_count": 26,
     "metadata": {},
     "output_type": "execute_result"
    }
   ],
   "source": [
    "rental_raw_data.cost_text.loc[test_rental_raw_cost_contains_w.index][\n",
    "    rental_raw_data.cost_text.loc[test_rental_raw_cost_contains_w.index].\\\n",
    "        str.contains('wk')\n",
    "].unique()"
   ]
  },
  {
   "cell_type": "code",
   "execution_count": 27,
   "metadata": {},
   "outputs": [
    {
     "data": {
      "text/plain": [
       "array(['no deposit required or rent2own', 'rent2own with no deposit',\n",
       "       'rent2own program', 'no bond required with rent2own', 'rent2own',\n",
       "       '$450 per week including lawn mowing'], dtype=object)"
      ]
     },
     "execution_count": 27,
     "metadata": {},
     "output_type": "execute_result"
    }
   ],
   "source": [
    "rental_raw_data.cost_text.loc[test_rental_raw_cost_contains_w.index][\n",
    "    rental_raw_data.cost_text.loc[test_rental_raw_cost_contains_w.index].\\\n",
    "        str.contains('wn')\n",
    "].unique()"
   ]
  },
  {
   "cell_type": "code",
   "execution_count": 28,
   "metadata": {},
   "outputs": [
    {
     "data": {
      "text/plain": [
       "array(['large 2bedroom with river views',\n",
       "       '$650/w, brand new unit with stunning city views',\n",
       "       '$425pw - s/cage! white goods! views!',\n",
       "       '$620pw - study! s/cage! views!',\n",
       "       '$525pw - art precinct views plus storage cage',\n",
       "       '$580pw - great views and nbn connection paid for'], dtype=object)"
      ]
     },
     "execution_count": 28,
     "metadata": {},
     "output_type": "execute_result"
    }
   ],
   "source": [
    "rental_raw_data.cost_text.loc[test_rental_raw_cost_contains_w.index][\n",
    "    rental_raw_data.cost_text.loc[test_rental_raw_cost_contains_w.index].\\\n",
    "        str.contains('ws')\n",
    "].unique()"
   ]
  },
  {
   "cell_type": "code",
   "execution_count": 29,
   "metadata": {},
   "outputs": [
    {
     "data": {
      "text/plain": [
       "array(['$730 **well furnished**'], dtype=object)"
      ]
     },
     "execution_count": 29,
     "metadata": {},
     "output_type": "execute_result"
    }
   ],
   "source": [
    "rental_raw_data.cost_text.loc[test_rental_raw_cost_contains_w.index][\n",
    "    rental_raw_data.cost_text.loc[test_rental_raw_cost_contains_w.index].\\\n",
    "        str.contains('well')\n",
    "].unique()"
   ]
  },
  {
   "cell_type": "code",
   "execution_count": 30,
   "metadata": {},
   "outputs": [
    {
     "data": {
      "text/plain": [
       "array(['$450 per week including lawn mowing',\n",
       "       '$485 pw reviewing applications'], dtype=object)"
      ]
     },
     "execution_count": 30,
     "metadata": {},
     "output_type": "execute_result"
    }
   ],
   "source": [
    "rental_raw_data.cost_text.loc[test_rental_raw_cost_contains_w.index][\n",
    "    rental_raw_data.cost_text.loc[test_rental_raw_cost_contains_w.index].\\\n",
    "        str.contains('wing')\n",
    "].unique()"
   ]
  },
  {
   "cell_type": "code",
   "execution_count": 31,
   "metadata": {},
   "outputs": [
    {
     "data": {
      "text/plain": [
       "array(['rent2own with no deposit', '$380 per week with gardener',\n",
       "       'no bond required with rent2own', '$350pw with furnished',\n",
       "       '$450 pw, with furnished', 'large 2bedroom with river views',\n",
       "       '$650/w, brand new unit with stunning city views'], dtype=object)"
      ]
     },
     "execution_count": 31,
     "metadata": {},
     "output_type": "execute_result"
    }
   ],
   "source": [
    "rental_raw_data.cost_text.loc[test_rental_raw_cost_contains_w.index][\n",
    "    rental_raw_data.cost_text.loc[test_rental_raw_cost_contains_w.index].\\\n",
    "        str.contains('with')\n",
    "].unique()"
   ]
  },
  {
   "cell_type": "code",
   "execution_count": 32,
   "metadata": {},
   "outputs": [
    {
     "data": {
      "text/plain": [
       "array(['$580 per week *unfurnished*', '$600 per week *unfurnished*',\n",
       "       '$530 per week - unfurnished', '$450/w unfurnished',\n",
       "       '$900 per week (unfurnished)', '665 per week unfurnished',\n",
       "       '$500 per week *unfurnished*',\n",
       "       '$550/wunfurnished/ furnished optional', '$560/w unfurnished',\n",
       "       '$800 per week unfurnished', '$580 per weekly - unfurnished',\n",
       "       '$700/w unfurnished', '$500/w unfurnished',\n",
       "       '$450 per week *unfurnished*', '$750/w unfurnished',\n",
       "       '$900/w unfurnished', '$600/w unfurnished', '$990 w unfurnished'],\n",
       "      dtype=object)"
      ]
     },
     "execution_count": 32,
     "metadata": {},
     "output_type": "execute_result"
    }
   ],
   "source": [
    "rental_raw_data.cost_text.loc[test_rental_raw_cost_contains_w.index][\n",
    "    rental_raw_data.cost_text.loc[test_rental_raw_cost_contains_w.index].\\\n",
    "        str.contains('unfurnished')\n",
    "].unique()"
   ]
  },
  {
   "cell_type": "code",
   "execution_count": 33,
   "metadata": {},
   "outputs": [
    {
     "data": {
      "text/plain": [
       "array(['$950 **waterfront furnished apartment**',\n",
       "       '$850 **waterfront spacious 3-bedrooms**',\n",
       "       '$360.00pw (water included)', '$310 water & electricity included'],\n",
       "      dtype=object)"
      ]
     },
     "execution_count": 33,
     "metadata": {},
     "output_type": "execute_result"
    }
   ],
   "source": [
    "rental_raw_data.cost_text.loc[test_rental_raw_cost_contains_w.index][\n",
    "    rental_raw_data.cost_text.loc[test_rental_raw_cost_contains_w.index].\\\n",
    "        str.contains('water')\n",
    "].unique()"
   ]
  },
  {
   "cell_type": "code",
   "execution_count": 34,
   "metadata": {},
   "outputs": [
    {
     "data": {
      "text/plain": [
       "array(['$300p/w - big house - walk to train', '$350 pw - walk to school',\n",
       "       '$620 **walking to uni mel & rmit**'], dtype=object)"
      ]
     },
     "execution_count": 34,
     "metadata": {},
     "output_type": "execute_result"
    }
   ],
   "source": [
    "rental_raw_data.cost_text.loc[test_rental_raw_cost_contains_w.index][\n",
    "    rental_raw_data.cost_text.loc[test_rental_raw_cost_contains_w.index].\\\n",
    "        str.contains('walk')\n",
    "].unique()"
   ]
  },
  {
   "cell_type": "code",
   "execution_count": 35,
   "metadata": {},
   "outputs": [
    {
     "data": {
      "text/plain": [
       "array(['$500 **stable family living wanted**'], dtype=object)"
      ]
     },
     "execution_count": 35,
     "metadata": {},
     "output_type": "execute_result"
    }
   ],
   "source": [
    "rental_raw_data.cost_text.loc[test_rental_raw_cost_contains_w.index][\n",
    "    rental_raw_data.cost_text.loc[test_rental_raw_cost_contains_w.index].\\\n",
    "        str.contains('wanted')\n",
    "].unique()"
   ]
  },
  {
   "cell_type": "code",
   "execution_count": 36,
   "metadata": {},
   "outputs": [
    {
     "data": {
      "text/plain": [
       "array(['$375pw - separate study/ wfh'], dtype=object)"
      ]
     },
     "execution_count": 36,
     "metadata": {},
     "output_type": "execute_result"
    }
   ],
   "source": [
    "rental_raw_data.cost_text.loc[test_rental_raw_cost_contains_w.index][\n",
    "    rental_raw_data.cost_text.loc[test_rental_raw_cost_contains_w.index].\\\n",
    "        str.contains('wfh')\n",
    "].unique()"
   ]
  },
  {
   "cell_type": "code",
   "execution_count": 37,
   "metadata": {},
   "outputs": [
    {
     "data": {
      "text/plain": [
       "array(['$425 pw | weston real estate', '$699 pw | weston real estate',\n",
       "       '$499 pw | weston real estate', '$390 pw | weston real estate'],\n",
       "      dtype=object)"
      ]
     },
     "execution_count": 37,
     "metadata": {},
     "output_type": "execute_result"
    }
   ],
   "source": [
    "rental_raw_data.cost_text.loc[test_rental_raw_cost_contains_w.index][\n",
    "    rental_raw_data.cost_text.loc[test_rental_raw_cost_contains_w.index].\\\n",
    "        str.contains('weston')\n",
    "].unique()"
   ]
  },
  {
   "cell_type": "code",
   "execution_count": 38,
   "metadata": {},
   "outputs": [],
   "source": [
    "to_investigate_indicators_for_weekly_cost = [indicator for indicator in to_investigate_indicators_for_weekly_cost if\\\n",
    "                                                    'week' not in indicator and\\\n",
    "                                                    'wek' not in indicator and\\\n",
    "                                                    'wk' not in indicator and\\\n",
    "                                                    'wn' not in indicator and\\\n",
    "                                                    'ws' not in indicator and\\\n",
    "                                                    'well' not in indicator and\\\n",
    "                                                    'wing' not in indicator and\\\n",
    "                                                    'with' not in indicator and \\\n",
    "                                                    'unfurnished' not in indicator and \\\n",
    "                                                    'water' not in indicator and\\\n",
    "                                                    'walk' not in indicator and\\\n",
    "                                                    'wanted' not in indicator and\\\n",
    "                                                    'wfh' not in indicator and\\\n",
    "                                                    'weston' not in indicator]          "
   ]
  },
  {
   "cell_type": "code",
   "execution_count": 39,
   "metadata": {},
   "outputs": [
    {
     "name": "stdout",
     "output_type": "stream",
     "text": [
      "['w', 'w!!', 'w$', 'w**', 'w,', 'w-', 'w.', 'w/', 'w/$']\n"
     ]
    }
   ],
   "source": [
    "print(to_investigate_indicators_for_weekly_cost)"
   ]
  },
  {
   "cell_type": "markdown",
   "metadata": {},
   "source": [
    "I'd imagine that there's going to be a lot of instances that contain <code>w</code>. So we inspect instances with the other values first"
   ]
  },
  {
   "cell_type": "code",
   "execution_count": 40,
   "metadata": {},
   "outputs": [
    {
     "data": {
      "text/plain": [
       "array(['$420 per week!! enquire now!!'], dtype=object)"
      ]
     },
     "execution_count": 40,
     "metadata": {},
     "output_type": "execute_result"
    }
   ],
   "source": [
    "rental_raw_data.cost_text.loc[test_rental_raw_cost_contains_w.index][\n",
    "    rental_raw_data.cost_text.loc[test_rental_raw_cost_contains_w.index].\\\n",
    "        str.contains('w!!')\n",
    "].unique()\n",
    "\n",
    "#yes, its recorded per week"
   ]
  },
  {
   "cell_type": "code",
   "execution_count": 41,
   "metadata": {},
   "outputs": [
    {
     "data": {
      "text/plain": [
       "array(['$750 **level 53 high level view**'], dtype=object)"
      ]
     },
     "execution_count": 41,
     "metadata": {},
     "output_type": "execute_result"
    }
   ],
   "source": [
    "rental_raw_data.cost_text.loc[test_rental_raw_cost_contains_w.index][\n",
    "    rental_raw_data.cost_text.loc[test_rental_raw_cost_contains_w.index].\\\n",
    "        str.contains('w\\*\\*') #else * will be not be treated as a raw string\n",
    "].unique()\n",
    "\n",
    "#not specified but we're going to assume its per week"
   ]
  },
  {
   "cell_type": "code",
   "execution_count": 42,
   "metadata": {},
   "outputs": [
    {
     "data": {
      "text/plain": [
       "array(['$450pw, $1955pcm', '$1000 pw high, $650 pw low, $160 pn',\n",
       "       '$1750 pw high, $1400 pw low, $250 pn',\n",
       "       '$2,000 pw high, $1,200 pw low, $300 pn',\n",
       "       '$1200 pw high, $600 pw low, $180 pn',\n",
       "       '$2500 pw high, $1600 pw low, $380 pn',\n",
       "       '$1,200 pw high, $950 pw low, $190 pn',\n",
       "       '$1200 pw high, $750 pw low, $145 pn', '$450 pw, with furnished',\n",
       "       '$800pw, $3476pcm', '$950pw, $4128pcm',\n",
       "       '$650/w, brand new unit with stunning city views',\n",
       "       '$620pw, $2694pcm', '$560pw, $2433pcm', '$330pw, $1434pcm',\n",
       "       '$440pw, $1912pcm', '$580pw, fully furnished inc utilities',\n",
       "       '$500pw, $2173pcm', '$180pw, 1 week free rent',\n",
       "       '$680pw, $2955.00pcm'], dtype=object)"
      ]
     },
     "execution_count": 42,
     "metadata": {},
     "output_type": "execute_result"
    }
   ],
   "source": [
    "rental_raw_data.cost_text.loc[test_rental_raw_cost_contains_w.index][\n",
    "    rental_raw_data.cost_text.loc[test_rental_raw_cost_contains_w.index].\\\n",
    "        str.contains('w,')\n",
    "].unique()\n",
    "\n",
    "#yes, its recorded per week"
   ]
  },
  {
   "cell_type": "code",
   "execution_count": 43,
   "metadata": {},
   "outputs": [
    {
     "data": {
      "text/plain": [
       "array([\"$250pw- 'sms' 0414523506 to inspect\",\n",
       "       '$220.00 pw- (rent increase to $285 pw from 25/1/23'], dtype=object)"
      ]
     },
     "execution_count": 43,
     "metadata": {},
     "output_type": "execute_result"
    }
   ],
   "source": [
    "rental_raw_data.cost_text.loc[test_rental_raw_cost_contains_w.index][\n",
    "    rental_raw_data.cost_text.loc[test_rental_raw_cost_contains_w.index].\\\n",
    "        str.contains('w-')\n",
    "].unique()\n",
    "\n",
    "#yes, its recorded per week"
   ]
  },
  {
   "cell_type": "code",
   "execution_count": 44,
   "metadata": {},
   "outputs": [
    {
     "data": {
      "text/plain": [
       "array(['$400 p.w.', '$690 p.w.', '$415 p.w.', '$580 p.w.', '$610 p.w.',\n",
       "       '$550 p.w.', '$440 p.w.', '$430 p.w.', '$420 p.w.', '$450 p.w.',\n",
       "       '$320 p.w.', '$300 p.w.', '$500 p.w.', '$250 p.w.', '$650 p.w.',\n",
       "       '$800 p.w.', '$530 p.w.', '$640 p.w.', '$560 p.w.', '$680 p.w.',\n",
       "       '$620 p.w.', '$390 p.w.', '$635 p.w.', '$750 p.w.', '$465 p.w.',\n",
       "       '$270 p.w.', '$370 p.w.', '$380 p.w.', '$470 p.w.', '$350 p.w.',\n",
       "       '$445 p.w.', '$355 p.w.', '$330 p.w.', '$280 p.w.', '$360 p.w.',\n",
       "       '$480 p.w.', '$460 p.w.', '$480p.w.',\n",
       "       'available now. from $380 p/w', '$430p.w.', '$475 p.w.',\n",
       "       '$525 p.w.', '$490 p.w.', '$365 p.w.', '$510 p.w.', '$410 p.w.',\n",
       "       'from $185 p.w.', '$460.00 p.w.', '$520 p.w.', '$595 p.w.',\n",
       "       '$600 p.w.', '$660 p.w.', '$180 p.w.', '$485 p.w.', '$495 p.w.',\n",
       "       '$448 p.w.'], dtype=object)"
      ]
     },
     "execution_count": 44,
     "metadata": {},
     "output_type": "execute_result"
    }
   ],
   "source": [
    "rental_raw_data.cost_text.loc[test_rental_raw_cost_contains_w.index][\n",
    "    rental_raw_data.cost_text.loc[test_rental_raw_cost_contains_w.index].\\\n",
    "        str.contains('w\\.')\n",
    "].unique()\n",
    "\n",
    "#yes, its recorded per week"
   ]
  },
  {
   "cell_type": "code",
   "execution_count": 45,
   "metadata": {},
   "outputs": [
    {
     "data": {
      "text/plain": [
       "array(['$425pw$1,847pcm'], dtype=object)"
      ]
     },
     "execution_count": 45,
     "metadata": {},
     "output_type": "execute_result"
    }
   ],
   "source": [
    "rental_raw_data.cost_text.loc[test_rental_raw_cost_contains_w.index][\n",
    "    rental_raw_data.cost_text.loc[test_rental_raw_cost_contains_w.index].\\\n",
    "        str.contains('w\\$')\n",
    "].unique()\n",
    "\n",
    "#yes, its recorded per week"
   ]
  },
  {
   "cell_type": "code",
   "execution_count": 46,
   "metadata": {},
   "outputs": [
    {
     "data": {
      "text/plain": [
       "array(['$460pw/$1999pcm', '$450pw/$1955pcm', '$520pw/$2,260pcm',\n",
       "       '$540pw/$2,346pcm', '$350pw/$1,521pcm', '$780pw/$3,390pcm',\n",
       "       '$520pw/$2,259pcm', '$545pw/$2368pcm', '$675pw/$2933pcm',\n",
       "       '$310pw/$1347pcm', '$610pw/$2651pm', '$580pw/$2530pcm',\n",
       "       '$750pw/$3259pcm', '$350 pw/ $1521pm', '$550pw/$2390pcm',\n",
       "       '$400pw/$1738pcm', '$580pw/$2520pcm', '$680pw/$2955pcm',\n",
       "       '$850pw/$3693pcm', '$510pw/$2216pcm', '$440pw/$1912pcm',\n",
       "       '$430pw/$1868pcm', '$485pw/$2107pcm', '$600pw/$2607pcm',\n",
       "       '$875pw/$3802pcm', '$615pw/$2665pcm', '$420pw/$1825pcm',\n",
       "       '$540pw/$2346pcm', '$650pw/ $2824 pcm', '$450pw/$1,955pcm',\n",
       "       '$650pw/$2,824pcm', '$400pw/$1,738pcm', '$625pw/$2,716pcm',\n",
       "       '$490pw/$2,129pcm', '$410pw/$1,782pcm', '$500pw/$2,172pcm',\n",
       "       '$950pw/$4,128pcm', '$375pw/$1,629pcm', '$390pw/$1695pcm',\n",
       "       '$400pw/$1,739pcm', '$700pw/$3042pcm', '$640pw/$2781pcm',\n",
       "       '$800pw/$3476pcm', '$480pw/$2086pcm', '$795pw/$3454pcm',\n",
       "       '$475pw/$2,064pcm', '$370pw/$1608pcm', '$820pw/$3,563pcm',\n",
       "       '$430pw/$1,868pcm', '$480.00pw/$2086.00 pcm', '$350pw/$1521pcm',\n",
       "       '$650pw/$2824pcm', '$330pw/$1434pcm', '$380pw/$1651pcm',\n",
       "       '$395pw/$1,716pcm', '$405pw/$1,760pcm', '$795pw/$3,454pcm',\n",
       "       '$360pw/$1,564pcm', '$495pw/$2,151pcm', '$370pw/$1,608pcm',\n",
       "       '$475pw/$2064', '$520.00pw/$2260.00pcm', '$400pw/$1738pcm pw',\n",
       "       '$530 pw/ $2,303 pcm', '$520 pw/ $2,260 pcm',\n",
       "       '$550.00pw/$2390.00pcm', '$1400pw/$6083pcm', '$700pw/ $3042 pcm',\n",
       "       '650pw/2824pm', '$530pw/$2303pcm', '$360pw/$1564pcm',\n",
       "       '$950pw/$4128pcm', '$490pw/$2129pcm', '$415pw/$1803pcm',\n",
       "       '$435pw/$1890pcm', '$445pw/$1934 pcm', '$480pw/$2086 pcm',\n",
       "       '$400.00pw/ $1738.00pcm', '$475pw/$2064pcm', '$295pw/$1238pcm',\n",
       "       '$500pw/$2173pcm', '$890pw/$3867pcm', '$340pw/$1477pcm',\n",
       "       '$410pw/$1782pcm', '$410 pw/ $1782 pcm', '$790pw/$3433pm',\n",
       "       '$650 pw/ $2,824 pcm', '$430pw/1868pcm', '$480pw/ $2086 pcm',\n",
       "       '$350pw/ $1521pcm', '$450pw/ $1955pcm', '$750pw/ $3259pcm',\n",
       "       '$600pw/ $2607pcm', '$400pw/ $1738pcm', '$710pw/$3085pcm',\n",
       "       '$690pw/$2998pcm', '$675pw/$2,933pcm', '$1200pw/$5214pcm',\n",
       "       '$380pw/$1,651pcm', '$590pw/$2564pcm', '$370 pw/$1608 pcm',\n",
       "       '$520pw/$2260', '$670pw/$2911pcm', '$520pw/$2260pcm',\n",
       "       '$980pw/ $4298pcm', '$430 pw/ $1868 pcm', '$620pw/$2694pcm',\n",
       "       '$650 pw/$2824 pm', '$380 pw/ $1651 pcm', '$340pw/ $1477 pcm',\n",
       "       '$715pw/$3107pcm', '$440pw/ $1,912pcm', '$445pw/$1934pcm',\n",
       "       '$545pw/ $2803 pcm', '$490 pw/ $2129 pcm', '$460pw/ $1999pcm',\n",
       "       '$400.00pw/1738.00pcm', '$420pw/$1,825pcm', '$470pw/$2042pm',\n",
       "       '$390 pw/ $1,695 pcm', '$1150pw/$4997pcm', '$730pw/$3172pcm',\n",
       "       '$300pw/$1,304pcm', '$650pw/ $2824pcm', '$850pw/ $3693pcm',\n",
       "       '$550pw/ $2390pcm', '$270pw/$1173pcm', '$530pw/ $2303pcm',\n",
       "       '$320pw/$1,391pcm', '$580pw/ $2520pcm', '$1300pw/ $5649pcm',\n",
       "       '$550 pw/ $2390 pcm', '$680pw/ $2955pcm 1 weeks free rent',\n",
       "       '$450p/w/$1955pcm', '$365pw/$1,586pcm', '$570pw/$2477pcm',\n",
       "       '$450 pw/ $1955 pcm', '$395pw/$1716pcm', '$390pw/$1,694pcm',\n",
       "       '$600pw/$2,607pcm', '$300pw/ $1304pcm', '$500 pw/$2,173 pcm',\n",
       "       '$450 pw/ $1,955 pcm', '$480 pw/ $2,086 pcm', '$415pw/$1,803pcm',\n",
       "       '$295.00 pw/ $1282.00 pcm', '$1,580pw/$6,865pcm',\n",
       "       '$460pw/$1,999pcm', '$625pw/$2716pcm', '$800 pw/$3476 pcm',\n",
       "       '$610pw/$2651pcm', '$695pw/$3,020pcm', '$690pw/$2,998pcm',\n",
       "       '$525pw/$2,281pcm', '$550 pw/ $2,390 pcm', '$540 pw/ $2346 pcm',\n",
       "       '$350.00pw/$1434.00pcm', '$360pw/ $1564pcm', '$295pw/$1282pcm',\n",
       "       '$385pw/$1673pcm', '$680pw/$2,955pcm', '$520 pw/ $2260 pcm',\n",
       "       '$425pw/1847pcm', '$460 pw/ $1,999 pcm', '$390pw/$1,695pcm',\n",
       "       '$465pw/$2021pcm', '$385pw/$1673pcm pw', '$370pw/$1608pcm pw',\n",
       "       '$340pw/$1477pcm pw', '$325pw/$1412pcm', '$465 pw/ $2021 pcm',\n",
       "       '$480pw/$2,086pcm', '$420 pw/ $1,825 pcm', '400pw/1738pcm',\n",
       "       '$760pw/$3,302pcm', '$1,150pw/$4,997pcm', '$870pw/$3,781pcm',\n",
       "       '$425pw/$1,846pcm', '$745pw/$3237pcm', '$610 pw/ $2651 pcm',\n",
       "       '$545pw/$2386pcm', '$500pw/$2173pm', '$950pw/$4.128pcm',\n",
       "       '$470pw/$2,042pcm', '$700pw/3,042pcm', '$790pw/$3433pcm',\n",
       "       '$650pw/$2998pcm', '$375pw/$1629pcm', '$750pw/$3,259pcm',\n",
       "       '$465pw/$2,020pcm'], dtype=object)"
      ]
     },
     "execution_count": 46,
     "metadata": {},
     "output_type": "execute_result"
    }
   ],
   "source": [
    "rental_raw_data.cost_text.loc[test_rental_raw_cost_contains_w.index][\n",
    "    rental_raw_data.cost_text.loc[test_rental_raw_cost_contains_w.index].\\\n",
    "        str.contains('w/')\n",
    "].unique()\n",
    "\n",
    "#yes, its recorded per week"
   ]
  },
  {
   "cell_type": "code",
   "execution_count": 47,
   "metadata": {},
   "outputs": [
    {
     "data": {
      "text/plain": [
       "array(['$460pw/$1999pcm', '$450pw/$1955pcm', '$520pw/$2,260pcm',\n",
       "       '$540pw/$2,346pcm', '$350pw/$1,521pcm', '$780pw/$3,390pcm',\n",
       "       '$520pw/$2,259pcm', '$545pw/$2368pcm', '$675pw/$2933pcm',\n",
       "       '$310pw/$1347pcm', '$610pw/$2651pm', '$580pw/$2530pcm',\n",
       "       '$750pw/$3259pcm', '$550pw/$2390pcm', '$400pw/$1738pcm',\n",
       "       '$580pw/$2520pcm', '$680pw/$2955pcm', '$850pw/$3693pcm',\n",
       "       '$510pw/$2216pcm', '$440pw/$1912pcm', '$430pw/$1868pcm',\n",
       "       '$485pw/$2107pcm', '$600pw/$2607pcm', '$875pw/$3802pcm',\n",
       "       '$615pw/$2665pcm', '$420pw/$1825pcm', '$540pw/$2346pcm',\n",
       "       '$450pw/$1,955pcm', '$650pw/$2,824pcm', '$400pw/$1,738pcm',\n",
       "       '$625pw/$2,716pcm', '$490pw/$2,129pcm', '$410pw/$1,782pcm',\n",
       "       '$500pw/$2,172pcm', '$950pw/$4,128pcm', '$375pw/$1,629pcm',\n",
       "       '$390pw/$1695pcm', '$400pw/$1,739pcm', '$700pw/$3042pcm',\n",
       "       '$640pw/$2781pcm', '$800pw/$3476pcm', '$480pw/$2086pcm',\n",
       "       '$795pw/$3454pcm', '$475pw/$2,064pcm', '$370pw/$1608pcm',\n",
       "       '$820pw/$3,563pcm', '$430pw/$1,868pcm', '$480.00pw/$2086.00 pcm',\n",
       "       '$350pw/$1521pcm', '$650pw/$2824pcm', '$330pw/$1434pcm',\n",
       "       '$380pw/$1651pcm', '$395pw/$1,716pcm', '$405pw/$1,760pcm',\n",
       "       '$795pw/$3,454pcm', '$360pw/$1,564pcm', '$495pw/$2,151pcm',\n",
       "       '$370pw/$1,608pcm', '$475pw/$2064', '$520.00pw/$2260.00pcm',\n",
       "       '$400pw/$1738pcm pw', '$550.00pw/$2390.00pcm', '$1400pw/$6083pcm',\n",
       "       '$530pw/$2303pcm', '$360pw/$1564pcm', '$950pw/$4128pcm',\n",
       "       '$490pw/$2129pcm', '$415pw/$1803pcm', '$435pw/$1890pcm',\n",
       "       '$445pw/$1934 pcm', '$480pw/$2086 pcm', '$475pw/$2064pcm',\n",
       "       '$295pw/$1238pcm', '$500pw/$2173pcm', '$890pw/$3867pcm',\n",
       "       '$340pw/$1477pcm', '$410pw/$1782pcm', '$790pw/$3433pm',\n",
       "       '$710pw/$3085pcm', '$690pw/$2998pcm', '$675pw/$2,933pcm',\n",
       "       '$1200pw/$5214pcm', '$380pw/$1,651pcm', '$590pw/$2564pcm',\n",
       "       '$370 pw/$1608 pcm', '$520pw/$2260', '$670pw/$2911pcm',\n",
       "       '$520pw/$2260pcm', '$620pw/$2694pcm', '$650 pw/$2824 pm',\n",
       "       '$715pw/$3107pcm', '$445pw/$1934pcm', '$420pw/$1,825pcm',\n",
       "       '$470pw/$2042pm', '$1150pw/$4997pcm', '$730pw/$3172pcm',\n",
       "       '$300pw/$1,304pcm', '$270pw/$1173pcm', '$320pw/$1,391pcm',\n",
       "       '$450p/w/$1955pcm', '$365pw/$1,586pcm', '$570pw/$2477pcm',\n",
       "       '$395pw/$1716pcm', '$390pw/$1,694pcm', '$600pw/$2,607pcm',\n",
       "       '$500 pw/$2,173 pcm', '$415pw/$1,803pcm', '$1,580pw/$6,865pcm',\n",
       "       '$460pw/$1,999pcm', '$625pw/$2716pcm', '$800 pw/$3476 pcm',\n",
       "       '$610pw/$2651pcm', '$695pw/$3,020pcm', '$690pw/$2,998pcm',\n",
       "       '$525pw/$2,281pcm', '$350.00pw/$1434.00pcm', '$295pw/$1282pcm',\n",
       "       '$385pw/$1673pcm', '$680pw/$2,955pcm', '$390pw/$1,695pcm',\n",
       "       '$465pw/$2021pcm', '$385pw/$1673pcm pw', '$370pw/$1608pcm pw',\n",
       "       '$340pw/$1477pcm pw', '$325pw/$1412pcm', '$480pw/$2,086pcm',\n",
       "       '$760pw/$3,302pcm', '$1,150pw/$4,997pcm', '$870pw/$3,781pcm',\n",
       "       '$425pw/$1,846pcm', '$745pw/$3237pcm', '$545pw/$2386pcm',\n",
       "       '$500pw/$2173pm', '$950pw/$4.128pcm', '$470pw/$2,042pcm',\n",
       "       '$790pw/$3433pcm', '$650pw/$2998pcm', '$375pw/$1629pcm',\n",
       "       '$750pw/$3,259pcm', '$465pw/$2,020pcm'], dtype=object)"
      ]
     },
     "execution_count": 47,
     "metadata": {},
     "output_type": "execute_result"
    }
   ],
   "source": [
    "rental_raw_data.cost_text.loc[test_rental_raw_cost_contains_w.index][\n",
    "    rental_raw_data.cost_text.loc[test_rental_raw_cost_contains_w.index].\\\n",
    "        str.contains('w/\\$')\n",
    "].unique()\n",
    "\n",
    "#yes, its recorded per week"
   ]
  },
  {
   "cell_type": "markdown",
   "metadata": {},
   "source": [
    "Now.. look for instances for which <code>re.findall</code> returns <code>'w'</code> only"
   ]
  },
  {
   "cell_type": "code",
   "execution_count": 48,
   "metadata": {},
   "outputs": [],
   "source": [
    "cost_matches_to_w_only = test_rental_raw_cost_contains_w.map(lambda x: x[0])[\n",
    "    test_rental_raw_cost_contains_w.map(lambda x: x[0]) == 'w'\n",
    "]"
   ]
  },
  {
   "cell_type": "code",
   "execution_count": 49,
   "metadata": {},
   "outputs": [
    {
     "data": {
      "text/plain": [
       "[' w',\n",
       " ' w, ew',\n",
       " ' w, ow',\n",
       " ' w, pw',\n",
       " '.w',\n",
       " '/w',\n",
       " '/w, ow',\n",
       " 'ow, /w',\n",
       " 'ow, /w, /w',\n",
       " 'pw',\n",
       " 'pw, ew',\n",
       " 'pw, ow',\n",
       " 'pw, pw',\n",
       " 'pw, pw, ow']"
      ]
     },
     "execution_count": 49,
     "metadata": {},
     "output_type": "execute_result"
    }
   ],
   "source": [
    "sorted(rental_raw_data['cost_text'].loc[cost_matches_to_w_only.index].\\\n",
    "    str.findall(r'.{0,1}w').\\\n",
    "    str.join(', ').\\\n",
    "    unique()\n",
    "    )"
   ]
  },
  {
   "cell_type": "markdown",
   "metadata": {},
   "source": [
    "It's obvious that <code>cost_text</code>s containing <code>pw</code> signify weekly rent. But what about <code>ew, ow</code>?"
   ]
  },
  {
   "cell_type": "code",
   "execution_count": 50,
   "metadata": {},
   "outputs": [
    {
     "data": {
      "text/plain": [
       "659      leased - more properties wanted call andrew 04...\n",
       "754           $450 pw - save time view our 3d tour & apply\n",
       "1712          $650 pw - save time view our 3d tour & apply\n",
       "1867                            $510 per week - new carpet\n",
       "4315          $500 pw - save time view our 3d tour & apply\n",
       "5225                       large 2bedroom with river views\n",
       "5265       $650/w, brand new unit with stunning city views\n",
       "7133                  $425pw - s/cage! white goods! views!\n",
       "9548          $600 pw - save time view our 3d tour & apply\n",
       "9815                     brand new & only $400.00 per week\n",
       "9863                        $485 pw reviewing applications\n",
       "9987                        $420 per week - new floorboard\n",
       "10389                       $620pw - study! s/cage! views!\n",
       "10716        $525pw - art precinct views plus storage cage\n",
       "10759     $580pw - great views and nbn connection paid for\n",
       "11771         $900 pw - save time view our 3d tour & apply\n",
       "13998                    $750 **level 53 high level view**\n",
       "14180         $390 pw - save time view our 3d tour & apply\n",
       "14397                        newly renovated $675 per week\n",
       "14472                            $780 per week **brand new\n",
       "Name: cost_text, dtype: object"
      ]
     },
     "execution_count": 50,
     "metadata": {},
     "output_type": "execute_result"
    }
   ],
   "source": [
    "rental_raw_data['cost_text'][\n",
    "    rental_raw_data['cost_text'].str.contains('ew')\n",
    "]"
   ]
  },
  {
   "cell_type": "code",
   "execution_count": 51,
   "metadata": {},
   "outputs": [
    {
     "data": {
      "text/plain": [
       "array(['enquire now: $300 per week', 'no deposit required or rent2own',\n",
       "       '$580/w & available now', '$450 pw / avail. now',\n",
       "       '$375 pw / avail. now', '$430 pw / avail. now',\n",
       "       'rent2own with no deposit', '$460/w & available now',\n",
       "       'enquire now: $490 per week', 'enquire now: $400 per week',\n",
       "       'rent2own program', '$1000 pw high, $650 pw low, $160 pn',\n",
       "       '$1200 pw high, $1000 pw low',\n",
       "       '$1750 pw high, $1400 pw low, $250 pn',\n",
       "       '$1500 pw high, $1050 pw low',\n",
       "       '$2,000 pw high, $1,200 pw low, $300 pn',\n",
       "       '$1200 pw high, $600 pw low, $180 pn',\n",
       "       '$1750 pw high, $1400 pw low',\n",
       "       '$2500 pw high, $1600 pw low, $380 pn',\n",
       "       '$1,200 pw high, $950 pw low, $190 pn',\n",
       "       '$1200 pw high, $750 pw low, $145 pn',\n",
       "       'no bond required with rent2own',\n",
       "       '$330 per week!! available now !!', 'rent2own',\n",
       "       '$420 per week!! enquire now!!', 'available now from $450 p/w',\n",
       "       'available now. from $380 p/w', 'available now from $500 p/w',\n",
       "       'apply now - from $160 per week', 'apply now - from $170 per week',\n",
       "       '$450 per week including lawn mowing',\n",
       "       'apply now - from $185 per week', 'apply now - from $180 per week',\n",
       "       'enquire now: $380 per week', 'enquire now: $650 per week',\n",
       "       '$400 pw / avail. now', 'apply now - from $420 per week',\n",
       "       'apply now - from $230 per week', 'apply now - from $300 per week',\n",
       "       'apply now - from $200 per week',\n",
       "       'apply now - studio from $250/w & 2 bed from $385/w',\n",
       "       'apply now - from $210 per week', 'apply now - from $220 per week',\n",
       "       'enquire now: $430 per week', '$380/w &available now',\n",
       "       'apply now - from $190 per week', 'apply now - from $195 per week',\n",
       "       'apply now - from $180per week'], dtype=object)"
      ]
     },
     "execution_count": 51,
     "metadata": {},
     "output_type": "execute_result"
    }
   ],
   "source": [
    "rental_raw_data['cost_text'][\n",
    "    rental_raw_data['cost_text'].str.contains('ow')\n",
    "].unique()"
   ]
  },
  {
   "cell_type": "markdown",
   "metadata": {},
   "source": [
    "Note that there are some instances that do not actually have rental prices, but our regex for storing the matches in <code>test_rental_raw_cost_contains_w</code> falsely interpreted the numbers as rental prices.\n",
    "\n",
    "- For instance, one value of <code>cost_text</code> is <code>'rent2own with no deposit'</code>. Here <code>2</code> is a number and there's a <code>w</code> following it after a few characters later.\n",
    "\n",
    "A starting point is to filter out instances that have numbers for which digit is less than 2 or bigger than 3. \n",
    "\n"
   ]
  },
  {
   "cell_type": "markdown",
   "metadata": {},
   "source": [
    "I should've done this earlier, but partition <code>rental_raw_data['cost_text']</code> to the ones matching with instances in <code>test_rental_raw_cost_contains_w</code>"
   ]
  },
  {
   "cell_type": "code",
   "execution_count": 52,
   "metadata": {},
   "outputs": [],
   "source": [
    "rental_data_cost_text_contains_w = rental_raw_data[\n",
    "            rental_raw_data.cost_text.index.isin(test_rental_raw_cost_contains_w.index)\n",
    "            ]['cost_text'].copy()"
   ]
  },
  {
   "cell_type": "markdown",
   "metadata": {},
   "source": [
    "Inspect instances with values <code>cost_text</code> similar to <code>'rent2own with no deposit'</code>"
   ]
  },
  {
   "cell_type": "code",
   "execution_count": 53,
   "metadata": {},
   "outputs": [
    {
     "data": {
      "text/plain": [
       "array(['no deposit required or rent2own', 'rent2own with no deposit',\n",
       "       'rent2own program', 'leased in 1 week!',\n",
       "       'no bond required with rent2own',\n",
       "       'large 2bedroom with river views', 'rent2own'], dtype=object)"
      ]
     },
     "execution_count": 53,
     "metadata": {},
     "output_type": "execute_result"
    }
   ],
   "source": [
    "rental_data_cost_text_contains_w[\n",
    "    rental_data_cost_text_contains_w.str.findall(r'^[^\\d]+\\d[^\\d]+$').map(lambda x: bool(x))\n",
    "].unique()"
   ]
  },
  {
   "cell_type": "code",
   "execution_count": 54,
   "metadata": {},
   "outputs": [],
   "source": [
    "rental_data_cost_text_no_costs_idx = rental_data_cost_text_contains_w[\n",
    "    rental_data_cost_text_contains_w.str.findall(r'^[^\\d]+\\d[^\\d]+$').map(lambda x: bool(x))\n",
    "].index"
   ]
  },
  {
   "cell_type": "markdown",
   "metadata": {},
   "source": [
    "<font color='blue'>Remove instances that don't have actual prices listed on <code>cost_text</code></font>\n",
    "- Blue fonts: make changes in another variable but not in the actual dataset"
   ]
  },
  {
   "cell_type": "code",
   "execution_count": 55,
   "metadata": {},
   "outputs": [],
   "source": [
    "rental_data_cost_text_contains_w = rental_data_cost_text_contains_w[~rental_data_cost_text_contains_w.index.isin(rental_data_cost_text_no_costs_idx)]"
   ]
  },
  {
   "cell_type": "code",
   "execution_count": 56,
   "metadata": {},
   "outputs": [
    {
     "data": {
      "text/plain": [
       "73                                      $1300 week\n",
       "77               $545 per week week until jan 2023\n",
       "125                                $460pw/$1999pcm\n",
       "187                                     4125000 pw\n",
       "325                            $300 pw / $1304 pcm\n",
       "                           ...                    \n",
       "14552    $1600 per week including pool maintenance\n",
       "14580                              $675pw/$2933pcm\n",
       "14581                              $600pw/$2607pcm\n",
       "14627                              $530pw/$2303pcm\n",
       "14801                       $440p/w ($1911.90 pcm)\n",
       "Name: cost_text, Length: 721, dtype: object"
      ]
     },
     "execution_count": 56,
     "metadata": {},
     "output_type": "execute_result"
    }
   ],
   "source": [
    "rental_data_cost_text_contains_w[\n",
    "    rental_data_cost_text_contains_w.str.findall(r'\\d{4,5}').map(lambda x: bool(x))\n",
    "]"
   ]
  },
  {
   "cell_type": "markdown",
   "metadata": {},
   "source": [
    "<font color='blue'>What happens if we try to DIRECTLY extract the numbers from <code>rental_data_cost_text_contains_w</code>?</font>"
   ]
  },
  {
   "cell_type": "code",
   "execution_count": 57,
   "metadata": {},
   "outputs": [
    {
     "data": {
      "text/plain": [
       "5                 $550 per week\n",
       "10                $430 per week\n",
       "27                $370 per week\n",
       "29                $1,150 weekly\n",
       "30                  $590 weekly\n",
       "                  ...          \n",
       "14790             $950 per week\n",
       "14791             $460 per week\n",
       "14794             $640 per week\n",
       "14796               $525 weekly\n",
       "14801    $440p/w ($1911.90 pcm)\n",
       "Name: cost_text, Length: 8826, dtype: object"
      ]
     },
     "execution_count": 57,
     "metadata": {},
     "output_type": "execute_result"
    }
   ],
   "source": [
    "rental_data_cost_text_contains_w"
   ]
  },
  {
   "cell_type": "code",
   "execution_count": 58,
   "metadata": {},
   "outputs": [
    {
     "data": {
      "text/plain": [
       "5        [550]\n",
       "10       [430]\n",
       "27       [370]\n",
       "29         [1]\n",
       "30       [590]\n",
       "         ...  \n",
       "14790    [950]\n",
       "14791    [460]\n",
       "14794    [640]\n",
       "14796    [525]\n",
       "14801    [440]\n",
       "Name: cost_text, Length: 8826, dtype: object"
      ]
     },
     "execution_count": 58,
     "metadata": {},
     "output_type": "execute_result"
    }
   ],
   "source": [
    "rental_data_cost_text_contains_w.str.findall(r'(\\d+).*w[^\\s\\d]*')"
   ]
  },
  {
   "cell_type": "code",
   "execution_count": 59,
   "metadata": {},
   "outputs": [
    {
     "data": {
      "text/plain": [
       "'$1,150 weekly'"
      ]
     },
     "execution_count": 59,
     "metadata": {},
     "output_type": "execute_result"
    }
   ],
   "source": [
    "rental_data_cost_text_contains_w.loc[29]"
   ]
  },
  {
   "cell_type": "markdown",
   "metadata": {},
   "source": [
    "<font color='red'>Problem: looking at the 4th match, the syntax above wouldn't be able to pick up prices that have commas, e.g. <code>$1,150</code> </font>\n",
    "\n",
    "A solution: find all such instances, then replace all ',' with ''."
   ]
  },
  {
   "cell_type": "code",
   "execution_count": 60,
   "metadata": {},
   "outputs": [],
   "source": [
    "cost_text_contains_comma_thousand_separator = rental_data_cost_text_contains_w[\n",
    "    rental_data_cost_text_contains_w.str.findall(r'\\d+,\\d+').map(lambda x: bool(x))\n",
    "]"
   ]
  },
  {
   "cell_type": "markdown",
   "metadata": {},
   "source": [
    "<font color='blue'>Replace the commas in all instances whose prices are separated by commas with empty string</font>"
   ]
  },
  {
   "cell_type": "code",
   "execution_count": 61,
   "metadata": {},
   "outputs": [],
   "source": [
    "rental_data_cost_text_contains_w.loc[cost_text_contains_comma_thousand_separator.index] = rental_data_cost_text_contains_w.str.replace(',', '')"
   ]
  },
  {
   "cell_type": "code",
   "execution_count": 62,
   "metadata": {},
   "outputs": [
    {
     "data": {
      "text/plain": [
       "29                    $1150 weekly\n",
       "101      $560 per week / $2433 pcm\n",
       "327              $420pw / $1825pcm\n",
       "435              $405pw | $1760pcm\n",
       "437              $400pw | $1738pcm\n",
       "                   ...            \n",
       "14517              $750pw/$3259pcm\n",
       "14519              $465pw/$2020pcm\n",
       "14557               $1190 per week\n",
       "14563               $1300 per week\n",
       "14607              $600pw/$2607pcm\n",
       "Name: cost_text, Length: 323, dtype: object"
      ]
     },
     "execution_count": 62,
     "metadata": {},
     "output_type": "execute_result"
    }
   ],
   "source": [
    "rental_data_cost_text_contains_w.loc[cost_text_contains_comma_thousand_separator.index]"
   ]
  },
  {
   "cell_type": "code",
   "execution_count": 63,
   "metadata": {},
   "outputs": [
    {
     "data": {
      "text/plain": [
       "5                     [550]\n",
       "10                    [430]\n",
       "27                    [370]\n",
       "29                   [1150]\n",
       "30                    [590]\n",
       "                ...        \n",
       "14790                 [950]\n",
       "14791                 [460]\n",
       "14794                 [640]\n",
       "14796                 [525]\n",
       "14801    [440p/w ($1911.90]\n",
       "Name: cost_text, Length: 8826, dtype: object"
      ]
     },
     "execution_count": 63,
     "metadata": {},
     "output_type": "execute_result"
    }
   ],
   "source": [
    "rental_data_cost_text_contains_w.str.findall(r'\\d+.*\\d+')"
   ]
  },
  {
   "cell_type": "markdown",
   "metadata": {},
   "source": [
    "Now that's better."
   ]
  },
  {
   "cell_type": "markdown",
   "metadata": {},
   "source": [
    "We can re-extract the rental prices again: "
   ]
  },
  {
   "cell_type": "code",
   "execution_count": 64,
   "metadata": {},
   "outputs": [],
   "source": [
    "rental_data_cost_text_contains_w_mapped_prices = rental_data_cost_text_contains_w.str.findall(r'(\\d+).*w[^\\s\\d]*').map(lambda x: x[0]).astype('float').sort_values()"
   ]
  },
  {
   "cell_type": "code",
   "execution_count": 65,
   "metadata": {},
   "outputs": [
    {
     "data": {
      "text/plain": [
       "12428          1.0\n",
       "13537          5.0\n",
       "604           26.0\n",
       "600           28.0\n",
       "2961          33.0\n",
       "           ...    \n",
       "2830        3775.0\n",
       "13642       4500.0\n",
       "13356       5000.0\n",
       "12788       5500.0\n",
       "187      4125000.0\n",
       "Name: cost_text, Length: 8826, dtype: float64"
      ]
     },
     "execution_count": 65,
     "metadata": {},
     "output_type": "execute_result"
    }
   ],
   "source": [
    "rental_data_cost_text_contains_w_mapped_prices"
   ]
  },
  {
   "cell_type": "code",
   "execution_count": 66,
   "metadata": {},
   "outputs": [
    {
     "data": {
      "text/plain": [
       "12428    1 weeks free rent then $165 per week all inclu...\n",
       "13537        5 mins to tram & shops & school,$880/per week\n",
       "Name: cost_text, dtype: object"
      ]
     },
     "execution_count": 66,
     "metadata": {},
     "output_type": "execute_result"
    }
   ],
   "source": [
    "#prices seem fishy for first 2 instances\n",
    "rental_data_cost_text_contains_w.loc[[12428, 13537]]"
   ]
  },
  {
   "cell_type": "code",
   "execution_count": 67,
   "metadata": {},
   "outputs": [
    {
     "data": {
      "text/plain": [
       "'4125000 pw'"
      ]
     },
     "execution_count": 67,
     "metadata": {},
     "output_type": "execute_result"
    }
   ],
   "source": [
    "#prices seem fishy for the last instance (what? 4125000 per WEEK?)\n",
    "rental_data_cost_text_contains_w.loc[187]"
   ]
  },
  {
   "cell_type": "code",
   "execution_count": 68,
   "metadata": {},
   "outputs": [
    {
     "data": {
      "text/plain": [
       "Unnamed: 0     https://www.domain.com.au/level-3-302-13-15-la...\n",
       "coordinates                           [-37.7316459, 144.7446886]\n",
       "cost_text                                             4125000 pw\n",
       "desc           - Centrally located with tranquil views.\\n- Le...\n",
       "name           Level 3, 302/13-15 Lake Street Caroline Spring...\n",
       "rooms                                                         []\n",
       "Name: 187, dtype: object"
      ]
     },
     "execution_count": 68,
     "metadata": {},
     "output_type": "execute_result"
    }
   ],
   "source": [
    "rental_raw_data.loc[187,:]"
   ]
  },
  {
   "cell_type": "markdown",
   "metadata": {},
   "source": [
    "We'll just keep this \"outlier\" for further prerocessing."
   ]
  },
  {
   "cell_type": "markdown",
   "metadata": {},
   "source": [
    "Also, it seems that our regex fails to pick up the correct rental prices for both instances above (should be 165 an 880 respectively, not 1 and 5)\n",
    "\n",
    "<font color='blue'>We can manually hardcode the prices for those 2 instances, it's just 2 instances anyway </font>"
   ]
  },
  {
   "cell_type": "code",
   "execution_count": 69,
   "metadata": {},
   "outputs": [],
   "source": [
    "rental_data_cost_text_contains_w_mapped_prices.loc[[12428, 13537]]  = [165,880]"
   ]
  },
  {
   "cell_type": "code",
   "execution_count": 70,
   "metadata": {},
   "outputs": [
    {
     "data": {
      "text/html": [
       "<div>\n",
       "<style scoped>\n",
       "    .dataframe tbody tr th:only-of-type {\n",
       "        vertical-align: middle;\n",
       "    }\n",
       "\n",
       "    .dataframe tbody tr th {\n",
       "        vertical-align: top;\n",
       "    }\n",
       "\n",
       "    .dataframe thead th {\n",
       "        text-align: right;\n",
       "    }\n",
       "</style>\n",
       "<table border=\"1\" class=\"dataframe\">\n",
       "  <thead>\n",
       "    <tr style=\"text-align: right;\">\n",
       "      <th></th>\n",
       "      <th>Unnamed: 0</th>\n",
       "      <th>coordinates</th>\n",
       "      <th>cost_text</th>\n",
       "      <th>desc</th>\n",
       "      <th>name</th>\n",
       "      <th>rooms</th>\n",
       "    </tr>\n",
       "  </thead>\n",
       "  <tbody>\n",
       "    <tr>\n",
       "      <th>0</th>\n",
       "      <td>https://www.domain.com.au/15-fintonia-street-h...</td>\n",
       "      <td>[-37.9032708, 145.0770553]</td>\n",
       "      <td>$680</td>\n",
       "      <td>Joseph Chatziconstantis</td>\n",
       "      <td>15 Fintonia Street Hughesdale VIC 3166</td>\n",
       "      <td>['3 Beds', '2 Baths', '2 Parking']</td>\n",
       "    </tr>\n",
       "    <tr>\n",
       "      <th>1</th>\n",
       "      <td>https://www.domain.com.au/41-bishop-street-oak...</td>\n",
       "      <td>[-37.9077745, 145.092738]</td>\n",
       "      <td>$650.00</td>\n",
       "      <td>James Drakopoulos</td>\n",
       "      <td>41 Bishop Street Oakleigh VIC 3166</td>\n",
       "      <td>['3 Beds', '2 Baths', '2 Parking']</td>\n",
       "    </tr>\n",
       "    <tr>\n",
       "      <th>2</th>\n",
       "      <td>https://www.domain.com.au/109-6-dalgety-street...</td>\n",
       "      <td>[-37.8922004, 145.0899378]</td>\n",
       "      <td>$500</td>\n",
       "      <td>Nigel Chee</td>\n",
       "      <td>109/6 Dalgety Street Oakleigh VIC 3166</td>\n",
       "      <td>['1 Bed', '1 Bath', '1 Parking']</td>\n",
       "    </tr>\n",
       "    <tr>\n",
       "      <th>3</th>\n",
       "      <td>https://www.domain.com.au/16-30-swindon-road-o...</td>\n",
       "      <td>[-37.8972564, 145.0871089]</td>\n",
       "      <td>$570</td>\n",
       "      <td>Matthew Swinnerton</td>\n",
       "      <td>16/30 Swindon Road Oakleigh VIC 3166</td>\n",
       "      <td>['3 Beds', '2 Baths', '2 Parking']</td>\n",
       "    </tr>\n",
       "    <tr>\n",
       "      <th>4</th>\n",
       "      <td>https://www.domain.com.au/1-14-bletchley-road-...</td>\n",
       "      <td>[-37.894307, 145.082706]</td>\n",
       "      <td>$475</td>\n",
       "      <td>Jason Gu</td>\n",
       "      <td>1/14 Bletchley Road Hughesdale VIC 3166</td>\n",
       "      <td>['2 Beds', '1 Bath', '1 Parking']</td>\n",
       "    </tr>\n",
       "    <tr>\n",
       "      <th>...</th>\n",
       "      <td>...</td>\n",
       "      <td>...</td>\n",
       "      <td>...</td>\n",
       "      <td>...</td>\n",
       "      <td>...</td>\n",
       "      <td>...</td>\n",
       "    </tr>\n",
       "    <tr>\n",
       "      <th>14799</th>\n",
       "      <td>https://www.domain.com.au/8a-logan-street-mans...</td>\n",
       "      <td>[-37.0476758, 146.0845677]</td>\n",
       "      <td>$400</td>\n",
       "      <td>class=\"css-dxogle\"&gt;* Unverified feature&lt;svg a...</td>\n",
       "      <td>8A Logan Street Mansfield VIC 3722</td>\n",
       "      <td>['3 Beds', '1 Bath', '2 Parking']</td>\n",
       "    </tr>\n",
       "    <tr>\n",
       "      <th>14800</th>\n",
       "      <td>https://www.domain.com.au/27-elvins-street-man...</td>\n",
       "      <td>[-37.05395439999999, 146.0797784]</td>\n",
       "      <td>$480</td>\n",
       "      <td>class=\"css-dxogle\"&gt;* Unverified feature&lt;svg a...</td>\n",
       "      <td>27 Elvins Street Mansfield VIC 3722</td>\n",
       "      <td>['3 Beds', '2 Baths', '4 Parking']</td>\n",
       "    </tr>\n",
       "    <tr>\n",
       "      <th>14801</th>\n",
       "      <td>https://www.domain.com.au/1-30-ailsa-street-ma...</td>\n",
       "      <td>[-37.0551267, 146.0929647]</td>\n",
       "      <td>$440p/w ($1911.90 pcm)</td>\n",
       "      <td>class=\"css-dxogle\"&gt;* Unverified feature&lt;svg a...</td>\n",
       "      <td>1/30 Ailsa Street Mansfield VIC 3722</td>\n",
       "      <td>['2 Beds', '1 Bath', '3 Parking']</td>\n",
       "    </tr>\n",
       "    <tr>\n",
       "      <th>14802</th>\n",
       "      <td>https://www.domain.com.au/49-hunter-street-man...</td>\n",
       "      <td>[-37.0561829, 146.0891432]</td>\n",
       "      <td>$430</td>\n",
       "      <td>class=\"css-dxogle\"&gt;* Unverified feature&lt;svg a...</td>\n",
       "      <td>49 Hunter Street Mansfield VIC 3722</td>\n",
       "      <td>['3 Beds', '1 Bath', '3 Parking']</td>\n",
       "    </tr>\n",
       "    <tr>\n",
       "      <th>14803</th>\n",
       "      <td>https://www.domain.com.au/6-clarke-street-mans...</td>\n",
       "      <td>[-37.0494926, 146.0876812]</td>\n",
       "      <td>$380</td>\n",
       "      <td>class=\"css-dxogle\"&gt;* Unverified feature&lt;svg a...</td>\n",
       "      <td>6 Clarke Street Mansfield VIC 3722</td>\n",
       "      <td>['2 Beds', '1 Bath', '2 Parking']</td>\n",
       "    </tr>\n",
       "  </tbody>\n",
       "</table>\n",
       "<p>14472 rows × 6 columns</p>\n",
       "</div>"
      ],
      "text/plain": [
       "                                              Unnamed: 0  \\\n",
       "0      https://www.domain.com.au/15-fintonia-street-h...   \n",
       "1      https://www.domain.com.au/41-bishop-street-oak...   \n",
       "2      https://www.domain.com.au/109-6-dalgety-street...   \n",
       "3      https://www.domain.com.au/16-30-swindon-road-o...   \n",
       "4      https://www.domain.com.au/1-14-bletchley-road-...   \n",
       "...                                                  ...   \n",
       "14799  https://www.domain.com.au/8a-logan-street-mans...   \n",
       "14800  https://www.domain.com.au/27-elvins-street-man...   \n",
       "14801  https://www.domain.com.au/1-30-ailsa-street-ma...   \n",
       "14802  https://www.domain.com.au/49-hunter-street-man...   \n",
       "14803  https://www.domain.com.au/6-clarke-street-mans...   \n",
       "\n",
       "                             coordinates               cost_text  \\\n",
       "0             [-37.9032708, 145.0770553]                    $680   \n",
       "1              [-37.9077745, 145.092738]                 $650.00   \n",
       "2             [-37.8922004, 145.0899378]                    $500   \n",
       "3             [-37.8972564, 145.0871089]                    $570   \n",
       "4               [-37.894307, 145.082706]                    $475   \n",
       "...                                  ...                     ...   \n",
       "14799         [-37.0476758, 146.0845677]                    $400   \n",
       "14800  [-37.05395439999999, 146.0797784]                    $480   \n",
       "14801         [-37.0551267, 146.0929647]  $440p/w ($1911.90 pcm)   \n",
       "14802         [-37.0561829, 146.0891432]                    $430   \n",
       "14803         [-37.0494926, 146.0876812]                    $380   \n",
       "\n",
       "                                                    desc  \\\n",
       "0                                Joseph Chatziconstantis   \n",
       "1                                      James Drakopoulos   \n",
       "2                                             Nigel Chee   \n",
       "3                                     Matthew Swinnerton   \n",
       "4                                               Jason Gu   \n",
       "...                                                  ...   \n",
       "14799   class=\"css-dxogle\">* Unverified feature<svg a...   \n",
       "14800   class=\"css-dxogle\">* Unverified feature<svg a...   \n",
       "14801   class=\"css-dxogle\">* Unverified feature<svg a...   \n",
       "14802   class=\"css-dxogle\">* Unverified feature<svg a...   \n",
       "14803   class=\"css-dxogle\">* Unverified feature<svg a...   \n",
       "\n",
       "                                          name  \\\n",
       "0       15 Fintonia Street Hughesdale VIC 3166   \n",
       "1           41 Bishop Street Oakleigh VIC 3166   \n",
       "2       109/6 Dalgety Street Oakleigh VIC 3166   \n",
       "3         16/30 Swindon Road Oakleigh VIC 3166   \n",
       "4      1/14 Bletchley Road Hughesdale VIC 3166   \n",
       "...                                        ...   \n",
       "14799       8A Logan Street Mansfield VIC 3722   \n",
       "14800      27 Elvins Street Mansfield VIC 3722   \n",
       "14801     1/30 Ailsa Street Mansfield VIC 3722   \n",
       "14802      49 Hunter Street Mansfield VIC 3722   \n",
       "14803       6 Clarke Street Mansfield VIC 3722   \n",
       "\n",
       "                                    rooms  \n",
       "0      ['3 Beds', '2 Baths', '2 Parking']  \n",
       "1      ['3 Beds', '2 Baths', '2 Parking']  \n",
       "2        ['1 Bed', '1 Bath', '1 Parking']  \n",
       "3      ['3 Beds', '2 Baths', '2 Parking']  \n",
       "4       ['2 Beds', '1 Bath', '1 Parking']  \n",
       "...                                   ...  \n",
       "14799   ['3 Beds', '1 Bath', '2 Parking']  \n",
       "14800  ['3 Beds', '2 Baths', '4 Parking']  \n",
       "14801   ['2 Beds', '1 Bath', '3 Parking']  \n",
       "14802   ['3 Beds', '1 Bath', '3 Parking']  \n",
       "14803   ['2 Beds', '1 Bath', '2 Parking']  \n",
       "\n",
       "[14472 rows x 6 columns]"
      ]
     },
     "execution_count": 70,
     "metadata": {},
     "output_type": "execute_result"
    }
   ],
   "source": [
    "rental_raw_data"
   ]
  },
  {
   "cell_type": "markdown",
   "metadata": {},
   "source": [
    "# Make sure that the  rest of the instances (other than the ones containing <code>w</code>) are NOT weekly rents"
   ]
  },
  {
   "cell_type": "code",
   "execution_count": 71,
   "metadata": {},
   "outputs": [
    {
     "data": {
      "text/plain": [
       "659    leased - more properties wanted call andrew 04...\n",
       "Name: cost_text, dtype: object"
      ]
     },
     "execution_count": 71,
     "metadata": {},
     "output_type": "execute_result"
    }
   ],
   "source": [
    "cost_text_not_containing_w = rental_raw_data.cost_text[~rental_raw_data.cost_text.index.isin(test_rental_raw_cost_contains_w.index)]\n",
    "\n",
    "cost_text_not_containing_w[\n",
    "    cost_text_not_containing_w.str.contains('w')\n",
    "]"
   ]
  },
  {
   "cell_type": "markdown",
   "metadata": {},
   "source": [
    "Yeah, it seems that its one of the instances that don't actually have the rental price listed but included *just because* there's numeric digits"
   ]
  },
  {
   "cell_type": "markdown",
   "metadata": {},
   "source": [
    "Now, these are the remaning instances for which <code>cost_text</code> should be processed:"
   ]
  },
  {
   "cell_type": "code",
   "execution_count": 72,
   "metadata": {},
   "outputs": [
    {
     "data": {
      "text/plain": [
       "13155                                    unfurnished $530\n",
       "262                                under application $480\n",
       "11323    rooming house $880 per month all bills inclusive\n",
       "603                         prices starting from $155 pcm\n",
       "11903                           peak $2500/off peak $1500\n",
       "                               ...                       \n",
       "1589                                               $1,000\n",
       "13465                                              $1,000\n",
       "7135                                                $ 600\n",
       "11018                                               $ 160\n",
       "7549                    $ 125 to $ 190 per calendar month\n",
       "Name: cost_text, Length: 5600, dtype: object"
      ]
     },
     "execution_count": 72,
     "metadata": {},
     "output_type": "execute_result"
    }
   ],
   "source": [
    "cost_text_not_containing_w.sort_values(ascending=False)"
   ]
  },
  {
   "cell_type": "markdown",
   "metadata": {},
   "source": [
    "Remove comma thousand separators. \n",
    "but first, remove such instances where theres ',' for numeric separators"
   ]
  },
  {
   "cell_type": "code",
   "execution_count": 73,
   "metadata": {},
   "outputs": [],
   "source": [
    "cost_text_no_w_contains_comma_thousand_separator = cost_text_not_containing_w[\n",
    "    cost_text_not_containing_w.str.findall(r'\\d+,\\d+').map(lambda x: bool(x))\n",
    "]"
   ]
  },
  {
   "cell_type": "code",
   "execution_count": 74,
   "metadata": {},
   "outputs": [
    {
     "data": {
      "text/plain": [
       "array(['$1,200.00', '$1,000', '$1,199', '$1,400', '$2,800', '$1,280',\n",
       "       '$1,100.00', '$1,150.00', '$1,295.00', '$1,000.00', '$2,500.00',\n",
       "       '$39,000 p.a + outgoings',\n",
       "       '$3,000 per month, plus gst & outgoings', '$1,650.00', '$1,250.00',\n",
       "       '$1,080.00', '$1,500.00', '$1,350', '$1,200', '$1,500',\n",
       "       '$1,025.00', '$1,100', '$1,050.00', '$1,350.00', '$1,300.00',\n",
       "       '$1,450.00', '$1,550.00', '$1,125', '$1,600.00', '$1,495.00',\n",
       "       '$1,150', '$1,325.00', '$1,495', '($1,350 pcm + $2,150 pcm)',\n",
       "       '$2,000', '$1,690 pm', '$3,850', '$2,000.00', '$1,190', '$1,600',\n",
       "       '$1,075.00', '$1,300', '$1,975', '$2,700', '$5,000', '$1,750.00',\n",
       "       '$2,500', '$3,000', '$1,050', '$1,400.00', '$85,000.00',\n",
       "       '$1,900 per month', '$1,700.00', '$1,799', '$1,500 mth',\n",
       "       '$1,800.00', '$1,360.00', '$1,395.00', '$2,100.00',\n",
       "       '$38,000 p.a. incl. outgoings + gst', '$1,907 calendar month',\n",
       "       '$2,200 per month', '$47,000 per annum', '$2,200.00', '$1,615',\n",
       "       '$1,154', '$2,500/month', '$35,000 annually', '$1,290.00',\n",
       "       '$2,150.00', '$390pm/$1,695pcm', '$1,049.00', '$1,190.00',\n",
       "       '$1,195.00', '$1,390.00', '$1,345.00', '$1,995.00', '$1,025',\n",
       "       '$3,500.00', '$1,490.00', '$1,850.00', '$1,690.00', '$2,400.00',\n",
       "       '$1,695.00', '$1,595.00', '$39,000 plus gst plus out goings.',\n",
       "       '$1,097', '$120,000 plus gst and plus outgoings pa.', '$2,050',\n",
       "       '$2,400', '$1,099', '$2,600.00', '$420.00pm / $ 1,825.00pcm',\n",
       "       '$1,035'], dtype=object)"
      ]
     },
     "execution_count": 74,
     "metadata": {},
     "output_type": "execute_result"
    }
   ],
   "source": [
    "cost_text_no_w_contains_comma_thousand_separator.unique()"
   ]
  },
  {
   "cell_type": "markdown",
   "metadata": {},
   "source": [
    "If the commas only occur to separate digits in rental prices then we'll just replace commas with '' for the entire <code>cost_text_not_containing_w</code>"
   ]
  },
  {
   "cell_type": "markdown",
   "metadata": {},
   "source": [
    "Check if there's any other instances containing ','s but not serving as thousand separators"
   ]
  },
  {
   "cell_type": "code",
   "execution_count": 75,
   "metadata": {},
   "outputs": [
    {
     "data": {
      "text/plain": [
       "6666    $368 per month, $1600 per month\n",
       "Name: cost_text, dtype: object"
      ]
     },
     "execution_count": 75,
     "metadata": {},
     "output_type": "execute_result"
    }
   ],
   "source": [
    "cost_text_not_containing_w[~cost_text_not_containing_w.index.isin(cost_text_no_w_contains_comma_thousand_separator.index)][\n",
    "    cost_text_not_containing_w[~cost_text_not_containing_w.index.isin(cost_text_no_w_contains_comma_thousand_separator.index)].str.contains(',')\n",
    "]"
   ]
  },
  {
   "cell_type": "markdown",
   "metadata": {},
   "source": [
    "So we can replace all instances of ','s throughout all rows in <code>cost_text_not_containing_w</code>"
   ]
  },
  {
   "cell_type": "code",
   "execution_count": 76,
   "metadata": {},
   "outputs": [],
   "source": [
    "cost_text_not_containing_w = cost_text_not_containing_w.str.replace(',', '')"
   ]
  },
  {
   "cell_type": "markdown",
   "metadata": {},
   "source": [
    "# Make sure that the  rest of the instances (other than the ones containing <code>w</code>) are NOT weekly rents: start by finding all instances containing <code>p</code>\n",
    "- Idea is to find prices that are of different granularity (e.g. per annum, etc)\n",
    "- Even if it doesn't indicate any granularity for the prices, as usual we'll assume that they're weekly "
   ]
  },
  {
   "cell_type": "code",
   "execution_count": 77,
   "metadata": {},
   "outputs": [
    {
     "data": {
      "text/plain": [
       "167                                    $41250 pa\n",
       "565                         from $1000 per month\n",
       "603                prices starting from $155 pcm\n",
       "622                          from $260 per night\n",
       "623                               $220 per night\n",
       "                          ...                   \n",
       "13550    $120000 plus gst and plus outgoings pa.\n",
       "13699                             $280 per month\n",
       "13703                             $270 per month\n",
       "13982           $550 **inspection upon request**\n",
       "14198                   $420.00pm / $ 1825.00pcm\n",
       "Name: cost_text, Length: 76, dtype: object"
      ]
     },
     "execution_count": 77,
     "metadata": {},
     "output_type": "execute_result"
    }
   ],
   "source": [
    "cost_text_not_containing_w[\n",
    "    cost_text_not_containing_w.str.contains('\\d+.*p')\n",
    "]"
   ]
  },
  {
   "cell_type": "code",
   "execution_count": 78,
   "metadata": {},
   "outputs": [
    {
     "name": "stdout",
     "output_type": "stream",
     "text": [
      "Max length for matches in each instance:  1\n",
      "['pa' 'pplication $480' 'per month' 'prices starting from $155 pcm'\n",
      " 'per night' 'per night*' 'properties wanted call andrew 0407 060 344'\n",
      " 'p.a + outgoings' 'per month plus gst & outgoings' 'pcm'\n",
      " 'per calendar month' 'per hour' 'ps/$1738pcm' 'pcm + $2150 pcm)' 'pm'\n",
      " 'per night off peak' 'pacious large 3 bedrooms apartment**'\n",
      " 'park facing 3-storey home**' 'p/m' 'per month $1600 per month'\n",
      " 'pplication)' 'pcm / $2455' 'payments requested'\n",
      " 'p.a. incl. outgoings + gst' 'per cal month'\n",
      " 'price $450 more needed urgently' 'per annum' 'pection upon request**'\n",
      " 'private inspection available**' 'partment in southbank**'\n",
      " 'per month all bills inclusive' 'peak $2500/off peak $1500' 'pm/$1695pcm'\n",
      " 'per night - 2 people' 'per night - 4 people' 'plus gst plus out goings.'\n",
      " 'plus gst and plus outgoings pa.' 'pm / $ 1825.00pcm']\n"
     ]
    }
   ],
   "source": [
    "syntax = r'(p.*[^\\s]*)'\n",
    "\n",
    "cost_text_not_containing_w_other_granularity = cost_text_not_containing_w.str.findall(syntax)[\n",
    "    cost_text_not_containing_w.str.findall(syntax).map(lambda x: bool(x))\n",
    "]\n",
    "\n",
    "\n",
    "print(\"Max length for matches in each instance: \",cost_text_not_containing_w_other_granularity.map(lambda x: len(x)).max())\n",
    "\n",
    "print(cost_text_not_containing_w_other_granularity.map(lambda x: x[0]).unique())\n"
   ]
  },
  {
   "cell_type": "markdown",
   "metadata": {},
   "source": [
    "Assume that prices that have granularities specified follow the format in the regex below (a number followed by any character followed by *p*, as in e.g. *p*er annum, *p*er month, etc)"
   ]
  },
  {
   "cell_type": "code",
   "execution_count": 79,
   "metadata": {},
   "outputs": [
    {
     "name": "stdout",
     "output_type": "stream",
     "text": [
      "Max length for matches in each instance:  1\n",
      "['pa' 'per month' 'pcm' 'per night' 'per night*' 'p.a + outgoings'\n",
      " 'plus gst & outgoings' 'per calendar month' 'per hour' 'pcm)' 'pm' 'peak'\n",
      " 'partment**' 'park facing 3-storey home**' 'p/m' 'plication)'\n",
      " 'pcm / $2455' 'payments requested' 'p.a. incl. outgoings + gst'\n",
      " 'per cal month' 'per annum' 'pon request**' 'pection available**'\n",
      " 'partment in southbank**' 'per month all bills inclusive' 'peak $1500'\n",
      " 'ple' 'plus out goings.' 'pa.']\n"
     ]
    }
   ],
   "source": [
    "syntax = r'\\d+.*(p.*[^\\s]*)'\n",
    "\n",
    "cost_text_not_containing_w_other_granularity = cost_text_not_containing_w.str.findall(syntax)[\n",
    "    cost_text_not_containing_w.str.findall(syntax).map(lambda x: bool(x))\n",
    "]\n",
    "\n",
    "print(\"Max length for matches in each instance: \",cost_text_not_containing_w_other_granularity.map(lambda x: len(x)).max())\n",
    "\n",
    "print(cost_text_not_containing_w_other_granularity.map(lambda x: x[0]).unique())\n",
    "\n",
    "cost_text_no_w_but_contain_p = cost_text_not_containing_w.loc[\n",
    "    cost_text_not_containing_w_other_granularity.map(lambda x: x[0]).index\n",
    "]"
   ]
  },
  {
   "cell_type": "markdown",
   "metadata": {},
   "source": [
    "The unique phrases/words that start with <code>p</code> are not that many\n",
    "\n",
    "Each instance has exactly one of these. So to convert to per week (for granularities e.g. <code>pa, per month, pcm</code> etc) we just need to collect all indicators representing each granularity and later convert them"
   ]
  },
  {
   "cell_type": "code",
   "execution_count": 80,
   "metadata": {},
   "outputs": [],
   "source": [
    "#indicators for prices that havve their granularities specified\n",
    "per_annum_indicators = ['pa', 'p.a + outgoings', 'p.a. incl. outgoings + gst', 'per annum', 'pa.']\n",
    "per_month_indicators = ['per month', 'pcm', 'per calendar month', 'pcm)', 'pm', 'p/m', 'pcm / $2455', 'per cal month', 'per month all bills inclusive']\n",
    "per_night_indicators = ['per night', 'per night*']"
   ]
  },
  {
   "cell_type": "code",
   "execution_count": 81,
   "metadata": {},
   "outputs": [
    {
     "data": {
      "text/plain": [
       "167                              pa\n",
       "1050                p.a + outgoings\n",
       "9171     p.a. incl. outgoings + gst\n",
       "10481                     per annum\n",
       "13550                           pa.\n",
       "Name: cost_text, dtype: object"
      ]
     },
     "execution_count": 81,
     "metadata": {},
     "output_type": "execute_result"
    }
   ],
   "source": [
    "cost_text_not_containing_w_other_granularity.map(lambda x: x[0])[\n",
    "    cost_text_not_containing_w_other_granularity.map(lambda x: x[0]).isin(per_annum_indicators)\n",
    "]"
   ]
  },
  {
   "cell_type": "code",
   "execution_count": 82,
   "metadata": {},
   "outputs": [],
   "source": [
    "per_annum_indicators_idx = cost_text_not_containing_w_other_granularity.map(lambda x: x[0])[\n",
    "    cost_text_not_containing_w_other_granularity.map(lambda x: x[0]).isin(per_annum_indicators)\n",
    "].index \n",
    "\n",
    "per_month_indicators_idx = cost_text_not_containing_w_other_granularity.map(lambda x: x[0])[\n",
    "    cost_text_not_containing_w_other_granularity.map(lambda x: x[0]).isin(per_month_indicators)\n",
    "].index \n",
    "\n",
    "per_night_indicators_idx = cost_text_not_containing_w_other_granularity.map(lambda x: x[0])[\n",
    "    cost_text_not_containing_w_other_granularity.map(lambda x: x[0]).isin(per_night_indicators)\n",
    "].index "
   ]
  },
  {
   "cell_type": "markdown",
   "metadata": {},
   "source": [
    "Convert rental prices with known granularities"
   ]
  },
  {
   "cell_type": "code",
   "execution_count": 83,
   "metadata": {},
   "outputs": [],
   "source": [
    "NUM_DAYS_PER_NIGHT = 7\n",
    "NUM_WEEKS_PER_MONTH_APPROX = 4\n",
    "NUM_WEEKS_PER_ANNUM_APPROX = 52\n",
    "\n",
    "cost_text_no_w_but_contain_p.loc[per_night_indicators_idx] = cost_text_no_w_but_contain_p.loc[per_night_indicators_idx].\\\n",
    "                                                    str.findall(r'(\\d+).*p.*[^\\s]*').\\\n",
    "                                                    map(lambda x: x[0]).astype('float') * NUM_DAYS_PER_NIGHT\n",
    "\n",
    "\n",
    "cost_text_no_w_but_contain_p.loc[per_month_indicators_idx] = cost_text_no_w_but_contain_p.loc[per_month_indicators_idx].\\\n",
    "                                                    str.findall(r'(\\d+).*p.*[^\\s]*').\\\n",
    "                                                    map(lambda x: x[0]).astype('float') / NUM_WEEKS_PER_MONTH_APPROX\n",
    "\n",
    "cost_text_no_w_but_contain_p.loc[per_annum_indicators_idx] = cost_text_no_w_but_contain_p.loc[per_annum_indicators_idx].\\\n",
    "                                                    str.findall(r'(\\d+).*p.*[^\\s]*').\\\n",
    "                                                    map(lambda x: x[0]).astype('float') / NUM_WEEKS_PER_ANNUM_APPROX                                                 \n",
    "\n",
    "                "
   ]
  },
  {
   "cell_type": "markdown",
   "metadata": {},
   "source": [
    "What about the rest of the instances that contain <code>p</code> but don't have the granularities clearly specified"
   ]
  },
  {
   "cell_type": "code",
   "execution_count": 84,
   "metadata": {},
   "outputs": [],
   "source": [
    "no_granularity_but_contain_p_idx = list(set(cost_text_no_w_but_contain_p.index) - (set(per_night_indicators_idx).union(set(per_month_indicators_idx)).union(set(per_annum_indicators_idx))))"
   ]
  },
  {
   "cell_type": "code",
   "execution_count": 85,
   "metadata": {},
   "outputs": [
    {
     "data": {
      "text/plain": [
       "2829                                     $50 per hour\n",
       "1297             $3000 per month plus gst & outgoings\n",
       "5653        $850 **unique park facing 3-storey home**\n",
       "6814                         $325 (under application)\n",
       "13982                $550 **inspection upon request**\n",
       "5293     $850 **spacious large 3 bedrooms apartment**\n",
       "12860                       $220 per night - 2 people\n",
       "12861                       $250 per night - 4 people\n",
       "10818                $550 **inspection upon request**\n",
       "10819           $400 **private inspection available**\n",
       "10964                $650 **inspection upon request**\n",
       "5206                     from $400 per night off peak\n",
       "5210                     from $300 per night off peak\n",
       "5211                     from $180 per night off peak\n",
       "5212                     from $320 per night off peak\n",
       "7773              $800 fortnightly payments requested\n",
       "5213                     from $280 per night off peak\n",
       "10857       $600 **furnished apartment in southbank**\n",
       "13430                $39000 plus gst plus out goings.\n",
       "11903                       peak $2500/off peak $1500\n",
       "Name: cost_text, dtype: object"
      ]
     },
     "execution_count": 85,
     "metadata": {},
     "output_type": "execute_result"
    }
   ],
   "source": [
    "cost_text_no_w_but_contain_p.loc[no_granularity_but_contain_p_idx]"
   ]
  },
  {
   "cell_type": "markdown",
   "metadata": {},
   "source": [
    "It seems that our regex has false negatives (there's instances that still have granularities: e.g. per night, per hour, etc)"
   ]
  },
  {
   "cell_type": "code",
   "execution_count": 86,
   "metadata": {},
   "outputs": [],
   "source": [
    "hourly_indicators = ['per hour']\n",
    "monthly_indicators = ['per month']\n",
    "nightly_indicators = ['per night']\n",
    "fornightly_indicators = ['fortnightly']\n",
    "granularity_indicators = hourly_indicators + monthly_indicators + nightly_indicators + fornightly_indicators"
   ]
  },
  {
   "cell_type": "code",
   "execution_count": 87,
   "metadata": {},
   "outputs": [
    {
     "data": {
      "text/plain": [
       "2829                             $50 per hour\n",
       "1297     $3000 per month plus gst & outgoings\n",
       "12860               $220 per night - 2 people\n",
       "12861               $250 per night - 4 people\n",
       "5206             from $400 per night off peak\n",
       "5210             from $300 per night off peak\n",
       "5211             from $180 per night off peak\n",
       "5212             from $320 per night off peak\n",
       "7773      $800 fortnightly payments requested\n",
       "5213             from $280 per night off peak\n",
       "Name: cost_text, dtype: object"
      ]
     },
     "execution_count": 87,
     "metadata": {},
     "output_type": "execute_result"
    }
   ],
   "source": [
    "cost_text_no_w_but_contain_p.loc[no_granularity_but_contain_p_idx][\n",
    "    (cost_text_no_w_but_contain_p.loc[no_granularity_but_contain_p_idx].str.contains('per hour')) | \n",
    "    (cost_text_no_w_but_contain_p.loc[no_granularity_but_contain_p_idx].str.contains('per month')) | \n",
    "    (cost_text_no_w_but_contain_p.loc[no_granularity_but_contain_p_idx].str.contains('per night')) |\n",
    "    (cost_text_no_w_but_contain_p.loc[no_granularity_but_contain_p_idx].str.contains('fortnightly')) \n",
    "]"
   ]
  },
  {
   "cell_type": "code",
   "execution_count": 88,
   "metadata": {},
   "outputs": [
    {
     "data": {
      "text/plain": [
       "2829                             $50 per hour\n",
       "1297     $3000 per month plus gst & outgoings\n",
       "12860               $220 per night - 2 people\n",
       "12861               $250 per night - 4 people\n",
       "5206             from $400 per night off peak\n",
       "5210             from $300 per night off peak\n",
       "5211             from $180 per night off peak\n",
       "5212             from $320 per night off peak\n",
       "7773      $800 fortnightly payments requested\n",
       "5213             from $280 per night off peak\n",
       "Name: cost_text, dtype: object"
      ]
     },
     "execution_count": 88,
     "metadata": {},
     "output_type": "execute_result"
    }
   ],
   "source": [
    "cost_text_no_w_but_contain_p.loc[no_granularity_but_contain_p_idx][\n",
    "    (cost_text_no_w_but_contain_p.loc[no_granularity_but_contain_p_idx].str.contains('per hour')) | \n",
    "    (cost_text_no_w_but_contain_p.loc[no_granularity_but_contain_p_idx].str.contains('per month')) | \n",
    "    (cost_text_no_w_but_contain_p.loc[no_granularity_but_contain_p_idx].str.contains('per night')) |\n",
    "    (cost_text_no_w_but_contain_p.loc[no_granularity_but_contain_p_idx].str.contains('fortnightly')) \n",
    "]"
   ]
  },
  {
   "cell_type": "code",
   "execution_count": 89,
   "metadata": {},
   "outputs": [],
   "source": [
    "cost_text_no_w_but_contain_p = cost_text_no_w_but_contain_p.astype('str')"
   ]
  },
  {
   "cell_type": "markdown",
   "metadata": {},
   "source": [
    "Apparently to mutate changes only able to call <code>.loc</code> once"
   ]
  },
  {
   "cell_type": "code",
   "execution_count": 90,
   "metadata": {},
   "outputs": [],
   "source": [
    "NUM_HOURS_PER_WEEK = 168\n",
    "\n",
    "idx_to_be_updated = cost_text_no_w_but_contain_p.loc[no_granularity_but_contain_p_idx][\n",
    "    cost_text_no_w_but_contain_p.loc[no_granularity_but_contain_p_idx].str.contains('per hour')\n",
    "].index\n",
    "\n",
    "\n",
    "cost_text_no_w_but_contain_p.loc[idx_to_be_updated]= \\\n",
    "    cost_text_no_w_but_contain_p.loc[no_granularity_but_contain_p_idx][\n",
    "    cost_text_no_w_but_contain_p.loc[no_granularity_but_contain_p_idx].str.contains('per hour')\n",
    "].str.findall(r'(\\d+).*p').map(lambda x: x[0]).astype('float') * NUM_HOURS_PER_WEEK\n",
    "\n",
    "cost_text_no_w_but_contain_p = cost_text_no_w_but_contain_p.astype('str')"
   ]
  },
  {
   "cell_type": "code",
   "execution_count": 91,
   "metadata": {},
   "outputs": [],
   "source": [
    "idx_to_be_updated = cost_text_no_w_but_contain_p.loc[no_granularity_but_contain_p_idx][\n",
    "    cost_text_no_w_but_contain_p.loc[no_granularity_but_contain_p_idx].str.contains('per night')\n",
    "].index\n",
    "\n",
    "cost_text_no_w_but_contain_p.loc[idx_to_be_updated] =\\\n",
    "    cost_text_no_w_but_contain_p.loc[no_granularity_but_contain_p_idx][\n",
    "    cost_text_no_w_but_contain_p.loc[no_granularity_but_contain_p_idx].str.contains('per night')\n",
    "].str.findall(r'(\\d+).*p').map(lambda x: x[0]).astype('float') * NUM_DAYS_PER_NIGHT\n",
    "\n",
    "cost_text_no_w_but_contain_p = cost_text_no_w_but_contain_p.astype('str')"
   ]
  },
  {
   "cell_type": "code",
   "execution_count": 92,
   "metadata": {},
   "outputs": [],
   "source": [
    "idx_to_be_updated = cost_text_no_w_but_contain_p.loc[no_granularity_but_contain_p_idx][\n",
    "    cost_text_no_w_but_contain_p.loc[no_granularity_but_contain_p_idx].str.contains('per month')\n",
    "].index\n",
    "\n",
    "cost_text_no_w_but_contain_p.loc[idx_to_be_updated] =\\\n",
    "    cost_text_no_w_but_contain_p.loc[no_granularity_but_contain_p_idx][\n",
    "    cost_text_no_w_but_contain_p.loc[no_granularity_but_contain_p_idx].str.contains('per month')\n",
    "].str.findall(r'(\\d+).*p').map(lambda x: x[0]).astype('float') / NUM_WEEKS_PER_MONTH_APPROX\n",
    "\n",
    "cost_text_no_w_but_contain_p = cost_text_no_w_but_contain_p.astype('str')"
   ]
  },
  {
   "cell_type": "code",
   "execution_count": 93,
   "metadata": {},
   "outputs": [],
   "source": [
    "NUM_WEEKS_PER_FORTNIGHT = 2\n",
    "idx_to_be_updated = cost_text_no_w_but_contain_p.loc[no_granularity_but_contain_p_idx][\n",
    "    cost_text_no_w_but_contain_p.loc[no_granularity_but_contain_p_idx].str.contains('fortnightly')\n",
    "].index\n",
    "\n",
    "cost_text_no_w_but_contain_p.loc[idx_to_be_updated] =\\\n",
    "    cost_text_no_w_but_contain_p.loc[no_granularity_but_contain_p_idx][\n",
    "    cost_text_no_w_but_contain_p.loc[no_granularity_but_contain_p_idx].str.contains('fortnightly')\n",
    "].str.findall(r'(\\d+).*p').map(lambda x: x[0]).astype('float') / NUM_WEEKS_PER_FORTNIGHT\n",
    "\n",
    "cost_text_no_w_but_contain_p = cost_text_no_w_but_contain_p.astype('str')"
   ]
  },
  {
   "cell_type": "markdown",
   "metadata": {},
   "source": [
    "Now, as for the rest of the instances that don't have any granularities but still contain <code>p</code>"
   ]
  },
  {
   "cell_type": "code",
   "execution_count": 94,
   "metadata": {},
   "outputs": [],
   "source": [
    "undiscovered_granularities_contain_p = cost_text_no_w_but_contain_p.loc[no_granularity_but_contain_p_idx][\n",
    "    (cost_text_no_w_but_contain_p.loc[no_granularity_but_contain_p_idx].str.contains('per hour')) | \n",
    "    (cost_text_no_w_but_contain_p.loc[no_granularity_but_contain_p_idx].str.contains('per month')) | \n",
    "    (cost_text_no_w_but_contain_p.loc[no_granularity_but_contain_p_idx].str.contains('per night')) |\n",
    "    (cost_text_no_w_but_contain_p.loc[no_granularity_but_contain_p_idx].str.contains('fortnightly')) \n",
    "]"
   ]
  },
  {
   "cell_type": "code",
   "execution_count": 95,
   "metadata": {},
   "outputs": [],
   "source": [
    "no_granularites_but_contain_p_idx = list(set(cost_text_no_w_but_contain_p.loc[no_granularity_but_contain_p_idx].index) -\\\n",
    "    set(undiscovered_granularities_contain_p.index))"
   ]
  },
  {
   "cell_type": "code",
   "execution_count": 96,
   "metadata": {},
   "outputs": [],
   "source": [
    "#extract the numbers, convert them to numeric\n",
    "cost_text_no_w_but_contain_p.loc[no_granularites_but_contain_p_idx] = cost_text_no_w_but_contain_p.loc[no_granularites_but_contain_p_idx].\\\n",
    "                                                                str.findall(r'(\\d+).*p*').map(lambda x: x[0]).astype('float') "
   ]
  },
  {
   "cell_type": "code",
   "execution_count": 97,
   "metadata": {},
   "outputs": [
    {
     "data": {
      "text/plain": [
       "167       793.269231\n",
       "565       250.000000\n",
       "603        38.750000\n",
       "622      1820.000000\n",
       "623      1540.000000\n",
       "            ...     \n",
       "13550    2307.692308\n",
       "13699      70.000000\n",
       "13703      67.500000\n",
       "13982     550.000000\n",
       "14198     105.000000\n",
       "Name: cost_text, Length: 76, dtype: float64"
      ]
     },
     "execution_count": 97,
     "metadata": {},
     "output_type": "execute_result"
    }
   ],
   "source": [
    "cost_text_no_w_but_contain_p.astype('float')"
   ]
  },
  {
   "cell_type": "code",
   "execution_count": 98,
   "metadata": {},
   "outputs": [],
   "source": [
    "cost_text_no_w_but_contain_p = cost_text_no_w_but_contain_p.astype('float')"
   ]
  },
  {
   "cell_type": "code",
   "execution_count": 99,
   "metadata": {},
   "outputs": [
    {
     "data": {
      "text/plain": [
       "167       793.269231\n",
       "565       250.000000\n",
       "603        38.750000\n",
       "622      1820.000000\n",
       "623      1540.000000\n",
       "            ...     \n",
       "13550    2307.692308\n",
       "13699      70.000000\n",
       "13703      67.500000\n",
       "13982     550.000000\n",
       "14198     105.000000\n",
       "Name: cost_text, Length: 76, dtype: float64"
      ]
     },
     "execution_count": 99,
     "metadata": {},
     "output_type": "execute_result"
    }
   ],
   "source": [
    "cost_text_no_w_but_contain_p"
   ]
  },
  {
   "cell_type": "markdown",
   "metadata": {},
   "source": [
    "# Now.. Inspect the instances that don't contain <code>p</code>"
   ]
  },
  {
   "cell_type": "code",
   "execution_count": 100,
   "metadata": {},
   "outputs": [
    {
     "data": {
      "text/plain": [
       "0           $680\n",
       "1        $650.00\n",
       "2           $500\n",
       "3           $570\n",
       "4           $475\n",
       "          ...   \n",
       "14795       $750\n",
       "14799       $400\n",
       "14800       $480\n",
       "14802       $430\n",
       "14803       $380\n",
       "Name: cost_text, Length: 5524, dtype: object"
      ]
     },
     "execution_count": 100,
     "metadata": {},
     "output_type": "execute_result"
    }
   ],
   "source": [
    "cost_text_not_containing_w[~cost_text_not_containing_w.index.isin(cost_text_no_w_but_contain_p.index)]"
   ]
  },
  {
   "cell_type": "code",
   "execution_count": 101,
   "metadata": {},
   "outputs": [],
   "source": [
    "cost_text_no_w_not_contain_p = cost_text_not_containing_w[~cost_text_not_containing_w.index.isin(cost_text_no_w_but_contain_p.index)]"
   ]
  },
  {
   "cell_type": "markdown",
   "metadata": {},
   "source": [
    "We can find those that have alphabets in them"
   ]
  },
  {
   "cell_type": "markdown",
   "metadata": {},
   "source": [
    "It turns out that monthly rents don't necessarily have to include smth like <code>per month</code>, can just have e.g. <code>monthly</code>, which is a challenge."
   ]
  },
  {
   "cell_type": "markdown",
   "metadata": {},
   "source": [
    "But at the moment we don't need to process them first. Keep them first (using the indexes), process them later"
   ]
  },
  {
   "cell_type": "code",
   "execution_count": 102,
   "metadata": {},
   "outputs": [
    {
     "data": {
      "text/plain": [
       "6441                       $250 monthly\n",
       "9479               $2297 calendar month\n",
       "9480               $2557 calendar month\n",
       "9482               $2470 calendar month\n",
       "9483               $1365 calendar month\n",
       "9484               $1950 calendar month\n",
       "9485               $2384 calendar month\n",
       "9486               $1907 calendar month\n",
       "9487               $2384 calendar month\n",
       "9488               $1950 calendar month\n",
       "9489               $2384 calendar month\n",
       "9491               $2687 calendar month\n",
       "11562                       $2500/month\n",
       "13146    $500 **3-6 months lease term**\n",
       "13893                        $250/month\n",
       "Name: cost_text, dtype: object"
      ]
     },
     "execution_count": 102,
     "metadata": {},
     "output_type": "execute_result"
    }
   ],
   "source": [
    "cost_text_no_w_not_contain_p[\n",
    "    cost_text_no_w_not_contain_p.str.contains('month')\n",
    "]"
   ]
  },
  {
   "cell_type": "code",
   "execution_count": 103,
   "metadata": {},
   "outputs": [],
   "source": [
    "cost_text_no_w_not_contain_p_months_idx = cost_text_no_w_not_contain_p[\n",
    "    cost_text_no_w_not_contain_p.str.contains('month')\n",
    "].index"
   ]
  },
  {
   "cell_type": "code",
   "execution_count": 104,
   "metadata": {},
   "outputs": [
    {
     "data": {
      "text/plain": [
       "Int64Index([ 6441,  9479,  9480,  9482,  9483,  9484,  9485,  9486,  9487,\n",
       "             9488,  9489,  9491, 11562, 13146, 13893],\n",
       "           dtype='int64')"
      ]
     },
     "execution_count": 104,
     "metadata": {},
     "output_type": "execute_result"
    }
   ],
   "source": [
    "cost_text_no_w_not_contain_p_months_idx"
   ]
  },
  {
   "cell_type": "markdown",
   "metadata": {},
   "source": [
    "Now that we know there's months, we can see the instances for which <code>cost_text</code> contains alphabets but don't contain <code>month</code>"
   ]
  },
  {
   "cell_type": "code",
   "execution_count": 105,
   "metadata": {},
   "outputs": [
    {
     "data": {
      "text/plain": [
       "array(['under application $480', '$600 inc. bills',\n",
       "       'leased - more properties wanted call andrew 0407 060 344',\n",
       "       'from $195', '$420 to $450', '$1000.00 - fully furnished',\n",
       "       '$800 to $880', '$750 to $775', 'furnished $480', '$33 to $65',\n",
       "       'from $280', '450 furnished', '$490 fully furnished',\n",
       "       '$180.00 to $220.00', '$370 - fully furnished',\n",
       "       '$620 - fully furnished', '$430 - fully furnished',\n",
       "       '$580 fully furnished', '$620 fully furnished',\n",
       "       '$390 - fully furnished', '$650 - fully furnished',\n",
       "       '$500 - fully furnished', '$420 - fully furnished',\n",
       "       '$680 - fully furnished', '$770 - fully furnished',\n",
       "       '$640 - fully furnished', '$720 fully furnished',\n",
       "       '$530 - fully furnished', '$790 - fully furnished',\n",
       "       '$490.00 - fully furnished', '$630 - fully furnished',\n",
       "       '$580 - fully furnished', '$590 fully furnished',\n",
       "       '$550.00 - fully furnished', '$530 fully furnished',\n",
       "       '$560 - fully furnished', '$430 fully furnished',\n",
       "       '$540 fully furnished', '$490 - fully furnished',\n",
       "       '$520 - fully furnished'], dtype=object)"
      ]
     },
     "execution_count": 105,
     "metadata": {},
     "output_type": "execute_result"
    }
   ],
   "source": [
    "cost_text_no_w_not_contain_p[\n",
    "    (cost_text_no_w_not_contain_p.str.contains(r'[a-z]')) & \n",
    "    (~cost_text_no_w_not_contain_p.index.isin(cost_text_no_w_not_contain_p_months_idx))\n",
    "].unique()[0:40]"
   ]
  },
  {
   "cell_type": "code",
   "execution_count": 106,
   "metadata": {},
   "outputs": [
    {
     "data": {
      "text/plain": [
       "array(['$410 - fully furnished', '$800 - fully furnished',\n",
       "       '$600 - fully furnished', '$570 - fully furnished',\n",
       "       '$780 - fully furnished', '$460 - fully furnished',\n",
       "       '$700 - fully furnished', '$260 to $280', '$170 to $240',\n",
       "       '$1500 mth', '$38000+gst+outgoing', '$900 inc bills & furniture',\n",
       "       'leased at record price $450 more needed urgently',\n",
       "       'leased by century21!!', '$500.00 fully furnished',\n",
       "       '$580.00 | leased', '$620 **fully furnished**', '$680 (neg)',\n",
       "       '$35000 annually', '$580.00 fully furnished',\n",
       "       '$480 - fully furnished', 'from $160',\n",
       "       '$300 all bills included in rent',\n",
       "       '$190 including all utility bills', 'unfurnished $530',\n",
       "       '$650 fully furnished', '1bed + 1study $560', '$650 furnished'],\n",
       "      dtype=object)"
      ]
     },
     "execution_count": 106,
     "metadata": {},
     "output_type": "execute_result"
    }
   ],
   "source": [
    "cost_text_no_w_not_contain_p[\n",
    "    (cost_text_no_w_not_contain_p.str.contains(r'[a-z]')) & \n",
    "    (~cost_text_no_w_not_contain_p.index.isin(cost_text_no_w_not_contain_p_months_idx))\n",
    "].unique()[41:]"
   ]
  },
  {
   "cell_type": "markdown",
   "metadata": {},
   "source": [
    "It seems that <code>furnish</code> keeps popping up and quite common, we can exclude that and see that's left.\n",
    "- Furthermore, such instances typically are only of the form <code> number + furnished </code> or vice versa. \n",
    "    - This means that later we can simply extract any occurence of any number in instances with <code>furnish</code> in it"
   ]
  },
  {
   "cell_type": "code",
   "execution_count": 107,
   "metadata": {},
   "outputs": [],
   "source": [
    "cost_text_no_w_not_contain_p_furnish_idx = cost_text_no_w_not_contain_p[\n",
    "    cost_text_no_w_not_contain_p.str.contains('furnish')\n",
    "].index"
   ]
  },
  {
   "cell_type": "markdown",
   "metadata": {},
   "source": [
    "Now that we know there's months, we can see the instances for which <code>cost_text</code> contains alphabets but don't contain <code>month, furnish</code>"
   ]
  },
  {
   "cell_type": "code",
   "execution_count": 108,
   "metadata": {},
   "outputs": [
    {
     "data": {
      "text/plain": [
       "array(['under application $480', '$600 inc. bills',\n",
       "       'leased - more properties wanted call andrew 0407 060 344',\n",
       "       'from $195', '$420 to $450', '$800 to $880', '$750 to $775',\n",
       "       '$33 to $65', 'from $280', '$180.00 to $220.00', '$260 to $280',\n",
       "       '$170 to $240', '$1500 mth', '$38000+gst+outgoing',\n",
       "       '$900 inc bills & furniture',\n",
       "       'leased at record price $450 more needed urgently',\n",
       "       'leased by century21!!', '$580.00 | leased', '$680 (neg)',\n",
       "       '$35000 annually', 'from $160', '$300 all bills included in rent',\n",
       "       '$190 including all utility bills', '1bed + 1study $560'],\n",
       "      dtype=object)"
      ]
     },
     "execution_count": 108,
     "metadata": {},
     "output_type": "execute_result"
    }
   ],
   "source": [
    "cost_text_no_w_not_contain_p[\n",
    "    (cost_text_no_w_not_contain_p.str.contains(r'[a-z]')) & \n",
    "    (~cost_text_no_w_not_contain_p.index.isin(cost_text_no_w_not_contain_p_months_idx)) & \n",
    "    (~cost_text_no_w_not_contain_p.index.isin(cost_text_no_w_not_contain_p_furnish_idx))\n",
    "].unique()"
   ]
  },
  {
   "cell_type": "markdown",
   "metadata": {},
   "source": [
    "There's 2 instances that contain <code>mth</code> and <code>annually</code>."
   ]
  },
  {
   "cell_type": "code",
   "execution_count": 109,
   "metadata": {},
   "outputs": [],
   "source": [
    "cost_text_no_w_not_contain_p_mth_idx = cost_text_no_w_not_contain_p[\n",
    "    (cost_text_no_w_not_contain_p.str.contains(r'[a-z]')) & \n",
    "    (~cost_text_no_w_not_contain_p.index.isin(cost_text_no_w_not_contain_p_months_idx)) & \n",
    "    (~cost_text_no_w_not_contain_p.index.isin(cost_text_no_w_not_contain_p_furnish_idx)) & \n",
    "    (cost_text_no_w_not_contain_p.str.contains('mth'))\n",
    "    ].index\n",
    "\n",
    "cost_text_no_w_not_contain_p_annually_idx = cost_text_no_w_not_contain_p[\n",
    "    (cost_text_no_w_not_contain_p.str.contains(r'[a-z]')) & \n",
    "    (~cost_text_no_w_not_contain_p.index.isin(cost_text_no_w_not_contain_p_months_idx)) & \n",
    "    (~cost_text_no_w_not_contain_p.index.isin(cost_text_no_w_not_contain_p_furnish_idx)) & \n",
    "    (cost_text_no_w_not_contain_p.str.contains('annual'))\n",
    "    ].index"
   ]
  },
  {
   "cell_type": "markdown",
   "metadata": {},
   "source": [
    "Now that we know there's months, we can see the instances for which <code>cost_text</code> contains alphabets but don't contain <code>month, furnish, mth, annually</code>"
   ]
  },
  {
   "cell_type": "code",
   "execution_count": 110,
   "metadata": {},
   "outputs": [
    {
     "data": {
      "text/plain": [
       "array(['under application $480', '$600 inc. bills',\n",
       "       'leased - more properties wanted call andrew 0407 060 344',\n",
       "       'from $195', '$420 to $450', '$800 to $880', '$750 to $775',\n",
       "       '$33 to $65', 'from $280', '$180.00 to $220.00', '$260 to $280',\n",
       "       '$170 to $240', '$38000+gst+outgoing',\n",
       "       '$900 inc bills & furniture',\n",
       "       'leased at record price $450 more needed urgently',\n",
       "       'leased by century21!!', '$580.00 | leased', '$680 (neg)',\n",
       "       'from $160', '$300 all bills included in rent',\n",
       "       '$190 including all utility bills', '1bed + 1study $560'],\n",
       "      dtype=object)"
      ]
     },
     "execution_count": 110,
     "metadata": {},
     "output_type": "execute_result"
    }
   ],
   "source": [
    "cost_text_no_w_not_contain_p[\n",
    "    (cost_text_no_w_not_contain_p.str.contains(r'[a-z]')) & \n",
    "    (~cost_text_no_w_not_contain_p.index.isin(cost_text_no_w_not_contain_p_months_idx)) & \n",
    "    (~cost_text_no_w_not_contain_p.index.isin(cost_text_no_w_not_contain_p_furnish_idx)) & \n",
    "    (~cost_text_no_w_not_contain_p.index.isin(cost_text_no_w_not_contain_p_mth_idx)) & \n",
    "    (~cost_text_no_w_not_contain_p.index.isin(cost_text_no_w_not_contain_p_annually_idx))\n",
    "].unique()"
   ]
  },
  {
   "cell_type": "markdown",
   "metadata": {},
   "source": [
    "There are 3 instances with no rental prices at all "
   ]
  },
  {
   "cell_type": "code",
   "execution_count": 111,
   "metadata": {},
   "outputs": [
    {
     "data": {
      "text/plain": [
       "0        False\n",
       "1        False\n",
       "2        False\n",
       "3        False\n",
       "4        False\n",
       "         ...  \n",
       "14795    False\n",
       "14799    False\n",
       "14800    False\n",
       "14802    False\n",
       "14803    False\n",
       "Name: cost_text, Length: 5524, dtype: bool"
      ]
     },
     "execution_count": 111,
     "metadata": {},
     "output_type": "execute_result"
    }
   ],
   "source": [
    "cost_text_no_w_not_contain_p.str.contains('leased by century21!!')"
   ]
  },
  {
   "cell_type": "code",
   "execution_count": 112,
   "metadata": {},
   "outputs": [],
   "source": [
    "cost_text_no_w_not_contain_p_to_delete_idx = cost_text_no_w_not_contain_p[\n",
    "    (cost_text_no_w_not_contain_p.str.contains('leased - more properties wanted call andrew 0407 060 344')) |\n",
    "    (cost_text_no_w_not_contain_p.str.contains('leased by century21!!')) \n",
    "].index"
   ]
  },
  {
   "cell_type": "markdown",
   "metadata": {},
   "source": [
    "Now that we know there's months, we can see the instances for which <code>cost_text</code> contains alphabets but don't contain <code>month, furnish, mth, annually</code>"
   ]
  },
  {
   "cell_type": "code",
   "execution_count": 113,
   "metadata": {},
   "outputs": [
    {
     "data": {
      "text/plain": [
       "array(['under application $480', '$600 inc. bills', 'from $195',\n",
       "       '$420 to $450', '$800 to $880', '$750 to $775', '$33 to $65',\n",
       "       'from $280', '$180.00 to $220.00', '$260 to $280', '$170 to $240',\n",
       "       '$38000+gst+outgoing', '$900 inc bills & furniture',\n",
       "       'leased at record price $450 more needed urgently',\n",
       "       '$580.00 | leased', '$680 (neg)', 'from $160',\n",
       "       '$300 all bills included in rent',\n",
       "       '$190 including all utility bills', '1bed + 1study $560'],\n",
       "      dtype=object)"
      ]
     },
     "execution_count": 113,
     "metadata": {},
     "output_type": "execute_result"
    }
   ],
   "source": [
    "cost_text_no_w_not_contain_p[\n",
    "    (cost_text_no_w_not_contain_p.str.contains(r'[a-z]')) & \n",
    "    (~cost_text_no_w_not_contain_p.index.isin(cost_text_no_w_not_contain_p_months_idx)) & \n",
    "    (~cost_text_no_w_not_contain_p.index.isin(cost_text_no_w_not_contain_p_furnish_idx)) & \n",
    "    (~cost_text_no_w_not_contain_p.index.isin(cost_text_no_w_not_contain_p_mth_idx)) & \n",
    "    (~cost_text_no_w_not_contain_p.index.isin(cost_text_no_w_not_contain_p_annually_idx))& \n",
    "    (~cost_text_no_w_not_contain_p.index.isin(cost_text_no_w_not_contain_p_to_delete_idx))\n",
    "].unique()"
   ]
  },
  {
   "cell_type": "markdown",
   "metadata": {},
   "source": [
    "There are instances that don't state the exact price, it gives price range instead\n",
    "- To be honest I have no prior knowledge to suitably determine which to \"pick\" (e.g. in <code>$800 to $880</code> I dont know which to pick, 800 or 880)\n",
    "- So I'll just return the average."
   ]
  },
  {
   "cell_type": "code",
   "execution_count": 114,
   "metadata": {},
   "outputs": [],
   "source": [
    "def is_price_exact(list_price):\n",
    "    #since we're using re.findall on strings, convert them to floats first\n",
    "    list_price = [float(price) for price in list_price]\n",
    "    \n",
    "    if len(list_price) > 0:\n",
    "        return sum(list_price) / len(list_price)\n"
   ]
  },
  {
   "cell_type": "code",
   "execution_count": 115,
   "metadata": {},
   "outputs": [],
   "source": [
    "cost_text_no_w_not_contain_p_use_average_idx = cost_text_no_w_not_contain_p[\n",
    "    (cost_text_no_w_not_contain_p.str.contains(r'[a-z]')) & \n",
    "    (~cost_text_no_w_not_contain_p.index.isin(cost_text_no_w_not_contain_p_months_idx)) & \n",
    "    (~cost_text_no_w_not_contain_p.index.isin(cost_text_no_w_not_contain_p_furnish_idx)) & \n",
    "    (~cost_text_no_w_not_contain_p.index.isin(cost_text_no_w_not_contain_p_mth_idx)) & \n",
    "    (~cost_text_no_w_not_contain_p.index.isin(cost_text_no_w_not_contain_p_annually_idx))& \n",
    "    (~cost_text_no_w_not_contain_p.index.isin(cost_text_no_w_not_contain_p_to_delete_idx))\n",
    "].index"
   ]
  },
  {
   "cell_type": "markdown",
   "metadata": {},
   "source": [
    "I will permanently include changes below once I've determined the rest of the instances\n",
    "\n",
    "But for now, we'll just keep the syntax here first so i can come back to it"
   ]
  },
  {
   "cell_type": "code",
   "execution_count": 116,
   "metadata": {},
   "outputs": [
    {
     "data": {
      "text/plain": [
       "262        480.0\n",
       "564        600.0\n",
       "2164       195.0\n",
       "2939       435.0\n",
       "4660       840.0\n",
       "4663       840.0\n",
       "4727       762.5\n",
       "5417        49.0\n",
       "5664       280.0\n",
       "6714       200.0\n",
       "8146       270.0\n",
       "8519       205.0\n",
       "9170     38000.0\n",
       "10176      900.0\n",
       "10228      450.0\n",
       "10438      580.0\n",
       "11773      680.0\n",
       "12645      160.0\n",
       "12691      300.0\n",
       "12696      190.0\n",
       "14098      560.0\n",
       "Name: cost_text, dtype: float64"
      ]
     },
     "execution_count": 116,
     "metadata": {},
     "output_type": "execute_result"
    }
   ],
   "source": [
    "#note i include the $ sign because all unique values above have their prices preceded by a dollar sign.\n",
    "cost_text_no_w_not_contain_p[\n",
    "    (cost_text_no_w_not_contain_p.str.contains(r'[a-z]')) & \n",
    "    (~cost_text_no_w_not_contain_p.index.isin(cost_text_no_w_not_contain_p_months_idx)) & \n",
    "    (~cost_text_no_w_not_contain_p.index.isin(cost_text_no_w_not_contain_p_furnish_idx)) & \n",
    "    (~cost_text_no_w_not_contain_p.index.isin(cost_text_no_w_not_contain_p_mth_idx)) & \n",
    "    (~cost_text_no_w_not_contain_p.index.isin(cost_text_no_w_not_contain_p_annually_idx))& \n",
    "    (~cost_text_no_w_not_contain_p.index.isin(cost_text_no_w_not_contain_p_to_delete_idx))\n",
    "].str.findall(r'\\$(\\d+)').map(lambda x: is_price_exact(x))"
   ]
  },
  {
   "cell_type": "markdown",
   "metadata": {},
   "source": [
    "If the index below returns empty, meaning we've exhausted all possibilities of handling instances with alphabets"
   ]
  },
  {
   "cell_type": "code",
   "execution_count": 117,
   "metadata": {},
   "outputs": [
    {
     "data": {
      "text/plain": [
       "Int64Index([], dtype='int64')"
      ]
     },
     "execution_count": 117,
     "metadata": {},
     "output_type": "execute_result"
    }
   ],
   "source": [
    "cost_text_no_w_not_contain_p[\n",
    "    (cost_text_no_w_not_contain_p.str.contains(r'[a-z]')) & \n",
    "    (~cost_text_no_w_not_contain_p.index.isin(cost_text_no_w_not_contain_p_months_idx)) & \n",
    "    (~cost_text_no_w_not_contain_p.index.isin(cost_text_no_w_not_contain_p_furnish_idx)) & \n",
    "    (~cost_text_no_w_not_contain_p.index.isin(cost_text_no_w_not_contain_p_mth_idx)) & \n",
    "    (~cost_text_no_w_not_contain_p.index.isin(cost_text_no_w_not_contain_p_annually_idx))& \n",
    "    (~cost_text_no_w_not_contain_p.index.isin(cost_text_no_w_not_contain_p_to_delete_idx))&\n",
    "    (~cost_text_no_w_not_contain_p.index.isin(cost_text_no_w_not_contain_p_use_average_idx))\n",
    "].index"
   ]
  },
  {
   "cell_type": "markdown",
   "metadata": {},
   "source": [
    "Which means, the rest of the instances NOT containign alphabets SHOULD purely contain the numeric price values\n",
    "- Meaning that we've CORRECTLY partitioned <code>cost_text_no_w_not_contain_p</code> into 6 partitions: \n",
    "1. ONes containing <code>months</code>\n",
    "2. Ones containing <code>furnish</code>\n",
    "3. Ones containing <code>mth</code>\n",
    "4. Ones containing <code>annually</code>\n",
    "5. Ones to be deleted because there's no rental price listed\n",
    "6. Ones that contain a range of prices (and exact prices), for which I will take the average "
   ]
  },
  {
   "cell_type": "code",
   "execution_count": 118,
   "metadata": {},
   "outputs": [
    {
     "name": "stdout",
     "output_type": "stream",
     "text": [
      "set()\n",
      "set()\n"
     ]
    }
   ],
   "source": [
    "cost_text_no_w_not_contain_p_alphabetic_idx = set(cost_text_no_w_not_contain_p[\n",
    "    (cost_text_no_w_not_contain_p.str.contains(r'[a-z]')) \n",
    "].index) \n",
    "\n",
    "cost_text_no_w_not_contain_p_alphabetic_partitioned_idx = set(cost_text_no_w_not_contain_p[\n",
    "    (cost_text_no_w_not_contain_p.index.isin(cost_text_no_w_not_contain_p_months_idx)) | \n",
    "    (cost_text_no_w_not_contain_p.index.isin(cost_text_no_w_not_contain_p_furnish_idx)) |  \n",
    "    (cost_text_no_w_not_contain_p.index.isin(cost_text_no_w_not_contain_p_mth_idx)) | \n",
    "    (cost_text_no_w_not_contain_p.index.isin(cost_text_no_w_not_contain_p_annually_idx)) | \n",
    "    (cost_text_no_w_not_contain_p.index.isin(cost_text_no_w_not_contain_p_to_delete_idx)) |\n",
    "    (cost_text_no_w_not_contain_p.index.isin(cost_text_no_w_not_contain_p_use_average_idx))\n",
    "].index) \n",
    "\n",
    "print(cost_text_no_w_not_contain_p_alphabetic_idx - cost_text_no_w_not_contain_p_alphabetic_partitioned_idx)\n",
    "print(cost_text_no_w_not_contain_p_alphabetic_idx - cost_text_no_w_not_contain_p_alphabetic_partitioned_idx)\n"
   ]
  },
  {
   "cell_type": "markdown",
   "metadata": {},
   "source": [
    "# Good. Now we just have to check the rest that are neatly written down as numeric values\n",
    "\n",
    "Check if all rental prices are written as numerical values **preceded by \\$**"
   ]
  },
  {
   "cell_type": "code",
   "execution_count": 119,
   "metadata": {},
   "outputs": [],
   "source": [
    "cost_text_no_w_not_contain_p_no_alphas = cost_text_no_w_not_contain_p[\n",
    "    (~cost_text_no_w_not_contain_p.str.contains(r'[a-z]'))\n",
    "]"
   ]
  },
  {
   "cell_type": "markdown",
   "metadata": {},
   "source": [
    "Find instances for which rental prices are directly preceded by <code>$</code>"
   ]
  },
  {
   "cell_type": "code",
   "execution_count": 120,
   "metadata": {},
   "outputs": [
    {
     "data": {
      "text/plain": [
       "0           $680\n",
       "1        $650.00\n",
       "2           $500\n",
       "3           $570\n",
       "4           $475\n",
       "          ...   \n",
       "14795       $750\n",
       "14799       $400\n",
       "14800       $480\n",
       "14802       $430\n",
       "14803       $380\n",
       "Name: cost_text, Length: 5397, dtype: object"
      ]
     },
     "execution_count": 120,
     "metadata": {},
     "output_type": "execute_result"
    }
   ],
   "source": [
    "cost_text_no_w_not_contain_p[\n",
    "    (~cost_text_no_w_not_contain_p.str.contains(r'[a-z]')) & \n",
    "    (cost_text_no_w_not_contain_p.str.findall(r'\\$\\d+').map(lambda x: bool(x)))\n",
    "]"
   ]
  },
  {
   "cell_type": "markdown",
   "metadata": {},
   "source": [
    "Find instances for which rental prices are NOT (or not directly) preceded by <code>$</code>"
   ]
  },
  {
   "cell_type": "code",
   "execution_count": 121,
   "metadata": {},
   "outputs": [
    {
     "data": {
      "text/plain": [
       "160          360\n",
       "190          220\n",
       "975          300\n",
       "1017      450.00\n",
       "1048      430.00\n",
       "1049      430.00\n",
       "1885         490\n",
       "3367         420\n",
       "3414         410\n",
       "3560      370.00\n",
       "4313      780.00\n",
       "5407         420\n",
       "6325        1000\n",
       "6590         370\n",
       "7088         430\n",
       "7135       $ 600\n",
       "7162     1180.00\n",
       "7290         300\n",
       "7698         320\n",
       "9912      410.00\n",
       "10274     787.00\n",
       "11018      $ 160\n",
       "12135        350\n",
       "13991        550\n",
       "Name: cost_text, dtype: object"
      ]
     },
     "execution_count": 121,
     "metadata": {},
     "output_type": "execute_result"
    }
   ],
   "source": [
    "cost_text_no_w_not_contain_p[\n",
    "    (~cost_text_no_w_not_contain_p.str.contains(r'[a-z]')) & \n",
    "    (~cost_text_no_w_not_contain_p.str.findall(r'\\$\\d+').map(lambda x: bool(x)))\n",
    "]"
   ]
  },
  {
   "cell_type": "markdown",
   "metadata": {},
   "source": [
    "Ok let's handle them one by one."
   ]
  },
  {
   "cell_type": "code",
   "execution_count": 122,
   "metadata": {},
   "outputs": [],
   "source": [
    "cost_text_no_w_no_contain_p_no_alphas_with_dollarsign = cost_text_no_w_not_contain_p[\n",
    "    (~cost_text_no_w_not_contain_p.str.contains(r'[a-z]')) & \n",
    "    (cost_text_no_w_not_contain_p.str.findall(r'\\$\\d+').map(lambda x: bool(x)))\n",
    "]\n",
    "\n",
    "cost_text_no_w_no_contain_p_no_alphas_no_dollarsign = cost_text_no_w_not_contain_p[\n",
    "    (~cost_text_no_w_not_contain_p.str.contains(r'[a-z]')) & \n",
    "    (~cost_text_no_w_not_contain_p.str.findall(r'\\$\\d+').map(lambda x: bool(x)))\n",
    "]"
   ]
  },
  {
   "cell_type": "code",
   "execution_count": 123,
   "metadata": {},
   "outputs": [
    {
     "data": {
      "text/plain": [
       "True"
      ]
     },
     "execution_count": 123,
     "metadata": {},
     "output_type": "execute_result"
    }
   ],
   "source": [
    "#check that we've correctly partitioned them\n",
    "cost_text_no_w_no_contain_p_no_alphas_with_dollarsign.shape[0] + \\\n",
    "    cost_text_no_w_no_contain_p_no_alphas_no_dollarsign.shape[0] == cost_text_no_w_not_contain_p_no_alphas.shape[0]"
   ]
  },
  {
   "cell_type": "markdown",
   "metadata": {},
   "source": [
    "Now.. for the prices with \\$ signs"
   ]
  },
  {
   "cell_type": "code",
   "execution_count": 124,
   "metadata": {},
   "outputs": [
    {
     "data": {
      "text/plain": [
       "2691            [1]\n",
       "530      [100, 200]\n",
       "1043         [1000]\n",
       "14393        [1000]\n",
       "14392        [1000]\n",
       "            ...    \n",
       "8995          [995]\n",
       "8837          [995]\n",
       "14188         [995]\n",
       "2120          [995]\n",
       "4091          [999]\n",
       "Name: cost_text, Length: 5397, dtype: object"
      ]
     },
     "execution_count": 124,
     "metadata": {},
     "output_type": "execute_result"
    }
   ],
   "source": [
    "cost_text_no_w_no_contain_p_no_alphas_with_dollarsign.str.findall(r'\\$(\\d+)').sort_values()"
   ]
  },
  {
   "cell_type": "code",
   "execution_count": 125,
   "metadata": {},
   "outputs": [
    {
     "data": {
      "text/plain": [
       "'$100-$200'"
      ]
     },
     "execution_count": 125,
     "metadata": {},
     "output_type": "execute_result"
    }
   ],
   "source": [
    "cost_text_no_w_no_contain_p_no_alphas_with_dollarsign.loc[530]"
   ]
  },
  {
   "cell_type": "markdown",
   "metadata": {},
   "source": [
    "There's instances with 2 matches, again, indicating a price range instead of exact price. \n",
    "Again, we'll just average them. "
   ]
  },
  {
   "cell_type": "markdown",
   "metadata": {},
   "source": [
    "Now.. for the prices without \\$ signs"
   ]
  },
  {
   "cell_type": "code",
   "execution_count": 126,
   "metadata": {},
   "outputs": [
    {
     "data": {
      "text/plain": [
       "160          360\n",
       "190          220\n",
       "975          300\n",
       "1017      450.00\n",
       "1048      430.00\n",
       "1049      430.00\n",
       "1885         490\n",
       "3367         420\n",
       "3414         410\n",
       "3560      370.00\n",
       "4313      780.00\n",
       "5407         420\n",
       "6325        1000\n",
       "6590         370\n",
       "7088         430\n",
       "7135       $ 600\n",
       "7162     1180.00\n",
       "7290         300\n",
       "7698         320\n",
       "9912      410.00\n",
       "10274     787.00\n",
       "11018      $ 160\n",
       "12135        350\n",
       "13991        550\n",
       "Name: cost_text, dtype: object"
      ]
     },
     "execution_count": 126,
     "metadata": {},
     "output_type": "execute_result"
    }
   ],
   "source": [
    "cost_text_no_w_no_contain_p_no_alphas_no_dollarsign"
   ]
  },
  {
   "cell_type": "code",
   "execution_count": 127,
   "metadata": {},
   "outputs": [
    {
     "data": {
      "text/plain": [
       "160           [360]\n",
       "190           [220]\n",
       "975           [300]\n",
       "1017      [450, 00]\n",
       "1048      [430, 00]\n",
       "1049      [430, 00]\n",
       "1885          [490]\n",
       "3367          [420]\n",
       "3414          [410]\n",
       "3560      [370, 00]\n",
       "4313      [780, 00]\n",
       "5407          [420]\n",
       "6325         [1000]\n",
       "6590          [370]\n",
       "7088          [430]\n",
       "7135          [600]\n",
       "7162     [1180, 00]\n",
       "7290          [300]\n",
       "7698          [320]\n",
       "9912      [410, 00]\n",
       "10274     [787, 00]\n",
       "11018         [160]\n",
       "12135         [350]\n",
       "13991         [550]\n",
       "Name: cost_text, dtype: object"
      ]
     },
     "execution_count": 127,
     "metadata": {},
     "output_type": "execute_result"
    }
   ],
   "source": [
    "cost_text_no_w_no_contain_p_no_alphas_no_dollarsign.str.findall(r'\\d+')"
   ]
  },
  {
   "cell_type": "markdown",
   "metadata": {},
   "source": [
    "# Begin to process <code>cost_text_no_w_not_contain_p</code>, now that we know all the cases to handle"
   ]
  },
  {
   "cell_type": "markdown",
   "metadata": {},
   "source": [
    "1. Fix up instances containing <code>months</code>"
   ]
  },
  {
   "cell_type": "code",
   "execution_count": 128,
   "metadata": {},
   "outputs": [
    {
     "data": {
      "text/plain": [
       "0           $680\n",
       "1        $650.00\n",
       "2           $500\n",
       "3           $570\n",
       "4           $475\n",
       "          ...   \n",
       "14795       $750\n",
       "14799       $400\n",
       "14800       $480\n",
       "14802       $430\n",
       "14803       $380\n",
       "Name: cost_text, Length: 5524, dtype: object"
      ]
     },
     "execution_count": 128,
     "metadata": {},
     "output_type": "execute_result"
    }
   ],
   "source": [
    "cost_text_no_w_not_contain_p"
   ]
  },
  {
   "cell_type": "code",
   "execution_count": 129,
   "metadata": {},
   "outputs": [
    {
     "data": {
      "text/plain": [
       "6441                       $250 monthly\n",
       "9479               $2297 calendar month\n",
       "9480               $2557 calendar month\n",
       "9482               $2470 calendar month\n",
       "9483               $1365 calendar month\n",
       "9484               $1950 calendar month\n",
       "9485               $2384 calendar month\n",
       "9486               $1907 calendar month\n",
       "9487               $2384 calendar month\n",
       "9488               $1950 calendar month\n",
       "9489               $2384 calendar month\n",
       "9491               $2687 calendar month\n",
       "11562                       $2500/month\n",
       "13146    $500 **3-6 months lease term**\n",
       "13893                        $250/month\n",
       "Name: cost_text, dtype: object"
      ]
     },
     "execution_count": 129,
     "metadata": {},
     "output_type": "execute_result"
    }
   ],
   "source": [
    "cost_text_no_w_not_contain_p.loc[cost_text_no_w_not_contain_p_months_idx]"
   ]
  },
  {
   "cell_type": "markdown",
   "metadata": {},
   "source": [
    "It's sufficient to extract numbers after the dollar sign to extract the rental prices."
   ]
  },
  {
   "cell_type": "code",
   "execution_count": 130,
   "metadata": {},
   "outputs": [],
   "source": [
    "cost_text_no_w_not_contain_p.loc[cost_text_no_w_not_contain_p_months_idx] = \\\n",
    "    cost_text_no_w_not_contain_p.loc[cost_text_no_w_not_contain_p_months_idx].str.findall(r'\\$(\\d+)').map(lambda x: x[0]).astype('float') / NUM_WEEKS_PER_MONTH_APPROX\n",
    "\n",
    "#type cast into string first, in case it throws an error when we want to convert  all of them eventually into floats because ive ppotentially missed some cases\n",
    "cost_text_no_w_not_contain_p.loc[cost_text_no_w_not_contain_p_months_idx] = cost_text_no_w_not_contain_p.loc[cost_text_no_w_not_contain_p_months_idx].astype('str')"
   ]
  },
  {
   "cell_type": "markdown",
   "metadata": {},
   "source": [
    "2. Fix up instances containing <code>furnish</code>"
   ]
  },
  {
   "cell_type": "code",
   "execution_count": 131,
   "metadata": {},
   "outputs": [
    {
     "data": {
      "text/plain": [
       "array(['$1000.00 - fully furnished', 'furnished $480', '450 furnished',\n",
       "       '$490 fully furnished', '$370 - fully furnished',\n",
       "       '$620 - fully furnished', '$430 - fully furnished',\n",
       "       '$580 fully furnished', '$620 fully furnished',\n",
       "       '$390 - fully furnished', '$650 - fully furnished',\n",
       "       '$500 - fully furnished', '$420 - fully furnished',\n",
       "       '$680 - fully furnished', '$770 - fully furnished',\n",
       "       '$640 - fully furnished', '$720 fully furnished',\n",
       "       '$530 - fully furnished', '$790 - fully furnished',\n",
       "       '$490.00 - fully furnished', '$630 - fully furnished',\n",
       "       '$580 - fully furnished', '$590 fully furnished',\n",
       "       '$550.00 - fully furnished', '$530 fully furnished',\n",
       "       '$560 - fully furnished', '$430 fully furnished',\n",
       "       '$540 fully furnished', '$490 - fully furnished',\n",
       "       '$520 - fully furnished', '$670 - fully furnished',\n",
       "       '$410 - fully furnished', '$800 - fully furnished',\n",
       "       '$600 - fully furnished', '$570 - fully furnished',\n",
       "       '$780 - fully furnished', '$460 - fully furnished',\n",
       "       '$700 - fully furnished', '$500.00 fully furnished',\n",
       "       '$620 **fully furnished**', '$580.00 fully furnished',\n",
       "       '$480 - fully furnished', 'unfurnished $530',\n",
       "       '$650 fully furnished', '$650 furnished'], dtype=object)"
      ]
     },
     "execution_count": 131,
     "metadata": {},
     "output_type": "execute_result"
    }
   ],
   "source": [
    "cost_text_no_w_not_contain_p.loc[cost_text_no_w_not_contain_p_furnish_idx].unique()"
   ]
  },
  {
   "cell_type": "markdown",
   "metadata": {},
   "source": [
    "It's sufficient to extract all the numbers (not necessarily preceded by \\$)"
   ]
  },
  {
   "cell_type": "code",
   "execution_count": 132,
   "metadata": {},
   "outputs": [
    {
     "data": {
      "text/plain": [
       "array(['1000', '480', '450', '490', '370', '620', '430', '580', '390',\n",
       "       '650', '500', '420', '680', '770', '640', '720', '530', '790',\n",
       "       '630', '590', '550', '560', '540', '520', '670', '410', '800',\n",
       "       '600', '570', '780', '460', '700'], dtype=object)"
      ]
     },
     "execution_count": 132,
     "metadata": {},
     "output_type": "execute_result"
    }
   ],
   "source": [
    "cost_text_no_w_not_contain_p.loc[cost_text_no_w_not_contain_p_furnish_idx].str.findall(r'(\\d+)').map(lambda x:x[0]).unique()"
   ]
  },
  {
   "cell_type": "code",
   "execution_count": 133,
   "metadata": {},
   "outputs": [],
   "source": [
    "cost_text_no_w_not_contain_p.loc[cost_text_no_w_not_contain_p_furnish_idx] = \\\n",
    "    cost_text_no_w_not_contain_p.loc[cost_text_no_w_not_contain_p_furnish_idx].str.findall(r'(\\d+)').map(lambda x: x[0])\n",
    "\n",
    "#type cast into string first, in case it throws an error when we want to convert  all of them eventually into floats because ive ppotentially missed some cases\n",
    "cost_text_no_w_not_contain_p.loc[cost_text_no_w_not_contain_p_furnish_idx] = cost_text_no_w_not_contain_p.loc[cost_text_no_w_not_contain_p_furnish_idx].astype('str')"
   ]
  },
  {
   "cell_type": "code",
   "execution_count": 134,
   "metadata": {},
   "outputs": [
    {
     "data": {
      "text/plain": [
       "array(['1000', '480', '450', '490', '370', '620', '430', '580', '390',\n",
       "       '650', '500', '420', '680', '770', '640', '720', '530', '790',\n",
       "       '630', '590', '550', '560', '540', '520', '670', '410', '800',\n",
       "       '600', '570', '780', '460', '700'], dtype=object)"
      ]
     },
     "execution_count": 134,
     "metadata": {},
     "output_type": "execute_result"
    }
   ],
   "source": [
    "cost_text_no_w_not_contain_p.loc[cost_text_no_w_not_contain_p_furnish_idx].unique()"
   ]
  },
  {
   "cell_type": "markdown",
   "metadata": {},
   "source": [
    "3. Fix up instances containing <code>mth</code>"
   ]
  },
  {
   "cell_type": "code",
   "execution_count": 135,
   "metadata": {},
   "outputs": [
    {
     "data": {
      "text/plain": [
       "8765    $1500 mth\n",
       "Name: cost_text, dtype: object"
      ]
     },
     "execution_count": 135,
     "metadata": {},
     "output_type": "execute_result"
    }
   ],
   "source": [
    "cost_text_no_w_not_contain_p.loc[cost_text_no_w_not_contain_p_mth_idx]"
   ]
  },
  {
   "cell_type": "markdown",
   "metadata": {},
   "source": [
    "Since only one instance, no need to use regex"
   ]
  },
  {
   "cell_type": "code",
   "execution_count": 136,
   "metadata": {},
   "outputs": [],
   "source": [
    "cost_text_no_w_not_contain_p.loc[cost_text_no_w_not_contain_p_mth_idx] = str(1500 / NUM_WEEKS_PER_MONTH_APPROX)"
   ]
  },
  {
   "cell_type": "code",
   "execution_count": 137,
   "metadata": {},
   "outputs": [
    {
     "data": {
      "text/plain": [
       "8765    375.0\n",
       "Name: cost_text, dtype: object"
      ]
     },
     "execution_count": 137,
     "metadata": {},
     "output_type": "execute_result"
    }
   ],
   "source": [
    "cost_text_no_w_not_contain_p.loc[cost_text_no_w_not_contain_p_mth_idx]"
   ]
  },
  {
   "cell_type": "markdown",
   "metadata": {},
   "source": [
    "4. Fix up instances containing <code>annually</codde>"
   ]
  },
  {
   "cell_type": "code",
   "execution_count": 138,
   "metadata": {},
   "outputs": [
    {
     "data": {
      "text/plain": [
       "11823    $35000 annually\n",
       "Name: cost_text, dtype: object"
      ]
     },
     "execution_count": 138,
     "metadata": {},
     "output_type": "execute_result"
    }
   ],
   "source": [
    "cost_text_no_w_not_contain_p.loc[cost_text_no_w_not_contain_p_annually_idx]"
   ]
  },
  {
   "cell_type": "markdown",
   "metadata": {},
   "source": [
    "Since only one instance, no need to use regex"
   ]
  },
  {
   "cell_type": "code",
   "execution_count": 139,
   "metadata": {},
   "outputs": [],
   "source": [
    "cost_text_no_w_not_contain_p.loc[cost_text_no_w_not_contain_p_annually_idx] = str(35000 / NUM_WEEKS_PER_ANNUM_APPROX)"
   ]
  },
  {
   "cell_type": "code",
   "execution_count": 140,
   "metadata": {},
   "outputs": [
    {
     "data": {
      "text/plain": [
       "11823    673.0769230769231\n",
       "Name: cost_text, dtype: object"
      ]
     },
     "execution_count": 140,
     "metadata": {},
     "output_type": "execute_result"
    }
   ],
   "source": [
    "cost_text_no_w_not_contain_p.loc[cost_text_no_w_not_contain_p_annually_idx]"
   ]
  },
  {
   "cell_type": "markdown",
   "metadata": {},
   "source": [
    "5. Delete instances that don't have rental prices listed"
   ]
  },
  {
   "cell_type": "code",
   "execution_count": 141,
   "metadata": {},
   "outputs": [
    {
     "data": {
      "text/plain": [
       "659      leased - more properties wanted call andrew 04...\n",
       "10233                                leased by century21!!\n",
       "Name: cost_text, dtype: object"
      ]
     },
     "execution_count": 141,
     "metadata": {},
     "output_type": "execute_result"
    }
   ],
   "source": [
    "cost_text_no_w_not_contain_p.loc[cost_text_no_w_not_contain_p_to_delete_idx]"
   ]
  },
  {
   "cell_type": "code",
   "execution_count": 142,
   "metadata": {},
   "outputs": [],
   "source": [
    "cost_text_no_w_not_contain_p = cost_text_no_w_not_contain_p.drop(cost_text_no_w_not_contain_p_to_delete_idx)"
   ]
  },
  {
   "cell_type": "markdown",
   "metadata": {},
   "source": [
    "6. instances that have alphabets in it, and some of them have price range"
   ]
  },
  {
   "cell_type": "code",
   "execution_count": 143,
   "metadata": {},
   "outputs": [],
   "source": [
    "cost_text_no_w_not_contain_p.loc[cost_text_no_w_not_contain_p_use_average_idx] = \\\n",
    "    cost_text_no_w_not_contain_p.loc[cost_text_no_w_not_contain_p_use_average_idx].str.findall(r'\\$(\\d+)').map(lambda x: is_price_exact(x))\n",
    "\n",
    "cost_text_no_w_not_contain_p.loc[cost_text_no_w_not_contain_p_use_average_idx] = cost_text_no_w_not_contain_p.loc[cost_text_no_w_not_contain_p_use_average_idx].astype('str')"
   ]
  },
  {
   "cell_type": "markdown",
   "metadata": {},
   "source": [
    "7. instances that have no alphabets, with \\$ sign"
   ]
  },
  {
   "cell_type": "code",
   "execution_count": 144,
   "metadata": {},
   "outputs": [],
   "source": [
    "cost_text_no_w_not_contain_p.loc[cost_text_no_w_no_contain_p_no_alphas_with_dollarsign.index] =\\\n",
    "    cost_text_no_w_no_contain_p_no_alphas_with_dollarsign.str.findall(r'\\$(\\d+)').map(lambda x: is_price_exact(x))\n",
    "\n",
    "cost_text_no_w_not_contain_p.loc[cost_text_no_w_no_contain_p_no_alphas_with_dollarsign.index] =\\\n",
    "    cost_text_no_w_not_contain_p.loc[cost_text_no_w_no_contain_p_no_alphas_with_dollarsign.index].astype('str')"
   ]
  },
  {
   "cell_type": "markdown",
   "metadata": {},
   "source": [
    "8. instances that have no alphabets, without \\$ sign"
   ]
  },
  {
   "cell_type": "code",
   "execution_count": 145,
   "metadata": {},
   "outputs": [],
   "source": [
    "cost_text_no_w_not_contain_p.loc[cost_text_no_w_no_contain_p_no_alphas_no_dollarsign.index] =\\\n",
    "    cost_text_no_w_no_contain_p_no_alphas_no_dollarsign.str.findall(r'(\\d+)').map(lambda x: is_price_exact(x))\n",
    "\n",
    "cost_text_no_w_not_contain_p.loc[cost_text_no_w_no_contain_p_no_alphas_no_dollarsign.index] =\\\n",
    "    cost_text_no_w_not_contain_p.loc[cost_text_no_w_no_contain_p_no_alphas_no_dollarsign.index].astype('str')"
   ]
  },
  {
   "cell_type": "code",
   "execution_count": 146,
   "metadata": {},
   "outputs": [
    {
     "data": {
      "text/plain": [
       "0        680.0\n",
       "1        650.0\n",
       "2        500.0\n",
       "3        570.0\n",
       "4        475.0\n",
       "         ...  \n",
       "14795    750.0\n",
       "14799    400.0\n",
       "14800    480.0\n",
       "14802    430.0\n",
       "14803    380.0\n",
       "Name: cost_text, Length: 5522, dtype: float64"
      ]
     },
     "execution_count": 146,
     "metadata": {},
     "output_type": "execute_result"
    }
   ],
   "source": [
    "cost_text_no_w_not_contain_p.astype('float')"
   ]
  },
  {
   "cell_type": "markdown",
   "metadata": {},
   "source": [
    "# FINISHED"
   ]
  },
  {
   "cell_type": "markdown",
   "metadata": {},
   "source": [
    "Here's the parsed <code>cost_text</code> for those instances containing <code>w</code>"
   ]
  },
  {
   "cell_type": "code",
   "execution_count": 147,
   "metadata": {},
   "outputs": [
    {
     "data": {
      "text/plain": [
       "12428        165.0\n",
       "13537        880.0\n",
       "604           26.0\n",
       "600           28.0\n",
       "2961          33.0\n",
       "           ...    \n",
       "2830        3775.0\n",
       "13642       4500.0\n",
       "13356       5000.0\n",
       "12788       5500.0\n",
       "187      4125000.0\n",
       "Name: cost_text, Length: 8826, dtype: float64"
      ]
     },
     "execution_count": 147,
     "metadata": {},
     "output_type": "execute_result"
    }
   ],
   "source": [
    "rental_data_cost_text_contains_w_mapped_prices"
   ]
  },
  {
   "cell_type": "markdown",
   "metadata": {},
   "source": [
    "Here's the parsed <code>cost_text</code> for those instances not containing <code>w</code> but containing <code>p</code> "
   ]
  },
  {
   "cell_type": "code",
   "execution_count": 148,
   "metadata": {},
   "outputs": [
    {
     "data": {
      "text/plain": [
       "167       793.269231\n",
       "565       250.000000\n",
       "603        38.750000\n",
       "622      1820.000000\n",
       "623      1540.000000\n",
       "            ...     \n",
       "13550    2307.692308\n",
       "13699      70.000000\n",
       "13703      67.500000\n",
       "13982     550.000000\n",
       "14198     105.000000\n",
       "Name: cost_text, Length: 76, dtype: float64"
      ]
     },
     "execution_count": 148,
     "metadata": {},
     "output_type": "execute_result"
    }
   ],
   "source": [
    "cost_text_no_w_but_contain_p"
   ]
  },
  {
   "cell_type": "markdown",
   "metadata": {},
   "source": [
    "Here's the parsed <code>cost_text</code> for those instances not containing <code>w</code> but not containing <code>p</code> as well"
   ]
  },
  {
   "cell_type": "code",
   "execution_count": 149,
   "metadata": {},
   "outputs": [
    {
     "data": {
      "text/plain": [
       "0        680.0\n",
       "1        650.0\n",
       "2        500.0\n",
       "3        570.0\n",
       "4        475.0\n",
       "         ...  \n",
       "14795    750.0\n",
       "14799    400.0\n",
       "14800    480.0\n",
       "14802    430.0\n",
       "14803    380.0\n",
       "Name: cost_text, Length: 5522, dtype: object"
      ]
     },
     "execution_count": 149,
     "metadata": {},
     "output_type": "execute_result"
    }
   ],
   "source": [
    "cost_text_no_w_not_contain_p"
   ]
  },
  {
   "cell_type": "markdown",
   "metadata": {},
   "source": [
    "Most important thing: check if those 3 Series above have exhaustively covered all instances in the raw data!!"
   ]
  },
  {
   "cell_type": "code",
   "execution_count": 150,
   "metadata": {},
   "outputs": [
    {
     "data": {
      "text/html": [
       "<div>\n",
       "<style scoped>\n",
       "    .dataframe tbody tr th:only-of-type {\n",
       "        vertical-align: middle;\n",
       "    }\n",
       "\n",
       "    .dataframe tbody tr th {\n",
       "        vertical-align: top;\n",
       "    }\n",
       "\n",
       "    .dataframe thead th {\n",
       "        text-align: right;\n",
       "    }\n",
       "</style>\n",
       "<table border=\"1\" class=\"dataframe\">\n",
       "  <thead>\n",
       "    <tr style=\"text-align: right;\">\n",
       "      <th></th>\n",
       "      <th>Unnamed: 0</th>\n",
       "      <th>coordinates</th>\n",
       "      <th>cost_text</th>\n",
       "      <th>desc</th>\n",
       "      <th>name</th>\n",
       "      <th>rooms</th>\n",
       "    </tr>\n",
       "  </thead>\n",
       "  <tbody>\n",
       "    <tr>\n",
       "      <th>0</th>\n",
       "      <td>https://www.domain.com.au/15-fintonia-street-h...</td>\n",
       "      <td>[-37.9032708, 145.0770553]</td>\n",
       "      <td>$680</td>\n",
       "      <td>Joseph Chatziconstantis</td>\n",
       "      <td>15 Fintonia Street Hughesdale VIC 3166</td>\n",
       "      <td>['3 Beds', '2 Baths', '2 Parking']</td>\n",
       "    </tr>\n",
       "    <tr>\n",
       "      <th>1</th>\n",
       "      <td>https://www.domain.com.au/41-bishop-street-oak...</td>\n",
       "      <td>[-37.9077745, 145.092738]</td>\n",
       "      <td>$650.00</td>\n",
       "      <td>James Drakopoulos</td>\n",
       "      <td>41 Bishop Street Oakleigh VIC 3166</td>\n",
       "      <td>['3 Beds', '2 Baths', '2 Parking']</td>\n",
       "    </tr>\n",
       "    <tr>\n",
       "      <th>2</th>\n",
       "      <td>https://www.domain.com.au/109-6-dalgety-street...</td>\n",
       "      <td>[-37.8922004, 145.0899378]</td>\n",
       "      <td>$500</td>\n",
       "      <td>Nigel Chee</td>\n",
       "      <td>109/6 Dalgety Street Oakleigh VIC 3166</td>\n",
       "      <td>['1 Bed', '1 Bath', '1 Parking']</td>\n",
       "    </tr>\n",
       "    <tr>\n",
       "      <th>3</th>\n",
       "      <td>https://www.domain.com.au/16-30-swindon-road-o...</td>\n",
       "      <td>[-37.8972564, 145.0871089]</td>\n",
       "      <td>$570</td>\n",
       "      <td>Matthew Swinnerton</td>\n",
       "      <td>16/30 Swindon Road Oakleigh VIC 3166</td>\n",
       "      <td>['3 Beds', '2 Baths', '2 Parking']</td>\n",
       "    </tr>\n",
       "    <tr>\n",
       "      <th>4</th>\n",
       "      <td>https://www.domain.com.au/1-14-bletchley-road-...</td>\n",
       "      <td>[-37.894307, 145.082706]</td>\n",
       "      <td>$475</td>\n",
       "      <td>Jason Gu</td>\n",
       "      <td>1/14 Bletchley Road Hughesdale VIC 3166</td>\n",
       "      <td>['2 Beds', '1 Bath', '1 Parking']</td>\n",
       "    </tr>\n",
       "    <tr>\n",
       "      <th>...</th>\n",
       "      <td>...</td>\n",
       "      <td>...</td>\n",
       "      <td>...</td>\n",
       "      <td>...</td>\n",
       "      <td>...</td>\n",
       "      <td>...</td>\n",
       "    </tr>\n",
       "    <tr>\n",
       "      <th>14799</th>\n",
       "      <td>https://www.domain.com.au/8a-logan-street-mans...</td>\n",
       "      <td>[-37.0476758, 146.0845677]</td>\n",
       "      <td>$400</td>\n",
       "      <td>class=\"css-dxogle\"&gt;* Unverified feature&lt;svg a...</td>\n",
       "      <td>8A Logan Street Mansfield VIC 3722</td>\n",
       "      <td>['3 Beds', '1 Bath', '2 Parking']</td>\n",
       "    </tr>\n",
       "    <tr>\n",
       "      <th>14800</th>\n",
       "      <td>https://www.domain.com.au/27-elvins-street-man...</td>\n",
       "      <td>[-37.05395439999999, 146.0797784]</td>\n",
       "      <td>$480</td>\n",
       "      <td>class=\"css-dxogle\"&gt;* Unverified feature&lt;svg a...</td>\n",
       "      <td>27 Elvins Street Mansfield VIC 3722</td>\n",
       "      <td>['3 Beds', '2 Baths', '4 Parking']</td>\n",
       "    </tr>\n",
       "    <tr>\n",
       "      <th>14801</th>\n",
       "      <td>https://www.domain.com.au/1-30-ailsa-street-ma...</td>\n",
       "      <td>[-37.0551267, 146.0929647]</td>\n",
       "      <td>$440p/w ($1911.90 pcm)</td>\n",
       "      <td>class=\"css-dxogle\"&gt;* Unverified feature&lt;svg a...</td>\n",
       "      <td>1/30 Ailsa Street Mansfield VIC 3722</td>\n",
       "      <td>['2 Beds', '1 Bath', '3 Parking']</td>\n",
       "    </tr>\n",
       "    <tr>\n",
       "      <th>14802</th>\n",
       "      <td>https://www.domain.com.au/49-hunter-street-man...</td>\n",
       "      <td>[-37.0561829, 146.0891432]</td>\n",
       "      <td>$430</td>\n",
       "      <td>class=\"css-dxogle\"&gt;* Unverified feature&lt;svg a...</td>\n",
       "      <td>49 Hunter Street Mansfield VIC 3722</td>\n",
       "      <td>['3 Beds', '1 Bath', '3 Parking']</td>\n",
       "    </tr>\n",
       "    <tr>\n",
       "      <th>14803</th>\n",
       "      <td>https://www.domain.com.au/6-clarke-street-mans...</td>\n",
       "      <td>[-37.0494926, 146.0876812]</td>\n",
       "      <td>$380</td>\n",
       "      <td>class=\"css-dxogle\"&gt;* Unverified feature&lt;svg a...</td>\n",
       "      <td>6 Clarke Street Mansfield VIC 3722</td>\n",
       "      <td>['2 Beds', '1 Bath', '2 Parking']</td>\n",
       "    </tr>\n",
       "  </tbody>\n",
       "</table>\n",
       "<p>14472 rows × 6 columns</p>\n",
       "</div>"
      ],
      "text/plain": [
       "                                              Unnamed: 0  \\\n",
       "0      https://www.domain.com.au/15-fintonia-street-h...   \n",
       "1      https://www.domain.com.au/41-bishop-street-oak...   \n",
       "2      https://www.domain.com.au/109-6-dalgety-street...   \n",
       "3      https://www.domain.com.au/16-30-swindon-road-o...   \n",
       "4      https://www.domain.com.au/1-14-bletchley-road-...   \n",
       "...                                                  ...   \n",
       "14799  https://www.domain.com.au/8a-logan-street-mans...   \n",
       "14800  https://www.domain.com.au/27-elvins-street-man...   \n",
       "14801  https://www.domain.com.au/1-30-ailsa-street-ma...   \n",
       "14802  https://www.domain.com.au/49-hunter-street-man...   \n",
       "14803  https://www.domain.com.au/6-clarke-street-mans...   \n",
       "\n",
       "                             coordinates               cost_text  \\\n",
       "0             [-37.9032708, 145.0770553]                    $680   \n",
       "1              [-37.9077745, 145.092738]                 $650.00   \n",
       "2             [-37.8922004, 145.0899378]                    $500   \n",
       "3             [-37.8972564, 145.0871089]                    $570   \n",
       "4               [-37.894307, 145.082706]                    $475   \n",
       "...                                  ...                     ...   \n",
       "14799         [-37.0476758, 146.0845677]                    $400   \n",
       "14800  [-37.05395439999999, 146.0797784]                    $480   \n",
       "14801         [-37.0551267, 146.0929647]  $440p/w ($1911.90 pcm)   \n",
       "14802         [-37.0561829, 146.0891432]                    $430   \n",
       "14803         [-37.0494926, 146.0876812]                    $380   \n",
       "\n",
       "                                                    desc  \\\n",
       "0                                Joseph Chatziconstantis   \n",
       "1                                      James Drakopoulos   \n",
       "2                                             Nigel Chee   \n",
       "3                                     Matthew Swinnerton   \n",
       "4                                               Jason Gu   \n",
       "...                                                  ...   \n",
       "14799   class=\"css-dxogle\">* Unverified feature<svg a...   \n",
       "14800   class=\"css-dxogle\">* Unverified feature<svg a...   \n",
       "14801   class=\"css-dxogle\">* Unverified feature<svg a...   \n",
       "14802   class=\"css-dxogle\">* Unverified feature<svg a...   \n",
       "14803   class=\"css-dxogle\">* Unverified feature<svg a...   \n",
       "\n",
       "                                          name  \\\n",
       "0       15 Fintonia Street Hughesdale VIC 3166   \n",
       "1           41 Bishop Street Oakleigh VIC 3166   \n",
       "2       109/6 Dalgety Street Oakleigh VIC 3166   \n",
       "3         16/30 Swindon Road Oakleigh VIC 3166   \n",
       "4      1/14 Bletchley Road Hughesdale VIC 3166   \n",
       "...                                        ...   \n",
       "14799       8A Logan Street Mansfield VIC 3722   \n",
       "14800      27 Elvins Street Mansfield VIC 3722   \n",
       "14801     1/30 Ailsa Street Mansfield VIC 3722   \n",
       "14802      49 Hunter Street Mansfield VIC 3722   \n",
       "14803       6 Clarke Street Mansfield VIC 3722   \n",
       "\n",
       "                                    rooms  \n",
       "0      ['3 Beds', '2 Baths', '2 Parking']  \n",
       "1      ['3 Beds', '2 Baths', '2 Parking']  \n",
       "2        ['1 Bed', '1 Bath', '1 Parking']  \n",
       "3      ['3 Beds', '2 Baths', '2 Parking']  \n",
       "4       ['2 Beds', '1 Bath', '1 Parking']  \n",
       "...                                   ...  \n",
       "14799   ['3 Beds', '1 Bath', '2 Parking']  \n",
       "14800  ['3 Beds', '2 Baths', '4 Parking']  \n",
       "14801   ['2 Beds', '1 Bath', '3 Parking']  \n",
       "14802   ['3 Beds', '1 Bath', '3 Parking']  \n",
       "14803   ['2 Beds', '1 Bath', '2 Parking']  \n",
       "\n",
       "[14472 rows x 6 columns]"
      ]
     },
     "execution_count": 150,
     "metadata": {},
     "output_type": "execute_result"
    }
   ],
   "source": [
    "rental_raw_data"
   ]
  },
  {
   "cell_type": "code",
   "execution_count": 151,
   "metadata": {},
   "outputs": [],
   "source": [
    "parsed_cost_text_idx = list(set(rental_data_cost_text_contains_w_mapped_prices.index).union(set(cost_text_no_w_but_contain_p.index)).union(set(cost_text_no_w_not_contain_p.index)))"
   ]
  },
  {
   "cell_type": "code",
   "execution_count": 152,
   "metadata": {},
   "outputs": [
    {
     "data": {
      "text/plain": [
       "14424"
      ]
     },
     "execution_count": 152,
     "metadata": {},
     "output_type": "execute_result"
    }
   ],
   "source": [
    "len(parsed_cost_text_idx)"
   ]
  },
  {
   "cell_type": "markdown",
   "metadata": {},
   "source": [
    "We note that we deleted some instances that don't have the rental prices listed. We then verify that that is the case."
   ]
  },
  {
   "cell_type": "code",
   "execution_count": 153,
   "metadata": {},
   "outputs": [],
   "source": [
    "deleted_instances_idx = set(rental_raw_data.index) - set(parsed_cost_text_idx)"
   ]
  },
  {
   "cell_type": "code",
   "execution_count": 154,
   "metadata": {},
   "outputs": [
    {
     "name": "stderr",
     "output_type": "stream",
     "text": [
      "/tmp/ipykernel_27731/1437132011.py:1: FutureWarning: Passing a set as an indexer is deprecated and will raise in a future version. Use a list instead.\n",
      "  rental_raw_data.loc[deleted_instances_idx,:].cost_text.unique()\n"
     ]
    },
    {
     "data": {
      "text/plain": [
       "array(['rent2own with no deposit', 'no deposit required or rent2own',\n",
       "       'rent2own program',\n",
       "       'leased - more properties wanted call andrew 0407 060 344',\n",
       "       'no bond required with rent2own', 'leased by century21!!',\n",
       "       'rent2own', 'leased in 1 week!', 'large 2bedroom with river views'],\n",
       "      dtype=object)"
      ]
     },
     "execution_count": 154,
     "metadata": {},
     "output_type": "execute_result"
    }
   ],
   "source": [
    "rental_raw_data.loc[deleted_instances_idx,:].cost_text.unique()"
   ]
  },
  {
   "cell_type": "markdown",
   "metadata": {},
   "source": [
    "# <font color='green'>Exclude the instances that don't have rental prices! </font>"
   ]
  },
  {
   "cell_type": "code",
   "execution_count": 155,
   "metadata": {},
   "outputs": [],
   "source": [
    "rental_raw_data = rental_raw_data.loc[parsed_cost_text_idx,:]"
   ]
  },
  {
   "cell_type": "markdown",
   "metadata": {},
   "source": [
    "Copy the dataframe first to test the change so that any unwanted changes could always be reverted "
   ]
  },
  {
   "cell_type": "code",
   "execution_count": 156,
   "metadata": {},
   "outputs": [],
   "source": [
    "rental_raw_data_parsed = rental_raw_data.copy()"
   ]
  },
  {
   "cell_type": "code",
   "execution_count": 157,
   "metadata": {},
   "outputs": [],
   "source": [
    "rental_raw_data_parsed['cost_text'].loc[rental_data_cost_text_contains_w_mapped_prices.index] = rental_data_cost_text_contains_w_mapped_prices\n",
    "rental_raw_data_parsed['cost_text'].loc[cost_text_no_w_but_contain_p.index] = cost_text_no_w_but_contain_p\n",
    "rental_raw_data_parsed['cost_text'].loc[cost_text_no_w_not_contain_p.index] = cost_text_no_w_not_contain_p"
   ]
  },
  {
   "cell_type": "markdown",
   "metadata": {},
   "source": [
    "Try to typecast <code>cost_text</code> into a string. Hope there's no errors!"
   ]
  },
  {
   "cell_type": "code",
   "execution_count": 158,
   "metadata": {},
   "outputs": [],
   "source": [
    "rental_raw_data_parsed['cost_text'] = rental_raw_data_parsed['cost_text'].astype('float')"
   ]
  },
  {
   "cell_type": "markdown",
   "metadata": {},
   "source": [
    "Brief inspection of unparsed rental price VS parsed rental price"
   ]
  },
  {
   "cell_type": "code",
   "execution_count": 159,
   "metadata": {},
   "outputs": [
    {
     "data": {
      "text/html": [
       "<div>\n",
       "<style scoped>\n",
       "    .dataframe tbody tr th:only-of-type {\n",
       "        vertical-align: middle;\n",
       "    }\n",
       "\n",
       "    .dataframe tbody tr th {\n",
       "        vertical-align: top;\n",
       "    }\n",
       "\n",
       "    .dataframe thead th {\n",
       "        text-align: right;\n",
       "    }\n",
       "</style>\n",
       "<table border=\"1\" class=\"dataframe\">\n",
       "  <thead>\n",
       "    <tr style=\"text-align: right;\">\n",
       "      <th></th>\n",
       "      <th>cost_text</th>\n",
       "      <th>cost_text</th>\n",
       "    </tr>\n",
       "  </thead>\n",
       "  <tbody>\n",
       "    <tr>\n",
       "      <th>14781</th>\n",
       "      <td>$490 per week</td>\n",
       "      <td>490.0</td>\n",
       "    </tr>\n",
       "    <tr>\n",
       "      <th>14782</th>\n",
       "      <td>$450</td>\n",
       "      <td>450.0</td>\n",
       "    </tr>\n",
       "    <tr>\n",
       "      <th>14783</th>\n",
       "      <td>$650</td>\n",
       "      <td>650.0</td>\n",
       "    </tr>\n",
       "    <tr>\n",
       "      <th>14784</th>\n",
       "      <td>$520</td>\n",
       "      <td>520.0</td>\n",
       "    </tr>\n",
       "    <tr>\n",
       "      <th>14785</th>\n",
       "      <td>$520</td>\n",
       "      <td>520.0</td>\n",
       "    </tr>\n",
       "    <tr>\n",
       "      <th>14786</th>\n",
       "      <td>$375</td>\n",
       "      <td>375.0</td>\n",
       "    </tr>\n",
       "    <tr>\n",
       "      <th>14787</th>\n",
       "      <td>$448 p.w.</td>\n",
       "      <td>448.0</td>\n",
       "    </tr>\n",
       "    <tr>\n",
       "      <th>14788</th>\n",
       "      <td>$520.00</td>\n",
       "      <td>520.0</td>\n",
       "    </tr>\n",
       "    <tr>\n",
       "      <th>14789</th>\n",
       "      <td>$660 per week</td>\n",
       "      <td>660.0</td>\n",
       "    </tr>\n",
       "    <tr>\n",
       "      <th>14790</th>\n",
       "      <td>$950 per week</td>\n",
       "      <td>950.0</td>\n",
       "    </tr>\n",
       "    <tr>\n",
       "      <th>14791</th>\n",
       "      <td>$460 per week</td>\n",
       "      <td>460.0</td>\n",
       "    </tr>\n",
       "    <tr>\n",
       "      <th>14793</th>\n",
       "      <td>$635</td>\n",
       "      <td>635.0</td>\n",
       "    </tr>\n",
       "    <tr>\n",
       "      <th>14794</th>\n",
       "      <td>$640 per week</td>\n",
       "      <td>640.0</td>\n",
       "    </tr>\n",
       "    <tr>\n",
       "      <th>14795</th>\n",
       "      <td>$750</td>\n",
       "      <td>750.0</td>\n",
       "    </tr>\n",
       "    <tr>\n",
       "      <th>14796</th>\n",
       "      <td>$525 weekly</td>\n",
       "      <td>525.0</td>\n",
       "    </tr>\n",
       "    <tr>\n",
       "      <th>14799</th>\n",
       "      <td>$400</td>\n",
       "      <td>400.0</td>\n",
       "    </tr>\n",
       "    <tr>\n",
       "      <th>14800</th>\n",
       "      <td>$480</td>\n",
       "      <td>480.0</td>\n",
       "    </tr>\n",
       "    <tr>\n",
       "      <th>14801</th>\n",
       "      <td>$440p/w ($1911.90 pcm)</td>\n",
       "      <td>440.0</td>\n",
       "    </tr>\n",
       "    <tr>\n",
       "      <th>14802</th>\n",
       "      <td>$430</td>\n",
       "      <td>430.0</td>\n",
       "    </tr>\n",
       "    <tr>\n",
       "      <th>14803</th>\n",
       "      <td>$380</td>\n",
       "      <td>380.0</td>\n",
       "    </tr>\n",
       "  </tbody>\n",
       "</table>\n",
       "</div>"
      ],
      "text/plain": [
       "                    cost_text  cost_text\n",
       "14781           $490 per week      490.0\n",
       "14782                    $450      450.0\n",
       "14783                    $650      650.0\n",
       "14784                    $520      520.0\n",
       "14785                    $520      520.0\n",
       "14786                    $375      375.0\n",
       "14787               $448 p.w.      448.0\n",
       "14788                 $520.00      520.0\n",
       "14789           $660 per week      660.0\n",
       "14790           $950 per week      950.0\n",
       "14791           $460 per week      460.0\n",
       "14793                    $635      635.0\n",
       "14794           $640 per week      640.0\n",
       "14795                    $750      750.0\n",
       "14796             $525 weekly      525.0\n",
       "14799                    $400      400.0\n",
       "14800                    $480      480.0\n",
       "14801  $440p/w ($1911.90 pcm)      440.0\n",
       "14802                    $430      430.0\n",
       "14803                    $380      380.0"
      ]
     },
     "execution_count": 159,
     "metadata": {},
     "output_type": "execute_result"
    }
   ],
   "source": [
    "pd.concat([rental_raw_data['cost_text'], rental_raw_data_parsed['cost_text']],axis=1).tail(20)"
   ]
  },
  {
   "cell_type": "markdown",
   "metadata": {},
   "source": [
    "# <font color='green'> Delete unnecessesary columns! </font>"
   ]
  },
  {
   "cell_type": "code",
   "execution_count": 160,
   "metadata": {},
   "outputs": [],
   "source": [
    "rental_raw_data_parsed = rental_raw_data_parsed.drop(columns=['Unnamed: 0', 'desc'])"
   ]
  },
  {
   "cell_type": "code",
   "execution_count": 166,
   "metadata": {},
   "outputs": [
    {
     "data": {
      "text/html": [
       "<div>\n",
       "<style scoped>\n",
       "    .dataframe tbody tr th:only-of-type {\n",
       "        vertical-align: middle;\n",
       "    }\n",
       "\n",
       "    .dataframe tbody tr th {\n",
       "        vertical-align: top;\n",
       "    }\n",
       "\n",
       "    .dataframe thead th {\n",
       "        text-align: right;\n",
       "    }\n",
       "</style>\n",
       "<table border=\"1\" class=\"dataframe\">\n",
       "  <thead>\n",
       "    <tr style=\"text-align: right;\">\n",
       "      <th></th>\n",
       "      <th>coordinates</th>\n",
       "      <th>cost_text</th>\n",
       "      <th>name</th>\n",
       "      <th>rooms</th>\n",
       "    </tr>\n",
       "  </thead>\n",
       "  <tbody>\n",
       "    <tr>\n",
       "      <th>0</th>\n",
       "      <td>[-37.9032708, 145.0770553]</td>\n",
       "      <td>680.0</td>\n",
       "      <td>15 Fintonia Street Hughesdale VIC 3166</td>\n",
       "      <td>['3 Beds', '2 Baths', '2 Parking']</td>\n",
       "    </tr>\n",
       "    <tr>\n",
       "      <th>1</th>\n",
       "      <td>[-37.9077745, 145.092738]</td>\n",
       "      <td>650.0</td>\n",
       "      <td>41 Bishop Street Oakleigh VIC 3166</td>\n",
       "      <td>['3 Beds', '2 Baths', '2 Parking']</td>\n",
       "    </tr>\n",
       "    <tr>\n",
       "      <th>2</th>\n",
       "      <td>[-37.8922004, 145.0899378]</td>\n",
       "      <td>500.0</td>\n",
       "      <td>109/6 Dalgety Street Oakleigh VIC 3166</td>\n",
       "      <td>['1 Bed', '1 Bath', '1 Parking']</td>\n",
       "    </tr>\n",
       "    <tr>\n",
       "      <th>3</th>\n",
       "      <td>[-37.8972564, 145.0871089]</td>\n",
       "      <td>570.0</td>\n",
       "      <td>16/30 Swindon Road Oakleigh VIC 3166</td>\n",
       "      <td>['3 Beds', '2 Baths', '2 Parking']</td>\n",
       "    </tr>\n",
       "    <tr>\n",
       "      <th>4</th>\n",
       "      <td>[-37.894307, 145.082706]</td>\n",
       "      <td>475.0</td>\n",
       "      <td>1/14 Bletchley Road Hughesdale VIC 3166</td>\n",
       "      <td>['2 Beds', '1 Bath', '1 Parking']</td>\n",
       "    </tr>\n",
       "    <tr>\n",
       "      <th>...</th>\n",
       "      <td>...</td>\n",
       "      <td>...</td>\n",
       "      <td>...</td>\n",
       "      <td>...</td>\n",
       "    </tr>\n",
       "    <tr>\n",
       "      <th>14799</th>\n",
       "      <td>[-37.0476758, 146.0845677]</td>\n",
       "      <td>400.0</td>\n",
       "      <td>8A Logan Street Mansfield VIC 3722</td>\n",
       "      <td>['3 Beds', '1 Bath', '2 Parking']</td>\n",
       "    </tr>\n",
       "    <tr>\n",
       "      <th>14800</th>\n",
       "      <td>[-37.05395439999999, 146.0797784]</td>\n",
       "      <td>480.0</td>\n",
       "      <td>27 Elvins Street Mansfield VIC 3722</td>\n",
       "      <td>['3 Beds', '2 Baths', '4 Parking']</td>\n",
       "    </tr>\n",
       "    <tr>\n",
       "      <th>14801</th>\n",
       "      <td>[-37.0551267, 146.0929647]</td>\n",
       "      <td>440.0</td>\n",
       "      <td>1/30 Ailsa Street Mansfield VIC 3722</td>\n",
       "      <td>['2 Beds', '1 Bath', '3 Parking']</td>\n",
       "    </tr>\n",
       "    <tr>\n",
       "      <th>14802</th>\n",
       "      <td>[-37.0561829, 146.0891432]</td>\n",
       "      <td>430.0</td>\n",
       "      <td>49 Hunter Street Mansfield VIC 3722</td>\n",
       "      <td>['3 Beds', '1 Bath', '3 Parking']</td>\n",
       "    </tr>\n",
       "    <tr>\n",
       "      <th>14803</th>\n",
       "      <td>[-37.0494926, 146.0876812]</td>\n",
       "      <td>380.0</td>\n",
       "      <td>6 Clarke Street Mansfield VIC 3722</td>\n",
       "      <td>['2 Beds', '1 Bath', '2 Parking']</td>\n",
       "    </tr>\n",
       "  </tbody>\n",
       "</table>\n",
       "<p>14424 rows × 4 columns</p>\n",
       "</div>"
      ],
      "text/plain": [
       "                             coordinates  cost_text  \\\n",
       "0             [-37.9032708, 145.0770553]      680.0   \n",
       "1              [-37.9077745, 145.092738]      650.0   \n",
       "2             [-37.8922004, 145.0899378]      500.0   \n",
       "3             [-37.8972564, 145.0871089]      570.0   \n",
       "4               [-37.894307, 145.082706]      475.0   \n",
       "...                                  ...        ...   \n",
       "14799         [-37.0476758, 146.0845677]      400.0   \n",
       "14800  [-37.05395439999999, 146.0797784]      480.0   \n",
       "14801         [-37.0551267, 146.0929647]      440.0   \n",
       "14802         [-37.0561829, 146.0891432]      430.0   \n",
       "14803         [-37.0494926, 146.0876812]      380.0   \n",
       "\n",
       "                                          name  \\\n",
       "0       15 Fintonia Street Hughesdale VIC 3166   \n",
       "1           41 Bishop Street Oakleigh VIC 3166   \n",
       "2       109/6 Dalgety Street Oakleigh VIC 3166   \n",
       "3         16/30 Swindon Road Oakleigh VIC 3166   \n",
       "4      1/14 Bletchley Road Hughesdale VIC 3166   \n",
       "...                                        ...   \n",
       "14799       8A Logan Street Mansfield VIC 3722   \n",
       "14800      27 Elvins Street Mansfield VIC 3722   \n",
       "14801     1/30 Ailsa Street Mansfield VIC 3722   \n",
       "14802      49 Hunter Street Mansfield VIC 3722   \n",
       "14803       6 Clarke Street Mansfield VIC 3722   \n",
       "\n",
       "                                    rooms  \n",
       "0      ['3 Beds', '2 Baths', '2 Parking']  \n",
       "1      ['3 Beds', '2 Baths', '2 Parking']  \n",
       "2        ['1 Bed', '1 Bath', '1 Parking']  \n",
       "3      ['3 Beds', '2 Baths', '2 Parking']  \n",
       "4       ['2 Beds', '1 Bath', '1 Parking']  \n",
       "...                                   ...  \n",
       "14799   ['3 Beds', '1 Bath', '2 Parking']  \n",
       "14800  ['3 Beds', '2 Baths', '4 Parking']  \n",
       "14801   ['2 Beds', '1 Bath', '3 Parking']  \n",
       "14802   ['3 Beds', '1 Bath', '3 Parking']  \n",
       "14803   ['2 Beds', '1 Bath', '2 Parking']  \n",
       "\n",
       "[14424 rows x 4 columns]"
      ]
     },
     "execution_count": 166,
     "metadata": {},
     "output_type": "execute_result"
    }
   ],
   "source": [
    "rental_raw_data_parsed"
   ]
  },
  {
   "cell_type": "markdown",
   "metadata": {},
   "source": [
    "# Cell below is exclusively made for debugging, to make sure that the notebook can be rerun and still produce the same result!"
   ]
  },
  {
   "cell_type": "code",
   "execution_count": 162,
   "metadata": {},
   "outputs": [
    {
     "name": "stdout",
     "output_type": "stream",
     "text": [
      "2307.6923076923076 2307.692307692308\n"
     ]
    }
   ],
   "source": [
    "# expected_rental_parsed = pd.read_csv('../data/curated/Rental_ParsedPrices_TwoColsDeleted_Keith.csv')\n",
    "# for i in range(14424):\n",
    "#     if rental_raw_data_parsed['cost_text'].iloc[i] != expected_rental_parsed['cost_text'].iloc[i]:\n",
    "#         print(rental_raw_data_parsed['cost_text'].iloc[i],\n",
    "#             expected_rental_parsed['cost_text'].iloc[i])"
   ]
  },
  {
   "cell_type": "code",
   "execution_count": null,
   "metadata": {},
   "outputs": [],
   "source": [
    "rental_raw_data_parsed.to_csv('../data/curated/All_Houses_Scraped.csv')"
   ]
  },
  {
   "cell_type": "code",
   "execution_count": 165,
   "metadata": {},
   "outputs": [
    {
     "name": "stdout",
     "output_type": "stream",
     "text": [
      "Monthly_Median_Suburb_Rents.csv  Rental_ParsedPrices_TwoColsDeleted_Keith.csv\n",
      "Offence_by_LGA.xls               Schools_by_LGA.xlsx\n",
      "Preproc_Unemployment_Data.csv    Useful_LGA_Attributes.csv\n",
      "Preproc_Weather_Data             VIC_SPORTING_FACILITIES.csv\n",
      "Preproc_Weather_Data.csv         victoria_postcodes.csv\n"
     ]
    }
   ],
   "source": [
    "ls ../data/curated"
   ]
  }
 ],
 "metadata": {
  "kernelspec": {
   "display_name": "Python 3 (ipykernel)",
   "language": "python",
   "name": "python3"
  },
  "language_info": {
   "codemirror_mode": {
    "name": "ipython",
    "version": 3
   },
   "file_extension": ".py",
   "mimetype": "text/x-python",
   "name": "python",
   "nbconvert_exporter": "python",
   "pygments_lexer": "ipython3",
   "version": "3.8.10"
  },
  "vscode": {
   "interpreter": {
    "hash": "916dbcbb3f70747c44a77c7bcd40155683ae19c65e1c03b4aa3499c5328201f1"
   }
  }
 },
 "nbformat": 4,
 "nbformat_minor": 2
}
