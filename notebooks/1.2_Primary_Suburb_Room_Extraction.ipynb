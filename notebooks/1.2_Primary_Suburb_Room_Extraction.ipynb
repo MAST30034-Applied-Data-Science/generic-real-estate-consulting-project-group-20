{
 "cells": [
  {
   "cell_type": "code",
   "execution_count": 4,
   "id": "a4216211",
   "metadata": {},
   "outputs": [],
   "source": [
    "import pandas as pd\n",
    "import re\n",
    "import numpy as np\n",
    "from ast import literal_eval"
   ]
  },
  {
   "cell_type": "code",
   "execution_count": 5,
   "id": "e23382df",
   "metadata": {},
   "outputs": [],
   "source": [
    "# Read in primary dataset\n",
    "rental_df = pd.read_csv(\"../data/curated/All_Houses_Scraped.csv\")\n",
    "\n",
    "# Obtain all suburb names in Victoria\n",
    "state_suburbs_df = pd.read_csv(\"../data/raw/georef-australia-state-suburb.zip\")\n",
    "state_suburbs_df = state_suburbs_df[state_suburbs_df[\"Official Name State\"] == \"Victoria\"]\n",
    "suburbs = [suburb.lower() for suburb in state_suburbs_df[\"Official Name Suburb\"]]\n",
    "\n",
    "for i in range(len(suburbs)):\n",
    "    suburbs[i] = re.sub(r'\\(.*?\\)', '', suburbs[i])\n",
    "    suburbs[i] = suburbs[i].strip()\n",
    "\n",
    "extra_suburbs = [\"preston west\", \"prahran east\", \"sanctuary lakes\", \"mallacoota\"]\n",
    "for i in range(len(extra_suburbs)):\n",
    "    suburbs.append(extra_suburbs[i])\n",
    "    \n",
    "# Convert address to list\n",
    "rental_df[\"name\"] = rental_df[\"name\"].str.split(' ')\n",
    "\n",
    "# Create new column for postcodes\n",
    "rental_df[\"postcode\"] = [row[-1] for row in rental_df[\"name\"]]\n",
    "\n",
    "# Create new columns for potential suburb names\n",
    "rental_df[\"name_one\"] = [row[-3].lower() for row in rental_df[\"name\"]]\n",
    "rental_df[\"name_two\"] = [row[-4:-2] for row in rental_df[\"name\"]]\n",
    "rental_df[\"name_three\"] = [row[-5:-2] for row in rental_df[\"name\"]]\n",
    "\n",
    "# Convert potential suburb names from list to string\n",
    "rental_df[\"name_two\"] = rental_df[\"name_two\"].str.join(' ')\n",
    "rental_df[\"name_two\"] = [row.lower() for row in rental_df[\"name_two\"]]\n",
    "rental_df[\"name_three\"] = rental_df[\"name_three\"].str.join(' ')\n",
    "rental_df[\"name_three\"] = [row.lower() for row in rental_df[\"name_three\"]]\n",
    "\n",
    "i = 0\n",
    "for suburb_one, suburb_two, suburb_three in zip(rental_df.iloc[:, -3], rental_df.iloc[:, -2], rental_df.iloc[:, -1]):\n",
    "    if suburb_three in suburbs:\n",
    "        rental_df.loc[i, [\"suburb\"]] = suburb_three\n",
    "    elif suburb_two in suburbs:\n",
    "        rental_df.loc[i, [\"suburb\"]] = suburb_two\n",
    "    elif suburb_one in suburbs:\n",
    "        rental_df.loc[i, [\"suburb\"]] = suburb_one\n",
    "    i += 1\n",
    "\n",
    "rental_df = rental_df.drop(columns=[\"name_one\", \"name_two\", \"name_three\"])\n",
    "\n",
    "# Drop rows containing at least one null value in primary dataset\n",
    "rental_df = rental_df.dropna(axis=0, how =\"any\")"
   ]
  },
  {
   "cell_type": "code",
   "execution_count": 6,
   "id": "004f15f0",
   "metadata": {},
   "outputs": [],
   "source": [
    "# Drop rows without room information\n",
    "rental_df[\"rooms\"] = rental_df[\"rooms\"].replace(\"[]\", np.nan)\n",
    "rental_df = rental_df.dropna(subset = [\"rooms\"] , how=\"any\").reset_index(drop=True)\n",
    "\n",
    "# Set up cases for extracting room information\n",
    "info_one = '|'.join([\"bed\"])\n",
    "info_two = '|'.join([\"bath\"])\n",
    "info_three = '|'.join([\"park\"])\n",
    "numbers = '\\d+[.,]?\\d*'                              \n",
    "case_one = fr'({numbers})(?:[\\s\\d\\-\\+\\/]*)(?:{info_one})'\n",
    "case_two = fr'({numbers})(?:[\\s\\d\\-\\+\\/]*)(?:{info_two})'\n",
    "case_three = fr'({numbers})(?:[\\s\\d\\-\\+\\/]*)(?:{info_three})'\n",
    "pattern_one = re.compile(case_one) \n",
    "pattern_two = re.compile(case_two) \n",
    "pattern_three = re.compile(case_three) \n",
    "\n",
    "# Create columns for the number of beedrooms, bathrooms and parking spaces\n",
    "for i in range(len(rental_df)):\n",
    "    rental_df[\"rooms\"].loc[i] = literal_eval(rental_df[\"rooms\"].loc[i])\n",
    "    for j in range(len(rental_df[\"rooms\"].loc[i])):\n",
    "        rental_df[\"rooms\"].loc[i][j] = rental_df[\"rooms\"].loc[i][j].lower()     \n",
    "        if pattern_one.findall(rental_df[\"rooms\"].loc[i][j]) != []:\n",
    "            rental_df.loc[i, \"bedrooms\"] = pattern_one.findall(rental_df[\"rooms\"].loc[i][j])\n",
    "        elif pattern_two.findall(rental_df[\"rooms\"].loc[i][j]) != []:\n",
    "            rental_df.loc[i, \"bathrooms\"] = pattern_two.findall(rental_df[\"rooms\"].loc[i][j])\n",
    "        else:\n",
    "            rental_df.loc[i, \"parking_spaces\"] = pattern_three.findall(rental_df[\"rooms\"].loc[i][j])"
   ]
  },
  {
   "cell_type": "code",
   "execution_count": 8,
   "id": "63919984",
   "metadata": {},
   "outputs": [],
   "source": [
    "rental_df.to_csv(\"../data/curated/Feature_Engineered_Scraped_Dataset.csv\", index=False)"
   ]
  }
 ],
 "metadata": {
  "kernelspec": {
   "display_name": "Python 3 (ipykernel)",
   "language": "python",
   "name": "python3"
  },
  "language_info": {
   "codemirror_mode": {
    "name": "ipython",
    "version": 3
   },
   "file_extension": ".py",
   "mimetype": "text/x-python",
   "name": "python",
   "nbconvert_exporter": "python",
   "pygments_lexer": "ipython3",
   "version": "3.9.7"
  }
 },
 "nbformat": 4,
 "nbformat_minor": 5
}
