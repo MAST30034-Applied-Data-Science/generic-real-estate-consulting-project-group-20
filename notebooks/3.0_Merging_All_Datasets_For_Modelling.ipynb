{
 "cells": [
  {
   "cell_type": "code",
   "execution_count": 3,
   "id": "5c793145",
   "metadata": {},
   "outputs": [],
   "source": [
    "import pandas as pd"
   ]
  },
  {
   "cell_type": "code",
   "execution_count": 4,
   "id": "394ce34e",
   "metadata": {},
   "outputs": [],
   "source": [
    "rental_df = pd.read_csv(\"../data/curated/Final_Preprocessed_Scraped_Rental.csv\")\n",
    "historical_rental_df = pd.read_csv(\"../data/curated/Fixed_Weekly_Median_Suburb_Rents.csv\")\n",
    "income_df = pd.read_csv(\"../data/curated/Final_Income.csv\")\n",
    "population_df = pd.read_csv(\"../data/curated/Population.csv\")\n",
    "immigration_df = pd.read_csv(\"../data/curated/Immigration.csv\")\n",
    "unemployment_df = pd.read_csv(\"../data/curated/Final_preprocesed_unemployment_melted.csv\")\n",
    "\n",
    "rental_df = rental_df.drop([\"Unnamed: 0\", \"coordinates\", \"postcode\", \"house_postcode\"], axis=1)\n",
    "historical_rental_df = historical_rental_df.drop([\"Unnamed: 0\", \"Region\"], axis=1)\n",
    "historical_rental_df = historical_rental_df.pivot_table(index=\"Suburb\", columns=\"Year\", values=\"Median\").reset_index()\n",
    "historical_rental_df = historical_rental_df.rename(columns={2000: \"2000_median_rent\", 2001: \"2001_median_rent\", \n",
    "                                                            2002: \"2002_median_rent\", 2003: \"2003_median_rent\",\n",
    "                                                            2004: \"2004_median_rent\", 2005: \"2005_median_rent\",\n",
    "                                                            2006: \"2006_median_rent\", 2007: \"2007_median_rent\",\n",
    "                                                            2008: \"2008_median_rent\", 2009: \"2009_median_rent\", \n",
    "                                                            2010: \"2010_median_rent\", 2011: \"2011_median_rent\", \n",
    "                                                            2012: \"2012_median_rent\", 2013: \"2013_median_rent\", \n",
    "                                                            2014: \"2014_median_rent\", 2015: \"2015_median_rent\", \n",
    "                                                            2016: \"2016_median_rent\", 2017: \"2017_median_rent\", \n",
    "                                                            2018: \"2018_median_rent\", 2019: \"2019_median_rent\", \n",
    "                                                            2020: \"2020_median_rent\", 2021: \"2021_median_rent\"})\n",
    "final_df = pd.merge(rental_df, historical_rental_df, left_on=\"suburb\", right_on=\"Suburb\").drop(\"Suburb\", axis=1)\n",
    "\n",
    "income_df = income_df.pivot_table(index=\"suburb\", columns=\"year\", values=\"value\").reset_index()\n",
    "income_df = income_df.rename(columns={2011: \"2011_annual_income\", 2012: \"2012_annual_income\", 2013: \"2013_annual_income\", \n",
    "                                      2014: \"2014_annual_income\", 2015: \"2015_annual_income\", 2016: \"2016_annual_income\",\n",
    "                                      2017: \"2017_annual_income\", 2018: \"2018_annual_income\", 2019: \"2019_annual_income\", \n",
    "                                      2020: \"2020_annual_income\", 2021: \"2021_annual_income\"})\n",
    "final_df = pd.merge(final_df, income_df, on=\"suburb\")\n",
    "\n",
    "population_df = population_df.drop([\"state\", \"suburb_code\", \"suburb_area_km2\", \"geom\", \"immigration_2016\", \n",
    "                                    \"immigration_2017\", \"immigration_2018\", \"immigration_2019\", \"immigration_2020\"], axis=1)\n",
    "final_df = pd.merge(final_df, population_df, on=\"suburb\")\n",
    "\n",
    "immigration_df = immigration_df.rename(columns={\"2016.0\": \"2016_immigration\", \"2017.0\": \"2017_immigration\", \n",
    "                                                \"2018.0\": \"2018_immigration\", \"2019.0\": \"2019_immigration\", \n",
    "                                                \"2020.0\": \"2020_immigration\", \"2021.0\": \"2021_immigration\"})\n",
    "final_df = pd.merge(final_df, immigration_df, on=\"suburb\")\n",
    "\n",
    "unemployment_df = unemployment_df.drop([\"Unnamed: 0\", \"sa2_code\"], axis=1)\n",
    "unemployment_df = unemployment_df.pivot_table(index=\"suburb\", columns=\"year\", values=\"unemp_rate\").reset_index()\n",
    "unemployment_df = unemployment_df.rename(columns={2010: \"2010_unemployment_rate\", 2011: \"2011_unemployment_rate\", \n",
    "                                                  2012: \"2012_unemployment_rate\", 2013: \"2013_unemployment_rate\", \n",
    "                                                  2014: \"2014_unemployment_rate\", 2015: \"2015_unemployment_rate\", \n",
    "                                                  2016: \"2016_unemployment_rate\", 2017: \"2017_unemployment_rate\",\n",
    "                                                  2018: \"2018_unemployment_rate\", 2019: \"2019_unemployment_rate\",\n",
    "                                                  2020: \"2020_unemployment_rate\", 2021: \"2021_unemployment_rate\"})\n",
    "final_df = pd.merge(final_df, unemployment_df, on=\"suburb\")\n",
    "\n",
    "# Drop rows containing NaN values for final merged dataset\n",
    "final_df = final_df.dropna().reset_index(drop=True)\n",
    "\n",
    "final_df.to_csv(\"../data/curated/Final_Merged_Dataset.csv\", index=False)"
   ]
  }
 ],
 "metadata": {
  "kernelspec": {
   "display_name": "Python 3 (ipykernel)",
   "language": "python",
   "name": "python3"
  },
  "language_info": {
   "codemirror_mode": {
    "name": "ipython",
    "version": 3
   },
   "file_extension": ".py",
   "mimetype": "text/x-python",
   "name": "python",
   "nbconvert_exporter": "python",
   "pygments_lexer": "ipython3",
   "version": "3.9.7"
  }
 },
 "nbformat": 4,
 "nbformat_minor": 5
}
