{
 "cells": [
  {
   "cell_type": "code",
   "execution_count": 1,
   "metadata": {},
   "outputs": [
    {
     "name": "stderr",
     "output_type": "stream",
     "text": [
      "/usr/lib/python3/dist-packages/requests/__init__.py:89: RequestsDependencyWarning: urllib3 (1.26.11) or chardet (3.0.4) doesn't match a supported version!\n",
      "  warnings.warn(\"urllib3 ({}) or chardet ({}) doesn't match a supported \"\n"
     ]
    },
    {
     "data": {
      "text/html": [
       "<div>\n",
       "<style scoped>\n",
       "    .dataframe tbody tr th:only-of-type {\n",
       "        vertical-align: middle;\n",
       "    }\n",
       "\n",
       "    .dataframe tbody tr th {\n",
       "        vertical-align: top;\n",
       "    }\n",
       "\n",
       "    .dataframe thead th {\n",
       "        text-align: right;\n",
       "    }\n",
       "</style>\n",
       "<table border=\"1\" class=\"dataframe\">\n",
       "  <thead>\n",
       "    <tr style=\"text-align: right;\">\n",
       "      <th></th>\n",
       "      <th>coordinates</th>\n",
       "      <th>cost_text</th>\n",
       "      <th>name</th>\n",
       "      <th>rooms</th>\n",
       "    </tr>\n",
       "  </thead>\n",
       "  <tbody>\n",
       "    <tr>\n",
       "      <th>0</th>\n",
       "      <td>[-37.9032708, 145.0770553]</td>\n",
       "      <td>$680</td>\n",
       "      <td>15 Fintonia Street Hughesdale VIC 3166</td>\n",
       "      <td>['3 Beds', '2 Baths', '2 Parking']</td>\n",
       "    </tr>\n",
       "    <tr>\n",
       "      <th>1</th>\n",
       "      <td>[-37.9077745, 145.092738]</td>\n",
       "      <td>$650.00</td>\n",
       "      <td>41 Bishop Street Oakleigh VIC 3166</td>\n",
       "      <td>['3 Beds', '2 Baths', '2 Parking']</td>\n",
       "    </tr>\n",
       "    <tr>\n",
       "      <th>2</th>\n",
       "      <td>[-37.8922004, 145.0899378]</td>\n",
       "      <td>$500</td>\n",
       "      <td>109/6 Dalgety Street Oakleigh VIC 3166</td>\n",
       "      <td>['1 Bed', '1 Bath', '1 Parking']</td>\n",
       "    </tr>\n",
       "    <tr>\n",
       "      <th>3</th>\n",
       "      <td>[-37.8972564, 145.0871089]</td>\n",
       "      <td>$570</td>\n",
       "      <td>16/30 Swindon Road Oakleigh VIC 3166</td>\n",
       "      <td>['3 Beds', '2 Baths', '2 Parking']</td>\n",
       "    </tr>\n",
       "    <tr>\n",
       "      <th>4</th>\n",
       "      <td>[-37.894307, 145.082706]</td>\n",
       "      <td>$475</td>\n",
       "      <td>1/14 Bletchley Road Hughesdale VIC 3166</td>\n",
       "      <td>['2 Beds', '1 Bath', '1 Parking']</td>\n",
       "    </tr>\n",
       "  </tbody>\n",
       "</table>\n",
       "</div>"
      ],
      "text/plain": [
       "                  coordinates cost_text  \\\n",
       "0  [-37.9032708, 145.0770553]      $680   \n",
       "1   [-37.9077745, 145.092738]   $650.00   \n",
       "2  [-37.8922004, 145.0899378]      $500   \n",
       "3  [-37.8972564, 145.0871089]      $570   \n",
       "4    [-37.894307, 145.082706]      $475   \n",
       "\n",
       "                                      name                               rooms  \n",
       "0   15 Fintonia Street Hughesdale VIC 3166  ['3 Beds', '2 Baths', '2 Parking']  \n",
       "1       41 Bishop Street Oakleigh VIC 3166  ['3 Beds', '2 Baths', '2 Parking']  \n",
       "2   109/6 Dalgety Street Oakleigh VIC 3166    ['1 Bed', '1 Bath', '1 Parking']  \n",
       "3     16/30 Swindon Road Oakleigh VIC 3166  ['3 Beds', '2 Baths', '2 Parking']  \n",
       "4  1/14 Bletchley Road Hughesdale VIC 3166   ['2 Beds', '1 Bath', '1 Parking']  "
      ]
     },
     "execution_count": 1,
     "metadata": {},
     "output_type": "execute_result"
    }
   ],
   "source": [
    "import os\n",
    "import pandas as pd\n",
    "import requests\n",
    "import json\n",
    "import re\n",
    "\n",
    "# set working dir\n",
    "os.chdir('/home/reihsuanc/generic-real-estate-consulting-project-group-20/data/raw')\n",
    "\n",
    "# read in data\n",
    "houses_df = pd.read_csv(\"All_Houses_Scraped.csv\")\n",
    "\n",
    "# drop redundant cols\n",
    "houses_df = houses_df.drop(['Unnamed: 0', 'desc'], axis = 1)\n",
    "\n",
    "# 14804 entries total\n",
    "len(houses_df)\n",
    "\n",
    "# look at resulting dataset\n",
    "houses_df.head()"
   ]
  },
  {
   "cell_type": "code",
   "execution_count": 2,
   "metadata": {},
   "outputs": [
    {
     "data": {
      "text/plain": [
       "23"
      ]
     },
     "execution_count": 2,
     "metadata": {},
     "output_type": "execute_result"
    }
   ],
   "source": [
    "# find number of night cases\n",
    "def night_cases():\n",
    "    n = 0\n",
    "    for cost in houses_df['cost_text']: \n",
    "        if re.search(r'\\d+[\\s+\\w+\\s+]*night', cost):\n",
    "            n += 1\n",
    "    return n\n",
    "\n",
    "# 23 night cases\n",
    "night_cases()"
   ]
  },
  {
   "cell_type": "code",
   "execution_count": 3,
   "metadata": {},
   "outputs": [
    {
     "name": "stdout",
     "output_type": "stream",
     "text": [
      "7774\n"
     ]
    }
   ],
   "source": [
    "# note theres a single fortnightly case at 7774th entry\n",
    "i = 0\n",
    "for cost in houses_df['cost_text']:\n",
    "    i += 1\n",
    "    if re.search(r'\\d+[\\s+]*Fortnightly', cost):\n",
    "        print(i)"
   ]
  },
  {
   "cell_type": "code",
   "execution_count": 4,
   "metadata": {},
   "outputs": [],
   "source": [
    "# function to convert nightly prices to weekly\n",
    "\n",
    "def night_to_week(df):\n",
    "    # iterate thru entire cost_text column\n",
    "    for cost in df['cost_text']:\n",
    "        \n",
    "        # to prevent calling regex on empty lists, cuz findall() returns empty list if no match is found\n",
    "        if re.findall(r'\\d+[\\s+\\w+\\s+]*night', cost):\n",
    "\n",
    "            # find nightly cases\n",
    "            cur_str = re.findall(r'\\d+[\\s+\\w+\\s+]*night', cost)\n",
    "\n",
    "            # extract cost amount\n",
    "            cur_str_2 = re.findall(r'\\d+', cur_str[0])\n",
    "\n",
    "            # replace the value with weekly price (multiply by 7)\n",
    "            df['cost_text'] = df['cost_text'].replace([cost], str(int(cur_str_2[0]) * 7))\n",
    "\n",
    "    return df"
   ]
  },
  {
   "cell_type": "code",
   "execution_count": 5,
   "metadata": {},
   "outputs": [
    {
     "data": {
      "text/html": [
       "<div>\n",
       "<style scoped>\n",
       "    .dataframe tbody tr th:only-of-type {\n",
       "        vertical-align: middle;\n",
       "    }\n",
       "\n",
       "    .dataframe tbody tr th {\n",
       "        vertical-align: top;\n",
       "    }\n",
       "\n",
       "    .dataframe thead th {\n",
       "        text-align: right;\n",
       "    }\n",
       "</style>\n",
       "<table border=\"1\" class=\"dataframe\">\n",
       "  <thead>\n",
       "    <tr style=\"text-align: right;\">\n",
       "      <th></th>\n",
       "      <th>coordinates</th>\n",
       "      <th>cost_text</th>\n",
       "      <th>name</th>\n",
       "      <th>rooms</th>\n",
       "    </tr>\n",
       "  </thead>\n",
       "  <tbody>\n",
       "    <tr>\n",
       "      <th>0</th>\n",
       "      <td>[-37.9032708, 145.0770553]</td>\n",
       "      <td>$680</td>\n",
       "      <td>15 Fintonia Street Hughesdale VIC 3166</td>\n",
       "      <td>['3 Beds', '2 Baths', '2 Parking']</td>\n",
       "    </tr>\n",
       "    <tr>\n",
       "      <th>1</th>\n",
       "      <td>[-37.9077745, 145.092738]</td>\n",
       "      <td>$650.00</td>\n",
       "      <td>41 Bishop Street Oakleigh VIC 3166</td>\n",
       "      <td>['3 Beds', '2 Baths', '2 Parking']</td>\n",
       "    </tr>\n",
       "    <tr>\n",
       "      <th>2</th>\n",
       "      <td>[-37.8922004, 145.0899378]</td>\n",
       "      <td>$500</td>\n",
       "      <td>109/6 Dalgety Street Oakleigh VIC 3166</td>\n",
       "      <td>['1 Bed', '1 Bath', '1 Parking']</td>\n",
       "    </tr>\n",
       "    <tr>\n",
       "      <th>3</th>\n",
       "      <td>[-37.8972564, 145.0871089]</td>\n",
       "      <td>$570</td>\n",
       "      <td>16/30 Swindon Road Oakleigh VIC 3166</td>\n",
       "      <td>['3 Beds', '2 Baths', '2 Parking']</td>\n",
       "    </tr>\n",
       "    <tr>\n",
       "      <th>4</th>\n",
       "      <td>[-37.894307, 145.082706]</td>\n",
       "      <td>$475</td>\n",
       "      <td>1/14 Bletchley Road Hughesdale VIC 3166</td>\n",
       "      <td>['2 Beds', '1 Bath', '1 Parking']</td>\n",
       "    </tr>\n",
       "  </tbody>\n",
       "</table>\n",
       "</div>"
      ],
      "text/plain": [
       "                  coordinates cost_text  \\\n",
       "0  [-37.9032708, 145.0770553]      $680   \n",
       "1   [-37.9077745, 145.092738]   $650.00   \n",
       "2  [-37.8922004, 145.0899378]      $500   \n",
       "3  [-37.8972564, 145.0871089]      $570   \n",
       "4    [-37.894307, 145.082706]      $475   \n",
       "\n",
       "                                      name                               rooms  \n",
       "0   15 Fintonia Street Hughesdale VIC 3166  ['3 Beds', '2 Baths', '2 Parking']  \n",
       "1       41 Bishop Street Oakleigh VIC 3166  ['3 Beds', '2 Baths', '2 Parking']  \n",
       "2   109/6 Dalgety Street Oakleigh VIC 3166    ['1 Bed', '1 Bath', '1 Parking']  \n",
       "3     16/30 Swindon Road Oakleigh VIC 3166  ['3 Beds', '2 Baths', '2 Parking']  \n",
       "4  1/14 Bletchley Road Hughesdale VIC 3166   ['2 Beds', '1 Bath', '1 Parking']  "
      ]
     },
     "execution_count": 5,
     "metadata": {},
     "output_type": "execute_result"
    }
   ],
   "source": [
    "# apply function\n",
    "cleaned_df = night_to_week(houses_df)\n",
    "cleaned_df.head()"
   ]
  },
  {
   "cell_type": "code",
   "execution_count": 6,
   "metadata": {},
   "outputs": [],
   "source": [
    "# double check no more night exists in df\n",
    "for cost in cleaned_df['cost_text']:\n",
    "    if re.findall(r'\\d+[\\s+\\w+\\s+]*night', cost):\n",
    "        print('night found')"
   ]
  },
  {
   "cell_type": "code",
   "execution_count": 7,
   "metadata": {},
   "outputs": [
    {
     "data": {
      "text/plain": [
       "'1820'"
      ]
     },
     "execution_count": 7,
     "metadata": {},
     "output_type": "execute_result"
    }
   ],
   "source": [
    "# check some old cells to see if cost conversion is correct\n",
    "# kinda stupid but just found random nightly case on excel and its index\n",
    "# was 260 per night so 260 * 7 = 1820 so correct\n",
    "cleaned_df.iloc[622,1]"
   ]
  }
 ],
 "metadata": {
  "kernelspec": {
   "display_name": "Python 3.8.10 64-bit",
   "language": "python",
   "name": "python3"
  },
  "language_info": {
   "codemirror_mode": {
    "name": "ipython",
    "version": 3
   },
   "file_extension": ".py",
   "mimetype": "text/x-python",
   "name": "python",
   "nbconvert_exporter": "python",
   "pygments_lexer": "ipython3",
   "version": "3.8.10"
  },
  "orig_nbformat": 4,
  "vscode": {
   "interpreter": {
    "hash": "916dbcbb3f70747c44a77c7bcd40155683ae19c65e1c03b4aa3499c5328201f1"
   }
  }
 },
 "nbformat": 4,
 "nbformat_minor": 2
}
