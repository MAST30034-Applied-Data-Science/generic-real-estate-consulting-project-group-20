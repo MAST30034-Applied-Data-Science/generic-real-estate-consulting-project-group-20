{
 "cells": [
  {
   "cell_type": "markdown",
   "id": "757f988a",
   "metadata": {},
   "source": [
    "# Pre-processing"
   ]
  },
  {
   "cell_type": "code",
   "execution_count": 1,
   "id": "ea407aa9",
   "metadata": {},
   "outputs": [],
   "source": [
    "import pandas as pd"
   ]
  },
  {
   "cell_type": "code",
   "execution_count": 4,
   "id": "1bfce080",
   "metadata": {},
   "outputs": [],
   "source": [
    "# Read in datasets\n",
    "income_df = pd.read_csv(\"datasource-AU_Govt_ABS-UoM_AURIN_DB_3_abs_personal_income_total_income_sa2_2011_2018.csv\")\n",
    "population_df = pd.read_csv(\"datasource-AU_Govt_ABS-UoM_AURIN_DB_3_abs_regional_population_sa2_2001_2021.csv\")\n",
    "income_support_df = pd.read_csv(\"datasource-TUA_PHIDU-UoM_AURIN_DB_sa2_incomesupport.csv\")\n",
    "\n",
    "# Drop irrelevant attributes for income dataset\n",
    "suburb_info = income_df[[\"sa2_code\", \"sa2_name\"]]\n",
    "income_df = income_df.loc[:, \"sum_aud_2011_12\":]\n",
    "income_df = income_df.join(suburb_info)\n",
    "\n",
    "# Drop irrelevant attributes for population dataset\n",
    "estimated_population = population_df.loc[:, \"erp_2001\":\"erp_2021\"]\n",
    "population_df = population_df[[\"state_name_2016\", \"sa2_maincode_2016\", \"sa2_name_2016\", \"area_km2\", \n",
    "                               \"pop_density_2021_people_per_km2\", \"births_2016_17\", \"deaths_2016_17\", \"births_2017_18\", \n",
    "                               \"deaths_2017_18\", \"births_2018_19\", \"deaths_2018_19\", \"births_2019_20\", \"deaths_2019_20\", \n",
    "                               \"births_2020_21\", \"deaths_2020_21\", \"geom\"]]\n",
    "population_df = population_df.join(estimated_population)\n",
    "\n",
    "# Drop irrelevant attributes for income support dataset\n",
    "income_support_df = income_support_df[[\"area_code\", \"wkb_geometry\", \"area_name\", \"age_pens_3_percent_6_13_6_13\", \n",
    "                                       \"child_welfm_3_percent_6_13_6_13\", \"disab_pens_3_percent_6_13_6_13\", \n",
    "                                       \"hlth_card_3_percent_6_13_6_13\", \"pens_cd_hlr_3_percent_6_13_6_13\", \n",
    "                                       \"snr_cd_hldr_3_percent_6_13_6_13\", \"unemply_ben_3_percent_6_13_6_13\", \n",
    "                                       \"welf_dep_fm_3_percent_6_13_6_13\"]]\n",
    "\n",
    "# Filter instances in Victoria state for population dataset\n",
    "population_df = population_df[population_df[\"state_name_2016\"] == \"Victoria\"]\n",
    "suburb_code = population_df[[\"sa2_maincode_2016\"]]\n",
    "\n",
    "# Filter instances in Victoria state for income dataset\n",
    "income_df = income_df.merge(suburb_code, how=\"inner\", left_on=\"sa2_code\", right_on=\"sa2_maincode_2016\").drop(\"sa2_maincode_2016\", axis=1)\n",
    "\n",
    "# Filter instances in Victoria state for income support dataset\n",
    "income_support_df = income_support_df.merge(suburb_code, how=\"inner\", left_on=\"area_code\", right_on=\"sa2_maincode_2016\").drop(\"sa2_maincode_2016\", axis=1)"
   ]
  },
  {
   "cell_type": "code",
   "execution_count": null,
   "id": "9c74ef85",
   "metadata": {},
   "outputs": [],
   "source": []
  }
 ],
 "metadata": {
  "kernelspec": {
   "display_name": "Python 3 (ipykernel)",
   "language": "python",
   "name": "python3"
  },
  "language_info": {
   "codemirror_mode": {
    "name": "ipython",
    "version": 3
   },
   "file_extension": ".py",
   "mimetype": "text/x-python",
   "name": "python",
   "nbconvert_exporter": "python",
   "pygments_lexer": "ipython3",
   "version": "3.9.7"
  }
 },
 "nbformat": 4,
 "nbformat_minor": 5
}
