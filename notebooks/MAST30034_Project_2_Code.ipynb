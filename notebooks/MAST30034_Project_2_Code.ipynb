{
 "cells": [
  {
   "cell_type": "markdown",
   "id": "757f988a",
   "metadata": {},
   "source": [
    "# Pre-processing External Datasets"
   ]
  },
  {
   "cell_type": "code",
   "execution_count": 1,
   "id": "ea407aa9",
   "metadata": {},
   "outputs": [],
   "source": [
    "import pandas as pd\n",
    "import re\n",
    "import numpy as np\n",
    "from ast import literal_eval"
   ]
  },
  {
   "cell_type": "code",
   "execution_count": 31,
   "id": "1bfce080",
   "metadata": {
    "scrolled": false
   },
   "outputs": [],
   "source": [
    "# Read in datasets\n",
    "income_df = pd.read_csv(\"datasource-AU_Govt_ABS-UoM_AURIN_DB_3_abs_personal_income_total_income_sa2_2011_2018.csv\")\n",
    "population_df = pd.read_csv(\"datasource-AU_Govt_ABS-UoM_AURIN_DB_3_abs_regional_population_sa2_2001_2021.csv\")\n",
    "\n",
    "# Drop irrelevant attributes for income dataset\n",
    "suburb_info = income_df[[\"sa2_code\", \"sa2_name\"]]\n",
    "income_df = income_df.loc[:, \"mean_aud_2011_12\":]\n",
    "income_df = income_df.join(suburb_info)\n",
    "\n",
    "# Rename attributes for income dataset\n",
    "income_df.columns = [\"mean_income_2011_12\", \"mean_income_2012_13\", \"mean_income_2013_14\", \"mean_income_2014_15\", \n",
    "                     \"mean_income_2015_16\", \"mean_income_2016_17\", \"mean_income_2017_18\", \"geometries\", \"suburb_code\", \n",
    "                     \"suburb\"]\n",
    "\n",
    "# Drop irrelevant attributes for population dataset\n",
    "estimated_population = population_df.loc[:, \"erp_2001\":\"erp_2021\"]\n",
    "population_df = population_df[[\"state_name_2016\", \"sa2_maincode_2016\", \"sa2_name_2016\", \"erp_change_per_cent_2020_21\", \n",
    "                               \"area_km2\", \"pop_density_2021_people_per_km2\", \"births_2016_17\", \"deaths_2016_17\", \n",
    "                               \"births_2017_18\", \"deaths_2017_18\", \"births_2018_19\", \"deaths_2018_19\", \"births_2019_20\", \n",
    "                               \"deaths_2019_20\", \"births_2020_21\", \"deaths_2020_21\", \"geom\"]]\n",
    "population_df = population_df.join(estimated_population)\n",
    "\n",
    "# Rename attributes for population dataset\n",
    "population_df.rename(columns={\"state_name_2016\":\"state\", \"sa2_maincode_2016\": \"suburb_code\", \"sa2_name_2016\": \n",
    "                                              \"suburb\", \"erp_change_per_cent_2020_21\": \"change_in_population_percentage\", \n",
    "                                              \"area_km2\": \"suburb_area_km2\", \"pop_density_2021_people_per_km2\": \n",
    "                                              \"population_density_per_km2\", \"erp_2001\": \"population_2001\", \n",
    "                                              \"erp_2002\": \"population_2002\", \"erp_2003\": \"population_2003\", \n",
    "                                              \"erp_2004\": \"population_2004\", \"erp_2005\": \"population_2005\", \n",
    "                                              \"erp_2006\": \"population_2006\", \"erp_2007\": \"population_2007\", \n",
    "                                              \"erp_2008\": \"population_2008\", \"erp_2009\": \"population_2009\", \n",
    "                                              \"erp_2010\": \"population_2010\", \"erp_2011\": \"population_2011\", \n",
    "                                              \"erp_2012\": \"population_2012\", \"erp_2013\": \"population_2013\", \n",
    "                                              \"erp_2014\": \"population_2014\", \"erp_2015\": \"population_2015\", \n",
    "                                              \"erp_2016\": \"population_2016\", \"erp_2017\": \"population_2017\", \n",
    "                                              \"erp_2018\": \"population_2018\", \"erp_2019\": \"population_2019\", \n",
    "                                              \"erp_2020\": \"population_2020\", \"erp_2021\": \"population_2021\"}, inplace=True)\n",
    "\n",
    "# Filter instances in Victoria state for population dataset\n",
    "population_df = population_df[population_df[\"state\"] == \"Victoria\"]\n",
    "suburb_code = population_df[[\"suburb_code\"]]\n",
    "\n",
    "# Filter instances in Victoria state for income dataset\n",
    "income_df = pd.merge(income_df, suburb_code, on=\"suburb_code\")\n",
    "\n",
    "# Drop rows containing NaN values for income dataset\n",
    "income_df = income_df.dropna().reset_index(drop=True)\n",
    "\n",
    "# Drop rows without suburb code or suburb name for population dataset\n",
    "population_df = population_df.dropna().reset_index(drop=True)\n",
    "\n",
    "# Save dataframes as csv files\n",
    "income_df.to_csv(\"income.csv\", index=False)\n",
    "population_df.to_csv(\"population.csv\", index=False)"
   ]
  },
  {
   "cell_type": "markdown",
   "id": "7d77e4ee",
   "metadata": {},
   "source": [
    "# Feature Engineering Primary Dataset"
   ]
  },
  {
   "cell_type": "code",
   "execution_count": 3,
   "id": "09c3e99e",
   "metadata": {
    "scrolled": false
   },
   "outputs": [],
   "source": [
    "# Read in primary dataset\n",
    "rental_df = pd.read_csv(\"All_Houses_Scraped.csv\")\n",
    "\n",
    "# Obtain all suburb names in Victoria\n",
    "state_suburbs_df = pd.read_csv(\"georef-australia-state-suburb.csv\")\n",
    "state_suburbs_df = state_suburbs_df[state_suburbs_df[\"Official Name State\"] == \"Victoria\"]\n",
    "suburbs = [suburb.lower() for suburb in state_suburbs_df[\"Official Name Suburb\"]]\n",
    "for i in range(len(suburbs)):\n",
    "    suburbs[i] = re.sub(r'\\(.*\\)', '', suburbs[i])\n",
    "    suburbs[i] = suburbs[i].strip()\n",
    "\n",
    "extra_suburbs = [\"preston west\", \"prahran east\", \"sanctuary lakes\", \"mallacoota\"]\n",
    "for i in range(len(extra_suburbs)):\n",
    "    suburbs.append(extra_suburbs[i])\n",
    "    \n",
    "# Convert address to list\n",
    "rental_df[\"name\"] = rental_df[\"name\"].str.split(' ')\n",
    "\n",
    "# Create new column for postcodes\n",
    "rental_df[\"postcode\"] = [row[-1] for row in rental_df[\"name\"]]\n",
    "\n",
    "# Create new columns for potential suburb names\n",
    "rental_df[\"name_one\"] = [row[-3].lower() for row in rental_df[\"name\"]]\n",
    "rental_df[\"name_two\"] = [row[-4:-2] for row in rental_df[\"name\"]]\n",
    "rental_df[\"name_three\"] = [row[-5:-2] for row in rental_df[\"name\"]]\n",
    "\n",
    "# Convert potential suburb names from list to string\n",
    "rental_df[\"name_two\"] = rental_df[\"name_two\"].str.join(' ')\n",
    "rental_df[\"name_two\"] = [row.lower() for row in rental_df[\"name_two\"]]\n",
    "rental_df[\"name_three\"] = rental_df[\"name_three\"].str.join(' ')\n",
    "rental_df[\"name_three\"] = [row.lower() for row in rental_df[\"name_three\"]]\n",
    "\n",
    "i = 0\n",
    "for suburb_one, suburb_two, suburb_three in zip(rental_df.iloc[:, -3], rental_df.iloc[:, -2], rental_df.iloc[:, -1]):\n",
    "    if suburb_three in suburbs:\n",
    "        rental_df.loc[i, [\"suburb\"]] = suburb_three\n",
    "    elif suburb_two in suburbs:\n",
    "        rental_df.loc[i, [\"suburb\"]] = suburb_two\n",
    "    elif suburb_one in suburbs:\n",
    "        rental_df.loc[i, [\"suburb\"]] = suburb_one\n",
    "    i += 1\n",
    "\n",
    "rental_df = rental_df.drop(columns=[\"name_one\", \"name_two\", \"name_three\"])\n",
    "\n",
    "# Drop rows containing at least one null value in primary dataset\n",
    "rental_df = rental_df.dropna(axis=0, how =\"any\")"
   ]
  },
  {
   "cell_type": "code",
   "execution_count": 4,
   "id": "1c877dc8",
   "metadata": {
    "scrolled": false
   },
   "outputs": [],
   "source": [
    "# Drop rows without room information\n",
    "rental_df[\"rooms\"] = rental_df[\"rooms\"].replace(\"[]\", np.nan)\n",
    "rental_df = rental_df.dropna(subset = [\"rooms\"] , how=\"any\").reset_index(drop=True)\n",
    "\n",
    "# Set up cases for extracting room information\n",
    "info_one = '|'.join([\"bed\"])\n",
    "info_two = '|'.join([\"bath\"])\n",
    "info_three = '|'.join([\"park\"])\n",
    "numbers = '\\d+[.,]?\\d*'                              \n",
    "case_one = fr'({numbers})(?:[\\s\\d\\-\\+\\/]*)(?:{info_one})'\n",
    "case_two = fr'({numbers})(?:[\\s\\d\\-\\+\\/]*)(?:{info_two})'\n",
    "case_three = fr'({numbers})(?:[\\s\\d\\-\\+\\/]*)(?:{info_three})'\n",
    "pattern_one = re.compile(case_one) \n",
    "pattern_two = re.compile(case_two) \n",
    "pattern_three = re.compile(case_three) \n",
    "\n",
    "# Create columns for the number of beedrooms, bathrooms and parking spaces\n",
    "for i in range(len(rental_df)):\n",
    "    rental_df[\"rooms\"].loc[i] = literal_eval(rental_df[\"rooms\"].loc[i])\n",
    "    for j in range(len(rental_df[\"rooms\"].loc[i])):\n",
    "        rental_df[\"rooms\"].loc[i][j] = rental_df[\"rooms\"].loc[i][j].lower()     \n",
    "        if pattern_one.findall(rental_df[\"rooms\"].loc[i][j]) != []:\n",
    "            rental_df.loc[i, \"bedrooms\"] = pattern_one.findall(rental_df[\"rooms\"].loc[i][j])\n",
    "        elif pattern_two.findall(rental_df[\"rooms\"].loc[i][j]) != []:\n",
    "            rental_df.loc[i, \"bathrooms\"] = pattern_two.findall(rental_df[\"rooms\"].loc[i][j])\n",
    "        else:\n",
    "            rental_df.loc[i, \"parking_spaces\"] = pattern_three.findall(rental_df[\"rooms\"].loc[i][j])"
   ]
  },
  {
   "cell_type": "markdown",
   "id": "c8eac5d0",
   "metadata": {},
   "source": [
    "# Preliminary Analysis"
   ]
  },
  {
   "cell_type": "code",
   "execution_count": 5,
   "id": "46b061c1",
   "metadata": {
    "scrolled": false
   },
   "outputs": [
    {
     "name": "stdout",
     "output_type": "stream",
     "text": [
      "                                          Unnamed: 0  \\\n",
      "0  https://www.domain.com.au/15-fintonia-street-h...   \n",
      "1  https://www.domain.com.au/41-bishop-street-oak...   \n",
      "2  https://www.domain.com.au/109-6-dalgety-street...   \n",
      "3  https://www.domain.com.au/16-30-swindon-road-o...   \n",
      "4  https://www.domain.com.au/1-14-bletchley-road-...   \n",
      "\n",
      "                  coordinates cost_text                     desc  \\\n",
      "0  [-37.9032708, 145.0770553]      $680  Joseph Chatziconstantis   \n",
      "1   [-37.9077745, 145.092738]   $650.00        James Drakopoulos   \n",
      "2  [-37.8922004, 145.0899378]      $500               Nigel Chee   \n",
      "3  [-37.8972564, 145.0871089]      $570       Matthew Swinnerton   \n",
      "4    [-37.894307, 145.082706]      $475                 Jason Gu   \n",
      "\n",
      "                                             name  \\\n",
      "0   [15, Fintonia, Street, Hughesdale, VIC, 3166]   \n",
      "1       [41, Bishop, Street, Oakleigh, VIC, 3166]   \n",
      "2   [109/6, Dalgety, Street, Oakleigh, VIC, 3166]   \n",
      "3     [16/30, Swindon, Road, Oakleigh, VIC, 3166]   \n",
      "4  [1/14, Bletchley, Road, Hughesdale, VIC, 3166]   \n",
      "\n",
      "                          rooms postcode      suburb bedrooms bathrooms  \\\n",
      "0  [3 beds, 2 baths, 2 parking]     3166  hughesdale        3         2   \n",
      "1  [3 beds, 2 baths, 2 parking]     3166    oakleigh        3         2   \n",
      "2    [1 bed, 1 bath, 1 parking]     3166    oakleigh        1         1   \n",
      "3  [3 beds, 2 baths, 2 parking]     3166    oakleigh        3         2   \n",
      "4   [2 beds, 1 bath, 1 parking]     3166  hughesdale        2         1   \n",
      "\n",
      "  parking_spaces  \n",
      "0              2  \n",
      "1              2  \n",
      "2              1  \n",
      "3              2  \n",
      "4              1  \n"
     ]
    }
   ],
   "source": [
    "print(rental_df.head())"
   ]
  }
 ],
 "metadata": {
  "kernelspec": {
   "display_name": "Python 3 (ipykernel)",
   "language": "python",
   "name": "python3"
  },
  "language_info": {
   "codemirror_mode": {
    "name": "ipython",
    "version": 3
   },
   "file_extension": ".py",
   "mimetype": "text/x-python",
   "name": "python",
   "nbconvert_exporter": "python",
   "pygments_lexer": "ipython3",
   "version": "3.9.7"
  }
 },
 "nbformat": 4,
 "nbformat_minor": 5
}
