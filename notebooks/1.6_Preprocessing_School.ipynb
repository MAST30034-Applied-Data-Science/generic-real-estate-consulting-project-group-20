{
 "cells": [
  {
   "cell_type": "markdown",
   "metadata": {},
   "source": [
    "Preprocessing Data: School Locations"
   ]
  },
  {
   "cell_type": "code",
   "execution_count": 1,
   "metadata": {},
   "outputs": [
    {
     "data": {
      "text/html": [
       "<div>\n",
       "<style scoped>\n",
       "    .dataframe tbody tr th:only-of-type {\n",
       "        vertical-align: middle;\n",
       "    }\n",
       "\n",
       "    .dataframe tbody tr th {\n",
       "        vertical-align: top;\n",
       "    }\n",
       "\n",
       "    .dataframe thead th {\n",
       "        text-align: right;\n",
       "    }\n",
       "</style>\n",
       "<table border=\"1\" class=\"dataframe\">\n",
       "  <thead>\n",
       "    <tr style=\"text-align: right;\">\n",
       "      <th></th>\n",
       "      <th>School_Name</th>\n",
       "      <th>Address_Line_1</th>\n",
       "      <th>Address_Town</th>\n",
       "      <th>Address_Postcode</th>\n",
       "      <th>LGA_ID</th>\n",
       "      <th>LGA_Name</th>\n",
       "      <th>X</th>\n",
       "      <th>Y</th>\n",
       "    </tr>\n",
       "  </thead>\n",
       "  <tbody>\n",
       "    <tr>\n",
       "      <th>0</th>\n",
       "      <td>Alberton Primary School</td>\n",
       "      <td>21 Thomson Street</td>\n",
       "      <td>Alberton</td>\n",
       "      <td>3971</td>\n",
       "      <td>681</td>\n",
       "      <td>Wellington (S)</td>\n",
       "      <td>146.666601</td>\n",
       "      <td>-38.617713</td>\n",
       "    </tr>\n",
       "    <tr>\n",
       "      <th>1</th>\n",
       "      <td>Allansford and District Primary School</td>\n",
       "      <td>Frank Street</td>\n",
       "      <td>Allansford</td>\n",
       "      <td>3277</td>\n",
       "      <td>673</td>\n",
       "      <td>Warrnambool (C)</td>\n",
       "      <td>142.590393</td>\n",
       "      <td>-38.386281</td>\n",
       "    </tr>\n",
       "    <tr>\n",
       "      <th>2</th>\n",
       "      <td>Avoca Primary School</td>\n",
       "      <td>118 Barnett Street</td>\n",
       "      <td>Avoca</td>\n",
       "      <td>3467</td>\n",
       "      <td>599</td>\n",
       "      <td>Pyrenees (S)</td>\n",
       "      <td>143.475649</td>\n",
       "      <td>-37.084502</td>\n",
       "    </tr>\n",
       "    <tr>\n",
       "      <th>3</th>\n",
       "      <td>Avenel Primary School</td>\n",
       "      <td>40 Anderson Street</td>\n",
       "      <td>Avenel</td>\n",
       "      <td>3664</td>\n",
       "      <td>643</td>\n",
       "      <td>Strathbogie (S)</td>\n",
       "      <td>145.234722</td>\n",
       "      <td>-36.901368</td>\n",
       "    </tr>\n",
       "    <tr>\n",
       "      <th>4</th>\n",
       "      <td>Warrandyte Primary School</td>\n",
       "      <td>5-11 Forbes Street</td>\n",
       "      <td>Warrandyte</td>\n",
       "      <td>3113</td>\n",
       "      <td>421</td>\n",
       "      <td>Manningham (C)</td>\n",
       "      <td>145.213980</td>\n",
       "      <td>-37.742675</td>\n",
       "    </tr>\n",
       "  </tbody>\n",
       "</table>\n",
       "</div>"
      ],
      "text/plain": [
       "                              School_Name      Address_Line_1 Address_Town  \\\n",
       "0                 Alberton Primary School   21 Thomson Street     Alberton   \n",
       "1  Allansford and District Primary School        Frank Street   Allansford   \n",
       "2                    Avoca Primary School  118 Barnett Street        Avoca   \n",
       "3                   Avenel Primary School  40 Anderson Street       Avenel   \n",
       "4               Warrandyte Primary School  5-11 Forbes Street   Warrandyte   \n",
       "\n",
       "   Address_Postcode  LGA_ID         LGA_Name           X          Y  \n",
       "0              3971     681   Wellington (S)  146.666601 -38.617713  \n",
       "1              3277     673  Warrnambool (C)  142.590393 -38.386281  \n",
       "2              3467     599     Pyrenees (S)  143.475649 -37.084502  \n",
       "3              3664     643  Strathbogie (S)  145.234722 -36.901368  \n",
       "4              3113     421   Manningham (C)  145.213980 -37.742675  "
      ]
     },
     "execution_count": 1,
     "metadata": {},
     "output_type": "execute_result"
    }
   ],
   "source": [
    "import pandas as pd\n",
    "import matplotlib as plt\n",
    "\n",
    "school_df = pd.read_csv('../data/raw/dv309_schoollocations2021.csv', encoding = \"ISO-8859-1\")\n",
    "\n",
    "# remove redundant columns\n",
    "school_df = school_df.drop(['Education_Sector', 'Entity_Type', 'School_Status', 'Address_Line_2', 'Postal_Address_Line_2',\n",
    "                                'Postal_Address_Line_1', 'Full_Phone_No', 'Postal_Town', 'Address_State', 'Postal_State', \n",
    "                                'Postal_Postcode', 'School_Type', 'SCHOOL_NO'], axis=1)\n",
    "\n",
    "# obtain total number of schools in Victoria\n",
    "tot_school_num = len(school_df)\n",
    "\n",
    "school_df.to_csv('../data/curated/Cleaned_school.csv')\n",
    "\n",
    "# check format\n",
    "school_df.head()\n"
   ]
  },
  {
   "cell_type": "code",
   "execution_count": 2,
   "metadata": {},
   "outputs": [
    {
     "data": {
      "text/plain": [
       "Address_Town\n",
       "ABBOTSFORD      1\n",
       "ABERFELDIE      2\n",
       "AIRPORT WEST    1\n",
       "ALBION          1\n",
       "ALEXANDRA       1\n",
       "               ..\n",
       "Yea             2\n",
       "Yering          1\n",
       "Yinnar          1\n",
       "Yinnar South    1\n",
       "Zeerust         1\n",
       "Name: School_Name, Length: 1320, dtype: int64"
      ]
     },
     "execution_count": 2,
     "metadata": {},
     "output_type": "execute_result"
    }
   ],
   "source": [
    "# number of schools by suburb\n",
    "school_df.groupby('Address_Town')['School_Name'].count()"
   ]
  }
 ],
 "metadata": {
  "kernelspec": {
   "display_name": "Python 3.8.10 64-bit",
   "language": "python",
   "name": "python3"
  },
  "language_info": {
   "codemirror_mode": {
    "name": "ipython",
    "version": 3
   },
   "file_extension": ".py",
   "mimetype": "text/x-python",
   "name": "python",
   "nbconvert_exporter": "python",
   "pygments_lexer": "ipython3",
   "version": "3.8.10"
  },
  "orig_nbformat": 4,
  "vscode": {
   "interpreter": {
    "hash": "916dbcbb3f70747c44a77c7bcd40155683ae19c65e1c03b4aa3499c5328201f1"
   }
  }
 },
 "nbformat": 4,
 "nbformat_minor": 2
}
