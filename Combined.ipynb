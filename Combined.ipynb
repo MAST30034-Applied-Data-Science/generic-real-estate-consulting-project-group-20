{
 "cells": [
  {
   "cell_type": "code",
   "execution_count": 1,
   "id": "55e673e0",
   "metadata": {},
   "outputs": [
    {
     "name": "stderr",
     "output_type": "stream",
     "text": [
      "Intel(R) Extension for Scikit-learn* enabled (https://github.com/intel/scikit-learn-intelex)\n"
     ]
    }
   ],
   "source": [
    "import pandas as pd \n",
    "import numpy as np \n",
    "import io\n",
    "\n",
    "from sklearn.model_selection import train_test_split\n",
    "from sklearn.feature_extraction.text import CountVectorizer\n",
    "from sklearn.feature_extraction.text import TfidfTransformer,  TfidfVectorizer\n",
    "from sklearn.preprocessing import LabelEncoder\n",
    "\n",
    "from sklearn.metrics import roc_auc_score as auc \n",
    "\n",
    "from sklearn.feature_selection import mutual_info_classif, chi2\n",
    "from sklearn.feature_selection import SelectKBest\n",
    "\n",
    "from sklearn.linear_model import LogisticRegression\n",
    "from sklearn.svm import SVC\n",
    "from xgboost import XGBClassifier\n",
    "\n",
    "from sklearn.metrics import classification_report, confusion_matrix\n",
    "\n",
    "import seaborn as sns\n",
    "import matplotlib.pyplot as plt \n",
    "\n",
    "from sklearnex import patch_sklearn \n",
    "patch_sklearn()"
   ]
  },
  {
   "cell_type": "code",
   "execution_count": 2,
   "id": "60a86dfa",
   "metadata": {},
   "outputs": [
    {
     "name": "stdout",
     "output_type": "stream",
     "text": [
      "5000\n",
      "3500\n",
      "100\n",
      "400\n",
      "0    5000\n",
      "Name: class, dtype: int64\n",
      "1    3500\n",
      "Name: class, dtype: int64\n",
      "0    100\n",
      "Name: class, dtype: int64\n",
      "1    400\n",
      "Name: class, dtype: int64\n"
     ]
    }
   ],
   "source": [
    "df1 = pd.read_json('data/set1_human.json').sample(5000)\n",
    "df2 = pd.read_json('data/set1_machine.json')\n",
    "\n",
    "df3 = pd.read_json('data/set2_human.json')\n",
    "df4 = pd.read_json('data/set2_machine.json')\n",
    "\n",
    "df1['class'] = 0\n",
    "df2['class'] = 1\n",
    "\n",
    "df3['class'] = 0\n",
    "df4['class'] = 1\n",
    "\n",
    "print(df1.shape[0])\n",
    "print(df2.shape[0])\n",
    "print(df3.shape[0])\n",
    "print(df4.shape[0])\n",
    "\n",
    "print(df1['class'].value_counts())\n",
    "print(df2['class'].value_counts())\n",
    "print(df3['class'].value_counts())\n",
    "print(df4['class'].value_counts())"
   ]
  },
  {
   "cell_type": "code",
   "execution_count": 3,
   "id": "37948014",
   "metadata": {},
   "outputs": [
    {
     "name": "stderr",
     "output_type": "stream",
     "text": [
      "/opt/anaconda3/envs/tf/lib/python3.7/site-packages/pandas/core/indexing.py:1732: SettingWithCopyWarning: \n",
      "A value is trying to be set on a copy of a slice from a DataFrame\n",
      "\n",
      "See the caveats in the documentation: https://pandas.pydata.org/pandas-docs/stable/user_guide/indexing.html#returning-a-view-versus-a-copy\n",
      "  self._setitem_single_block(indexer, value, name)\n"
     ]
    },
    {
     "data": {
      "text/html": [
       "<div>\n",
       "<style scoped>\n",
       "    .dataframe tbody tr th:only-of-type {\n",
       "        vertical-align: middle;\n",
       "    }\n",
       "\n",
       "    .dataframe tbody tr th {\n",
       "        vertical-align: top;\n",
       "    }\n",
       "\n",
       "    .dataframe thead th {\n",
       "        text-align: right;\n",
       "    }\n",
       "</style>\n",
       "<table border=\"1\" class=\"dataframe\">\n",
       "  <thead>\n",
       "    <tr style=\"text-align: right;\">\n",
       "      <th></th>\n",
       "      <th>class</th>\n",
       "      <th>combined</th>\n",
       "    </tr>\n",
       "  </thead>\n",
       "  <tbody>\n",
       "    <tr>\n",
       "      <th>0</th>\n",
       "      <td>0</td>\n",
       "      <td>1479 1939 2932 1551 1518 1559 1525 1515 1775 2...</td>\n",
       "    </tr>\n",
       "    <tr>\n",
       "      <th>1</th>\n",
       "      <td>0</td>\n",
       "      <td>1502 2726 1567 1478 2185 1500 1602 3133 17 162...</td>\n",
       "    </tr>\n",
       "    <tr>\n",
       "      <th>2</th>\n",
       "      <td>0</td>\n",
       "      <td>1542 2644 1491 4547 1543 17 1597 2644 86 1557 ...</td>\n",
       "    </tr>\n",
       "    <tr>\n",
       "      <th>3</th>\n",
       "      <td>0</td>\n",
       "      <td>1518 1754 1521 2750 1790 2125 1485 2153 3291 1...</td>\n",
       "    </tr>\n",
       "    <tr>\n",
       "      <th>4</th>\n",
       "      <td>0</td>\n",
       "      <td>1602 2756 16 1604 1492 1483 1643 2705 2201 331...</td>\n",
       "    </tr>\n",
       "  </tbody>\n",
       "</table>\n",
       "</div>"
      ],
      "text/plain": [
       "   class                                           combined\n",
       "0      0  1479 1939 2932 1551 1518 1559 1525 1515 1775 2...\n",
       "1      0  1502 2726 1567 1478 2185 1500 1602 3133 17 162...\n",
       "2      0  1542 2644 1491 4547 1543 17 1597 2644 86 1557 ...\n",
       "3      0  1518 1754 1521 2750 1790 2125 1485 2153 3291 1...\n",
       "4      0  1602 2756 16 1604 1492 1483 1643 2705 2201 331..."
      ]
     },
     "execution_count": 3,
     "metadata": {},
     "output_type": "execute_result"
    }
   ],
   "source": [
    "train = pd.concat([df1, df2, df3, df4], axis = 'rows')\n",
    "train['combined'] = (train.prompt+train.txt).map(list)\n",
    "train = train.drop(['machine_id', 'prompt', 'txt'], axis = 1).reset_index(drop = True)\n",
    "\n",
    "for i in range(train.shape[0]):\n",
    "    train['combined'].iloc[i] = map(str, train['combined'].iloc[i]) \n",
    "    \n",
    "train['combined'] = train['combined'].map(' '.join)\n",
    "\n",
    "LE = LabelEncoder()\n",
    "train['class'] = LE.fit_transform(train['class'])\n",
    "\n",
    "train.head()"
   ]
  },
  {
   "cell_type": "markdown",
   "id": "fbc4a572",
   "metadata": {},
   "source": [
    "# Testing Setup "
   ]
  },
  {
   "cell_type": "code",
   "execution_count": 4,
   "id": "804d75db",
   "metadata": {},
   "outputs": [
    {
     "name": "stdout",
     "output_type": "stream",
     "text": [
      "3840\n"
     ]
    }
   ],
   "source": [
    "X_train, X_dev, y_train, y_dev = train_test_split(train['combined'], train['class'], \n",
    "                                               test_size = 0.25, random_state = 12)\n",
    "\n",
    "from sklearn.feature_selection import chi2, SelectPercentile\n",
    "from sklearn.feature_selection import SelectKBest\n",
    "\n",
    "cv = CountVectorizer()\n",
    "x_train_count =  cv.fit_transform(X_train)\n",
    "x_dev_count = cv.transform(X_dev)\n",
    "\n",
    "num_features = len(cv.get_feature_names_out())\n",
    "print(num_features)\n",
    "\n",
    "chi2 = SelectKBest(score_func=chi2, k= 2500)\n",
    "x_train_chi2 = chi2.fit_transform(x_train_count, y_train)\n",
    "x_dev_chi2 = chi2.transform(x_dev_count)"
   ]
  },
  {
   "cell_type": "markdown",
   "id": "73dea3e4",
   "metadata": {},
   "source": [
    "# Logistic Regression "
   ]
  },
  {
   "cell_type": "code",
   "execution_count": 5,
   "id": "1d72c3ff",
   "metadata": {},
   "outputs": [
    {
     "data": {
      "text/plain": [
       "0.868537361776821"
      ]
     },
     "metadata": {},
     "output_type": "display_data"
    },
    {
     "data": {
      "text/plain": [
       "array([[1153,  140],\n",
       "       [ 148,  809]])"
      ]
     },
     "execution_count": 5,
     "metadata": {},
     "output_type": "execute_result"
    }
   ],
   "source": [
    "LogReg = LogisticRegression(max_iter = 200000000)\n",
    "LogReg.fit(x_train_count, y_train)\n",
    "\n",
    "LogReg_preds = LogReg.predict(x_dev_count)\n",
    "display(auc(y_dev, LogReg_preds))\n",
    "classes = [0, 1]\n",
    "Logreg_confusion_matrix = confusion_matrix(y_dev, LogReg_preds, labels = classes)\n",
    "Logreg_confusion_matrix"
   ]
  },
  {
   "cell_type": "code",
   "execution_count": 6,
   "id": "fe6bb8ba",
   "metadata": {},
   "outputs": [
    {
     "data": {
      "text/plain": [
       "[Text(0, 0.5, '0'), Text(0, 1.5, '1')]"
      ]
     },
     "execution_count": 6,
     "metadata": {},
     "output_type": "execute_result"
    },
    {
     "data": {
      "image/png": "[encoded data removed]",
      "text/plain": [
       "<Figure size 432x288 with 2 Axes>"
      ]
     },
     "metadata": {
      "needs_background": "light"
     },
     "output_type": "display_data"
    }
   ],
   "source": [
    "ax = plt.subplot()\n",
    "ax.set_xlabel('Predicted labels');ax.set_ylabel('True labels'); \n",
    "ax.set_title('Logistic Regression'); \n",
    "sns.heatmap(Logreg_confusion_matrix, annot=True, fmt='g', cmap='Blues', ax = ax)\n",
    "ax.xaxis.set_ticklabels(classes); ax.yaxis.set_ticklabels(classes)\n",
    "#plt.savefig('logreg.png')"
   ]
  },
  {
   "cell_type": "code",
   "execution_count": 7,
   "id": "9a26b614",
   "metadata": {},
   "outputs": [
    {
     "data": {
      "text/plain": [
       "0.8606058181624228"
      ]
     },
     "metadata": {},
     "output_type": "display_data"
    },
    {
     "data": {
      "text/plain": [
       "array([[1146,  147],\n",
       "       [ 158,  799]])"
      ]
     },
     "execution_count": 7,
     "metadata": {},
     "output_type": "execute_result"
    }
   ],
   "source": [
    "LogReg = LogisticRegression(max_iter = 200000000)\n",
    "LogReg.fit(x_train_chi2, y_train)\n",
    "\n",
    "LogReg_preds = LogReg.predict(x_dev_chi2)\n",
    "display(auc(y_dev, LogReg_preds))\n",
    "\n",
    "classes = [0, 1]\n",
    "Logreg_confusion_matrix = confusion_matrix(y_dev, LogReg_preds, labels = classes)\n",
    "Logreg_confusion_matrix"
   ]
  },
  {
   "cell_type": "code",
   "execution_count": 8,
   "id": "d138f986",
   "metadata": {},
   "outputs": [
    {
     "data": {
      "text/plain": [
       "[Text(0, 0.5, '0'), Text(0, 1.5, '1')]"
      ]
     },
     "execution_count": 8,
     "metadata": {},
     "output_type": "execute_result"
    },
    {
     "data": {
      "image/png": "[encoded data removed]",
      "text/plain": [
       "<Figure size 432x288 with 2 Axes>"
      ]
     },
     "metadata": {
      "needs_background": "light"
     },
     "output_type": "display_data"
    }
   ],
   "source": [
    "ax = plt.subplot()\n",
    "ax.set_xlabel('Predicted labels');ax.set_ylabel('True labels'); \n",
    "ax.set_title('Logistic Regression'); \n",
    "sns.heatmap(Logreg_confusion_matrix, annot=True, fmt='g', cmap='Blues', ax = ax)\n",
    "ax.xaxis.set_ticklabels(classes); ax.yaxis.set_ticklabels(classes)\n",
    "#plt.savefig('logreg.png')"
   ]
  },
  {
   "cell_type": "markdown",
   "id": "71990bd5",
   "metadata": {},
   "source": [
    "# XGboost "
   ]
  },
  {
   "cell_type": "code",
   "execution_count": 9,
   "id": "ab1d22f6",
   "metadata": {},
   "outputs": [
    {
     "name": "stderr",
     "output_type": "stream",
     "text": [
      "/opt/anaconda3/envs/tf/lib/python3.7/site-packages/xgboost/sklearn.py:1224: UserWarning: The use of label encoder in XGBClassifier is deprecated and will be removed in a future release. To remove this warning, do the following: 1) Pass option use_label_encoder=False when constructing XGBClassifier object; and 2) Encode your labels (y) as integers starting with 0, i.e. 0, 1, 2, ..., [num_class - 1].\n",
      "  warnings.warn(label_encoder_deprecation_msg, UserWarning)\n"
     ]
    },
    {
     "name": "stdout",
     "output_type": "stream",
     "text": [
      "[21:16:53] WARNING: ../src/learner.cc:1115: Starting in XGBoost 1.3.0, the default evaluation metric used with the objective 'binary:logistic' was changed from 'error' to 'logloss'. Explicitly set eval_metric if you'd like to restore the old behavior.\n"
     ]
    },
    {
     "data": {
      "text/plain": [
       "0.876403445608982"
      ]
     },
     "metadata": {},
     "output_type": "display_data"
    },
    {
     "data": {
      "text/plain": [
       "array([[1122,  171],\n",
       "       [ 110,  847]])"
      ]
     },
     "execution_count": 9,
     "metadata": {},
     "output_type": "execute_result"
    }
   ],
   "source": [
    "xgb = XGBClassifier()\n",
    "\n",
    "xgb.fit(x_train_count, y_train)\n",
    "\n",
    "xgb_preds = xgb.predict(x_dev_count)\n",
    "display(auc(y_dev, xgb_preds))\n",
    "classes = [0, 1]\n",
    "xgb_confusion_matrix = confusion_matrix(y_dev, xgb_preds, labels = classes)\n",
    "xgb_confusion_matrix"
   ]
  },
  {
   "cell_type": "code",
   "execution_count": 10,
   "id": "cba6bb97",
   "metadata": {},
   "outputs": [
    {
     "data": {
      "text/plain": [
       "[Text(0, 0.5, '0'), Text(0, 1.5, '1')]"
      ]
     },
     "execution_count": 10,
     "metadata": {},
     "output_type": "execute_result"
    },
    {
     "data": {
      "image/png": "[encoded data removed]",
      "text/plain": [
       "<Figure size 432x288 with 2 Axes>"
      ]
     },
     "metadata": {
      "needs_background": "light"
     },
     "output_type": "display_data"
    }
   ],
   "source": [
    "ax = plt.subplot()\n",
    "ax.set_xlabel('Predicted labels');ax.set_ylabel('True labels'); \n",
    "ax.set_title('Logistic Regression'); \n",
    "sns.heatmap(Logreg_confusion_matrix, annot=True, fmt='g', cmap='Blues', ax = ax)\n",
    "ax.xaxis.set_ticklabels(classes); ax.yaxis.set_ticklabels(classes)\n",
    "#plt.savefig('logreg.png')"
   ]
  },
  {
   "cell_type": "code",
   "execution_count": 11,
   "id": "d9197166",
   "metadata": {},
   "outputs": [
    {
     "name": "stderr",
     "output_type": "stream",
     "text": [
      "/opt/anaconda3/envs/tf/lib/python3.7/site-packages/xgboost/sklearn.py:1224: UserWarning: The use of label encoder in XGBClassifier is deprecated and will be removed in a future release. To remove this warning, do the following: 1) Pass option use_label_encoder=False when constructing XGBClassifier object; and 2) Encode your labels (y) as integers starting with 0, i.e. 0, 1, 2, ..., [num_class - 1].\n",
      "  warnings.warn(label_encoder_deprecation_msg, UserWarning)\n"
     ]
    },
    {
     "name": "stdout",
     "output_type": "stream",
     "text": [
      "[21:16:57] WARNING: ../src/learner.cc:1115: Starting in XGBoost 1.3.0, the default evaluation metric used with the objective 'binary:logistic' was changed from 'error' to 'logloss'. Explicitly set eval_metric if you'd like to restore the old behavior.\n"
     ]
    },
    {
     "data": {
      "text/plain": [
       "0.876403445608982"
      ]
     },
     "metadata": {},
     "output_type": "display_data"
    },
    {
     "data": {
      "text/plain": [
       "array([[1122,  171],\n",
       "       [ 110,  847]])"
      ]
     },
     "execution_count": 11,
     "metadata": {},
     "output_type": "execute_result"
    }
   ],
   "source": [
    "xgb = XGBClassifier()\n",
    "\n",
    "xgb.fit(x_train_count, y_train)\n",
    "\n",
    "xgb_preds = xgb.predict(x_dev_count)\n",
    "display(auc(y_dev, xgb_preds))\n",
    "classes = [0, 1]\n",
    "xgb_confusion_matrix = confusion_matrix(y_dev, xgb_preds, labels = classes)\n",
    "xgb_confusion_matrix"
   ]
  },
  {
   "cell_type": "code",
   "execution_count": 12,
   "id": "e00f71ec",
   "metadata": {},
   "outputs": [
    {
     "data": {
      "text/plain": [
       "[Text(0, 0.5, '0'), Text(0, 1.5, '1')]"
      ]
     },
     "execution_count": 12,
     "metadata": {},
     "output_type": "execute_result"
    },
    {
     "data": {
      "image/png": "[encoded data removed]",
      "text/plain": [
       "<Figure size 432x288 with 2 Axes>"
      ]
     },
     "metadata": {
      "needs_background": "light"
     },
     "output_type": "display_data"
    }
   ],
   "source": [
    "ax = plt.subplot()\n",
    "ax.set_xlabel('Predicted labels');ax.set_ylabel('True labels'); \n",
    "ax.set_title('XGBoost'); \n",
    "sns.heatmap(xgb_confusion_matrix, annot=True, fmt='g', cmap='Blues', ax = ax)\n",
    "ax.xaxis.set_ticklabels(classes); ax.yaxis.set_ticklabels(classes)\n",
    "#plt.savefig('logreg.png')"
   ]
  },
  {
   "cell_type": "code",
   "execution_count": 13,
   "id": "63fcf09e",
   "metadata": {},
   "outputs": [
    {
     "name": "stderr",
     "output_type": "stream",
     "text": [
      "/opt/anaconda3/envs/tf/lib/python3.7/site-packages/xgboost/sklearn.py:1224: UserWarning: The use of label encoder in XGBClassifier is deprecated and will be removed in a future release. To remove this warning, do the following: 1) Pass option use_label_encoder=False when constructing XGBClassifier object; and 2) Encode your labels (y) as integers starting with 0, i.e. 0, 1, 2, ..., [num_class - 1].\n",
      "  warnings.warn(label_encoder_deprecation_msg, UserWarning)\n"
     ]
    },
    {
     "name": "stdout",
     "output_type": "stream",
     "text": [
      "[21:17:00] WARNING: ../src/learner.cc:1115: Starting in XGBoost 1.3.0, the default evaluation metric used with the objective 'binary:logistic' was changed from 'error' to 'logloss'. Explicitly set eval_metric if you'd like to restore the old behavior.\n"
     ]
    },
    {
     "data": {
      "text/plain": [
       "0.8778144675816489"
      ]
     },
     "metadata": {},
     "output_type": "display_data"
    },
    {
     "data": {
      "text/plain": [
       "array([[1127,  166],\n",
       "       [ 111,  846]])"
      ]
     },
     "execution_count": 13,
     "metadata": {},
     "output_type": "execute_result"
    }
   ],
   "source": [
    "xgb = XGBClassifier()\n",
    "\n",
    "xgb.fit(x_train_chi2, y_train)\n",
    "\n",
    "xgb_preds = xgb.predict(x_dev_chi2)\n",
    "display(auc(y_dev, xgb_preds))\n",
    "classes = [0, 1]\n",
    "xgb_confusion_matrix = confusion_matrix(y_dev, xgb_preds, labels = classes)\n",
    "xgb_confusion_matrix"
   ]
  },
  {
   "cell_type": "code",
   "execution_count": 14,
   "id": "cb85f7aa",
   "metadata": {},
   "outputs": [
    {
     "data": {
      "text/plain": [
       "[Text(0, 0.5, '0'), Text(0, 1.5, '1')]"
      ]
     },
     "execution_count": 14,
     "metadata": {},
     "output_type": "execute_result"
    },
    {
     "data": {
      "image/png": "[encoded data removed]",
      "text/plain": [
       "<Figure size 432x288 with 2 Axes>"
      ]
     },
     "metadata": {
      "needs_background": "light"
     },
     "output_type": "display_data"
    }
   ],
   "source": [
    "ax = plt.subplot()\n",
    "ax.set_xlabel('Predicted labels');ax.set_ylabel('True labels'); \n",
    "ax.set_title('XGBoost'); \n",
    "sns.heatmap(xgb_confusion_matrix, annot=True, fmt='g', cmap='Blues', ax = ax)\n",
    "ax.xaxis.set_ticklabels(classes); ax.yaxis.set_ticklabels(classes)\n",
    "#plt.savefig('logreg.png')"
   ]
  },
  {
   "cell_type": "code",
   "execution_count": null,
   "id": "07ec9b52",
   "metadata": {},
   "outputs": [],
   "source": []
  }
 ],
 "metadata": {
  "kernelspec": {
   "display_name": "Python 3 (ipykernel)",
   "language": "python",
   "name": "python3"
  },
  "language_info": {
   "codemirror_mode": {
    "name": "ipython",
    "version": 3
   },
   "file_extension": ".py",
   "mimetype": "text/x-python",
   "name": "python",
   "nbconvert_exporter": "python",
   "pygments_lexer": "ipython3",
   "version": "3.7.11"
  }
 },
 "nbformat": 4,
 "nbformat_minor": 5
}
